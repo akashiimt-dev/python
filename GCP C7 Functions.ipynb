{
 "cells": [
  {
   "cell_type": "markdown",
   "id": "809093a1",
   "metadata": {
    "id": "diHS0eZdIshI"
   },
   "source": [
    "# Functions\n",
    "In Python, a function is a block of organized, reusable code that performs a specific task. Functions help in modularizing code, making it more readable, and promoting code reusability."
   ]
  },
  {
   "cell_type": "markdown",
   "id": "de6501ac",
   "metadata": {
    "id": "xBaa7CTnJSi4"
   },
   "source": [
    "## Built-in functions\n",
    "So far in earlier sessions, you have come across several built-in functions and functions such as `len`, `print`, `ord`, `int`, `sorted` and so on\n",
    "\n",
    "Built-in functions in Python are functions that are available as part of the Python standard library. These functions are always accessible and don't require importing any additional modules."
   ]
  },
  {
   "cell_type": "markdown",
   "id": "a1d5d9a5",
   "metadata": {
    "id": "nGuAJYoKKV9O"
   },
   "source": [
    "### Example\n",
    "Built-in functions"
   ]
  },
  {
   "cell_type": "code",
   "execution_count": 1,
   "id": "894125b4",
   "metadata": {
    "colab": {
     "base_uri": "https://localhost:8080/"
    },
    "executionInfo": {
     "elapsed": 76,
     "status": "ok",
     "timestamp": 1706080430766,
     "user": {
      "displayName": "Akshar Gupta",
      "userId": "03393520324044557957"
     },
     "user_tz": -330
    },
    "id": "LLiit23K9LEI",
    "outputId": "7dd94612-8c6e-4a28-9763-d8856fd77610"
   },
   "outputs": [
    {
     "name": "stdout",
     "output_type": "stream",
     "text": [
      "This a built-in function\n"
     ]
    }
   ],
   "source": [
    "print('This a built-in function')"
   ]
  },
  {
   "cell_type": "code",
   "execution_count": 2,
   "id": "b50dee64",
   "metadata": {
    "colab": {
     "base_uri": "https://localhost:8080/"
    },
    "executionInfo": {
     "elapsed": 62,
     "status": "ok",
     "timestamp": 1706080430767,
     "user": {
      "displayName": "Akshar Gupta",
      "userId": "03393520324044557957"
     },
     "user_tz": -330
    },
    "id": "rB1hAfjqLOHd",
    "outputId": "c31a8d04-1779-47cb-f293-c511557d4d83"
   },
   "outputs": [
    {
     "data": {
      "text/plain": [
       "12"
      ]
     },
     "execution_count": 2,
     "metadata": {},
     "output_type": "execute_result"
    }
   ],
   "source": [
    "len('Harry Potter')"
   ]
  },
  {
   "cell_type": "code",
   "execution_count": 3,
   "id": "070d9a12",
   "metadata": {
    "colab": {
     "base_uri": "https://localhost:8080/"
    },
    "executionInfo": {
     "elapsed": 55,
     "status": "ok",
     "timestamp": 1706080430768,
     "user": {
      "displayName": "Akshar Gupta",
      "userId": "03393520324044557957"
     },
     "user_tz": -330
    },
    "id": "ux7OQ4O-LVKu",
    "outputId": "a7c0066d-337d-4a15-8854-3fa8c859650b"
   },
   "outputs": [
    {
     "data": {
      "text/plain": [
       "63"
      ]
     },
     "execution_count": 3,
     "metadata": {},
     "output_type": "execute_result"
    }
   ],
   "source": [
    "ord('?')\n",
    "# function to get the ascii value from character"
   ]
  },
  {
   "cell_type": "code",
   "execution_count": 4,
   "id": "bb13245f",
   "metadata": {},
   "outputs": [
    {
     "data": {
      "text/plain": [
       "'?'"
      ]
     },
     "execution_count": 4,
     "metadata": {},
     "output_type": "execute_result"
    }
   ],
   "source": [
    "chr(63)\n",
    "# function to get the character from ascii value"
   ]
  },
  {
   "cell_type": "code",
   "execution_count": 5,
   "id": "4f69ba17",
   "metadata": {},
   "outputs": [
    {
     "data": {
      "text/plain": [
       "15"
      ]
     },
     "execution_count": 5,
     "metadata": {},
     "output_type": "execute_result"
    }
   ],
   "source": [
    "sum([1,2,3,4,5])"
   ]
  },
  {
   "cell_type": "markdown",
   "id": "a4007fa4",
   "metadata": {
    "id": "OebxpA0-Nk8j"
   },
   "source": [
    "## User-defined functions"
   ]
  },
  {
   "cell_type": "markdown",
   "id": "bbc5cf1f",
   "metadata": {
    "id": "8r5I2FdyNyGG"
   },
   "source": [
    "### Example\n",
    "Defining a function"
   ]
  },
  {
   "cell_type": "code",
   "execution_count": null,
   "id": "096a3513",
   "metadata": {},
   "outputs": [],
   "source": [
    "# Defining the function\n",
    "\n",
    "# def function_name(inp1,inp2,inp3,........):\n",
    "#     logic1\n",
    "#     logic2\n",
    "#     logic3\n",
    "#     .\n",
    "#     .\n",
    "#     .\n",
    "#     ..\n",
    "#     return out1,out2,out3,.........\n",
    "    "
   ]
  },
  {
   "cell_type": "code",
   "execution_count": 6,
   "id": "86f5eed5",
   "metadata": {},
   "outputs": [],
   "source": [
    "def cube_of_number(num):\n",
    "    cube=num**3\n",
    "    return cube"
   ]
  },
  {
   "cell_type": "code",
   "execution_count": 7,
   "id": "fa84943d",
   "metadata": {},
   "outputs": [
    {
     "data": {
      "text/plain": [
       "3375"
      ]
     },
     "execution_count": 7,
     "metadata": {},
     "output_type": "execute_result"
    }
   ],
   "source": [
    "cube_of_number(15)"
   ]
  },
  {
   "cell_type": "code",
   "execution_count": 11,
   "id": "6f215923",
   "metadata": {},
   "outputs": [
    {
     "data": {
      "text/plain": [
       "7854910864871946705864"
      ]
     },
     "execution_count": 11,
     "metadata": {},
     "output_type": "execute_result"
    }
   ],
   "source": [
    "cube_of_number(19878354)"
   ]
  },
  {
   "cell_type": "code",
   "execution_count": 12,
   "id": "52f293c4",
   "metadata": {},
   "outputs": [],
   "source": [
    "def sum_of_two_numbers(num1,num2):\n",
    "    out=num1+num2\n",
    "    return out"
   ]
  },
  {
   "cell_type": "code",
   "execution_count": 13,
   "id": "d0e83b56",
   "metadata": {},
   "outputs": [
    {
     "data": {
      "text/plain": [
       "5"
      ]
     },
     "execution_count": 13,
     "metadata": {},
     "output_type": "execute_result"
    }
   ],
   "source": [
    "sum_of_two_numbers(2,3)"
   ]
  },
  {
   "cell_type": "code",
   "execution_count": 14,
   "id": "af495d3b",
   "metadata": {},
   "outputs": [
    {
     "data": {
      "text/plain": [
       "-110"
      ]
     },
     "execution_count": 14,
     "metadata": {},
     "output_type": "execute_result"
    }
   ],
   "source": [
    "sum_of_two_numbers(-10,-100)"
   ]
  },
  {
   "cell_type": "code",
   "execution_count": 15,
   "id": "4df57ee5",
   "metadata": {},
   "outputs": [
    {
     "data": {
      "text/plain": [
       "30"
      ]
     },
     "execution_count": 15,
     "metadata": {},
     "output_type": "execute_result"
    }
   ],
   "source": [
    "sum_of_two_numbers(20,10)"
   ]
  },
  {
   "cell_type": "code",
   "execution_count": 19,
   "id": "8a786069",
   "metadata": {},
   "outputs": [],
   "source": [
    "# Function to find the square of given number"
   ]
  },
  {
   "cell_type": "code",
   "execution_count": 18,
   "id": "b42fbc22",
   "metadata": {},
   "outputs": [],
   "source": [
    "def square(num):\n",
    "    out=num**2\n",
    "    return out"
   ]
  },
  {
   "cell_type": "code",
   "execution_count": 19,
   "id": "54c76918",
   "metadata": {},
   "outputs": [
    {
     "data": {
      "text/plain": [
       "1849"
      ]
     },
     "execution_count": 19,
     "metadata": {},
     "output_type": "execute_result"
    }
   ],
   "source": [
    "square(43)"
   ]
  },
  {
   "cell_type": "code",
   "execution_count": 20,
   "id": "54ec6809",
   "metadata": {},
   "outputs": [],
   "source": [
    "def square(num):\n",
    "    return num**2"
   ]
  },
  {
   "cell_type": "code",
   "execution_count": 21,
   "id": "bd8a127e",
   "metadata": {},
   "outputs": [
    {
     "data": {
      "text/plain": [
       "1849"
      ]
     },
     "execution_count": 21,
     "metadata": {},
     "output_type": "execute_result"
    }
   ],
   "source": [
    "square(43)"
   ]
  },
  {
   "cell_type": "markdown",
   "id": "b6e8edd7",
   "metadata": {
    "id": "aJpIgFRKpQkk"
   },
   "source": [
    "## Function scope\n",
    "In Python, the concepts of global and local scope are crucial for understanding how variables are accessed and modified within functions"
   ]
  },
  {
   "cell_type": "markdown",
   "id": "9590ad3d",
   "metadata": {},
   "source": [
    "**Global scope**:\n",
    "- Variables outside functions have global scope\n",
    "- Accessible throughout the code\n",
    "- Declared at the top level of a script or module"
   ]
  },
  {
   "cell_type": "markdown",
   "id": "a41b4045",
   "metadata": {
    "id": "28EVd9EPq6-c"
   },
   "source": [
    "### Example\n",
    "Global variable"
   ]
  },
  {
   "cell_type": "code",
   "execution_count": 22,
   "id": "70aa32aa",
   "metadata": {},
   "outputs": [],
   "source": [
    "global_pi=3.14\n",
    "\n",
    "def area_of_circle(rad):\n",
    "    return global_pi*rad**2"
   ]
  },
  {
   "cell_type": "code",
   "execution_count": 23,
   "id": "0db1fa60",
   "metadata": {},
   "outputs": [
    {
     "data": {
      "text/plain": [
       "28.26"
      ]
     },
     "execution_count": 23,
     "metadata": {},
     "output_type": "execute_result"
    }
   ],
   "source": [
    "area_of_circle(3)"
   ]
  },
  {
   "cell_type": "code",
   "execution_count": 24,
   "id": "7baaf288",
   "metadata": {},
   "outputs": [
    {
     "data": {
      "text/plain": [
       "3.14"
      ]
     },
     "execution_count": 24,
     "metadata": {},
     "output_type": "execute_result"
    }
   ],
   "source": [
    "global_pi"
   ]
  },
  {
   "cell_type": "markdown",
   "id": "f3b460d0",
   "metadata": {
    "id": "agKN8BCXqQIO"
   },
   "source": [
    "**Local scope**:\n",
    "- Variables inside functions have local scope\n",
    "- Accessible only within that function\n",
    "- Created and destroyed when the function is called and exits"
   ]
  },
  {
   "cell_type": "code",
   "execution_count": 25,
   "id": "dfc42a91",
   "metadata": {},
   "outputs": [],
   "source": [
    "def area_of_circle_v2(rad):\n",
    "    local_pi=3.14\n",
    "    return local_pi*rad**2"
   ]
  },
  {
   "cell_type": "code",
   "execution_count": 26,
   "id": "460622c8",
   "metadata": {},
   "outputs": [
    {
     "data": {
      "text/plain": [
       "28.26"
      ]
     },
     "execution_count": 26,
     "metadata": {},
     "output_type": "execute_result"
    }
   ],
   "source": [
    "area_of_circle_v2(3)"
   ]
  },
  {
   "cell_type": "code",
   "execution_count": 27,
   "id": "62eb6ad5",
   "metadata": {},
   "outputs": [
    {
     "ename": "NameError",
     "evalue": "name 'local_pi' is not defined",
     "output_type": "error",
     "traceback": [
      "\u001b[0;31m---------------------------------------------------------------------------\u001b[0m",
      "\u001b[0;31mNameError\u001b[0m                                 Traceback (most recent call last)",
      "\u001b[0;32m<ipython-input-27-4b1ca5a1b89e>\u001b[0m in \u001b[0;36m<module>\u001b[0;34m\u001b[0m\n\u001b[0;32m----> 1\u001b[0;31m \u001b[0mlocal_pi\u001b[0m\u001b[0;34m\u001b[0m\u001b[0;34m\u001b[0m\u001b[0m\n\u001b[0m",
      "\u001b[0;31mNameError\u001b[0m: name 'local_pi' is not defined"
     ]
    }
   ],
   "source": [
    "local_pi"
   ]
  },
  {
   "cell_type": "code",
   "execution_count": 28,
   "id": "7129910e",
   "metadata": {},
   "outputs": [],
   "source": [
    "def area_of_circle_v2(rad):\n",
    "    global local_pi\n",
    "    local_pi=3.14\n",
    "    return local_pi*rad**2"
   ]
  },
  {
   "cell_type": "code",
   "execution_count": 29,
   "id": "460622c8",
   "metadata": {},
   "outputs": [
    {
     "data": {
      "text/plain": [
       "28.26"
      ]
     },
     "execution_count": 29,
     "metadata": {},
     "output_type": "execute_result"
    }
   ],
   "source": [
    "area_of_circle_v2(3)"
   ]
  },
  {
   "cell_type": "code",
   "execution_count": 30,
   "id": "62eb6ad5",
   "metadata": {},
   "outputs": [
    {
     "data": {
      "text/plain": [
       "3.14"
      ]
     },
     "execution_count": 30,
     "metadata": {},
     "output_type": "execute_result"
    }
   ],
   "source": [
    "local_pi"
   ]
  },
  {
   "cell_type": "markdown",
   "id": "7ab6779e",
   "metadata": {
    "id": "-FtcrdCFmAvr"
   },
   "source": [
    "### Quiz\n",
    "Write a function that returns the sum and product of the numbers 2 and 3"
   ]
  },
  {
   "cell_type": "code",
   "execution_count": 31,
   "id": "4e76b7fa",
   "metadata": {},
   "outputs": [],
   "source": [
    "def product_sum(num1,num2):\n",
    "    sum_result=num1+num2\n",
    "    prod_result=num1*num2\n",
    "    return sum_result,prod_result"
   ]
  },
  {
   "cell_type": "code",
   "execution_count": 32,
   "id": "9950b1f6",
   "metadata": {},
   "outputs": [
    {
     "data": {
      "text/plain": [
       "(5, 6)"
      ]
     },
     "execution_count": 32,
     "metadata": {},
     "output_type": "execute_result"
    }
   ],
   "source": [
    "product_sum(2,3)"
   ]
  },
  {
   "cell_type": "code",
   "execution_count": 35,
   "id": "42ba8f93",
   "metadata": {},
   "outputs": [],
   "source": [
    "def product_sum(num1,num2=2):\n",
    "    sum_result=num1+num2\n",
    "    prod_result=num1*num2\n",
    "    return sum_result,prod_result"
   ]
  },
  {
   "cell_type": "code",
   "execution_count": 38,
   "id": "7686afb2",
   "metadata": {},
   "outputs": [
    {
     "data": {
      "text/plain": [
       "(5, 6)"
      ]
     },
     "execution_count": 38,
     "metadata": {},
     "output_type": "execute_result"
    }
   ],
   "source": [
    "product_sum(3)"
   ]
  },
  {
   "cell_type": "code",
   "execution_count": 39,
   "id": "c0e33aed",
   "metadata": {},
   "outputs": [
    {
     "data": {
      "text/plain": [
       "(7, 12)"
      ]
     },
     "execution_count": 39,
     "metadata": {},
     "output_type": "execute_result"
    }
   ],
   "source": [
    "product_sum(3,4)"
   ]
  },
  {
   "cell_type": "code",
   "execution_count": 40,
   "id": "5e2c0e14",
   "metadata": {},
   "outputs": [],
   "source": [
    "# Write a function to calculate the perimeter and area of rectangle with given l and b,\n",
    "# with default value of breadth is 8"
   ]
  },
  {
   "cell_type": "code",
   "execution_count": 41,
   "id": "58a8b1b0",
   "metadata": {},
   "outputs": [],
   "source": [
    "def rectangular_properties(length, breadth=8): \n",
    "    perimeter= 2 * (length + breadth) \n",
    "    area = length *breadth \n",
    "    return perimeter,area"
   ]
  },
  {
   "cell_type": "code",
   "execution_count": 42,
   "id": "e64bd278",
   "metadata": {},
   "outputs": [
    {
     "data": {
      "text/plain": [
       "(28, 48)"
      ]
     },
     "execution_count": 42,
     "metadata": {},
     "output_type": "execute_result"
    }
   ],
   "source": [
    "rectangular_properties(6)"
   ]
  },
  {
   "cell_type": "code",
   "execution_count": 43,
   "id": "cff9d741",
   "metadata": {},
   "outputs": [
    {
     "data": {
      "text/plain": [
       "(32, 60)"
      ]
     },
     "execution_count": 43,
     "metadata": {},
     "output_type": "execute_result"
    }
   ],
   "source": [
    "rectangular_properties(6,10)"
   ]
  },
  {
   "cell_type": "markdown",
   "id": "d321bf7b",
   "metadata": {
    "id": "aTYR8UrxcQbL"
   },
   "source": [
    "## Lambda functions"
   ]
  },
  {
   "cell_type": "code",
   "execution_count": 44,
   "id": "6cf8bbf9",
   "metadata": {},
   "outputs": [],
   "source": [
    "sqaure=lambda x:x**2\n",
    "# lambda input:output"
   ]
  },
  {
   "cell_type": "code",
   "execution_count": 45,
   "id": "9e9823b3",
   "metadata": {},
   "outputs": [
    {
     "data": {
      "text/plain": [
       "16"
      ]
     },
     "execution_count": 45,
     "metadata": {},
     "output_type": "execute_result"
    }
   ],
   "source": [
    "sqaure(4)"
   ]
  },
  {
   "cell_type": "code",
   "execution_count": 46,
   "id": "609dfdfd",
   "metadata": {},
   "outputs": [
    {
     "data": {
      "text/plain": [
       "81"
      ]
     },
     "execution_count": 46,
     "metadata": {},
     "output_type": "execute_result"
    }
   ],
   "source": [
    "sqaure(9)"
   ]
  },
  {
   "cell_type": "code",
   "execution_count": 47,
   "id": "66857c4a",
   "metadata": {},
   "outputs": [],
   "source": [
    "area_of_rectangle=lambda l,b:l*b"
   ]
  },
  {
   "cell_type": "code",
   "execution_count": 48,
   "id": "040e79f2",
   "metadata": {},
   "outputs": [
    {
     "data": {
      "text/plain": [
       "6"
      ]
     },
     "execution_count": 48,
     "metadata": {},
     "output_type": "execute_result"
    }
   ],
   "source": [
    "area_of_rectangle(2,3)"
   ]
  },
  {
   "cell_type": "code",
   "execution_count": 49,
   "id": "a3c5a74a",
   "metadata": {},
   "outputs": [],
   "source": [
    "rectangular_properties=lambda l,b:(l*b,2*(l+b))"
   ]
  },
  {
   "cell_type": "code",
   "execution_count": 50,
   "id": "73b221c2",
   "metadata": {},
   "outputs": [
    {
     "data": {
      "text/plain": [
       "(6, 10)"
      ]
     },
     "execution_count": 50,
     "metadata": {},
     "output_type": "execute_result"
    }
   ],
   "source": [
    "rectangular_properties(2,3)"
   ]
  },
  {
   "cell_type": "code",
   "execution_count": 51,
   "id": "5e96267d",
   "metadata": {},
   "outputs": [],
   "source": [
    "power=lambda x,y:x**y"
   ]
  },
  {
   "cell_type": "code",
   "execution_count": 52,
   "id": "08aeb476",
   "metadata": {},
   "outputs": [
    {
     "data": {
      "text/plain": [
       "32"
      ]
     },
     "execution_count": 52,
     "metadata": {},
     "output_type": "execute_result"
    }
   ],
   "source": [
    "power(2,5)"
   ]
  },
  {
   "cell_type": "code",
   "execution_count": 53,
   "id": "46f5e05b",
   "metadata": {},
   "outputs": [
    {
     "data": {
      "text/plain": [
       "16384"
      ]
     },
     "execution_count": 53,
     "metadata": {},
     "output_type": "execute_result"
    }
   ],
   "source": [
    "power(4,7)"
   ]
  },
  {
   "cell_type": "code",
   "execution_count": 54,
   "id": "d98ee79c",
   "metadata": {},
   "outputs": [
    {
     "data": {
      "text/plain": [
       "2"
      ]
     },
     "execution_count": 54,
     "metadata": {},
     "output_type": "execute_result"
    }
   ],
   "source": [
    "power(2,1)"
   ]
  },
  {
   "cell_type": "markdown",
   "id": "598d2e1b",
   "metadata": {
    "id": "95YBSiGUhWmM"
   },
   "source": [
    "### Quiz\n",
    "Create a lambda function that takes a string and returns a string whose characters are all small letter"
   ]
  },
  {
   "cell_type": "code",
   "execution_count": 55,
   "id": "7719dc3c",
   "metadata": {
    "executionInfo": {
     "elapsed": 61,
     "status": "ok",
     "timestamp": 1706080434696,
     "user": {
      "displayName": "Akshar Gupta",
      "userId": "03393520324044557957"
     },
     "user_tz": -330
    },
    "id": "UGv2QPaAh-BV"
   },
   "outputs": [],
   "source": [
    "small = lambda some_string: some_string.lower()"
   ]
  },
  {
   "cell_type": "code",
   "execution_count": 56,
   "id": "b1f1901e",
   "metadata": {
    "colab": {
     "base_uri": "https://localhost:8080/",
     "height": 35
    },
    "executionInfo": {
     "elapsed": 60,
     "status": "ok",
     "timestamp": 1706080434696,
     "user": {
      "displayName": "Akshar Gupta",
      "userId": "03393520324044557957"
     },
     "user_tz": -330
    },
    "id": "9sLYiyoniDTl",
    "outputId": "dd78bb60-9513-4e44-a7e1-230e7bcf5377"
   },
   "outputs": [
    {
     "name": "stdout",
     "output_type": "stream",
     "text": [
      "sfDSFWF\n"
     ]
    },
    {
     "data": {
      "text/plain": [
       "'sfdsfwf'"
      ]
     },
     "execution_count": 56,
     "metadata": {},
     "output_type": "execute_result"
    }
   ],
   "source": [
    "string=input()\n",
    "small(string)"
   ]
  },
  {
   "cell_type": "markdown",
   "id": "cf57f577",
   "metadata": {
    "id": "ZjKXiiGEiSOb"
   },
   "source": [
    "### Quiz\n",
    "Create a lambda function that takes a list return the number of elements in a list (with user input)"
   ]
  },
  {
   "cell_type": "code",
   "execution_count": 57,
   "id": "316fa625",
   "metadata": {},
   "outputs": [
    {
     "name": "stdout",
     "output_type": "stream",
     "text": [
      "[2,3,4,5,6,7]\n"
     ]
    },
    {
     "data": {
      "text/plain": [
       "6"
      ]
     },
     "execution_count": 57,
     "metadata": {},
     "output_type": "execute_result"
    }
   ],
   "source": [
    "import ast\n",
    "ls=ast.literal_eval(input())\n",
    "length=lambda ls:len(ls)\n",
    "length(ls)"
   ]
  },
  {
   "cell_type": "code",
   "execution_count": null,
   "id": "5f2d5183",
   "metadata": {},
   "outputs": [],
   "source": []
  }
 ],
 "metadata": {
  "kernelspec": {
   "display_name": "Python 3",
   "language": "python",
   "name": "python3"
  },
  "language_info": {
   "codemirror_mode": {
    "name": "ipython",
    "version": 3
   },
   "file_extension": ".py",
   "mimetype": "text/x-python",
   "name": "python",
   "nbconvert_exporter": "python",
   "pygments_lexer": "ipython3",
   "version": "3.8.8"
  }
 },
 "nbformat": 4,
 "nbformat_minor": 5
}
