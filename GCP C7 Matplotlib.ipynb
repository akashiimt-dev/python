{
 "cells": [
  {
   "cell_type": "markdown",
   "id": "43e0ef1a",
   "metadata": {
    "id": "jUD7c0N25KbO"
   },
   "source": [
    "# Introduction\n",
    "In this session, you will learn about the basics of data visualisation using the Python library matplotlib. Matplotlib is a comprehensive library for creating static, animated, and interactive visualizations in Python.\n",
    "\n",
    "To get started with `matplotlib` we need to import the library. We usually import it with the name `plt`."
   ]
  },
  {
   "cell_type": "code",
   "execution_count": 1,
   "id": "91484c9c",
   "metadata": {},
   "outputs": [],
   "source": [
    "import numpy as np\n",
    "import pandas as pd\n",
    "# Library used for data visualisation\n",
    "import matplotlib.pyplot as plt"
   ]
  },
  {
   "cell_type": "markdown",
   "id": "28d8adf0",
   "metadata": {
    "id": "4jyiFLUaEDET"
   },
   "source": [
    "# Data Preparation"
   ]
  },
  {
   "cell_type": "code",
   "execution_count": 2,
   "id": "cee89664",
   "metadata": {
    "id": "mXweyWVl538O"
   },
   "outputs": [],
   "source": [
    "df = pd.read_csv('carprices_data_viz.csv')\n",
    "#https://drive.google.com/file/d/1OEGiVxgwGb-wdqfrVKVrgqxyWkG6T5sR/view?usp=sharing"
   ]
  },
  {
   "cell_type": "code",
   "execution_count": 3,
   "id": "f11b699c",
   "metadata": {},
   "outputs": [
    {
     "data": {
      "text/html": [
       "<div>\n",
       "<style scoped>\n",
       "    .dataframe tbody tr th:only-of-type {\n",
       "        vertical-align: middle;\n",
       "    }\n",
       "\n",
       "    .dataframe tbody tr th {\n",
       "        vertical-align: top;\n",
       "    }\n",
       "\n",
       "    .dataframe thead th {\n",
       "        text-align: right;\n",
       "    }\n",
       "</style>\n",
       "<table border=\"1\" class=\"dataframe\">\n",
       "  <thead>\n",
       "    <tr style=\"text-align: right;\">\n",
       "      <th></th>\n",
       "      <th>car_ID</th>\n",
       "      <th>symboling</th>\n",
       "      <th>carname</th>\n",
       "      <th>doornumber</th>\n",
       "      <th>carbody</th>\n",
       "      <th>enginelocation</th>\n",
       "      <th>wheelbase</th>\n",
       "      <th>carlength</th>\n",
       "      <th>carwidth</th>\n",
       "      <th>carheight</th>\n",
       "      <th>...</th>\n",
       "      <th>cylindernumber</th>\n",
       "      <th>enginesize</th>\n",
       "      <th>boreratio</th>\n",
       "      <th>stroke</th>\n",
       "      <th>compressionratio</th>\n",
       "      <th>horsepower</th>\n",
       "      <th>peakrpm</th>\n",
       "      <th>citympg</th>\n",
       "      <th>highwaympg</th>\n",
       "      <th>price</th>\n",
       "    </tr>\n",
       "  </thead>\n",
       "  <tbody>\n",
       "    <tr>\n",
       "      <th>0</th>\n",
       "      <td>1.0</td>\n",
       "      <td>3.0</td>\n",
       "      <td>alfa-romero giulia</td>\n",
       "      <td>two</td>\n",
       "      <td>convertible</td>\n",
       "      <td>front</td>\n",
       "      <td>88.6</td>\n",
       "      <td>168.8</td>\n",
       "      <td>64.1</td>\n",
       "      <td>48.8</td>\n",
       "      <td>...</td>\n",
       "      <td>four</td>\n",
       "      <td>130.0</td>\n",
       "      <td>3.47</td>\n",
       "      <td>2.68</td>\n",
       "      <td>9.0</td>\n",
       "      <td>111.0</td>\n",
       "      <td>5000</td>\n",
       "      <td>21</td>\n",
       "      <td>27.0</td>\n",
       "      <td>13495.0</td>\n",
       "    </tr>\n",
       "    <tr>\n",
       "      <th>1</th>\n",
       "      <td>2.0</td>\n",
       "      <td>3.0</td>\n",
       "      <td>alfa-romero stelvio</td>\n",
       "      <td>two</td>\n",
       "      <td>convertible</td>\n",
       "      <td>front</td>\n",
       "      <td>88.6</td>\n",
       "      <td>168.8</td>\n",
       "      <td>64.1</td>\n",
       "      <td>48.8</td>\n",
       "      <td>...</td>\n",
       "      <td>four</td>\n",
       "      <td>130.0</td>\n",
       "      <td>3.47</td>\n",
       "      <td>2.68</td>\n",
       "      <td>9.0</td>\n",
       "      <td>111.0</td>\n",
       "      <td>5000</td>\n",
       "      <td>21</td>\n",
       "      <td>27.0</td>\n",
       "      <td>16500.0</td>\n",
       "    </tr>\n",
       "    <tr>\n",
       "      <th>2</th>\n",
       "      <td>3.0</td>\n",
       "      <td>1.0</td>\n",
       "      <td>alfa-romero Quadrifoglio</td>\n",
       "      <td>two</td>\n",
       "      <td>hatchback</td>\n",
       "      <td>front</td>\n",
       "      <td>94.5</td>\n",
       "      <td>171.2</td>\n",
       "      <td>65.5</td>\n",
       "      <td>52.4</td>\n",
       "      <td>...</td>\n",
       "      <td>six</td>\n",
       "      <td>152.0</td>\n",
       "      <td>2.68</td>\n",
       "      <td>3.47</td>\n",
       "      <td>9.0</td>\n",
       "      <td>154.0</td>\n",
       "      <td>5000</td>\n",
       "      <td>19</td>\n",
       "      <td>26.0</td>\n",
       "      <td>16500.0</td>\n",
       "    </tr>\n",
       "    <tr>\n",
       "      <th>3</th>\n",
       "      <td>4.0</td>\n",
       "      <td>2.0</td>\n",
       "      <td>audi 100 ls</td>\n",
       "      <td>four</td>\n",
       "      <td>sedan</td>\n",
       "      <td>front</td>\n",
       "      <td>99.8</td>\n",
       "      <td>176.6</td>\n",
       "      <td>66.2</td>\n",
       "      <td>54.3</td>\n",
       "      <td>...</td>\n",
       "      <td>four</td>\n",
       "      <td>109.0</td>\n",
       "      <td>3.19</td>\n",
       "      <td>3.40</td>\n",
       "      <td>10.0</td>\n",
       "      <td>102.0</td>\n",
       "      <td>5500</td>\n",
       "      <td>24</td>\n",
       "      <td>30.0</td>\n",
       "      <td>13950.0</td>\n",
       "    </tr>\n",
       "    <tr>\n",
       "      <th>4</th>\n",
       "      <td>5.0</td>\n",
       "      <td>2.0</td>\n",
       "      <td>audi 100ls</td>\n",
       "      <td>four</td>\n",
       "      <td>sedan</td>\n",
       "      <td>front</td>\n",
       "      <td>99.4</td>\n",
       "      <td>176.6</td>\n",
       "      <td>66.4</td>\n",
       "      <td>54.3</td>\n",
       "      <td>...</td>\n",
       "      <td>five</td>\n",
       "      <td>136.0</td>\n",
       "      <td>3.19</td>\n",
       "      <td>3.40</td>\n",
       "      <td>8.0</td>\n",
       "      <td>115.0</td>\n",
       "      <td>5500</td>\n",
       "      <td>18</td>\n",
       "      <td>22.0</td>\n",
       "      <td>17450.0</td>\n",
       "    </tr>\n",
       "  </tbody>\n",
       "</table>\n",
       "<p>5 rows × 21 columns</p>\n",
       "</div>"
      ],
      "text/plain": [
       "   car_ID  symboling                   carname doornumber      carbody  \\\n",
       "0     1.0        3.0        alfa-romero giulia        two  convertible   \n",
       "1     2.0        3.0       alfa-romero stelvio        two  convertible   \n",
       "2     3.0        1.0  alfa-romero Quadrifoglio        two    hatchback   \n",
       "3     4.0        2.0               audi 100 ls       four        sedan   \n",
       "4     5.0        2.0                audi 100ls       four        sedan   \n",
       "\n",
       "  enginelocation  wheelbase  carlength  carwidth  carheight  ...  \\\n",
       "0          front       88.6      168.8      64.1       48.8  ...   \n",
       "1          front       88.6      168.8      64.1       48.8  ...   \n",
       "2          front       94.5      171.2      65.5       52.4  ...   \n",
       "3          front       99.8      176.6      66.2       54.3  ...   \n",
       "4          front       99.4      176.6      66.4       54.3  ...   \n",
       "\n",
       "   cylindernumber enginesize  boreratio  stroke  compressionratio  horsepower  \\\n",
       "0            four      130.0       3.47    2.68               9.0       111.0   \n",
       "1            four      130.0       3.47    2.68               9.0       111.0   \n",
       "2             six      152.0       2.68    3.47               9.0       154.0   \n",
       "3            four      109.0       3.19    3.40              10.0       102.0   \n",
       "4            five      136.0       3.19    3.40               8.0       115.0   \n",
       "\n",
       "   peakrpm  citympg  highwaympg    price  \n",
       "0     5000       21        27.0  13495.0  \n",
       "1     5000       21        27.0  16500.0  \n",
       "2     5000       19        26.0  16500.0  \n",
       "3     5500       24        30.0  13950.0  \n",
       "4     5500       18        22.0  17450.0  \n",
       "\n",
       "[5 rows x 21 columns]"
      ]
     },
     "execution_count": 3,
     "metadata": {},
     "output_type": "execute_result"
    }
   ],
   "source": [
    "df.head()"
   ]
  },
  {
   "cell_type": "code",
   "execution_count": 4,
   "id": "271d08a0",
   "metadata": {},
   "outputs": [
    {
     "data": {
      "text/plain": [
       "(205, 21)"
      ]
     },
     "execution_count": 4,
     "metadata": {},
     "output_type": "execute_result"
    }
   ],
   "source": [
    "df.shape"
   ]
  },
  {
   "cell_type": "code",
   "execution_count": 5,
   "id": "5b8c8b4f",
   "metadata": {
    "collapsed": true
   },
   "outputs": [
    {
     "name": "stdout",
     "output_type": "stream",
     "text": [
      "<class 'pandas.core.frame.DataFrame'>\n",
      "RangeIndex: 205 entries, 0 to 204\n",
      "Data columns (total 21 columns):\n",
      " #   Column            Non-Null Count  Dtype  \n",
      "---  ------            --------------  -----  \n",
      " 0   car_ID            204 non-null    float64\n",
      " 1   symboling         204 non-null    float64\n",
      " 2   carname           205 non-null    object \n",
      " 3   doornumber        196 non-null    object \n",
      " 4   carbody           205 non-null    object \n",
      " 5   enginelocation    204 non-null    object \n",
      " 6   wheelbase         191 non-null    float64\n",
      " 7   carlength         204 non-null    float64\n",
      " 8   carwidth          204 non-null    float64\n",
      " 9   carheight         204 non-null    float64\n",
      " 10  curbweight        205 non-null    int64  \n",
      " 11  cylindernumber    204 non-null    object \n",
      " 12  enginesize        204 non-null    float64\n",
      " 13  boreratio         205 non-null    float64\n",
      " 14  stroke            204 non-null    float64\n",
      " 15  compressionratio  204 non-null    float64\n",
      " 16  horsepower        204 non-null    float64\n",
      " 17  peakrpm           205 non-null    int64  \n",
      " 18  citympg           205 non-null    int64  \n",
      " 19  highwaympg        204 non-null    float64\n",
      " 20  price             204 non-null    float64\n",
      "dtypes: float64(13), int64(3), object(5)\n",
      "memory usage: 33.8+ KB\n"
     ]
    }
   ],
   "source": [
    "df.info()"
   ]
  },
  {
   "cell_type": "markdown",
   "id": "6d0039ce",
   "metadata": {
    "id": "DoVNSgT4EqxZ"
   },
   "source": [
    "### Example\n",
    "Dealing with missing values in a numerical column"
   ]
  },
  {
   "cell_type": "code",
   "execution_count": 7,
   "id": "12006f35",
   "metadata": {},
   "outputs": [
    {
     "data": {
      "text/plain": [
       "191"
      ]
     },
     "execution_count": 7,
     "metadata": {},
     "output_type": "execute_result"
    }
   ],
   "source": [
    "df[\"wheelbase\"].count()"
   ]
  },
  {
   "cell_type": "code",
   "execution_count": 8,
   "id": "596d9df7",
   "metadata": {},
   "outputs": [],
   "source": [
    "# For numerical column, to replace missing values we use mean/median"
   ]
  },
  {
   "cell_type": "code",
   "execution_count": 10,
   "id": "e63cbea1",
   "metadata": {},
   "outputs": [],
   "source": [
    "med=df[\"wheelbase\"].median()\n",
    "df[\"wheelbase\"]=df[\"wheelbase\"].fillna(med)\n",
    "# this command will replace all missing values with median i.e 97"
   ]
  },
  {
   "cell_type": "code",
   "execution_count": 11,
   "id": "0954290a",
   "metadata": {},
   "outputs": [
    {
     "data": {
      "text/plain": [
       "205"
      ]
     },
     "execution_count": 11,
     "metadata": {},
     "output_type": "execute_result"
    }
   ],
   "source": [
    "df[\"wheelbase\"].count()"
   ]
  },
  {
   "cell_type": "code",
   "execution_count": 12,
   "id": "2e319e79",
   "metadata": {
    "collapsed": true
   },
   "outputs": [
    {
     "name": "stdout",
     "output_type": "stream",
     "text": [
      "<class 'pandas.core.frame.DataFrame'>\n",
      "RangeIndex: 205 entries, 0 to 204\n",
      "Data columns (total 21 columns):\n",
      " #   Column            Non-Null Count  Dtype  \n",
      "---  ------            --------------  -----  \n",
      " 0   car_ID            204 non-null    float64\n",
      " 1   symboling         204 non-null    float64\n",
      " 2   carname           205 non-null    object \n",
      " 3   doornumber        196 non-null    object \n",
      " 4   carbody           205 non-null    object \n",
      " 5   enginelocation    204 non-null    object \n",
      " 6   wheelbase         205 non-null    float64\n",
      " 7   carlength         204 non-null    float64\n",
      " 8   carwidth          204 non-null    float64\n",
      " 9   carheight         204 non-null    float64\n",
      " 10  curbweight        205 non-null    int64  \n",
      " 11  cylindernumber    204 non-null    object \n",
      " 12  enginesize        204 non-null    float64\n",
      " 13  boreratio         205 non-null    float64\n",
      " 14  stroke            204 non-null    float64\n",
      " 15  compressionratio  204 non-null    float64\n",
      " 16  horsepower        204 non-null    float64\n",
      " 17  peakrpm           205 non-null    int64  \n",
      " 18  citympg           205 non-null    int64  \n",
      " 19  highwaympg        204 non-null    float64\n",
      " 20  price             204 non-null    float64\n",
      "dtypes: float64(13), int64(3), object(5)\n",
      "memory usage: 33.8+ KB\n"
     ]
    }
   ],
   "source": [
    "df.info()"
   ]
  },
  {
   "cell_type": "markdown",
   "id": "b29ef701",
   "metadata": {
    "id": "YjJFZaGyGK8j"
   },
   "source": [
    "### Example\n",
    "Dealing with missing values in a categorical column"
   ]
  },
  {
   "cell_type": "code",
   "execution_count": 13,
   "id": "f8a42d3a",
   "metadata": {},
   "outputs": [
    {
     "data": {
      "text/plain": [
       "196"
      ]
     },
     "execution_count": 13,
     "metadata": {},
     "output_type": "execute_result"
    }
   ],
   "source": [
    "df[\"doornumber\"].count()"
   ]
  },
  {
   "cell_type": "code",
   "execution_count": 14,
   "id": "4749b351",
   "metadata": {},
   "outputs": [],
   "source": [
    "# For numerical column, to replace missing values we use mode"
   ]
  },
  {
   "cell_type": "code",
   "execution_count": 19,
   "id": "9caafd74",
   "metadata": {},
   "outputs": [
    {
     "data": {
      "text/plain": [
       "'four'"
      ]
     },
     "execution_count": 19,
     "metadata": {},
     "output_type": "execute_result"
    }
   ],
   "source": [
    "mod=df[\"doornumber\"].mode()[0]\n",
    "mod"
   ]
  },
  {
   "cell_type": "code",
   "execution_count": 24,
   "id": "d64b4443",
   "metadata": {},
   "outputs": [
    {
     "data": {
      "text/plain": [
       "'four'"
      ]
     },
     "execution_count": 24,
     "metadata": {},
     "output_type": "execute_result"
    }
   ],
   "source": [
    "df[\"doornumber\"].mode()[0]"
   ]
  },
  {
   "cell_type": "code",
   "execution_count": 20,
   "id": "55a06a92",
   "metadata": {},
   "outputs": [],
   "source": [
    "df[\"doornumber\"]=df[\"doornumber\"].fillna(mod)\n",
    "#df[\"doornumber\"]=df[\"doornumber\"].fillna(\"four\")"
   ]
  },
  {
   "cell_type": "code",
   "execution_count": 21,
   "id": "d717483e",
   "metadata": {},
   "outputs": [
    {
     "data": {
      "text/plain": [
       "205"
      ]
     },
     "execution_count": 21,
     "metadata": {},
     "output_type": "execute_result"
    }
   ],
   "source": [
    "df[\"doornumber\"].count()"
   ]
  },
  {
   "cell_type": "markdown",
   "id": "dba25daf",
   "metadata": {
    "id": "w2QrOrEwBNdM"
   },
   "source": [
    "### Quiz\n",
    "Load `'Buffet_Details_dataviz.csv'` into a dataframe with the name `qdf` and display it"
   ]
  },
  {
   "cell_type": "code",
   "execution_count": 25,
   "id": "d2e44722",
   "metadata": {
    "collapsed": true
   },
   "outputs": [
    {
     "data": {
      "text/html": [
       "<div>\n",
       "<style scoped>\n",
       "    .dataframe tbody tr th:only-of-type {\n",
       "        vertical-align: middle;\n",
       "    }\n",
       "\n",
       "    .dataframe tbody tr th {\n",
       "        vertical-align: top;\n",
       "    }\n",
       "\n",
       "    .dataframe thead th {\n",
       "        text-align: right;\n",
       "    }\n",
       "</style>\n",
       "<table border=\"1\" class=\"dataframe\">\n",
       "  <thead>\n",
       "    <tr style=\"text-align: right;\">\n",
       "      <th></th>\n",
       "      <th>Room</th>\n",
       "      <th>Name</th>\n",
       "      <th>Age</th>\n",
       "      <th>Cuisine</th>\n",
       "      <th>Expenditure</th>\n",
       "    </tr>\n",
       "  </thead>\n",
       "  <tbody>\n",
       "    <tr>\n",
       "      <th>0</th>\n",
       "      <td>A1</td>\n",
       "      <td>Shilpa</td>\n",
       "      <td>18</td>\n",
       "      <td>Indian</td>\n",
       "      <td>24.65</td>\n",
       "    </tr>\n",
       "    <tr>\n",
       "      <th>1</th>\n",
       "      <td>A2</td>\n",
       "      <td>Jaspreet</td>\n",
       "      <td>32</td>\n",
       "      <td>American</td>\n",
       "      <td>18.54</td>\n",
       "    </tr>\n",
       "    <tr>\n",
       "      <th>2</th>\n",
       "      <td>A3</td>\n",
       "      <td>Dominic</td>\n",
       "      <td>19</td>\n",
       "      <td>Indian</td>\n",
       "      <td>27.66</td>\n",
       "    </tr>\n",
       "    <tr>\n",
       "      <th>3</th>\n",
       "      <td>A4</td>\n",
       "      <td>Ahmad</td>\n",
       "      <td>22</td>\n",
       "      <td>American</td>\n",
       "      <td>19.54</td>\n",
       "    </tr>\n",
       "    <tr>\n",
       "      <th>4</th>\n",
       "      <td>A5</td>\n",
       "      <td>Joseph</td>\n",
       "      <td>28</td>\n",
       "      <td>Indian</td>\n",
       "      <td>17.32</td>\n",
       "    </tr>\n",
       "    <tr>\n",
       "      <th>5</th>\n",
       "      <td>A6</td>\n",
       "      <td>Saju</td>\n",
       "      <td>31</td>\n",
       "      <td>Indian</td>\n",
       "      <td>12.56</td>\n",
       "    </tr>\n",
       "    <tr>\n",
       "      <th>6</th>\n",
       "      <td>A7</td>\n",
       "      <td>Monica</td>\n",
       "      <td>48</td>\n",
       "      <td>Chinese</td>\n",
       "      <td>11.09</td>\n",
       "    </tr>\n",
       "    <tr>\n",
       "      <th>7</th>\n",
       "      <td>A8</td>\n",
       "      <td>Preeti</td>\n",
       "      <td>67</td>\n",
       "      <td>American</td>\n",
       "      <td>12.23</td>\n",
       "    </tr>\n",
       "    <tr>\n",
       "      <th>8</th>\n",
       "      <td>A9</td>\n",
       "      <td>Emma</td>\n",
       "      <td>24</td>\n",
       "      <td>Indian</td>\n",
       "      <td>18.88</td>\n",
       "    </tr>\n",
       "    <tr>\n",
       "      <th>9</th>\n",
       "      <td>A10</td>\n",
       "      <td>Gaurav</td>\n",
       "      <td>29</td>\n",
       "      <td>Chinese</td>\n",
       "      <td>14.43</td>\n",
       "    </tr>\n",
       "    <tr>\n",
       "      <th>10</th>\n",
       "      <td>A11</td>\n",
       "      <td>Abhijit</td>\n",
       "      <td>27</td>\n",
       "      <td>Indian</td>\n",
       "      <td>16.63</td>\n",
       "    </tr>\n",
       "    <tr>\n",
       "      <th>11</th>\n",
       "      <td>A12</td>\n",
       "      <td>Ryan</td>\n",
       "      <td>23</td>\n",
       "      <td>Indian</td>\n",
       "      <td>21.67</td>\n",
       "    </tr>\n",
       "    <tr>\n",
       "      <th>12</th>\n",
       "      <td>A13</td>\n",
       "      <td>Travis</td>\n",
       "      <td>27</td>\n",
       "      <td>Indian</td>\n",
       "      <td>14.53</td>\n",
       "    </tr>\n",
       "    <tr>\n",
       "      <th>13</th>\n",
       "      <td>A14</td>\n",
       "      <td>Sonu</td>\n",
       "      <td>31</td>\n",
       "      <td>American</td>\n",
       "      <td>16.43</td>\n",
       "    </tr>\n",
       "    <tr>\n",
       "      <th>14</th>\n",
       "      <td>A15</td>\n",
       "      <td>Gopal</td>\n",
       "      <td>58</td>\n",
       "      <td>Indian</td>\n",
       "      <td>14.43</td>\n",
       "    </tr>\n",
       "    <tr>\n",
       "      <th>15</th>\n",
       "      <td>A16</td>\n",
       "      <td>Vismaya</td>\n",
       "      <td>28</td>\n",
       "      <td>Chinese</td>\n",
       "      <td>18.45</td>\n",
       "    </tr>\n",
       "    <tr>\n",
       "      <th>16</th>\n",
       "      <td>B1</td>\n",
       "      <td>Gurleen</td>\n",
       "      <td>32</td>\n",
       "      <td>Indian</td>\n",
       "      <td>15.34</td>\n",
       "    </tr>\n",
       "    <tr>\n",
       "      <th>17</th>\n",
       "      <td>B2</td>\n",
       "      <td>Aniket</td>\n",
       "      <td>73</td>\n",
       "      <td>Indian</td>\n",
       "      <td>13.38</td>\n",
       "    </tr>\n",
       "    <tr>\n",
       "      <th>18</th>\n",
       "      <td>B3</td>\n",
       "      <td>Nicole</td>\n",
       "      <td>19</td>\n",
       "      <td>Chinese</td>\n",
       "      <td>29.65</td>\n",
       "    </tr>\n",
       "    <tr>\n",
       "      <th>19</th>\n",
       "      <td>B4</td>\n",
       "      <td>Abhilash</td>\n",
       "      <td>27</td>\n",
       "      <td>American</td>\n",
       "      <td>22.54</td>\n",
       "    </tr>\n",
       "    <tr>\n",
       "      <th>20</th>\n",
       "      <td>B5</td>\n",
       "      <td>Abdul</td>\n",
       "      <td>33</td>\n",
       "      <td>Indian</td>\n",
       "      <td>18.54</td>\n",
       "    </tr>\n",
       "    <tr>\n",
       "      <th>21</th>\n",
       "      <td>B6</td>\n",
       "      <td>Prakash</td>\n",
       "      <td>81</td>\n",
       "      <td>Indian</td>\n",
       "      <td>13.78</td>\n",
       "    </tr>\n",
       "    <tr>\n",
       "      <th>22</th>\n",
       "      <td>B7</td>\n",
       "      <td>Usha</td>\n",
       "      <td>45</td>\n",
       "      <td>American</td>\n",
       "      <td>15.43</td>\n",
       "    </tr>\n",
       "    <tr>\n",
       "      <th>23</th>\n",
       "      <td>B8</td>\n",
       "      <td>Rahul</td>\n",
       "      <td>27</td>\n",
       "      <td>Chinese</td>\n",
       "      <td>20.04</td>\n",
       "    </tr>\n",
       "    <tr>\n",
       "      <th>24</th>\n",
       "      <td>B9</td>\n",
       "      <td>Phoebe</td>\n",
       "      <td>26</td>\n",
       "      <td>Chinese</td>\n",
       "      <td>22.34</td>\n",
       "    </tr>\n",
       "    <tr>\n",
       "      <th>25</th>\n",
       "      <td>B10</td>\n",
       "      <td>Arun</td>\n",
       "      <td>22</td>\n",
       "      <td>Indian</td>\n",
       "      <td>25.34</td>\n",
       "    </tr>\n",
       "    <tr>\n",
       "      <th>26</th>\n",
       "      <td>B11</td>\n",
       "      <td>Sumail</td>\n",
       "      <td>25</td>\n",
       "      <td>Indian</td>\n",
       "      <td>19.87</td>\n",
       "    </tr>\n",
       "    <tr>\n",
       "      <th>27</th>\n",
       "      <td>B12</td>\n",
       "      <td>Valentino</td>\n",
       "      <td>27</td>\n",
       "      <td>Indian</td>\n",
       "      <td>21.48</td>\n",
       "    </tr>\n",
       "    <tr>\n",
       "      <th>28</th>\n",
       "      <td>B13</td>\n",
       "      <td>Katie</td>\n",
       "      <td>36</td>\n",
       "      <td>American</td>\n",
       "      <td>16.35</td>\n",
       "    </tr>\n",
       "    <tr>\n",
       "      <th>29</th>\n",
       "      <td>B14</td>\n",
       "      <td>Jeremy</td>\n",
       "      <td>26</td>\n",
       "      <td>Indian</td>\n",
       "      <td>19.34</td>\n",
       "    </tr>\n",
       "    <tr>\n",
       "      <th>30</th>\n",
       "      <td>B15</td>\n",
       "      <td>Salman</td>\n",
       "      <td>29</td>\n",
       "      <td>Indian</td>\n",
       "      <td>18.54</td>\n",
       "    </tr>\n",
       "    <tr>\n",
       "      <th>31</th>\n",
       "      <td>B16</td>\n",
       "      <td>Anand</td>\n",
       "      <td>25</td>\n",
       "      <td>Chinese</td>\n",
       "      <td>20.05</td>\n",
       "    </tr>\n",
       "  </tbody>\n",
       "</table>\n",
       "</div>"
      ],
      "text/plain": [
       "   Room       Name  Age   Cuisine  Expenditure\n",
       "0    A1     Shilpa   18    Indian        24.65\n",
       "1    A2   Jaspreet   32  American        18.54\n",
       "2    A3    Dominic   19    Indian        27.66\n",
       "3    A4      Ahmad   22  American        19.54\n",
       "4    A5     Joseph   28    Indian        17.32\n",
       "5    A6       Saju   31    Indian        12.56\n",
       "6    A7     Monica   48   Chinese        11.09\n",
       "7    A8     Preeti   67  American        12.23\n",
       "8    A9       Emma   24    Indian        18.88\n",
       "9   A10     Gaurav   29   Chinese        14.43\n",
       "10  A11    Abhijit   27    Indian        16.63\n",
       "11  A12       Ryan   23    Indian        21.67\n",
       "12  A13     Travis   27    Indian        14.53\n",
       "13  A14       Sonu   31  American        16.43\n",
       "14  A15      Gopal   58    Indian        14.43\n",
       "15  A16    Vismaya   28   Chinese        18.45\n",
       "16   B1    Gurleen   32    Indian        15.34\n",
       "17   B2     Aniket   73    Indian        13.38\n",
       "18   B3     Nicole   19   Chinese        29.65\n",
       "19   B4   Abhilash   27  American        22.54\n",
       "20   B5      Abdul   33    Indian        18.54\n",
       "21   B6    Prakash   81    Indian        13.78\n",
       "22   B7       Usha   45  American        15.43\n",
       "23   B8      Rahul   27   Chinese        20.04\n",
       "24   B9     Phoebe   26   Chinese        22.34\n",
       "25  B10       Arun   22    Indian        25.34\n",
       "26  B11     Sumail   25    Indian        19.87\n",
       "27  B12  Valentino   27    Indian        21.48\n",
       "28  B13      Katie   36  American        16.35\n",
       "29  B14     Jeremy   26    Indian        19.34\n",
       "30  B15     Salman   29    Indian        18.54\n",
       "31  B16      Anand   25   Chinese        20.05"
      ]
     },
     "execution_count": 25,
     "metadata": {},
     "output_type": "execute_result"
    }
   ],
   "source": [
    "qdf = pd.read_csv('Buffet_Details_dataviz.csv')\n",
    "qdf\n",
    "#https://drive.google.com/file/d/1vh0gtvSzug8sgMlIHd1i2jJqHCMlVpev/view?usp=sharing"
   ]
  },
  {
   "cell_type": "markdown",
   "id": "f58a7ecd",
   "metadata": {
    "id": "1P82-JGAP0GQ"
   },
   "source": [
    "# Exploring numerical variables\n",
    "In this section, we will use scatter plots and line plots to explore a few numerical variables"
   ]
  },
  {
   "cell_type": "markdown",
   "id": "9e070397",
   "metadata": {
    "id": "9ZQW2zIJSyPc"
   },
   "source": [
    "### Example\n",
    "Let's start by generating a scatter plot\n",
    "> What is the relationship between engine size and horsepower?"
   ]
  },
  {
   "cell_type": "code",
   "execution_count": 30,
   "id": "521430bc",
   "metadata": {},
   "outputs": [],
   "source": [
    "df = pd.read_csv('carprices_data_viz.csv')"
   ]
  },
  {
   "cell_type": "code",
   "execution_count": 28,
   "id": "5e507c5c",
   "metadata": {
    "collapsed": true
   },
   "outputs": [
    {
     "data": {
      "image/png": "[encoded data removed]",
      "text/plain": [
       "<Figure size 432x288 with 1 Axes>"
      ]
     },
     "metadata": {
      "needs_background": "light"
     },
     "output_type": "display_data"
    }
   ],
   "source": [
    "plt.scatter(x = df['enginesize'], y = df['horsepower'])\n",
    "plt.xlabel('Engine Size')\n",
    "plt.ylabel('HorsePower')\n",
    "plt.title('Scatter plot of horsepower of car versus engine size')\n",
    "plt.show()"
   ]
  },
  {
   "cell_type": "code",
   "execution_count": 29,
   "id": "0730b87f",
   "metadata": {
    "collapsed": true
   },
   "outputs": [
    {
     "data": {
      "text/html": [
       "<div>\n",
       "<style scoped>\n",
       "    .dataframe tbody tr th:only-of-type {\n",
       "        vertical-align: middle;\n",
       "    }\n",
       "\n",
       "    .dataframe tbody tr th {\n",
       "        vertical-align: top;\n",
       "    }\n",
       "\n",
       "    .dataframe thead th {\n",
       "        text-align: right;\n",
       "    }\n",
       "</style>\n",
       "<table border=\"1\" class=\"dataframe\">\n",
       "  <thead>\n",
       "    <tr style=\"text-align: right;\">\n",
       "      <th></th>\n",
       "      <th>enginesize</th>\n",
       "      <th>horsepower</th>\n",
       "    </tr>\n",
       "  </thead>\n",
       "  <tbody>\n",
       "    <tr>\n",
       "      <th>0</th>\n",
       "      <td>130.0</td>\n",
       "      <td>111.0</td>\n",
       "    </tr>\n",
       "    <tr>\n",
       "      <th>1</th>\n",
       "      <td>130.0</td>\n",
       "      <td>111.0</td>\n",
       "    </tr>\n",
       "    <tr>\n",
       "      <th>2</th>\n",
       "      <td>152.0</td>\n",
       "      <td>154.0</td>\n",
       "    </tr>\n",
       "    <tr>\n",
       "      <th>3</th>\n",
       "      <td>109.0</td>\n",
       "      <td>102.0</td>\n",
       "    </tr>\n",
       "    <tr>\n",
       "      <th>4</th>\n",
       "      <td>136.0</td>\n",
       "      <td>115.0</td>\n",
       "    </tr>\n",
       "    <tr>\n",
       "      <th>...</th>\n",
       "      <td>...</td>\n",
       "      <td>...</td>\n",
       "    </tr>\n",
       "    <tr>\n",
       "      <th>200</th>\n",
       "      <td>141.0</td>\n",
       "      <td>114.0</td>\n",
       "    </tr>\n",
       "    <tr>\n",
       "      <th>201</th>\n",
       "      <td>141.0</td>\n",
       "      <td>160.0</td>\n",
       "    </tr>\n",
       "    <tr>\n",
       "      <th>202</th>\n",
       "      <td>173.0</td>\n",
       "      <td>134.0</td>\n",
       "    </tr>\n",
       "    <tr>\n",
       "      <th>203</th>\n",
       "      <td>145.0</td>\n",
       "      <td>106.0</td>\n",
       "    </tr>\n",
       "    <tr>\n",
       "      <th>204</th>\n",
       "      <td>141.0</td>\n",
       "      <td>114.0</td>\n",
       "    </tr>\n",
       "  </tbody>\n",
       "</table>\n",
       "<p>205 rows × 2 columns</p>\n",
       "</div>"
      ],
      "text/plain": [
       "     enginesize  horsepower\n",
       "0         130.0       111.0\n",
       "1         130.0       111.0\n",
       "2         152.0       154.0\n",
       "3         109.0       102.0\n",
       "4         136.0       115.0\n",
       "..          ...         ...\n",
       "200       141.0       114.0\n",
       "201       141.0       160.0\n",
       "202       173.0       134.0\n",
       "203       145.0       106.0\n",
       "204       141.0       114.0\n",
       "\n",
       "[205 rows x 2 columns]"
      ]
     },
     "execution_count": 29,
     "metadata": {},
     "output_type": "execute_result"
    }
   ],
   "source": [
    "df[[\"enginesize\",\"horsepower\"]]"
   ]
  },
  {
   "cell_type": "markdown",
   "id": "a96ca237",
   "metadata": {
    "id": "C1d9uu9OS8pr"
   },
   "source": [
    "### Example\n",
    "With this example, we will explore a few variations that we can introduce inside the graph\n",
    "> What is the relationship between city mileage and horsepower?"
   ]
  },
  {
   "cell_type": "code",
   "execution_count": 43,
   "id": "b850555e",
   "metadata": {
    "collapsed": true
   },
   "outputs": [
    {
     "data": {
      "image/png": "[encoded data removed]",
      "text/plain": [
       "<Figure size 432x288 with 1 Axes>"
      ]
     },
     "metadata": {
      "needs_background": "light"
     },
     "output_type": "display_data"
    }
   ],
   "source": [
    "plt.scatter(x = df['citympg'], y = df['horsepower'],marker=\"D\",c=\"red\",alpha=1)\n",
    "plt.xlabel('city mileage')\n",
    "plt.ylabel('HorsePower')\n",
    "plt.title('Scatter plot of horsepower of car versus city mileage')\n",
    "plt.show()"
   ]
  },
  {
   "cell_type": "markdown",
   "id": "47743475",
   "metadata": {
    "id": "j53_fR4eba6x"
   },
   "source": [
    "### Example\n",
    "Let's now create a new type of plot to visualize numerical features, the line plot. For this purpose we will use a different data set. This is because lineplots are more suited to sequential data."
   ]
  },
  {
   "cell_type": "code",
   "execution_count": 58,
   "id": "1fa9b1cf",
   "metadata": {
    "id": "U7tj8naXZu7Y"
   },
   "outputs": [],
   "source": [
    "df_ap = pd.read_csv('AirPassengers.csv')\n",
    "#https://drive.google.com/file/d/1LOcqrzuAGIsCmeKRdSeDTcPHxETvWSgW/view?usp=drive_link"
   ]
  },
  {
   "cell_type": "code",
   "execution_count": 59,
   "id": "cd09d2b4",
   "metadata": {
    "colab": {
     "base_uri": "https://localhost:8080/",
     "height": 204
    },
    "collapsed": true,
    "executionInfo": {
     "elapsed": 13,
     "status": "ok",
     "timestamp": 1700484199161,
     "user": {
      "displayName": "Akshar Gupta",
      "userId": "03393520324044557957"
     },
     "user_tz": -330
    },
    "id": "88YQjDmfacVa",
    "outputId": "7dcf2427-14b1-4475-eef3-28d60d8876d9"
   },
   "outputs": [
    {
     "data": {
      "text/html": [
       "<div>\n",
       "<style scoped>\n",
       "    .dataframe tbody tr th:only-of-type {\n",
       "        vertical-align: middle;\n",
       "    }\n",
       "\n",
       "    .dataframe tbody tr th {\n",
       "        vertical-align: top;\n",
       "    }\n",
       "\n",
       "    .dataframe thead th {\n",
       "        text-align: right;\n",
       "    }\n",
       "</style>\n",
       "<table border=\"1\" class=\"dataframe\">\n",
       "  <thead>\n",
       "    <tr style=\"text-align: right;\">\n",
       "      <th></th>\n",
       "      <th>Month</th>\n",
       "      <th>#Passengers</th>\n",
       "    </tr>\n",
       "  </thead>\n",
       "  <tbody>\n",
       "    <tr>\n",
       "      <th>0</th>\n",
       "      <td>1949-01</td>\n",
       "      <td>112</td>\n",
       "    </tr>\n",
       "    <tr>\n",
       "      <th>1</th>\n",
       "      <td>1949-02</td>\n",
       "      <td>118</td>\n",
       "    </tr>\n",
       "    <tr>\n",
       "      <th>2</th>\n",
       "      <td>1949-03</td>\n",
       "      <td>132</td>\n",
       "    </tr>\n",
       "    <tr>\n",
       "      <th>3</th>\n",
       "      <td>1949-04</td>\n",
       "      <td>129</td>\n",
       "    </tr>\n",
       "    <tr>\n",
       "      <th>4</th>\n",
       "      <td>1949-05</td>\n",
       "      <td>121</td>\n",
       "    </tr>\n",
       "  </tbody>\n",
       "</table>\n",
       "</div>"
      ],
      "text/plain": [
       "     Month  #Passengers\n",
       "0  1949-01          112\n",
       "1  1949-02          118\n",
       "2  1949-03          132\n",
       "3  1949-04          129\n",
       "4  1949-05          121"
      ]
     },
     "execution_count": 59,
     "metadata": {},
     "output_type": "execute_result"
    }
   ],
   "source": [
    "df_ap.head()"
   ]
  },
  {
   "cell_type": "code",
   "execution_count": 52,
   "id": "e8a39946",
   "metadata": {},
   "outputs": [
    {
     "data": {
      "text/plain": [
       "(144, 2)"
      ]
     },
     "execution_count": 52,
     "metadata": {},
     "output_type": "execute_result"
    }
   ],
   "source": [
    "df_ap.shape"
   ]
  },
  {
   "cell_type": "code",
   "execution_count": 60,
   "id": "2a38393a",
   "metadata": {
    "collapsed": true
   },
   "outputs": [
    {
     "data": {
      "image/png": "[encoded data removed]",
      "text/plain": [
       "<Figure size 1296x432 with 1 Axes>"
      ]
     },
     "metadata": {
      "needs_background": "light"
     },
     "output_type": "display_data"
    }
   ],
   "source": [
    "plt.figure(figsize=(18,6))# command to control the figure size\n",
    "plt.plot(df_ap['Month'], df_ap['#Passengers'],marker=\"D\",markersize=5)\n",
    "plt.title('Line plot of monthly number of passengers in the airline')\n",
    "plt.xlabel('Month')\n",
    "plt.ylabel('Passengers')\n",
    "plt.xticks(range(0,144,12)) # to give selected values on x axis\n",
    "plt.show()"
   ]
  },
  {
   "cell_type": "markdown",
   "id": "51c9f947",
   "metadata": {
    "id": "OK1E4V2ldZHW"
   },
   "source": [
    "# Exploring categorical variables\n",
    "We can explore categorical variables using various plots like pie charts and count plots"
   ]
  },
  {
   "cell_type": "markdown",
   "id": "dc53fc32",
   "metadata": {
    "id": "8rdcxkTqkXsq"
   },
   "source": [
    "### Example\n",
    "> How are the cars distributed over different values of the doornumber feature?"
   ]
  },
  {
   "cell_type": "code",
   "execution_count": 61,
   "id": "fa5af82c",
   "metadata": {},
   "outputs": [],
   "source": [
    "doornumber_values=df[\"doornumber\"].value_counts().values\n",
    "doornumber_index=df[\"doornumber\"].value_counts().index"
   ]
  },
  {
   "cell_type": "code",
   "execution_count": 62,
   "id": "0715f7cc",
   "metadata": {},
   "outputs": [
    {
     "data": {
      "text/plain": [
       "array([108,  88])"
      ]
     },
     "execution_count": 62,
     "metadata": {},
     "output_type": "execute_result"
    }
   ],
   "source": [
    "doornumber_values"
   ]
  },
  {
   "cell_type": "code",
   "execution_count": 63,
   "id": "fbb595fb",
   "metadata": {},
   "outputs": [
    {
     "data": {
      "text/plain": [
       "Index(['four', 'two'], dtype='object')"
      ]
     },
     "execution_count": 63,
     "metadata": {},
     "output_type": "execute_result"
    }
   ],
   "source": [
    "doornumber_index"
   ]
  },
  {
   "cell_type": "code",
   "execution_count": 69,
   "id": "95c58030",
   "metadata": {
    "collapsed": true
   },
   "outputs": [
    {
     "data": {
      "image/png": "[encoded data removed]",
      "text/plain": [
       "<Figure size 432x288 with 1 Axes>"
      ]
     },
     "metadata": {},
     "output_type": "display_data"
    }
   ],
   "source": [
    "plt.pie(doornumber_values,labels=doornumber_index,autopct='%0.2f',colors=[\"red\",\"blue\"])\n",
    "plt.title('Pie chart of distribution of cars based on number of doors')\n",
    "plt.show()"
   ]
  },
  {
   "cell_type": "markdown",
   "id": "e288076e",
   "metadata": {
    "id": "9EcXP0EOiQRz"
   },
   "source": [
    "### Example\n",
    "The `matplotlib` library also provides an object oriented approach towards building graphs. Let us explore that while creating the count plot for carbody column.\n",
    "> How are the cars distributed over different values of the carbody feature?"
   ]
  },
  {
   "cell_type": "code",
   "execution_count": 70,
   "id": "c679d763",
   "metadata": {},
   "outputs": [],
   "source": [
    "carbody_values=df[\"carbody\"].value_counts().values\n",
    "carbody_index=df[\"carbody\"].value_counts().index"
   ]
  },
  {
   "cell_type": "code",
   "execution_count": 71,
   "id": "d81e0960",
   "metadata": {},
   "outputs": [
    {
     "data": {
      "image/png": "[encoded data removed]",
      "text/plain": [
       "<Figure size 432x288 with 1 Axes>"
      ]
     },
     "metadata": {},
     "output_type": "display_data"
    }
   ],
   "source": [
    "plt.pie(carbody_values,labels=carbody_index,autopct='%0.2f',colors=['red',\"green\",\"blue\",\"yellow\"])\n",
    "plt.title('Pie chart of distribution of cars based on number of doors')\n",
    "plt.show()"
   ]
  },
  {
   "cell_type": "markdown",
   "id": "f85af0fe",
   "metadata": {},
   "source": [
    "# Bar Graphs"
   ]
  },
  {
   "cell_type": "markdown",
   "id": "b8b176b0",
   "metadata": {
    "id": "swPGkGIXrj5w"
   },
   "source": [
    "### Example\n",
    "> What is the average price of different types of cars?"
   ]
  },
  {
   "cell_type": "code",
   "execution_count": 73,
   "id": "a8b70081",
   "metadata": {},
   "outputs": [],
   "source": [
    "average_values=df.groupby('carbody')['price'].mean().values\n",
    "average_index=df.groupby('carbody')['price'].mean().index"
   ]
  },
  {
   "cell_type": "code",
   "execution_count": 74,
   "id": "876a1cc8",
   "metadata": {},
   "outputs": [
    {
     "data": {
      "text/plain": [
       "array([21890.5       , 22208.5       , 10436.76328986, 14344.27083333,\n",
       "       12371.96      ])"
      ]
     },
     "execution_count": 74,
     "metadata": {},
     "output_type": "execute_result"
    }
   ],
   "source": [
    "average_values"
   ]
  },
  {
   "cell_type": "code",
   "execution_count": 75,
   "id": "7edb6960",
   "metadata": {},
   "outputs": [
    {
     "data": {
      "text/plain": [
       "Index(['convertible', 'hardtop', 'hatchback', 'sedan', 'wagon'], dtype='object', name='carbody')"
      ]
     },
     "execution_count": 75,
     "metadata": {},
     "output_type": "execute_result"
    }
   ],
   "source": [
    "average_index"
   ]
  },
  {
   "cell_type": "code",
   "execution_count": 80,
   "id": "77438749",
   "metadata": {},
   "outputs": [
    {
     "data": {
      "image/png": "[encoded data removed]",
      "text/plain": [
       "<Figure size 432x288 with 1 Axes>"
      ]
     },
     "metadata": {
      "needs_background": "light"
     },
     "output_type": "display_data"
    }
   ],
   "source": [
    "plt.bar(average_index,average_values)\n",
    "plt.title('Average price of different types of cars based on car body')\n",
    "plt.xlabel('carbody')\n",
    "plt.ylabel('price')\n",
    "plt.yticks(range(0,25000,2000))\n",
    "plt.show()"
   ]
  },
  {
   "cell_type": "code",
   "execution_count": 77,
   "id": "8048e650",
   "metadata": {},
   "outputs": [],
   "source": [
    "max_values=df.groupby('carbody')['price'].max().values\n",
    "max_index=df.groupby('carbody')['price'].max().index"
   ]
  },
  {
   "cell_type": "code",
   "execution_count": 78,
   "id": "dd51c7e9",
   "metadata": {
    "collapsed": true
   },
   "outputs": [
    {
     "data": {
      "image/png": "[encoded data removed]",
      "text/plain": [
       "<Figure size 432x288 with 1 Axes>"
      ]
     },
     "metadata": {
      "needs_background": "light"
     },
     "output_type": "display_data"
    }
   ],
   "source": [
    "plt.bar(max_index,max_values)\n",
    "plt.title('Max price of different types of cars based on car body')\n",
    "plt.xlabel('carbody')\n",
    "plt.ylabel('price')\n",
    "plt.show()"
   ]
  },
  {
   "cell_type": "code",
   "execution_count": null,
   "id": "59eed969",
   "metadata": {},
   "outputs": [],
   "source": []
  }
 ],
 "metadata": {
  "kernelspec": {
   "display_name": "Python 3",
   "language": "python",
   "name": "python3"
  },
  "language_info": {
   "codemirror_mode": {
    "name": "ipython",
    "version": 3
   },
   "file_extension": ".py",
   "mimetype": "text/x-python",
   "name": "python",
   "nbconvert_exporter": "python",
   "pygments_lexer": "ipython3",
   "version": "3.8.8"
  }
 },
 "nbformat": 4,
 "nbformat_minor": 5
}
