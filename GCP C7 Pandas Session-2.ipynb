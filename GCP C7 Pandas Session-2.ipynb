{
 "cells": [
  {
   "cell_type": "code",
   "execution_count": 1,
   "id": "c3c4b507",
   "metadata": {},
   "outputs": [],
   "source": [
    "import pandas as pd"
   ]
  },
  {
   "cell_type": "markdown",
   "id": "dd815797",
   "metadata": {
    "id": "hsBhViI85vXP"
   },
   "source": [
    "### Example\n",
    "Reading data into dataframes"
   ]
  },
  {
   "cell_type": "code",
   "execution_count": 2,
   "id": "9f665a17",
   "metadata": {},
   "outputs": [],
   "source": [
    "df = pd.read_csv('Buffet_Details.csv')"
   ]
  },
  {
   "cell_type": "code",
   "execution_count": 3,
   "id": "e0fbfefc",
   "metadata": {
    "collapsed": true
   },
   "outputs": [
    {
     "data": {
      "text/html": [
       "<div>\n",
       "<style scoped>\n",
       "    .dataframe tbody tr th:only-of-type {\n",
       "        vertical-align: middle;\n",
       "    }\n",
       "\n",
       "    .dataframe tbody tr th {\n",
       "        vertical-align: top;\n",
       "    }\n",
       "\n",
       "    .dataframe thead th {\n",
       "        text-align: right;\n",
       "    }\n",
       "</style>\n",
       "<table border=\"1\" class=\"dataframe\">\n",
       "  <thead>\n",
       "    <tr style=\"text-align: right;\">\n",
       "      <th></th>\n",
       "      <th>Room</th>\n",
       "      <th>Name</th>\n",
       "      <th>Age</th>\n",
       "      <th>Cuisine</th>\n",
       "      <th>Expenditure</th>\n",
       "    </tr>\n",
       "  </thead>\n",
       "  <tbody>\n",
       "    <tr>\n",
       "      <th>0</th>\n",
       "      <td>A1</td>\n",
       "      <td>Shilpa</td>\n",
       "      <td>18</td>\n",
       "      <td>Indian</td>\n",
       "      <td>24.65</td>\n",
       "    </tr>\n",
       "    <tr>\n",
       "      <th>1</th>\n",
       "      <td>A2</td>\n",
       "      <td>Jaspreet</td>\n",
       "      <td>32</td>\n",
       "      <td>American</td>\n",
       "      <td>18.54</td>\n",
       "    </tr>\n",
       "    <tr>\n",
       "      <th>2</th>\n",
       "      <td>A3</td>\n",
       "      <td>Dominic</td>\n",
       "      <td>19</td>\n",
       "      <td>Indian</td>\n",
       "      <td>27.66</td>\n",
       "    </tr>\n",
       "    <tr>\n",
       "      <th>3</th>\n",
       "      <td>A4</td>\n",
       "      <td>Ahmad</td>\n",
       "      <td>22</td>\n",
       "      <td>American</td>\n",
       "      <td>19.54</td>\n",
       "    </tr>\n",
       "    <tr>\n",
       "      <th>4</th>\n",
       "      <td>A5</td>\n",
       "      <td>Joseph</td>\n",
       "      <td>28</td>\n",
       "      <td>Indian</td>\n",
       "      <td>17.32</td>\n",
       "    </tr>\n",
       "    <tr>\n",
       "      <th>5</th>\n",
       "      <td>A6</td>\n",
       "      <td>Saju</td>\n",
       "      <td>31</td>\n",
       "      <td>Indian</td>\n",
       "      <td>12.56</td>\n",
       "    </tr>\n",
       "    <tr>\n",
       "      <th>6</th>\n",
       "      <td>A7</td>\n",
       "      <td>Monica</td>\n",
       "      <td>48</td>\n",
       "      <td>Chinese</td>\n",
       "      <td>11.09</td>\n",
       "    </tr>\n",
       "    <tr>\n",
       "      <th>7</th>\n",
       "      <td>A8</td>\n",
       "      <td>Preeti</td>\n",
       "      <td>67</td>\n",
       "      <td>American</td>\n",
       "      <td>12.23</td>\n",
       "    </tr>\n",
       "    <tr>\n",
       "      <th>8</th>\n",
       "      <td>A9</td>\n",
       "      <td>Emma</td>\n",
       "      <td>24</td>\n",
       "      <td>Indian</td>\n",
       "      <td>18.88</td>\n",
       "    </tr>\n",
       "    <tr>\n",
       "      <th>9</th>\n",
       "      <td>A10</td>\n",
       "      <td>Gaurav</td>\n",
       "      <td>29</td>\n",
       "      <td>Chinese</td>\n",
       "      <td>14.43</td>\n",
       "    </tr>\n",
       "  </tbody>\n",
       "</table>\n",
       "</div>"
      ],
      "text/plain": [
       "  Room      Name  Age   Cuisine  Expenditure\n",
       "0   A1    Shilpa   18    Indian        24.65\n",
       "1   A2  Jaspreet   32  American        18.54\n",
       "2   A3   Dominic   19    Indian        27.66\n",
       "3   A4     Ahmad   22  American        19.54\n",
       "4   A5    Joseph   28    Indian        17.32\n",
       "5   A6      Saju   31    Indian        12.56\n",
       "6   A7    Monica   48   Chinese        11.09\n",
       "7   A8    Preeti   67  American        12.23\n",
       "8   A9      Emma   24    Indian        18.88\n",
       "9  A10    Gaurav   29   Chinese        14.43"
      ]
     },
     "execution_count": 3,
     "metadata": {},
     "output_type": "execute_result"
    }
   ],
   "source": [
    "df"
   ]
  },
  {
   "cell_type": "code",
   "execution_count": 4,
   "id": "4c775f79",
   "metadata": {},
   "outputs": [
    {
     "data": {
      "text/plain": [
       "(10, 5)"
      ]
     },
     "execution_count": 4,
     "metadata": {},
     "output_type": "execute_result"
    }
   ],
   "source": [
    "df.shape"
   ]
  },
  {
   "cell_type": "code",
   "execution_count": 5,
   "id": "14061bbc",
   "metadata": {},
   "outputs": [
    {
     "data": {
      "text/plain": [
       "50"
      ]
     },
     "execution_count": 5,
     "metadata": {},
     "output_type": "execute_result"
    }
   ],
   "source": [
    "df.size"
   ]
  },
  {
   "cell_type": "code",
   "execution_count": 6,
   "id": "adb9dfbc",
   "metadata": {},
   "outputs": [
    {
     "data": {
      "text/plain": [
       "Index(['Room', 'Name', 'Age', 'Cuisine', 'Expenditure'], dtype='object')"
      ]
     },
     "execution_count": 6,
     "metadata": {},
     "output_type": "execute_result"
    }
   ],
   "source": [
    "df.columns"
   ]
  },
  {
   "cell_type": "code",
   "execution_count": 7,
   "id": "ab2567d9",
   "metadata": {},
   "outputs": [
    {
     "data": {
      "text/plain": [
       "RangeIndex(start=0, stop=10, step=1)"
      ]
     },
     "execution_count": 7,
     "metadata": {},
     "output_type": "execute_result"
    }
   ],
   "source": [
    "df.index"
   ]
  },
  {
   "cell_type": "code",
   "execution_count": 12,
   "id": "7ced620e",
   "metadata": {
    "collapsed": true
   },
   "outputs": [
    {
     "data": {
      "text/html": [
       "<div>\n",
       "<style scoped>\n",
       "    .dataframe tbody tr th:only-of-type {\n",
       "        vertical-align: middle;\n",
       "    }\n",
       "\n",
       "    .dataframe tbody tr th {\n",
       "        vertical-align: top;\n",
       "    }\n",
       "\n",
       "    .dataframe thead th {\n",
       "        text-align: right;\n",
       "    }\n",
       "</style>\n",
       "<table border=\"1\" class=\"dataframe\">\n",
       "  <thead>\n",
       "    <tr style=\"text-align: right;\">\n",
       "      <th></th>\n",
       "      <th>Room</th>\n",
       "      <th>Name</th>\n",
       "      <th>Age</th>\n",
       "      <th>Cuisine</th>\n",
       "      <th>Expenditure</th>\n",
       "    </tr>\n",
       "  </thead>\n",
       "  <tbody>\n",
       "    <tr>\n",
       "      <th>0</th>\n",
       "      <td>A1</td>\n",
       "      <td>Shilpa</td>\n",
       "      <td>18</td>\n",
       "      <td>Indian</td>\n",
       "      <td>24.65</td>\n",
       "    </tr>\n",
       "    <tr>\n",
       "      <th>1</th>\n",
       "      <td>A2</td>\n",
       "      <td>Jaspreet</td>\n",
       "      <td>32</td>\n",
       "      <td>American</td>\n",
       "      <td>18.54</td>\n",
       "    </tr>\n",
       "    <tr>\n",
       "      <th>2</th>\n",
       "      <td>A3</td>\n",
       "      <td>Dominic</td>\n",
       "      <td>19</td>\n",
       "      <td>Indian</td>\n",
       "      <td>27.66</td>\n",
       "    </tr>\n",
       "    <tr>\n",
       "      <th>3</th>\n",
       "      <td>A4</td>\n",
       "      <td>Ahmad</td>\n",
       "      <td>22</td>\n",
       "      <td>American</td>\n",
       "      <td>19.54</td>\n",
       "    </tr>\n",
       "    <tr>\n",
       "      <th>4</th>\n",
       "      <td>A5</td>\n",
       "      <td>Joseph</td>\n",
       "      <td>28</td>\n",
       "      <td>Indian</td>\n",
       "      <td>17.32</td>\n",
       "    </tr>\n",
       "  </tbody>\n",
       "</table>\n",
       "</div>"
      ],
      "text/plain": [
       "  Room      Name  Age   Cuisine  Expenditure\n",
       "0   A1    Shilpa   18    Indian        24.65\n",
       "1   A2  Jaspreet   32  American        18.54\n",
       "2   A3   Dominic   19    Indian        27.66\n",
       "3   A4     Ahmad   22  American        19.54\n",
       "4   A5    Joseph   28    Indian        17.32"
      ]
     },
     "execution_count": 12,
     "metadata": {},
     "output_type": "execute_result"
    }
   ],
   "source": [
    "df.head()"
   ]
  },
  {
   "cell_type": "code",
   "execution_count": 15,
   "id": "818556ca",
   "metadata": {
    "collapsed": true
   },
   "outputs": [
    {
     "data": {
      "text/html": [
       "<div>\n",
       "<style scoped>\n",
       "    .dataframe tbody tr th:only-of-type {\n",
       "        vertical-align: middle;\n",
       "    }\n",
       "\n",
       "    .dataframe tbody tr th {\n",
       "        vertical-align: top;\n",
       "    }\n",
       "\n",
       "    .dataframe thead th {\n",
       "        text-align: right;\n",
       "    }\n",
       "</style>\n",
       "<table border=\"1\" class=\"dataframe\">\n",
       "  <thead>\n",
       "    <tr style=\"text-align: right;\">\n",
       "      <th></th>\n",
       "      <th>Room</th>\n",
       "      <th>Name</th>\n",
       "      <th>Age</th>\n",
       "      <th>Cuisine</th>\n",
       "      <th>Expenditure</th>\n",
       "    </tr>\n",
       "  </thead>\n",
       "  <tbody>\n",
       "    <tr>\n",
       "      <th>7</th>\n",
       "      <td>A8</td>\n",
       "      <td>Preeti</td>\n",
       "      <td>67</td>\n",
       "      <td>American</td>\n",
       "      <td>12.23</td>\n",
       "    </tr>\n",
       "    <tr>\n",
       "      <th>8</th>\n",
       "      <td>A9</td>\n",
       "      <td>Emma</td>\n",
       "      <td>24</td>\n",
       "      <td>Indian</td>\n",
       "      <td>18.88</td>\n",
       "    </tr>\n",
       "    <tr>\n",
       "      <th>9</th>\n",
       "      <td>A10</td>\n",
       "      <td>Gaurav</td>\n",
       "      <td>29</td>\n",
       "      <td>Chinese</td>\n",
       "      <td>14.43</td>\n",
       "    </tr>\n",
       "  </tbody>\n",
       "</table>\n",
       "</div>"
      ],
      "text/plain": [
       "  Room    Name  Age   Cuisine  Expenditure\n",
       "7   A8  Preeti   67  American        12.23\n",
       "8   A9    Emma   24    Indian        18.88\n",
       "9  A10  Gaurav   29   Chinese        14.43"
      ]
     },
     "execution_count": 15,
     "metadata": {},
     "output_type": "execute_result"
    }
   ],
   "source": [
    "df.tail(3)"
   ]
  },
  {
   "cell_type": "code",
   "execution_count": 16,
   "id": "8d5a34c3",
   "metadata": {},
   "outputs": [],
   "source": [
    "df = pd.read_csv('Buffet_Details.csv',index_col=\"Room\")"
   ]
  },
  {
   "cell_type": "code",
   "execution_count": 17,
   "id": "e936c817",
   "metadata": {
    "collapsed": true
   },
   "outputs": [
    {
     "data": {
      "text/html": [
       "<div>\n",
       "<style scoped>\n",
       "    .dataframe tbody tr th:only-of-type {\n",
       "        vertical-align: middle;\n",
       "    }\n",
       "\n",
       "    .dataframe tbody tr th {\n",
       "        vertical-align: top;\n",
       "    }\n",
       "\n",
       "    .dataframe thead th {\n",
       "        text-align: right;\n",
       "    }\n",
       "</style>\n",
       "<table border=\"1\" class=\"dataframe\">\n",
       "  <thead>\n",
       "    <tr style=\"text-align: right;\">\n",
       "      <th></th>\n",
       "      <th>Name</th>\n",
       "      <th>Age</th>\n",
       "      <th>Cuisine</th>\n",
       "      <th>Expenditure</th>\n",
       "    </tr>\n",
       "    <tr>\n",
       "      <th>Room</th>\n",
       "      <th></th>\n",
       "      <th></th>\n",
       "      <th></th>\n",
       "      <th></th>\n",
       "    </tr>\n",
       "  </thead>\n",
       "  <tbody>\n",
       "    <tr>\n",
       "      <th>A1</th>\n",
       "      <td>Shilpa</td>\n",
       "      <td>18</td>\n",
       "      <td>Indian</td>\n",
       "      <td>24.65</td>\n",
       "    </tr>\n",
       "    <tr>\n",
       "      <th>A2</th>\n",
       "      <td>Jaspreet</td>\n",
       "      <td>32</td>\n",
       "      <td>American</td>\n",
       "      <td>18.54</td>\n",
       "    </tr>\n",
       "    <tr>\n",
       "      <th>A3</th>\n",
       "      <td>Dominic</td>\n",
       "      <td>19</td>\n",
       "      <td>Indian</td>\n",
       "      <td>27.66</td>\n",
       "    </tr>\n",
       "    <tr>\n",
       "      <th>A4</th>\n",
       "      <td>Ahmad</td>\n",
       "      <td>22</td>\n",
       "      <td>American</td>\n",
       "      <td>19.54</td>\n",
       "    </tr>\n",
       "    <tr>\n",
       "      <th>A5</th>\n",
       "      <td>Joseph</td>\n",
       "      <td>28</td>\n",
       "      <td>Indian</td>\n",
       "      <td>17.32</td>\n",
       "    </tr>\n",
       "    <tr>\n",
       "      <th>A6</th>\n",
       "      <td>Saju</td>\n",
       "      <td>31</td>\n",
       "      <td>Indian</td>\n",
       "      <td>12.56</td>\n",
       "    </tr>\n",
       "    <tr>\n",
       "      <th>A7</th>\n",
       "      <td>Monica</td>\n",
       "      <td>48</td>\n",
       "      <td>Chinese</td>\n",
       "      <td>11.09</td>\n",
       "    </tr>\n",
       "    <tr>\n",
       "      <th>A8</th>\n",
       "      <td>Preeti</td>\n",
       "      <td>67</td>\n",
       "      <td>American</td>\n",
       "      <td>12.23</td>\n",
       "    </tr>\n",
       "    <tr>\n",
       "      <th>A9</th>\n",
       "      <td>Emma</td>\n",
       "      <td>24</td>\n",
       "      <td>Indian</td>\n",
       "      <td>18.88</td>\n",
       "    </tr>\n",
       "    <tr>\n",
       "      <th>A10</th>\n",
       "      <td>Gaurav</td>\n",
       "      <td>29</td>\n",
       "      <td>Chinese</td>\n",
       "      <td>14.43</td>\n",
       "    </tr>\n",
       "  </tbody>\n",
       "</table>\n",
       "</div>"
      ],
      "text/plain": [
       "          Name  Age   Cuisine  Expenditure\n",
       "Room                                      \n",
       "A1      Shilpa   18    Indian        24.65\n",
       "A2    Jaspreet   32  American        18.54\n",
       "A3     Dominic   19    Indian        27.66\n",
       "A4       Ahmad   22  American        19.54\n",
       "A5      Joseph   28    Indian        17.32\n",
       "A6        Saju   31    Indian        12.56\n",
       "A7      Monica   48   Chinese        11.09\n",
       "A8      Preeti   67  American        12.23\n",
       "A9        Emma   24    Indian        18.88\n",
       "A10     Gaurav   29   Chinese        14.43"
      ]
     },
     "execution_count": 17,
     "metadata": {},
     "output_type": "execute_result"
    }
   ],
   "source": [
    "df"
   ]
  },
  {
   "cell_type": "code",
   "execution_count": 18,
   "id": "015ee9d8",
   "metadata": {},
   "outputs": [
    {
     "data": {
      "text/plain": [
       "Index(['A1', 'A2', 'A3', 'A4', 'A5', 'A6', 'A7', 'A8', 'A9', 'A10'], dtype='object', name='Room')"
      ]
     },
     "execution_count": 18,
     "metadata": {},
     "output_type": "execute_result"
    }
   ],
   "source": [
    "df.index"
   ]
  },
  {
   "cell_type": "markdown",
   "id": "f4ff40e3",
   "metadata": {
    "id": "VKUG-bgF5vXT"
   },
   "source": [
    "### Quiz\n",
    "Load the file `carprices.csv` into a dataframe `df_cars` and study it. Use car_ID as index column."
   ]
  },
  {
   "cell_type": "code",
   "execution_count": 19,
   "id": "c1bdc821",
   "metadata": {
    "collapsed": true
   },
   "outputs": [
    {
     "data": {
      "text/html": [
       "<div>\n",
       "<style scoped>\n",
       "    .dataframe tbody tr th:only-of-type {\n",
       "        vertical-align: middle;\n",
       "    }\n",
       "\n",
       "    .dataframe tbody tr th {\n",
       "        vertical-align: top;\n",
       "    }\n",
       "\n",
       "    .dataframe thead th {\n",
       "        text-align: right;\n",
       "    }\n",
       "</style>\n",
       "<table border=\"1\" class=\"dataframe\">\n",
       "  <thead>\n",
       "    <tr style=\"text-align: right;\">\n",
       "      <th></th>\n",
       "      <th>symboling</th>\n",
       "      <th>carname</th>\n",
       "      <th>doornumber</th>\n",
       "      <th>carbody</th>\n",
       "      <th>enginelocation</th>\n",
       "      <th>wheelbase</th>\n",
       "      <th>carlength</th>\n",
       "      <th>carwidth</th>\n",
       "      <th>carheight</th>\n",
       "      <th>curbweight</th>\n",
       "      <th>cylindernumber</th>\n",
       "      <th>enginesize</th>\n",
       "      <th>boreratio</th>\n",
       "      <th>stroke</th>\n",
       "      <th>compressionratio</th>\n",
       "      <th>horsepower</th>\n",
       "      <th>peakrpm</th>\n",
       "      <th>citympg</th>\n",
       "      <th>highwaympg</th>\n",
       "      <th>price</th>\n",
       "    </tr>\n",
       "    <tr>\n",
       "      <th>car_ID</th>\n",
       "      <th></th>\n",
       "      <th></th>\n",
       "      <th></th>\n",
       "      <th></th>\n",
       "      <th></th>\n",
       "      <th></th>\n",
       "      <th></th>\n",
       "      <th></th>\n",
       "      <th></th>\n",
       "      <th></th>\n",
       "      <th></th>\n",
       "      <th></th>\n",
       "      <th></th>\n",
       "      <th></th>\n",
       "      <th></th>\n",
       "      <th></th>\n",
       "      <th></th>\n",
       "      <th></th>\n",
       "      <th></th>\n",
       "      <th></th>\n",
       "    </tr>\n",
       "  </thead>\n",
       "  <tbody>\n",
       "    <tr>\n",
       "      <th>1</th>\n",
       "      <td>3</td>\n",
       "      <td>alfa-romero giulia</td>\n",
       "      <td>two</td>\n",
       "      <td>convertible</td>\n",
       "      <td>front</td>\n",
       "      <td>88.6</td>\n",
       "      <td>168.8</td>\n",
       "      <td>64.1</td>\n",
       "      <td>48.8</td>\n",
       "      <td>2548</td>\n",
       "      <td>four</td>\n",
       "      <td>130</td>\n",
       "      <td>3.47</td>\n",
       "      <td>2.68</td>\n",
       "      <td>9.0</td>\n",
       "      <td>111</td>\n",
       "      <td>5000</td>\n",
       "      <td>21</td>\n",
       "      <td>27</td>\n",
       "      <td>13495.0</td>\n",
       "    </tr>\n",
       "    <tr>\n",
       "      <th>2</th>\n",
       "      <td>3</td>\n",
       "      <td>alfa-romero stelvio</td>\n",
       "      <td>two</td>\n",
       "      <td>convertible</td>\n",
       "      <td>front</td>\n",
       "      <td>88.6</td>\n",
       "      <td>168.8</td>\n",
       "      <td>64.1</td>\n",
       "      <td>48.8</td>\n",
       "      <td>2548</td>\n",
       "      <td>four</td>\n",
       "      <td>130</td>\n",
       "      <td>3.47</td>\n",
       "      <td>2.68</td>\n",
       "      <td>9.0</td>\n",
       "      <td>111</td>\n",
       "      <td>5000</td>\n",
       "      <td>21</td>\n",
       "      <td>27</td>\n",
       "      <td>16500.0</td>\n",
       "    </tr>\n",
       "    <tr>\n",
       "      <th>3</th>\n",
       "      <td>1</td>\n",
       "      <td>alfa-romero Quadrifoglio</td>\n",
       "      <td>two</td>\n",
       "      <td>hatchback</td>\n",
       "      <td>front</td>\n",
       "      <td>94.5</td>\n",
       "      <td>171.2</td>\n",
       "      <td>65.5</td>\n",
       "      <td>52.4</td>\n",
       "      <td>2823</td>\n",
       "      <td>six</td>\n",
       "      <td>152</td>\n",
       "      <td>2.68</td>\n",
       "      <td>3.47</td>\n",
       "      <td>9.0</td>\n",
       "      <td>154</td>\n",
       "      <td>5000</td>\n",
       "      <td>19</td>\n",
       "      <td>26</td>\n",
       "      <td>16500.0</td>\n",
       "    </tr>\n",
       "    <tr>\n",
       "      <th>4</th>\n",
       "      <td>2</td>\n",
       "      <td>audi 100 ls</td>\n",
       "      <td>four</td>\n",
       "      <td>sedan</td>\n",
       "      <td>front</td>\n",
       "      <td>99.8</td>\n",
       "      <td>176.6</td>\n",
       "      <td>66.2</td>\n",
       "      <td>54.3</td>\n",
       "      <td>2337</td>\n",
       "      <td>four</td>\n",
       "      <td>109</td>\n",
       "      <td>3.19</td>\n",
       "      <td>3.40</td>\n",
       "      <td>10.0</td>\n",
       "      <td>102</td>\n",
       "      <td>5500</td>\n",
       "      <td>24</td>\n",
       "      <td>30</td>\n",
       "      <td>13950.0</td>\n",
       "    </tr>\n",
       "    <tr>\n",
       "      <th>5</th>\n",
       "      <td>2</td>\n",
       "      <td>audi 100ls</td>\n",
       "      <td>four</td>\n",
       "      <td>sedan</td>\n",
       "      <td>front</td>\n",
       "      <td>99.4</td>\n",
       "      <td>176.6</td>\n",
       "      <td>66.4</td>\n",
       "      <td>54.3</td>\n",
       "      <td>2824</td>\n",
       "      <td>five</td>\n",
       "      <td>136</td>\n",
       "      <td>3.19</td>\n",
       "      <td>3.40</td>\n",
       "      <td>8.0</td>\n",
       "      <td>115</td>\n",
       "      <td>5500</td>\n",
       "      <td>18</td>\n",
       "      <td>22</td>\n",
       "      <td>17450.0</td>\n",
       "    </tr>\n",
       "    <tr>\n",
       "      <th>...</th>\n",
       "      <td>...</td>\n",
       "      <td>...</td>\n",
       "      <td>...</td>\n",
       "      <td>...</td>\n",
       "      <td>...</td>\n",
       "      <td>...</td>\n",
       "      <td>...</td>\n",
       "      <td>...</td>\n",
       "      <td>...</td>\n",
       "      <td>...</td>\n",
       "      <td>...</td>\n",
       "      <td>...</td>\n",
       "      <td>...</td>\n",
       "      <td>...</td>\n",
       "      <td>...</td>\n",
       "      <td>...</td>\n",
       "      <td>...</td>\n",
       "      <td>...</td>\n",
       "      <td>...</td>\n",
       "      <td>...</td>\n",
       "    </tr>\n",
       "    <tr>\n",
       "      <th>201</th>\n",
       "      <td>-1</td>\n",
       "      <td>volvo 145e (sw)</td>\n",
       "      <td>four</td>\n",
       "      <td>sedan</td>\n",
       "      <td>front</td>\n",
       "      <td>109.1</td>\n",
       "      <td>188.8</td>\n",
       "      <td>68.9</td>\n",
       "      <td>55.5</td>\n",
       "      <td>2952</td>\n",
       "      <td>four</td>\n",
       "      <td>141</td>\n",
       "      <td>3.78</td>\n",
       "      <td>3.15</td>\n",
       "      <td>9.5</td>\n",
       "      <td>114</td>\n",
       "      <td>5400</td>\n",
       "      <td>23</td>\n",
       "      <td>28</td>\n",
       "      <td>16845.0</td>\n",
       "    </tr>\n",
       "    <tr>\n",
       "      <th>202</th>\n",
       "      <td>-1</td>\n",
       "      <td>volvo 144ea</td>\n",
       "      <td>four</td>\n",
       "      <td>sedan</td>\n",
       "      <td>front</td>\n",
       "      <td>109.1</td>\n",
       "      <td>188.8</td>\n",
       "      <td>68.8</td>\n",
       "      <td>55.5</td>\n",
       "      <td>3049</td>\n",
       "      <td>four</td>\n",
       "      <td>141</td>\n",
       "      <td>3.78</td>\n",
       "      <td>3.15</td>\n",
       "      <td>8.7</td>\n",
       "      <td>160</td>\n",
       "      <td>5300</td>\n",
       "      <td>19</td>\n",
       "      <td>25</td>\n",
       "      <td>19045.0</td>\n",
       "    </tr>\n",
       "    <tr>\n",
       "      <th>203</th>\n",
       "      <td>-1</td>\n",
       "      <td>volvo 244dl</td>\n",
       "      <td>four</td>\n",
       "      <td>sedan</td>\n",
       "      <td>front</td>\n",
       "      <td>109.1</td>\n",
       "      <td>188.8</td>\n",
       "      <td>68.9</td>\n",
       "      <td>55.5</td>\n",
       "      <td>3012</td>\n",
       "      <td>six</td>\n",
       "      <td>173</td>\n",
       "      <td>3.58</td>\n",
       "      <td>2.87</td>\n",
       "      <td>8.8</td>\n",
       "      <td>134</td>\n",
       "      <td>5500</td>\n",
       "      <td>18</td>\n",
       "      <td>23</td>\n",
       "      <td>21485.0</td>\n",
       "    </tr>\n",
       "    <tr>\n",
       "      <th>204</th>\n",
       "      <td>-1</td>\n",
       "      <td>volvo 246</td>\n",
       "      <td>four</td>\n",
       "      <td>sedan</td>\n",
       "      <td>front</td>\n",
       "      <td>109.1</td>\n",
       "      <td>188.8</td>\n",
       "      <td>68.9</td>\n",
       "      <td>55.5</td>\n",
       "      <td>3217</td>\n",
       "      <td>six</td>\n",
       "      <td>145</td>\n",
       "      <td>3.01</td>\n",
       "      <td>3.40</td>\n",
       "      <td>23.0</td>\n",
       "      <td>106</td>\n",
       "      <td>4800</td>\n",
       "      <td>26</td>\n",
       "      <td>27</td>\n",
       "      <td>22470.0</td>\n",
       "    </tr>\n",
       "    <tr>\n",
       "      <th>205</th>\n",
       "      <td>-1</td>\n",
       "      <td>volvo 264gl</td>\n",
       "      <td>four</td>\n",
       "      <td>sedan</td>\n",
       "      <td>front</td>\n",
       "      <td>109.1</td>\n",
       "      <td>188.8</td>\n",
       "      <td>68.9</td>\n",
       "      <td>55.5</td>\n",
       "      <td>3062</td>\n",
       "      <td>four</td>\n",
       "      <td>141</td>\n",
       "      <td>3.78</td>\n",
       "      <td>3.15</td>\n",
       "      <td>9.5</td>\n",
       "      <td>114</td>\n",
       "      <td>5400</td>\n",
       "      <td>19</td>\n",
       "      <td>25</td>\n",
       "      <td>22625.0</td>\n",
       "    </tr>\n",
       "  </tbody>\n",
       "</table>\n",
       "<p>205 rows × 20 columns</p>\n",
       "</div>"
      ],
      "text/plain": [
       "        symboling                   carname doornumber      carbody  \\\n",
       "car_ID                                                                \n",
       "1               3        alfa-romero giulia        two  convertible   \n",
       "2               3       alfa-romero stelvio        two  convertible   \n",
       "3               1  alfa-romero Quadrifoglio        two    hatchback   \n",
       "4               2               audi 100 ls       four        sedan   \n",
       "5               2                audi 100ls       four        sedan   \n",
       "...           ...                       ...        ...          ...   \n",
       "201            -1           volvo 145e (sw)       four        sedan   \n",
       "202            -1               volvo 144ea       four        sedan   \n",
       "203            -1               volvo 244dl       four        sedan   \n",
       "204            -1                 volvo 246       four        sedan   \n",
       "205            -1               volvo 264gl       four        sedan   \n",
       "\n",
       "       enginelocation  wheelbase  carlength  carwidth  carheight  curbweight  \\\n",
       "car_ID                                                                         \n",
       "1               front       88.6      168.8      64.1       48.8        2548   \n",
       "2               front       88.6      168.8      64.1       48.8        2548   \n",
       "3               front       94.5      171.2      65.5       52.4        2823   \n",
       "4               front       99.8      176.6      66.2       54.3        2337   \n",
       "5               front       99.4      176.6      66.4       54.3        2824   \n",
       "...               ...        ...        ...       ...        ...         ...   \n",
       "201             front      109.1      188.8      68.9       55.5        2952   \n",
       "202             front      109.1      188.8      68.8       55.5        3049   \n",
       "203             front      109.1      188.8      68.9       55.5        3012   \n",
       "204             front      109.1      188.8      68.9       55.5        3217   \n",
       "205             front      109.1      188.8      68.9       55.5        3062   \n",
       "\n",
       "       cylindernumber  enginesize  boreratio  stroke  compressionratio  \\\n",
       "car_ID                                                                   \n",
       "1                four         130       3.47    2.68               9.0   \n",
       "2                four         130       3.47    2.68               9.0   \n",
       "3                 six         152       2.68    3.47               9.0   \n",
       "4                four         109       3.19    3.40              10.0   \n",
       "5                five         136       3.19    3.40               8.0   \n",
       "...               ...         ...        ...     ...               ...   \n",
       "201              four         141       3.78    3.15               9.5   \n",
       "202              four         141       3.78    3.15               8.7   \n",
       "203               six         173       3.58    2.87               8.8   \n",
       "204               six         145       3.01    3.40              23.0   \n",
       "205              four         141       3.78    3.15               9.5   \n",
       "\n",
       "        horsepower  peakrpm  citympg  highwaympg    price  \n",
       "car_ID                                                     \n",
       "1              111     5000       21          27  13495.0  \n",
       "2              111     5000       21          27  16500.0  \n",
       "3              154     5000       19          26  16500.0  \n",
       "4              102     5500       24          30  13950.0  \n",
       "5              115     5500       18          22  17450.0  \n",
       "...            ...      ...      ...         ...      ...  \n",
       "201            114     5400       23          28  16845.0  \n",
       "202            160     5300       19          25  19045.0  \n",
       "203            134     5500       18          23  21485.0  \n",
       "204            106     4800       26          27  22470.0  \n",
       "205            114     5400       19          25  22625.0  \n",
       "\n",
       "[205 rows x 20 columns]"
      ]
     },
     "execution_count": 19,
     "metadata": {},
     "output_type": "execute_result"
    }
   ],
   "source": [
    "df_cars = pd.read_csv('carprices.csv',index_col=\"car_ID\")\n",
    "df_cars"
   ]
  },
  {
   "cell_type": "code",
   "execution_count": 20,
   "id": "f5358cd6",
   "metadata": {},
   "outputs": [
    {
     "data": {
      "text/plain": [
       "(205, 20)"
      ]
     },
     "execution_count": 20,
     "metadata": {},
     "output_type": "execute_result"
    }
   ],
   "source": [
    "df_cars.shape\n",
    "# no. of rows, no. of columns"
   ]
  },
  {
   "cell_type": "code",
   "execution_count": 21,
   "id": "82c522e8",
   "metadata": {},
   "outputs": [
    {
     "data": {
      "text/plain": [
       "4100"
      ]
     },
     "execution_count": 21,
     "metadata": {},
     "output_type": "execute_result"
    }
   ],
   "source": [
    "df_cars.size\n",
    "# no. of elements"
   ]
  },
  {
   "cell_type": "code",
   "execution_count": 22,
   "id": "de7aeb9c",
   "metadata": {
    "collapsed": true
   },
   "outputs": [
    {
     "data": {
      "text/plain": [
       "Index(['symboling', 'carname', 'doornumber', 'carbody', 'enginelocation',\n",
       "       'wheelbase', 'carlength', 'carwidth', 'carheight', 'curbweight',\n",
       "       'cylindernumber', 'enginesize', 'boreratio', 'stroke',\n",
       "       'compressionratio', 'horsepower', 'peakrpm', 'citympg', 'highwaympg',\n",
       "       'price'],\n",
       "      dtype='object')"
      ]
     },
     "execution_count": 22,
     "metadata": {},
     "output_type": "execute_result"
    }
   ],
   "source": [
    "df_cars.columns"
   ]
  },
  {
   "cell_type": "code",
   "execution_count": 23,
   "id": "3b009508",
   "metadata": {
    "collapsed": true
   },
   "outputs": [
    {
     "data": {
      "text/plain": [
       "Int64Index([  1,   2,   3,   4,   5,   6,   7,   8,   9,  10,\n",
       "            ...\n",
       "            196, 197, 198, 199, 200, 201, 202, 203, 204, 205],\n",
       "           dtype='int64', name='car_ID', length=205)"
      ]
     },
     "execution_count": 23,
     "metadata": {},
     "output_type": "execute_result"
    }
   ],
   "source": [
    "df_cars.index"
   ]
  },
  {
   "cell_type": "code",
   "execution_count": 24,
   "id": "cc1c8365",
   "metadata": {
    "collapsed": true
   },
   "outputs": [
    {
     "data": {
      "text/html": [
       "<div>\n",
       "<style scoped>\n",
       "    .dataframe tbody tr th:only-of-type {\n",
       "        vertical-align: middle;\n",
       "    }\n",
       "\n",
       "    .dataframe tbody tr th {\n",
       "        vertical-align: top;\n",
       "    }\n",
       "\n",
       "    .dataframe thead th {\n",
       "        text-align: right;\n",
       "    }\n",
       "</style>\n",
       "<table border=\"1\" class=\"dataframe\">\n",
       "  <thead>\n",
       "    <tr style=\"text-align: right;\">\n",
       "      <th></th>\n",
       "      <th>symboling</th>\n",
       "      <th>carname</th>\n",
       "      <th>doornumber</th>\n",
       "      <th>carbody</th>\n",
       "      <th>enginelocation</th>\n",
       "      <th>wheelbase</th>\n",
       "      <th>carlength</th>\n",
       "      <th>carwidth</th>\n",
       "      <th>carheight</th>\n",
       "      <th>curbweight</th>\n",
       "      <th>cylindernumber</th>\n",
       "      <th>enginesize</th>\n",
       "      <th>boreratio</th>\n",
       "      <th>stroke</th>\n",
       "      <th>compressionratio</th>\n",
       "      <th>horsepower</th>\n",
       "      <th>peakrpm</th>\n",
       "      <th>citympg</th>\n",
       "      <th>highwaympg</th>\n",
       "      <th>price</th>\n",
       "    </tr>\n",
       "    <tr>\n",
       "      <th>car_ID</th>\n",
       "      <th></th>\n",
       "      <th></th>\n",
       "      <th></th>\n",
       "      <th></th>\n",
       "      <th></th>\n",
       "      <th></th>\n",
       "      <th></th>\n",
       "      <th></th>\n",
       "      <th></th>\n",
       "      <th></th>\n",
       "      <th></th>\n",
       "      <th></th>\n",
       "      <th></th>\n",
       "      <th></th>\n",
       "      <th></th>\n",
       "      <th></th>\n",
       "      <th></th>\n",
       "      <th></th>\n",
       "      <th></th>\n",
       "      <th></th>\n",
       "    </tr>\n",
       "  </thead>\n",
       "  <tbody>\n",
       "    <tr>\n",
       "      <th>1</th>\n",
       "      <td>3</td>\n",
       "      <td>alfa-romero giulia</td>\n",
       "      <td>two</td>\n",
       "      <td>convertible</td>\n",
       "      <td>front</td>\n",
       "      <td>88.6</td>\n",
       "      <td>168.8</td>\n",
       "      <td>64.1</td>\n",
       "      <td>48.8</td>\n",
       "      <td>2548</td>\n",
       "      <td>four</td>\n",
       "      <td>130</td>\n",
       "      <td>3.47</td>\n",
       "      <td>2.68</td>\n",
       "      <td>9.0</td>\n",
       "      <td>111</td>\n",
       "      <td>5000</td>\n",
       "      <td>21</td>\n",
       "      <td>27</td>\n",
       "      <td>13495.0</td>\n",
       "    </tr>\n",
       "    <tr>\n",
       "      <th>2</th>\n",
       "      <td>3</td>\n",
       "      <td>alfa-romero stelvio</td>\n",
       "      <td>two</td>\n",
       "      <td>convertible</td>\n",
       "      <td>front</td>\n",
       "      <td>88.6</td>\n",
       "      <td>168.8</td>\n",
       "      <td>64.1</td>\n",
       "      <td>48.8</td>\n",
       "      <td>2548</td>\n",
       "      <td>four</td>\n",
       "      <td>130</td>\n",
       "      <td>3.47</td>\n",
       "      <td>2.68</td>\n",
       "      <td>9.0</td>\n",
       "      <td>111</td>\n",
       "      <td>5000</td>\n",
       "      <td>21</td>\n",
       "      <td>27</td>\n",
       "      <td>16500.0</td>\n",
       "    </tr>\n",
       "    <tr>\n",
       "      <th>3</th>\n",
       "      <td>1</td>\n",
       "      <td>alfa-romero Quadrifoglio</td>\n",
       "      <td>two</td>\n",
       "      <td>hatchback</td>\n",
       "      <td>front</td>\n",
       "      <td>94.5</td>\n",
       "      <td>171.2</td>\n",
       "      <td>65.5</td>\n",
       "      <td>52.4</td>\n",
       "      <td>2823</td>\n",
       "      <td>six</td>\n",
       "      <td>152</td>\n",
       "      <td>2.68</td>\n",
       "      <td>3.47</td>\n",
       "      <td>9.0</td>\n",
       "      <td>154</td>\n",
       "      <td>5000</td>\n",
       "      <td>19</td>\n",
       "      <td>26</td>\n",
       "      <td>16500.0</td>\n",
       "    </tr>\n",
       "    <tr>\n",
       "      <th>4</th>\n",
       "      <td>2</td>\n",
       "      <td>audi 100 ls</td>\n",
       "      <td>four</td>\n",
       "      <td>sedan</td>\n",
       "      <td>front</td>\n",
       "      <td>99.8</td>\n",
       "      <td>176.6</td>\n",
       "      <td>66.2</td>\n",
       "      <td>54.3</td>\n",
       "      <td>2337</td>\n",
       "      <td>four</td>\n",
       "      <td>109</td>\n",
       "      <td>3.19</td>\n",
       "      <td>3.40</td>\n",
       "      <td>10.0</td>\n",
       "      <td>102</td>\n",
       "      <td>5500</td>\n",
       "      <td>24</td>\n",
       "      <td>30</td>\n",
       "      <td>13950.0</td>\n",
       "    </tr>\n",
       "    <tr>\n",
       "      <th>5</th>\n",
       "      <td>2</td>\n",
       "      <td>audi 100ls</td>\n",
       "      <td>four</td>\n",
       "      <td>sedan</td>\n",
       "      <td>front</td>\n",
       "      <td>99.4</td>\n",
       "      <td>176.6</td>\n",
       "      <td>66.4</td>\n",
       "      <td>54.3</td>\n",
       "      <td>2824</td>\n",
       "      <td>five</td>\n",
       "      <td>136</td>\n",
       "      <td>3.19</td>\n",
       "      <td>3.40</td>\n",
       "      <td>8.0</td>\n",
       "      <td>115</td>\n",
       "      <td>5500</td>\n",
       "      <td>18</td>\n",
       "      <td>22</td>\n",
       "      <td>17450.0</td>\n",
       "    </tr>\n",
       "  </tbody>\n",
       "</table>\n",
       "</div>"
      ],
      "text/plain": [
       "        symboling                   carname doornumber      carbody  \\\n",
       "car_ID                                                                \n",
       "1               3        alfa-romero giulia        two  convertible   \n",
       "2               3       alfa-romero stelvio        two  convertible   \n",
       "3               1  alfa-romero Quadrifoglio        two    hatchback   \n",
       "4               2               audi 100 ls       four        sedan   \n",
       "5               2                audi 100ls       four        sedan   \n",
       "\n",
       "       enginelocation  wheelbase  carlength  carwidth  carheight  curbweight  \\\n",
       "car_ID                                                                         \n",
       "1               front       88.6      168.8      64.1       48.8        2548   \n",
       "2               front       88.6      168.8      64.1       48.8        2548   \n",
       "3               front       94.5      171.2      65.5       52.4        2823   \n",
       "4               front       99.8      176.6      66.2       54.3        2337   \n",
       "5               front       99.4      176.6      66.4       54.3        2824   \n",
       "\n",
       "       cylindernumber  enginesize  boreratio  stroke  compressionratio  \\\n",
       "car_ID                                                                   \n",
       "1                four         130       3.47    2.68               9.0   \n",
       "2                four         130       3.47    2.68               9.0   \n",
       "3                 six         152       2.68    3.47               9.0   \n",
       "4                four         109       3.19    3.40              10.0   \n",
       "5                five         136       3.19    3.40               8.0   \n",
       "\n",
       "        horsepower  peakrpm  citympg  highwaympg    price  \n",
       "car_ID                                                     \n",
       "1              111     5000       21          27  13495.0  \n",
       "2              111     5000       21          27  16500.0  \n",
       "3              154     5000       19          26  16500.0  \n",
       "4              102     5500       24          30  13950.0  \n",
       "5              115     5500       18          22  17450.0  "
      ]
     },
     "execution_count": 24,
     "metadata": {},
     "output_type": "execute_result"
    }
   ],
   "source": [
    "df_cars.head()\n",
    "# by default top 5 rows of the df"
   ]
  },
  {
   "cell_type": "code",
   "execution_count": 25,
   "id": "69ab0581",
   "metadata": {
    "collapsed": true
   },
   "outputs": [
    {
     "data": {
      "text/html": [
       "<div>\n",
       "<style scoped>\n",
       "    .dataframe tbody tr th:only-of-type {\n",
       "        vertical-align: middle;\n",
       "    }\n",
       "\n",
       "    .dataframe tbody tr th {\n",
       "        vertical-align: top;\n",
       "    }\n",
       "\n",
       "    .dataframe thead th {\n",
       "        text-align: right;\n",
       "    }\n",
       "</style>\n",
       "<table border=\"1\" class=\"dataframe\">\n",
       "  <thead>\n",
       "    <tr style=\"text-align: right;\">\n",
       "      <th></th>\n",
       "      <th>symboling</th>\n",
       "      <th>carname</th>\n",
       "      <th>doornumber</th>\n",
       "      <th>carbody</th>\n",
       "      <th>enginelocation</th>\n",
       "      <th>wheelbase</th>\n",
       "      <th>carlength</th>\n",
       "      <th>carwidth</th>\n",
       "      <th>carheight</th>\n",
       "      <th>curbweight</th>\n",
       "      <th>cylindernumber</th>\n",
       "      <th>enginesize</th>\n",
       "      <th>boreratio</th>\n",
       "      <th>stroke</th>\n",
       "      <th>compressionratio</th>\n",
       "      <th>horsepower</th>\n",
       "      <th>peakrpm</th>\n",
       "      <th>citympg</th>\n",
       "      <th>highwaympg</th>\n",
       "      <th>price</th>\n",
       "    </tr>\n",
       "    <tr>\n",
       "      <th>car_ID</th>\n",
       "      <th></th>\n",
       "      <th></th>\n",
       "      <th></th>\n",
       "      <th></th>\n",
       "      <th></th>\n",
       "      <th></th>\n",
       "      <th></th>\n",
       "      <th></th>\n",
       "      <th></th>\n",
       "      <th></th>\n",
       "      <th></th>\n",
       "      <th></th>\n",
       "      <th></th>\n",
       "      <th></th>\n",
       "      <th></th>\n",
       "      <th></th>\n",
       "      <th></th>\n",
       "      <th></th>\n",
       "      <th></th>\n",
       "      <th></th>\n",
       "    </tr>\n",
       "  </thead>\n",
       "  <tbody>\n",
       "    <tr>\n",
       "      <th>1</th>\n",
       "      <td>3</td>\n",
       "      <td>alfa-romero giulia</td>\n",
       "      <td>two</td>\n",
       "      <td>convertible</td>\n",
       "      <td>front</td>\n",
       "      <td>88.6</td>\n",
       "      <td>168.8</td>\n",
       "      <td>64.1</td>\n",
       "      <td>48.8</td>\n",
       "      <td>2548</td>\n",
       "      <td>four</td>\n",
       "      <td>130</td>\n",
       "      <td>3.47</td>\n",
       "      <td>2.68</td>\n",
       "      <td>9.0</td>\n",
       "      <td>111</td>\n",
       "      <td>5000</td>\n",
       "      <td>21</td>\n",
       "      <td>27</td>\n",
       "      <td>13495.0</td>\n",
       "    </tr>\n",
       "    <tr>\n",
       "      <th>2</th>\n",
       "      <td>3</td>\n",
       "      <td>alfa-romero stelvio</td>\n",
       "      <td>two</td>\n",
       "      <td>convertible</td>\n",
       "      <td>front</td>\n",
       "      <td>88.6</td>\n",
       "      <td>168.8</td>\n",
       "      <td>64.1</td>\n",
       "      <td>48.8</td>\n",
       "      <td>2548</td>\n",
       "      <td>four</td>\n",
       "      <td>130</td>\n",
       "      <td>3.47</td>\n",
       "      <td>2.68</td>\n",
       "      <td>9.0</td>\n",
       "      <td>111</td>\n",
       "      <td>5000</td>\n",
       "      <td>21</td>\n",
       "      <td>27</td>\n",
       "      <td>16500.0</td>\n",
       "    </tr>\n",
       "    <tr>\n",
       "      <th>3</th>\n",
       "      <td>1</td>\n",
       "      <td>alfa-romero Quadrifoglio</td>\n",
       "      <td>two</td>\n",
       "      <td>hatchback</td>\n",
       "      <td>front</td>\n",
       "      <td>94.5</td>\n",
       "      <td>171.2</td>\n",
       "      <td>65.5</td>\n",
       "      <td>52.4</td>\n",
       "      <td>2823</td>\n",
       "      <td>six</td>\n",
       "      <td>152</td>\n",
       "      <td>2.68</td>\n",
       "      <td>3.47</td>\n",
       "      <td>9.0</td>\n",
       "      <td>154</td>\n",
       "      <td>5000</td>\n",
       "      <td>19</td>\n",
       "      <td>26</td>\n",
       "      <td>16500.0</td>\n",
       "    </tr>\n",
       "  </tbody>\n",
       "</table>\n",
       "</div>"
      ],
      "text/plain": [
       "        symboling                   carname doornumber      carbody  \\\n",
       "car_ID                                                                \n",
       "1               3        alfa-romero giulia        two  convertible   \n",
       "2               3       alfa-romero stelvio        two  convertible   \n",
       "3               1  alfa-romero Quadrifoglio        two    hatchback   \n",
       "\n",
       "       enginelocation  wheelbase  carlength  carwidth  carheight  curbweight  \\\n",
       "car_ID                                                                         \n",
       "1               front       88.6      168.8      64.1       48.8        2548   \n",
       "2               front       88.6      168.8      64.1       48.8        2548   \n",
       "3               front       94.5      171.2      65.5       52.4        2823   \n",
       "\n",
       "       cylindernumber  enginesize  boreratio  stroke  compressionratio  \\\n",
       "car_ID                                                                   \n",
       "1                four         130       3.47    2.68               9.0   \n",
       "2                four         130       3.47    2.68               9.0   \n",
       "3                 six         152       2.68    3.47               9.0   \n",
       "\n",
       "        horsepower  peakrpm  citympg  highwaympg    price  \n",
       "car_ID                                                     \n",
       "1              111     5000       21          27  13495.0  \n",
       "2              111     5000       21          27  16500.0  \n",
       "3              154     5000       19          26  16500.0  "
      ]
     },
     "execution_count": 25,
     "metadata": {},
     "output_type": "execute_result"
    }
   ],
   "source": [
    "df_cars.head(3)"
   ]
  },
  {
   "cell_type": "code",
   "execution_count": 26,
   "id": "57487fad",
   "metadata": {
    "collapsed": true
   },
   "outputs": [
    {
     "data": {
      "text/html": [
       "<div>\n",
       "<style scoped>\n",
       "    .dataframe tbody tr th:only-of-type {\n",
       "        vertical-align: middle;\n",
       "    }\n",
       "\n",
       "    .dataframe tbody tr th {\n",
       "        vertical-align: top;\n",
       "    }\n",
       "\n",
       "    .dataframe thead th {\n",
       "        text-align: right;\n",
       "    }\n",
       "</style>\n",
       "<table border=\"1\" class=\"dataframe\">\n",
       "  <thead>\n",
       "    <tr style=\"text-align: right;\">\n",
       "      <th></th>\n",
       "      <th>symboling</th>\n",
       "      <th>carname</th>\n",
       "      <th>doornumber</th>\n",
       "      <th>carbody</th>\n",
       "      <th>enginelocation</th>\n",
       "      <th>wheelbase</th>\n",
       "      <th>carlength</th>\n",
       "      <th>carwidth</th>\n",
       "      <th>carheight</th>\n",
       "      <th>curbweight</th>\n",
       "      <th>cylindernumber</th>\n",
       "      <th>enginesize</th>\n",
       "      <th>boreratio</th>\n",
       "      <th>stroke</th>\n",
       "      <th>compressionratio</th>\n",
       "      <th>horsepower</th>\n",
       "      <th>peakrpm</th>\n",
       "      <th>citympg</th>\n",
       "      <th>highwaympg</th>\n",
       "      <th>price</th>\n",
       "    </tr>\n",
       "    <tr>\n",
       "      <th>car_ID</th>\n",
       "      <th></th>\n",
       "      <th></th>\n",
       "      <th></th>\n",
       "      <th></th>\n",
       "      <th></th>\n",
       "      <th></th>\n",
       "      <th></th>\n",
       "      <th></th>\n",
       "      <th></th>\n",
       "      <th></th>\n",
       "      <th></th>\n",
       "      <th></th>\n",
       "      <th></th>\n",
       "      <th></th>\n",
       "      <th></th>\n",
       "      <th></th>\n",
       "      <th></th>\n",
       "      <th></th>\n",
       "      <th></th>\n",
       "      <th></th>\n",
       "    </tr>\n",
       "  </thead>\n",
       "  <tbody>\n",
       "    <tr>\n",
       "      <th>201</th>\n",
       "      <td>-1</td>\n",
       "      <td>volvo 145e (sw)</td>\n",
       "      <td>four</td>\n",
       "      <td>sedan</td>\n",
       "      <td>front</td>\n",
       "      <td>109.1</td>\n",
       "      <td>188.8</td>\n",
       "      <td>68.9</td>\n",
       "      <td>55.5</td>\n",
       "      <td>2952</td>\n",
       "      <td>four</td>\n",
       "      <td>141</td>\n",
       "      <td>3.78</td>\n",
       "      <td>3.15</td>\n",
       "      <td>9.5</td>\n",
       "      <td>114</td>\n",
       "      <td>5400</td>\n",
       "      <td>23</td>\n",
       "      <td>28</td>\n",
       "      <td>16845.0</td>\n",
       "    </tr>\n",
       "    <tr>\n",
       "      <th>202</th>\n",
       "      <td>-1</td>\n",
       "      <td>volvo 144ea</td>\n",
       "      <td>four</td>\n",
       "      <td>sedan</td>\n",
       "      <td>front</td>\n",
       "      <td>109.1</td>\n",
       "      <td>188.8</td>\n",
       "      <td>68.8</td>\n",
       "      <td>55.5</td>\n",
       "      <td>3049</td>\n",
       "      <td>four</td>\n",
       "      <td>141</td>\n",
       "      <td>3.78</td>\n",
       "      <td>3.15</td>\n",
       "      <td>8.7</td>\n",
       "      <td>160</td>\n",
       "      <td>5300</td>\n",
       "      <td>19</td>\n",
       "      <td>25</td>\n",
       "      <td>19045.0</td>\n",
       "    </tr>\n",
       "    <tr>\n",
       "      <th>203</th>\n",
       "      <td>-1</td>\n",
       "      <td>volvo 244dl</td>\n",
       "      <td>four</td>\n",
       "      <td>sedan</td>\n",
       "      <td>front</td>\n",
       "      <td>109.1</td>\n",
       "      <td>188.8</td>\n",
       "      <td>68.9</td>\n",
       "      <td>55.5</td>\n",
       "      <td>3012</td>\n",
       "      <td>six</td>\n",
       "      <td>173</td>\n",
       "      <td>3.58</td>\n",
       "      <td>2.87</td>\n",
       "      <td>8.8</td>\n",
       "      <td>134</td>\n",
       "      <td>5500</td>\n",
       "      <td>18</td>\n",
       "      <td>23</td>\n",
       "      <td>21485.0</td>\n",
       "    </tr>\n",
       "    <tr>\n",
       "      <th>204</th>\n",
       "      <td>-1</td>\n",
       "      <td>volvo 246</td>\n",
       "      <td>four</td>\n",
       "      <td>sedan</td>\n",
       "      <td>front</td>\n",
       "      <td>109.1</td>\n",
       "      <td>188.8</td>\n",
       "      <td>68.9</td>\n",
       "      <td>55.5</td>\n",
       "      <td>3217</td>\n",
       "      <td>six</td>\n",
       "      <td>145</td>\n",
       "      <td>3.01</td>\n",
       "      <td>3.40</td>\n",
       "      <td>23.0</td>\n",
       "      <td>106</td>\n",
       "      <td>4800</td>\n",
       "      <td>26</td>\n",
       "      <td>27</td>\n",
       "      <td>22470.0</td>\n",
       "    </tr>\n",
       "    <tr>\n",
       "      <th>205</th>\n",
       "      <td>-1</td>\n",
       "      <td>volvo 264gl</td>\n",
       "      <td>four</td>\n",
       "      <td>sedan</td>\n",
       "      <td>front</td>\n",
       "      <td>109.1</td>\n",
       "      <td>188.8</td>\n",
       "      <td>68.9</td>\n",
       "      <td>55.5</td>\n",
       "      <td>3062</td>\n",
       "      <td>four</td>\n",
       "      <td>141</td>\n",
       "      <td>3.78</td>\n",
       "      <td>3.15</td>\n",
       "      <td>9.5</td>\n",
       "      <td>114</td>\n",
       "      <td>5400</td>\n",
       "      <td>19</td>\n",
       "      <td>25</td>\n",
       "      <td>22625.0</td>\n",
       "    </tr>\n",
       "  </tbody>\n",
       "</table>\n",
       "</div>"
      ],
      "text/plain": [
       "        symboling          carname doornumber carbody enginelocation  \\\n",
       "car_ID                                                                 \n",
       "201            -1  volvo 145e (sw)       four   sedan          front   \n",
       "202            -1      volvo 144ea       four   sedan          front   \n",
       "203            -1      volvo 244dl       four   sedan          front   \n",
       "204            -1        volvo 246       four   sedan          front   \n",
       "205            -1      volvo 264gl       four   sedan          front   \n",
       "\n",
       "        wheelbase  carlength  carwidth  carheight  curbweight cylindernumber  \\\n",
       "car_ID                                                                         \n",
       "201         109.1      188.8      68.9       55.5        2952           four   \n",
       "202         109.1      188.8      68.8       55.5        3049           four   \n",
       "203         109.1      188.8      68.9       55.5        3012            six   \n",
       "204         109.1      188.8      68.9       55.5        3217            six   \n",
       "205         109.1      188.8      68.9       55.5        3062           four   \n",
       "\n",
       "        enginesize  boreratio  stroke  compressionratio  horsepower  peakrpm  \\\n",
       "car_ID                                                                         \n",
       "201            141       3.78    3.15               9.5         114     5400   \n",
       "202            141       3.78    3.15               8.7         160     5300   \n",
       "203            173       3.58    2.87               8.8         134     5500   \n",
       "204            145       3.01    3.40              23.0         106     4800   \n",
       "205            141       3.78    3.15               9.5         114     5400   \n",
       "\n",
       "        citympg  highwaympg    price  \n",
       "car_ID                                \n",
       "201          23          28  16845.0  \n",
       "202          19          25  19045.0  \n",
       "203          18          23  21485.0  \n",
       "204          26          27  22470.0  \n",
       "205          19          25  22625.0  "
      ]
     },
     "execution_count": 26,
     "metadata": {},
     "output_type": "execute_result"
    }
   ],
   "source": [
    "df_cars.tail()\n",
    "# by default last 5 rows of the df"
   ]
  },
  {
   "cell_type": "code",
   "execution_count": 27,
   "id": "5a68199e",
   "metadata": {
    "collapsed": true
   },
   "outputs": [
    {
     "data": {
      "text/html": [
       "<div>\n",
       "<style scoped>\n",
       "    .dataframe tbody tr th:only-of-type {\n",
       "        vertical-align: middle;\n",
       "    }\n",
       "\n",
       "    .dataframe tbody tr th {\n",
       "        vertical-align: top;\n",
       "    }\n",
       "\n",
       "    .dataframe thead th {\n",
       "        text-align: right;\n",
       "    }\n",
       "</style>\n",
       "<table border=\"1\" class=\"dataframe\">\n",
       "  <thead>\n",
       "    <tr style=\"text-align: right;\">\n",
       "      <th></th>\n",
       "      <th>symboling</th>\n",
       "      <th>carname</th>\n",
       "      <th>doornumber</th>\n",
       "      <th>carbody</th>\n",
       "      <th>enginelocation</th>\n",
       "      <th>wheelbase</th>\n",
       "      <th>carlength</th>\n",
       "      <th>carwidth</th>\n",
       "      <th>carheight</th>\n",
       "      <th>curbweight</th>\n",
       "      <th>cylindernumber</th>\n",
       "      <th>enginesize</th>\n",
       "      <th>boreratio</th>\n",
       "      <th>stroke</th>\n",
       "      <th>compressionratio</th>\n",
       "      <th>horsepower</th>\n",
       "      <th>peakrpm</th>\n",
       "      <th>citympg</th>\n",
       "      <th>highwaympg</th>\n",
       "      <th>price</th>\n",
       "    </tr>\n",
       "    <tr>\n",
       "      <th>car_ID</th>\n",
       "      <th></th>\n",
       "      <th></th>\n",
       "      <th></th>\n",
       "      <th></th>\n",
       "      <th></th>\n",
       "      <th></th>\n",
       "      <th></th>\n",
       "      <th></th>\n",
       "      <th></th>\n",
       "      <th></th>\n",
       "      <th></th>\n",
       "      <th></th>\n",
       "      <th></th>\n",
       "      <th></th>\n",
       "      <th></th>\n",
       "      <th></th>\n",
       "      <th></th>\n",
       "      <th></th>\n",
       "      <th></th>\n",
       "      <th></th>\n",
       "    </tr>\n",
       "  </thead>\n",
       "  <tbody>\n",
       "    <tr>\n",
       "      <th>204</th>\n",
       "      <td>-1</td>\n",
       "      <td>volvo 246</td>\n",
       "      <td>four</td>\n",
       "      <td>sedan</td>\n",
       "      <td>front</td>\n",
       "      <td>109.1</td>\n",
       "      <td>188.8</td>\n",
       "      <td>68.9</td>\n",
       "      <td>55.5</td>\n",
       "      <td>3217</td>\n",
       "      <td>six</td>\n",
       "      <td>145</td>\n",
       "      <td>3.01</td>\n",
       "      <td>3.40</td>\n",
       "      <td>23.0</td>\n",
       "      <td>106</td>\n",
       "      <td>4800</td>\n",
       "      <td>26</td>\n",
       "      <td>27</td>\n",
       "      <td>22470.0</td>\n",
       "    </tr>\n",
       "    <tr>\n",
       "      <th>205</th>\n",
       "      <td>-1</td>\n",
       "      <td>volvo 264gl</td>\n",
       "      <td>four</td>\n",
       "      <td>sedan</td>\n",
       "      <td>front</td>\n",
       "      <td>109.1</td>\n",
       "      <td>188.8</td>\n",
       "      <td>68.9</td>\n",
       "      <td>55.5</td>\n",
       "      <td>3062</td>\n",
       "      <td>four</td>\n",
       "      <td>141</td>\n",
       "      <td>3.78</td>\n",
       "      <td>3.15</td>\n",
       "      <td>9.5</td>\n",
       "      <td>114</td>\n",
       "      <td>5400</td>\n",
       "      <td>19</td>\n",
       "      <td>25</td>\n",
       "      <td>22625.0</td>\n",
       "    </tr>\n",
       "  </tbody>\n",
       "</table>\n",
       "</div>"
      ],
      "text/plain": [
       "        symboling      carname doornumber carbody enginelocation  wheelbase  \\\n",
       "car_ID                                                                        \n",
       "204            -1    volvo 246       four   sedan          front      109.1   \n",
       "205            -1  volvo 264gl       four   sedan          front      109.1   \n",
       "\n",
       "        carlength  carwidth  carheight  curbweight cylindernumber  enginesize  \\\n",
       "car_ID                                                                          \n",
       "204         188.8      68.9       55.5        3217            six         145   \n",
       "205         188.8      68.9       55.5        3062           four         141   \n",
       "\n",
       "        boreratio  stroke  compressionratio  horsepower  peakrpm  citympg  \\\n",
       "car_ID                                                                      \n",
       "204          3.01    3.40              23.0         106     4800       26   \n",
       "205          3.78    3.15               9.5         114     5400       19   \n",
       "\n",
       "        highwaympg    price  \n",
       "car_ID                       \n",
       "204             27  22470.0  \n",
       "205             25  22625.0  "
      ]
     },
     "execution_count": 27,
     "metadata": {},
     "output_type": "execute_result"
    }
   ],
   "source": [
    "df_cars.tail(2)"
   ]
  },
  {
   "cell_type": "markdown",
   "id": "b9d4ab04",
   "metadata": {
    "id": "pXXQWb5f5vXo"
   },
   "source": [
    "### Quiz\n",
    "Study the data types of the features in the `df_cars` dataframe"
   ]
  },
  {
   "cell_type": "code",
   "execution_count": 28,
   "id": "959682df",
   "metadata": {
    "collapsed": true
   },
   "outputs": [
    {
     "data": {
      "text/plain": [
       "symboling             int64\n",
       "carname              object\n",
       "doornumber           object\n",
       "carbody              object\n",
       "enginelocation       object\n",
       "wheelbase           float64\n",
       "carlength           float64\n",
       "carwidth            float64\n",
       "carheight           float64\n",
       "curbweight            int64\n",
       "cylindernumber       object\n",
       "enginesize            int64\n",
       "boreratio           float64\n",
       "stroke              float64\n",
       "compressionratio    float64\n",
       "horsepower            int64\n",
       "peakrpm               int64\n",
       "citympg               int64\n",
       "highwaympg            int64\n",
       "price               float64\n",
       "dtype: object"
      ]
     },
     "execution_count": 28,
     "metadata": {},
     "output_type": "execute_result"
    }
   ],
   "source": [
    "df_cars.dtypes"
   ]
  },
  {
   "cell_type": "code",
   "execution_count": 29,
   "id": "ef7dd74b",
   "metadata": {},
   "outputs": [],
   "source": [
    "# object is same as string"
   ]
  },
  {
   "cell_type": "code",
   "execution_count": 30,
   "id": "6bc88213",
   "metadata": {
    "collapsed": true
   },
   "outputs": [
    {
     "name": "stdout",
     "output_type": "stream",
     "text": [
      "<class 'pandas.core.frame.DataFrame'>\n",
      "Int64Index: 205 entries, 1 to 205\n",
      "Data columns (total 20 columns):\n",
      " #   Column            Non-Null Count  Dtype  \n",
      "---  ------            --------------  -----  \n",
      " 0   symboling         205 non-null    int64  \n",
      " 1   carname           205 non-null    object \n",
      " 2   doornumber        205 non-null    object \n",
      " 3   carbody           205 non-null    object \n",
      " 4   enginelocation    205 non-null    object \n",
      " 5   wheelbase         205 non-null    float64\n",
      " 6   carlength         205 non-null    float64\n",
      " 7   carwidth          205 non-null    float64\n",
      " 8   carheight         205 non-null    float64\n",
      " 9   curbweight        205 non-null    int64  \n",
      " 10  cylindernumber    205 non-null    object \n",
      " 11  enginesize        205 non-null    int64  \n",
      " 12  boreratio         205 non-null    float64\n",
      " 13  stroke            205 non-null    float64\n",
      " 14  compressionratio  205 non-null    float64\n",
      " 15  horsepower        205 non-null    int64  \n",
      " 16  peakrpm           205 non-null    int64  \n",
      " 17  citympg           205 non-null    int64  \n",
      " 18  highwaympg        205 non-null    int64  \n",
      " 19  price             205 non-null    float64\n",
      "dtypes: float64(8), int64(7), object(5)\n",
      "memory usage: 33.6+ KB\n"
     ]
    }
   ],
   "source": [
    "df_cars.info()"
   ]
  },
  {
   "cell_type": "code",
   "execution_count": 31,
   "id": "c3a12e70",
   "metadata": {},
   "outputs": [],
   "source": [
    "## Indexing"
   ]
  },
  {
   "cell_type": "code",
   "execution_count": 33,
   "id": "2063ac31",
   "metadata": {
    "collapsed": true
   },
   "outputs": [
    {
     "data": {
      "text/plain": [
       "car_ID\n",
       "1            alfa-romero giulia\n",
       "2           alfa-romero stelvio\n",
       "3      alfa-romero Quadrifoglio\n",
       "4                   audi 100 ls\n",
       "5                    audi 100ls\n",
       "                 ...           \n",
       "201             volvo 145e (sw)\n",
       "202                 volvo 144ea\n",
       "203                 volvo 244dl\n",
       "204                   volvo 246\n",
       "205                 volvo 264gl\n",
       "Name: carname, Length: 205, dtype: object"
      ]
     },
     "execution_count": 33,
     "metadata": {},
     "output_type": "execute_result"
    }
   ],
   "source": [
    "df_cars[\"carname\"]"
   ]
  },
  {
   "cell_type": "code",
   "execution_count": 34,
   "id": "dbbe6164",
   "metadata": {
    "collapsed": true
   },
   "outputs": [
    {
     "data": {
      "text/html": [
       "<div>\n",
       "<style scoped>\n",
       "    .dataframe tbody tr th:only-of-type {\n",
       "        vertical-align: middle;\n",
       "    }\n",
       "\n",
       "    .dataframe tbody tr th {\n",
       "        vertical-align: top;\n",
       "    }\n",
       "\n",
       "    .dataframe thead th {\n",
       "        text-align: right;\n",
       "    }\n",
       "</style>\n",
       "<table border=\"1\" class=\"dataframe\">\n",
       "  <thead>\n",
       "    <tr style=\"text-align: right;\">\n",
       "      <th></th>\n",
       "      <th>carname</th>\n",
       "      <th>carbody</th>\n",
       "      <th>price</th>\n",
       "    </tr>\n",
       "    <tr>\n",
       "      <th>car_ID</th>\n",
       "      <th></th>\n",
       "      <th></th>\n",
       "      <th></th>\n",
       "    </tr>\n",
       "  </thead>\n",
       "  <tbody>\n",
       "    <tr>\n",
       "      <th>1</th>\n",
       "      <td>alfa-romero giulia</td>\n",
       "      <td>convertible</td>\n",
       "      <td>13495.0</td>\n",
       "    </tr>\n",
       "    <tr>\n",
       "      <th>2</th>\n",
       "      <td>alfa-romero stelvio</td>\n",
       "      <td>convertible</td>\n",
       "      <td>16500.0</td>\n",
       "    </tr>\n",
       "    <tr>\n",
       "      <th>3</th>\n",
       "      <td>alfa-romero Quadrifoglio</td>\n",
       "      <td>hatchback</td>\n",
       "      <td>16500.0</td>\n",
       "    </tr>\n",
       "    <tr>\n",
       "      <th>4</th>\n",
       "      <td>audi 100 ls</td>\n",
       "      <td>sedan</td>\n",
       "      <td>13950.0</td>\n",
       "    </tr>\n",
       "    <tr>\n",
       "      <th>5</th>\n",
       "      <td>audi 100ls</td>\n",
       "      <td>sedan</td>\n",
       "      <td>17450.0</td>\n",
       "    </tr>\n",
       "    <tr>\n",
       "      <th>...</th>\n",
       "      <td>...</td>\n",
       "      <td>...</td>\n",
       "      <td>...</td>\n",
       "    </tr>\n",
       "    <tr>\n",
       "      <th>201</th>\n",
       "      <td>volvo 145e (sw)</td>\n",
       "      <td>sedan</td>\n",
       "      <td>16845.0</td>\n",
       "    </tr>\n",
       "    <tr>\n",
       "      <th>202</th>\n",
       "      <td>volvo 144ea</td>\n",
       "      <td>sedan</td>\n",
       "      <td>19045.0</td>\n",
       "    </tr>\n",
       "    <tr>\n",
       "      <th>203</th>\n",
       "      <td>volvo 244dl</td>\n",
       "      <td>sedan</td>\n",
       "      <td>21485.0</td>\n",
       "    </tr>\n",
       "    <tr>\n",
       "      <th>204</th>\n",
       "      <td>volvo 246</td>\n",
       "      <td>sedan</td>\n",
       "      <td>22470.0</td>\n",
       "    </tr>\n",
       "    <tr>\n",
       "      <th>205</th>\n",
       "      <td>volvo 264gl</td>\n",
       "      <td>sedan</td>\n",
       "      <td>22625.0</td>\n",
       "    </tr>\n",
       "  </tbody>\n",
       "</table>\n",
       "<p>205 rows × 3 columns</p>\n",
       "</div>"
      ],
      "text/plain": [
       "                         carname      carbody    price\n",
       "car_ID                                                \n",
       "1             alfa-romero giulia  convertible  13495.0\n",
       "2            alfa-romero stelvio  convertible  16500.0\n",
       "3       alfa-romero Quadrifoglio    hatchback  16500.0\n",
       "4                    audi 100 ls        sedan  13950.0\n",
       "5                     audi 100ls        sedan  17450.0\n",
       "...                          ...          ...      ...\n",
       "201              volvo 145e (sw)        sedan  16845.0\n",
       "202                  volvo 144ea        sedan  19045.0\n",
       "203                  volvo 244dl        sedan  21485.0\n",
       "204                    volvo 246        sedan  22470.0\n",
       "205                  volvo 264gl        sedan  22625.0\n",
       "\n",
       "[205 rows x 3 columns]"
      ]
     },
     "execution_count": 34,
     "metadata": {},
     "output_type": "execute_result"
    }
   ],
   "source": [
    "df_cars[[\"carname\",\"carbody\",\"price\"]]"
   ]
  },
  {
   "cell_type": "markdown",
   "id": "f988c467",
   "metadata": {
    "id": "gtaRKBNP5vXq"
   },
   "source": [
    "# Accessing data from dataframes - II\n",
    "In this section, we will study various access methods to access data from dataframes. We will focus more on the fundamentals in this session and briefly look at some other important methods. Note that you will work with these operations and methods throughout your data science learning journey and beyond.\n",
    "\n",
    "For this part, we will continue studying access methods for dataframes"
   ]
  },
  {
   "cell_type": "code",
   "execution_count": 35,
   "id": "b6e743cd",
   "metadata": {},
   "outputs": [],
   "source": [
    "df = pd.read_csv('Buffet_Details.csv')\n",
    "tempdf = pd.read_csv('Buffet_Details.csv', index_col = 'Room')\n",
    "df_cars = pd.read_csv('carprices.csv')\n",
    "df_movies = pd.read_csv('User_Movie_Ratings.csv', index_col = 'User')"
   ]
  },
  {
   "cell_type": "markdown",
   "id": "43e5d322",
   "metadata": {
    "id": "LHdzGBnS5vYQ"
   },
   "source": [
    "### Example\n",
    "The `iloc` and `loc` indexer"
   ]
  },
  {
   "cell_type": "code",
   "execution_count": 36,
   "id": "0adaef84",
   "metadata": {
    "collapsed": true
   },
   "outputs": [
    {
     "data": {
      "text/html": [
       "<div>\n",
       "<style scoped>\n",
       "    .dataframe tbody tr th:only-of-type {\n",
       "        vertical-align: middle;\n",
       "    }\n",
       "\n",
       "    .dataframe tbody tr th {\n",
       "        vertical-align: top;\n",
       "    }\n",
       "\n",
       "    .dataframe thead th {\n",
       "        text-align: right;\n",
       "    }\n",
       "</style>\n",
       "<table border=\"1\" class=\"dataframe\">\n",
       "  <thead>\n",
       "    <tr style=\"text-align: right;\">\n",
       "      <th></th>\n",
       "      <th>Name</th>\n",
       "      <th>Age</th>\n",
       "      <th>Cuisine</th>\n",
       "      <th>Expenditure</th>\n",
       "    </tr>\n",
       "    <tr>\n",
       "      <th>Room</th>\n",
       "      <th></th>\n",
       "      <th></th>\n",
       "      <th></th>\n",
       "      <th></th>\n",
       "    </tr>\n",
       "  </thead>\n",
       "  <tbody>\n",
       "    <tr>\n",
       "      <th>A1</th>\n",
       "      <td>Shilpa</td>\n",
       "      <td>18</td>\n",
       "      <td>Indian</td>\n",
       "      <td>24.65</td>\n",
       "    </tr>\n",
       "    <tr>\n",
       "      <th>A2</th>\n",
       "      <td>Jaspreet</td>\n",
       "      <td>32</td>\n",
       "      <td>American</td>\n",
       "      <td>18.54</td>\n",
       "    </tr>\n",
       "    <tr>\n",
       "      <th>A3</th>\n",
       "      <td>Dominic</td>\n",
       "      <td>19</td>\n",
       "      <td>Indian</td>\n",
       "      <td>27.66</td>\n",
       "    </tr>\n",
       "    <tr>\n",
       "      <th>A4</th>\n",
       "      <td>Ahmad</td>\n",
       "      <td>22</td>\n",
       "      <td>American</td>\n",
       "      <td>19.54</td>\n",
       "    </tr>\n",
       "    <tr>\n",
       "      <th>A5</th>\n",
       "      <td>Joseph</td>\n",
       "      <td>28</td>\n",
       "      <td>Indian</td>\n",
       "      <td>17.32</td>\n",
       "    </tr>\n",
       "    <tr>\n",
       "      <th>A6</th>\n",
       "      <td>Saju</td>\n",
       "      <td>31</td>\n",
       "      <td>Indian</td>\n",
       "      <td>12.56</td>\n",
       "    </tr>\n",
       "    <tr>\n",
       "      <th>A7</th>\n",
       "      <td>Monica</td>\n",
       "      <td>48</td>\n",
       "      <td>Chinese</td>\n",
       "      <td>11.09</td>\n",
       "    </tr>\n",
       "    <tr>\n",
       "      <th>A8</th>\n",
       "      <td>Preeti</td>\n",
       "      <td>67</td>\n",
       "      <td>American</td>\n",
       "      <td>12.23</td>\n",
       "    </tr>\n",
       "    <tr>\n",
       "      <th>A9</th>\n",
       "      <td>Emma</td>\n",
       "      <td>24</td>\n",
       "      <td>Indian</td>\n",
       "      <td>18.88</td>\n",
       "    </tr>\n",
       "    <tr>\n",
       "      <th>A10</th>\n",
       "      <td>Gaurav</td>\n",
       "      <td>29</td>\n",
       "      <td>Chinese</td>\n",
       "      <td>14.43</td>\n",
       "    </tr>\n",
       "  </tbody>\n",
       "</table>\n",
       "</div>"
      ],
      "text/plain": [
       "          Name  Age   Cuisine  Expenditure\n",
       "Room                                      \n",
       "A1      Shilpa   18    Indian        24.65\n",
       "A2    Jaspreet   32  American        18.54\n",
       "A3     Dominic   19    Indian        27.66\n",
       "A4       Ahmad   22  American        19.54\n",
       "A5      Joseph   28    Indian        17.32\n",
       "A6        Saju   31    Indian        12.56\n",
       "A7      Monica   48   Chinese        11.09\n",
       "A8      Preeti   67  American        12.23\n",
       "A9        Emma   24    Indian        18.88\n",
       "A10     Gaurav   29   Chinese        14.43"
      ]
     },
     "execution_count": 36,
     "metadata": {},
     "output_type": "execute_result"
    }
   ],
   "source": [
    "tempdf"
   ]
  },
  {
   "cell_type": "code",
   "execution_count": 37,
   "id": "ec8e5563",
   "metadata": {
    "collapsed": true
   },
   "outputs": [
    {
     "data": {
      "text/plain": [
       "Name           Shilpa\n",
       "Age                18\n",
       "Cuisine        Indian\n",
       "Expenditure     24.65\n",
       "Name: A1, dtype: object"
      ]
     },
     "execution_count": 37,
     "metadata": {},
     "output_type": "execute_result"
    }
   ],
   "source": [
    "tempdf.iloc[0]\n",
    "# Position Based Index"
   ]
  },
  {
   "cell_type": "code",
   "execution_count": 39,
   "id": "7cde6b83",
   "metadata": {
    "collapsed": true
   },
   "outputs": [
    {
     "data": {
      "text/plain": [
       "Name           Shilpa\n",
       "Age                18\n",
       "Cuisine        Indian\n",
       "Expenditure     24.65\n",
       "Name: A1, dtype: object"
      ]
     },
     "execution_count": 39,
     "metadata": {},
     "output_type": "execute_result"
    }
   ],
   "source": [
    "tempdf.loc[\"A1\"]\n",
    "# Row Index"
   ]
  },
  {
   "cell_type": "markdown",
   "id": "6c99dbcf",
   "metadata": {
    "id": "KSp3ZAyr5vYi"
   },
   "source": [
    "### Example\n",
    "Accessing data conditionally, also called Boolean indexing"
   ]
  },
  {
   "cell_type": "code",
   "execution_count": 40,
   "id": "d90ea2d2",
   "metadata": {
    "colab": {
     "base_uri": "https://localhost:8080/",
     "height": 0
    },
    "executionInfo": {
     "elapsed": 214,
     "status": "ok",
     "timestamp": 1704217113787,
     "user": {
      "displayName": "Dawit Hadush",
      "userId": "03293108265000512791"
     },
     "user_tz": -330
    },
    "id": "EWb7ofyp5vYi",
    "outputId": "1a284af2-9841-4a8f-9434-34a65ca61f9c"
   },
   "outputs": [
    {
     "data": {
      "text/html": [
       "<div>\n",
       "<style scoped>\n",
       "    .dataframe tbody tr th:only-of-type {\n",
       "        vertical-align: middle;\n",
       "    }\n",
       "\n",
       "    .dataframe tbody tr th {\n",
       "        vertical-align: top;\n",
       "    }\n",
       "\n",
       "    .dataframe thead th {\n",
       "        text-align: right;\n",
       "    }\n",
       "</style>\n",
       "<table border=\"1\" class=\"dataframe\">\n",
       "  <thead>\n",
       "    <tr style=\"text-align: right;\">\n",
       "      <th></th>\n",
       "      <th>Room</th>\n",
       "      <th>Name</th>\n",
       "      <th>Age</th>\n",
       "      <th>Cuisine</th>\n",
       "      <th>Expenditure</th>\n",
       "    </tr>\n",
       "  </thead>\n",
       "  <tbody>\n",
       "    <tr>\n",
       "      <th>0</th>\n",
       "      <td>A1</td>\n",
       "      <td>Shilpa</td>\n",
       "      <td>18</td>\n",
       "      <td>Indian</td>\n",
       "      <td>24.65</td>\n",
       "    </tr>\n",
       "    <tr>\n",
       "      <th>1</th>\n",
       "      <td>A2</td>\n",
       "      <td>Jaspreet</td>\n",
       "      <td>32</td>\n",
       "      <td>American</td>\n",
       "      <td>18.54</td>\n",
       "    </tr>\n",
       "    <tr>\n",
       "      <th>2</th>\n",
       "      <td>A3</td>\n",
       "      <td>Dominic</td>\n",
       "      <td>19</td>\n",
       "      <td>Indian</td>\n",
       "      <td>27.66</td>\n",
       "    </tr>\n",
       "    <tr>\n",
       "      <th>3</th>\n",
       "      <td>A4</td>\n",
       "      <td>Ahmad</td>\n",
       "      <td>22</td>\n",
       "      <td>American</td>\n",
       "      <td>19.54</td>\n",
       "    </tr>\n",
       "    <tr>\n",
       "      <th>4</th>\n",
       "      <td>A5</td>\n",
       "      <td>Joseph</td>\n",
       "      <td>28</td>\n",
       "      <td>Indian</td>\n",
       "      <td>17.32</td>\n",
       "    </tr>\n",
       "    <tr>\n",
       "      <th>5</th>\n",
       "      <td>A6</td>\n",
       "      <td>Saju</td>\n",
       "      <td>31</td>\n",
       "      <td>Indian</td>\n",
       "      <td>12.56</td>\n",
       "    </tr>\n",
       "    <tr>\n",
       "      <th>6</th>\n",
       "      <td>A7</td>\n",
       "      <td>Monica</td>\n",
       "      <td>48</td>\n",
       "      <td>Chinese</td>\n",
       "      <td>11.09</td>\n",
       "    </tr>\n",
       "    <tr>\n",
       "      <th>7</th>\n",
       "      <td>A8</td>\n",
       "      <td>Preeti</td>\n",
       "      <td>67</td>\n",
       "      <td>American</td>\n",
       "      <td>12.23</td>\n",
       "    </tr>\n",
       "    <tr>\n",
       "      <th>8</th>\n",
       "      <td>A9</td>\n",
       "      <td>Emma</td>\n",
       "      <td>24</td>\n",
       "      <td>Indian</td>\n",
       "      <td>18.88</td>\n",
       "    </tr>\n",
       "    <tr>\n",
       "      <th>9</th>\n",
       "      <td>A10</td>\n",
       "      <td>Gaurav</td>\n",
       "      <td>29</td>\n",
       "      <td>Chinese</td>\n",
       "      <td>14.43</td>\n",
       "    </tr>\n",
       "  </tbody>\n",
       "</table>\n",
       "</div>"
      ],
      "text/plain": [
       "  Room      Name  Age   Cuisine  Expenditure\n",
       "0   A1    Shilpa   18    Indian        24.65\n",
       "1   A2  Jaspreet   32  American        18.54\n",
       "2   A3   Dominic   19    Indian        27.66\n",
       "3   A4     Ahmad   22  American        19.54\n",
       "4   A5    Joseph   28    Indian        17.32\n",
       "5   A6      Saju   31    Indian        12.56\n",
       "6   A7    Monica   48   Chinese        11.09\n",
       "7   A8    Preeti   67  American        12.23\n",
       "8   A9      Emma   24    Indian        18.88\n",
       "9  A10    Gaurav   29   Chinese        14.43"
      ]
     },
     "execution_count": 40,
     "metadata": {},
     "output_type": "execute_result"
    }
   ],
   "source": [
    "df"
   ]
  },
  {
   "cell_type": "code",
   "execution_count": 41,
   "id": "0785c21b",
   "metadata": {
    "collapsed": true
   },
   "outputs": [
    {
     "data": {
      "text/html": [
       "<div>\n",
       "<style scoped>\n",
       "    .dataframe tbody tr th:only-of-type {\n",
       "        vertical-align: middle;\n",
       "    }\n",
       "\n",
       "    .dataframe tbody tr th {\n",
       "        vertical-align: top;\n",
       "    }\n",
       "\n",
       "    .dataframe thead th {\n",
       "        text-align: right;\n",
       "    }\n",
       "</style>\n",
       "<table border=\"1\" class=\"dataframe\">\n",
       "  <thead>\n",
       "    <tr style=\"text-align: right;\">\n",
       "      <th></th>\n",
       "      <th>Room</th>\n",
       "      <th>Name</th>\n",
       "      <th>Age</th>\n",
       "      <th>Cuisine</th>\n",
       "      <th>Expenditure</th>\n",
       "    </tr>\n",
       "  </thead>\n",
       "  <tbody>\n",
       "    <tr>\n",
       "      <th>0</th>\n",
       "      <td>A1</td>\n",
       "      <td>Shilpa</td>\n",
       "      <td>18</td>\n",
       "      <td>Indian</td>\n",
       "      <td>24.65</td>\n",
       "    </tr>\n",
       "    <tr>\n",
       "      <th>1</th>\n",
       "      <td>A2</td>\n",
       "      <td>Jaspreet</td>\n",
       "      <td>32</td>\n",
       "      <td>American</td>\n",
       "      <td>18.54</td>\n",
       "    </tr>\n",
       "    <tr>\n",
       "      <th>2</th>\n",
       "      <td>A3</td>\n",
       "      <td>Dominic</td>\n",
       "      <td>19</td>\n",
       "      <td>Indian</td>\n",
       "      <td>27.66</td>\n",
       "    </tr>\n",
       "    <tr>\n",
       "      <th>3</th>\n",
       "      <td>A4</td>\n",
       "      <td>Ahmad</td>\n",
       "      <td>22</td>\n",
       "      <td>American</td>\n",
       "      <td>19.54</td>\n",
       "    </tr>\n",
       "    <tr>\n",
       "      <th>4</th>\n",
       "      <td>A5</td>\n",
       "      <td>Joseph</td>\n",
       "      <td>28</td>\n",
       "      <td>Indian</td>\n",
       "      <td>17.32</td>\n",
       "    </tr>\n",
       "    <tr>\n",
       "      <th>8</th>\n",
       "      <td>A9</td>\n",
       "      <td>Emma</td>\n",
       "      <td>24</td>\n",
       "      <td>Indian</td>\n",
       "      <td>18.88</td>\n",
       "    </tr>\n",
       "  </tbody>\n",
       "</table>\n",
       "</div>"
      ],
      "text/plain": [
       "  Room      Name  Age   Cuisine  Expenditure\n",
       "0   A1    Shilpa   18    Indian        24.65\n",
       "1   A2  Jaspreet   32  American        18.54\n",
       "2   A3   Dominic   19    Indian        27.66\n",
       "3   A4     Ahmad   22  American        19.54\n",
       "4   A5    Joseph   28    Indian        17.32\n",
       "8   A9      Emma   24    Indian        18.88"
      ]
     },
     "execution_count": 41,
     "metadata": {},
     "output_type": "execute_result"
    }
   ],
   "source": [
    "df[df[\"Expenditure\"]>15]"
   ]
  },
  {
   "cell_type": "code",
   "execution_count": 42,
   "id": "39d4e7ea",
   "metadata": {
    "collapsed": true
   },
   "outputs": [
    {
     "data": {
      "text/html": [
       "<div>\n",
       "<style scoped>\n",
       "    .dataframe tbody tr th:only-of-type {\n",
       "        vertical-align: middle;\n",
       "    }\n",
       "\n",
       "    .dataframe tbody tr th {\n",
       "        vertical-align: top;\n",
       "    }\n",
       "\n",
       "    .dataframe thead th {\n",
       "        text-align: right;\n",
       "    }\n",
       "</style>\n",
       "<table border=\"1\" class=\"dataframe\">\n",
       "  <thead>\n",
       "    <tr style=\"text-align: right;\">\n",
       "      <th></th>\n",
       "      <th>Room</th>\n",
       "      <th>Name</th>\n",
       "      <th>Age</th>\n",
       "      <th>Cuisine</th>\n",
       "      <th>Expenditure</th>\n",
       "    </tr>\n",
       "  </thead>\n",
       "  <tbody>\n",
       "    <tr>\n",
       "      <th>0</th>\n",
       "      <td>A1</td>\n",
       "      <td>Shilpa</td>\n",
       "      <td>18</td>\n",
       "      <td>Indian</td>\n",
       "      <td>24.65</td>\n",
       "    </tr>\n",
       "    <tr>\n",
       "      <th>2</th>\n",
       "      <td>A3</td>\n",
       "      <td>Dominic</td>\n",
       "      <td>19</td>\n",
       "      <td>Indian</td>\n",
       "      <td>27.66</td>\n",
       "    </tr>\n",
       "    <tr>\n",
       "      <th>4</th>\n",
       "      <td>A5</td>\n",
       "      <td>Joseph</td>\n",
       "      <td>28</td>\n",
       "      <td>Indian</td>\n",
       "      <td>17.32</td>\n",
       "    </tr>\n",
       "    <tr>\n",
       "      <th>5</th>\n",
       "      <td>A6</td>\n",
       "      <td>Saju</td>\n",
       "      <td>31</td>\n",
       "      <td>Indian</td>\n",
       "      <td>12.56</td>\n",
       "    </tr>\n",
       "    <tr>\n",
       "      <th>8</th>\n",
       "      <td>A9</td>\n",
       "      <td>Emma</td>\n",
       "      <td>24</td>\n",
       "      <td>Indian</td>\n",
       "      <td>18.88</td>\n",
       "    </tr>\n",
       "  </tbody>\n",
       "</table>\n",
       "</div>"
      ],
      "text/plain": [
       "  Room     Name  Age Cuisine  Expenditure\n",
       "0   A1   Shilpa   18  Indian        24.65\n",
       "2   A3  Dominic   19  Indian        27.66\n",
       "4   A5   Joseph   28  Indian        17.32\n",
       "5   A6     Saju   31  Indian        12.56\n",
       "8   A9     Emma   24  Indian        18.88"
      ]
     },
     "execution_count": 42,
     "metadata": {},
     "output_type": "execute_result"
    }
   ],
   "source": [
    "df[df[\"Cuisine\"]==\"Indian\"]"
   ]
  },
  {
   "cell_type": "code",
   "execution_count": 43,
   "id": "c0ac5222",
   "metadata": {
    "collapsed": true
   },
   "outputs": [
    {
     "data": {
      "text/html": [
       "<div>\n",
       "<style scoped>\n",
       "    .dataframe tbody tr th:only-of-type {\n",
       "        vertical-align: middle;\n",
       "    }\n",
       "\n",
       "    .dataframe tbody tr th {\n",
       "        vertical-align: top;\n",
       "    }\n",
       "\n",
       "    .dataframe thead th {\n",
       "        text-align: right;\n",
       "    }\n",
       "</style>\n",
       "<table border=\"1\" class=\"dataframe\">\n",
       "  <thead>\n",
       "    <tr style=\"text-align: right;\">\n",
       "      <th></th>\n",
       "      <th>Room</th>\n",
       "      <th>Name</th>\n",
       "      <th>Age</th>\n",
       "      <th>Cuisine</th>\n",
       "      <th>Expenditure</th>\n",
       "    </tr>\n",
       "  </thead>\n",
       "  <tbody>\n",
       "    <tr>\n",
       "      <th>0</th>\n",
       "      <td>A1</td>\n",
       "      <td>Shilpa</td>\n",
       "      <td>18</td>\n",
       "      <td>Indian</td>\n",
       "      <td>24.65</td>\n",
       "    </tr>\n",
       "    <tr>\n",
       "      <th>2</th>\n",
       "      <td>A3</td>\n",
       "      <td>Dominic</td>\n",
       "      <td>19</td>\n",
       "      <td>Indian</td>\n",
       "      <td>27.66</td>\n",
       "    </tr>\n",
       "    <tr>\n",
       "      <th>4</th>\n",
       "      <td>A5</td>\n",
       "      <td>Joseph</td>\n",
       "      <td>28</td>\n",
       "      <td>Indian</td>\n",
       "      <td>17.32</td>\n",
       "    </tr>\n",
       "    <tr>\n",
       "      <th>8</th>\n",
       "      <td>A9</td>\n",
       "      <td>Emma</td>\n",
       "      <td>24</td>\n",
       "      <td>Indian</td>\n",
       "      <td>18.88</td>\n",
       "    </tr>\n",
       "  </tbody>\n",
       "</table>\n",
       "</div>"
      ],
      "text/plain": [
       "  Room     Name  Age Cuisine  Expenditure\n",
       "0   A1   Shilpa   18  Indian        24.65\n",
       "2   A3  Dominic   19  Indian        27.66\n",
       "4   A5   Joseph   28  Indian        17.32\n",
       "8   A9     Emma   24  Indian        18.88"
      ]
     },
     "execution_count": 43,
     "metadata": {},
     "output_type": "execute_result"
    }
   ],
   "source": [
    "df[(df[\"Expenditure\"]>15) & (df[\"Cuisine\"]==\"Indian\")]"
   ]
  },
  {
   "cell_type": "code",
   "execution_count": 44,
   "id": "7a66eba9",
   "metadata": {
    "collapsed": true
   },
   "outputs": [
    {
     "data": {
      "text/html": [
       "<div>\n",
       "<style scoped>\n",
       "    .dataframe tbody tr th:only-of-type {\n",
       "        vertical-align: middle;\n",
       "    }\n",
       "\n",
       "    .dataframe tbody tr th {\n",
       "        vertical-align: top;\n",
       "    }\n",
       "\n",
       "    .dataframe thead th {\n",
       "        text-align: right;\n",
       "    }\n",
       "</style>\n",
       "<table border=\"1\" class=\"dataframe\">\n",
       "  <thead>\n",
       "    <tr style=\"text-align: right;\">\n",
       "      <th></th>\n",
       "      <th>Room</th>\n",
       "      <th>Name</th>\n",
       "      <th>Age</th>\n",
       "      <th>Cuisine</th>\n",
       "      <th>Expenditure</th>\n",
       "    </tr>\n",
       "  </thead>\n",
       "  <tbody>\n",
       "    <tr>\n",
       "      <th>0</th>\n",
       "      <td>A1</td>\n",
       "      <td>Shilpa</td>\n",
       "      <td>18</td>\n",
       "      <td>Indian</td>\n",
       "      <td>24.65</td>\n",
       "    </tr>\n",
       "    <tr>\n",
       "      <th>1</th>\n",
       "      <td>A2</td>\n",
       "      <td>Jaspreet</td>\n",
       "      <td>32</td>\n",
       "      <td>American</td>\n",
       "      <td>18.54</td>\n",
       "    </tr>\n",
       "    <tr>\n",
       "      <th>2</th>\n",
       "      <td>A3</td>\n",
       "      <td>Dominic</td>\n",
       "      <td>19</td>\n",
       "      <td>Indian</td>\n",
       "      <td>27.66</td>\n",
       "    </tr>\n",
       "    <tr>\n",
       "      <th>3</th>\n",
       "      <td>A4</td>\n",
       "      <td>Ahmad</td>\n",
       "      <td>22</td>\n",
       "      <td>American</td>\n",
       "      <td>19.54</td>\n",
       "    </tr>\n",
       "    <tr>\n",
       "      <th>4</th>\n",
       "      <td>A5</td>\n",
       "      <td>Joseph</td>\n",
       "      <td>28</td>\n",
       "      <td>Indian</td>\n",
       "      <td>17.32</td>\n",
       "    </tr>\n",
       "    <tr>\n",
       "      <th>5</th>\n",
       "      <td>A6</td>\n",
       "      <td>Saju</td>\n",
       "      <td>31</td>\n",
       "      <td>Indian</td>\n",
       "      <td>12.56</td>\n",
       "    </tr>\n",
       "    <tr>\n",
       "      <th>8</th>\n",
       "      <td>A9</td>\n",
       "      <td>Emma</td>\n",
       "      <td>24</td>\n",
       "      <td>Indian</td>\n",
       "      <td>18.88</td>\n",
       "    </tr>\n",
       "  </tbody>\n",
       "</table>\n",
       "</div>"
      ],
      "text/plain": [
       "  Room      Name  Age   Cuisine  Expenditure\n",
       "0   A1    Shilpa   18    Indian        24.65\n",
       "1   A2  Jaspreet   32  American        18.54\n",
       "2   A3   Dominic   19    Indian        27.66\n",
       "3   A4     Ahmad   22  American        19.54\n",
       "4   A5    Joseph   28    Indian        17.32\n",
       "5   A6      Saju   31    Indian        12.56\n",
       "8   A9      Emma   24    Indian        18.88"
      ]
     },
     "execution_count": 44,
     "metadata": {},
     "output_type": "execute_result"
    }
   ],
   "source": [
    "df[(df[\"Expenditure\"]>15) | (df[\"Cuisine\"]==\"Indian\")]"
   ]
  },
  {
   "cell_type": "code",
   "execution_count": 45,
   "id": "98f6f296",
   "metadata": {
    "colab": {
     "base_uri": "https://localhost:8080/"
    },
    "collapsed": true,
    "executionInfo": {
     "elapsed": 143,
     "status": "ok",
     "timestamp": 1704217113788,
     "user": {
      "displayName": "Dawit Hadush",
      "userId": "03293108265000512791"
     },
     "user_tz": -330
    },
    "id": "dxWK17md5vY_",
    "outputId": "f350a8fd-be29-4e49-e2d4-6495fd9ef910"
   },
   "outputs": [
    {
     "data": {
      "text/html": [
       "<div>\n",
       "<style scoped>\n",
       "    .dataframe tbody tr th:only-of-type {\n",
       "        vertical-align: middle;\n",
       "    }\n",
       "\n",
       "    .dataframe tbody tr th {\n",
       "        vertical-align: top;\n",
       "    }\n",
       "\n",
       "    .dataframe thead th {\n",
       "        text-align: right;\n",
       "    }\n",
       "</style>\n",
       "<table border=\"1\" class=\"dataframe\">\n",
       "  <thead>\n",
       "    <tr style=\"text-align: right;\">\n",
       "      <th></th>\n",
       "      <th>Room</th>\n",
       "      <th>Name</th>\n",
       "      <th>Age</th>\n",
       "      <th>Cuisine</th>\n",
       "      <th>Expenditure</th>\n",
       "    </tr>\n",
       "  </thead>\n",
       "  <tbody>\n",
       "    <tr>\n",
       "      <th>0</th>\n",
       "      <td>A1</td>\n",
       "      <td>Shilpa</td>\n",
       "      <td>18</td>\n",
       "      <td>Indian</td>\n",
       "      <td>24.65</td>\n",
       "    </tr>\n",
       "    <tr>\n",
       "      <th>2</th>\n",
       "      <td>A3</td>\n",
       "      <td>Dominic</td>\n",
       "      <td>19</td>\n",
       "      <td>Indian</td>\n",
       "      <td>27.66</td>\n",
       "    </tr>\n",
       "    <tr>\n",
       "      <th>4</th>\n",
       "      <td>A5</td>\n",
       "      <td>Joseph</td>\n",
       "      <td>28</td>\n",
       "      <td>Indian</td>\n",
       "      <td>17.32</td>\n",
       "    </tr>\n",
       "    <tr>\n",
       "      <th>5</th>\n",
       "      <td>A6</td>\n",
       "      <td>Saju</td>\n",
       "      <td>31</td>\n",
       "      <td>Indian</td>\n",
       "      <td>12.56</td>\n",
       "    </tr>\n",
       "    <tr>\n",
       "      <th>6</th>\n",
       "      <td>A7</td>\n",
       "      <td>Monica</td>\n",
       "      <td>48</td>\n",
       "      <td>Chinese</td>\n",
       "      <td>11.09</td>\n",
       "    </tr>\n",
       "    <tr>\n",
       "      <th>8</th>\n",
       "      <td>A9</td>\n",
       "      <td>Emma</td>\n",
       "      <td>24</td>\n",
       "      <td>Indian</td>\n",
       "      <td>18.88</td>\n",
       "    </tr>\n",
       "    <tr>\n",
       "      <th>9</th>\n",
       "      <td>A10</td>\n",
       "      <td>Gaurav</td>\n",
       "      <td>29</td>\n",
       "      <td>Chinese</td>\n",
       "      <td>14.43</td>\n",
       "    </tr>\n",
       "  </tbody>\n",
       "</table>\n",
       "</div>"
      ],
      "text/plain": [
       "  Room     Name  Age  Cuisine  Expenditure\n",
       "0   A1   Shilpa   18   Indian        24.65\n",
       "2   A3  Dominic   19   Indian        27.66\n",
       "4   A5   Joseph   28   Indian        17.32\n",
       "5   A6     Saju   31   Indian        12.56\n",
       "6   A7   Monica   48  Chinese        11.09\n",
       "8   A9     Emma   24   Indian        18.88\n",
       "9  A10   Gaurav   29  Chinese        14.43"
      ]
     },
     "execution_count": 45,
     "metadata": {},
     "output_type": "execute_result"
    }
   ],
   "source": [
    "df[df['Cuisine'].isin(['Indian', 'Chinese'])]"
   ]
  },
  {
   "cell_type": "code",
   "execution_count": 46,
   "id": "b93c40d3",
   "metadata": {
    "collapsed": true
   },
   "outputs": [
    {
     "data": {
      "text/html": [
       "<div>\n",
       "<style scoped>\n",
       "    .dataframe tbody tr th:only-of-type {\n",
       "        vertical-align: middle;\n",
       "    }\n",
       "\n",
       "    .dataframe tbody tr th {\n",
       "        vertical-align: top;\n",
       "    }\n",
       "\n",
       "    .dataframe thead th {\n",
       "        text-align: right;\n",
       "    }\n",
       "</style>\n",
       "<table border=\"1\" class=\"dataframe\">\n",
       "  <thead>\n",
       "    <tr style=\"text-align: right;\">\n",
       "      <th></th>\n",
       "      <th>Room</th>\n",
       "      <th>Name</th>\n",
       "      <th>Age</th>\n",
       "      <th>Cuisine</th>\n",
       "      <th>Expenditure</th>\n",
       "    </tr>\n",
       "  </thead>\n",
       "  <tbody>\n",
       "    <tr>\n",
       "      <th>0</th>\n",
       "      <td>A1</td>\n",
       "      <td>Shilpa</td>\n",
       "      <td>18</td>\n",
       "      <td>Indian</td>\n",
       "      <td>24.65</td>\n",
       "    </tr>\n",
       "    <tr>\n",
       "      <th>2</th>\n",
       "      <td>A3</td>\n",
       "      <td>Dominic</td>\n",
       "      <td>19</td>\n",
       "      <td>Indian</td>\n",
       "      <td>27.66</td>\n",
       "    </tr>\n",
       "    <tr>\n",
       "      <th>4</th>\n",
       "      <td>A5</td>\n",
       "      <td>Joseph</td>\n",
       "      <td>28</td>\n",
       "      <td>Indian</td>\n",
       "      <td>17.32</td>\n",
       "    </tr>\n",
       "    <tr>\n",
       "      <th>5</th>\n",
       "      <td>A6</td>\n",
       "      <td>Saju</td>\n",
       "      <td>31</td>\n",
       "      <td>Indian</td>\n",
       "      <td>12.56</td>\n",
       "    </tr>\n",
       "    <tr>\n",
       "      <th>6</th>\n",
       "      <td>A7</td>\n",
       "      <td>Monica</td>\n",
       "      <td>48</td>\n",
       "      <td>Chinese</td>\n",
       "      <td>11.09</td>\n",
       "    </tr>\n",
       "    <tr>\n",
       "      <th>8</th>\n",
       "      <td>A9</td>\n",
       "      <td>Emma</td>\n",
       "      <td>24</td>\n",
       "      <td>Indian</td>\n",
       "      <td>18.88</td>\n",
       "    </tr>\n",
       "    <tr>\n",
       "      <th>9</th>\n",
       "      <td>A10</td>\n",
       "      <td>Gaurav</td>\n",
       "      <td>29</td>\n",
       "      <td>Chinese</td>\n",
       "      <td>14.43</td>\n",
       "    </tr>\n",
       "  </tbody>\n",
       "</table>\n",
       "</div>"
      ],
      "text/plain": [
       "  Room     Name  Age  Cuisine  Expenditure\n",
       "0   A1   Shilpa   18   Indian        24.65\n",
       "2   A3  Dominic   19   Indian        27.66\n",
       "4   A5   Joseph   28   Indian        17.32\n",
       "5   A6     Saju   31   Indian        12.56\n",
       "6   A7   Monica   48  Chinese        11.09\n",
       "8   A9     Emma   24   Indian        18.88\n",
       "9  A10   Gaurav   29  Chinese        14.43"
      ]
     },
     "execution_count": 46,
     "metadata": {},
     "output_type": "execute_result"
    }
   ],
   "source": [
    "df[(df[\"Cuisine\"]==\"Chinese\") | (df[\"Cuisine\"]==\"Indian\")]"
   ]
  },
  {
   "cell_type": "markdown",
   "id": "97923cee",
   "metadata": {
    "id": "FeH-H5uA5vZC"
   },
   "source": [
    "### Quiz\n",
    "How many cars in the `df_cars` dataframe are sedans?"
   ]
  },
  {
   "cell_type": "code",
   "execution_count": 49,
   "id": "773d15d0",
   "metadata": {},
   "outputs": [
    {
     "data": {
      "text/plain": [
       "96"
      ]
     },
     "execution_count": 49,
     "metadata": {},
     "output_type": "execute_result"
    }
   ],
   "source": [
    "df_cars[df_cars['carbody']=='sedan'].shape[0]"
   ]
  },
  {
   "cell_type": "code",
   "execution_count": 50,
   "id": "16aa3234",
   "metadata": {},
   "outputs": [
    {
     "data": {
      "text/plain": [
       "96"
      ]
     },
     "execution_count": 50,
     "metadata": {},
     "output_type": "execute_result"
    }
   ],
   "source": [
    "len(df_cars[df_cars['carbody']=='sedan'])"
   ]
  },
  {
   "cell_type": "markdown",
   "id": "78199f02",
   "metadata": {
    "id": "RsX6u_V15vZC"
   },
   "source": [
    "### Quiz\n",
    "How many users in the `df_movies` dataframe rated more than 7 for Thor and Spiderman but rated 7 or less for Dolittle?"
   ]
  },
  {
   "cell_type": "code",
   "execution_count": 51,
   "id": "e0a5b0f6",
   "metadata": {},
   "outputs": [
    {
     "data": {
      "text/plain": [
       "6"
      ]
     },
     "execution_count": 51,
     "metadata": {},
     "output_type": "execute_result"
    }
   ],
   "source": [
    "len(df_movies[(df_movies[\"Thor\"]>7) & (df_movies[\"Spiderman\"]>7) & (df_movies[\"Dolittle\"]<=7)])"
   ]
  },
  {
   "cell_type": "markdown",
   "id": "15622a94",
   "metadata": {
    "id": "vwYVpMA-5vZn"
   },
   "source": [
    "### Quiz\n",
    "How many cars in the `df_cars` dataframe are convertibles with a city mileage more than 20 and price less than 15000?"
   ]
  },
  {
   "cell_type": "code",
   "execution_count": 52,
   "id": "52e26a7e",
   "metadata": {},
   "outputs": [
    {
     "data": {
      "text/plain": [
       "2"
      ]
     },
     "execution_count": 52,
     "metadata": {},
     "output_type": "execute_result"
    }
   ],
   "source": [
    "len(df_cars[(df_cars['carbody'] == 'convertible') & (df_cars['citympg'] > 20) & (df_cars['price'] < 15000)])"
   ]
  },
  {
   "cell_type": "markdown",
   "id": "bdf68511",
   "metadata": {
    "id": "WVAUeD1crSsN"
   },
   "source": [
    "### Example\n",
    "Arithmetic and inter-column operations"
   ]
  },
  {
   "cell_type": "code",
   "execution_count": 53,
   "id": "c7b7a102",
   "metadata": {
    "collapsed": true
   },
   "outputs": [
    {
     "data": {
      "text/html": [
       "<div>\n",
       "<style scoped>\n",
       "    .dataframe tbody tr th:only-of-type {\n",
       "        vertical-align: middle;\n",
       "    }\n",
       "\n",
       "    .dataframe tbody tr th {\n",
       "        vertical-align: top;\n",
       "    }\n",
       "\n",
       "    .dataframe thead th {\n",
       "        text-align: right;\n",
       "    }\n",
       "</style>\n",
       "<table border=\"1\" class=\"dataframe\">\n",
       "  <thead>\n",
       "    <tr style=\"text-align: right;\">\n",
       "      <th></th>\n",
       "      <th>Room</th>\n",
       "      <th>Name</th>\n",
       "      <th>Age</th>\n",
       "      <th>Cuisine</th>\n",
       "      <th>Expenditure</th>\n",
       "    </tr>\n",
       "  </thead>\n",
       "  <tbody>\n",
       "    <tr>\n",
       "      <th>0</th>\n",
       "      <td>A1</td>\n",
       "      <td>Shilpa</td>\n",
       "      <td>18</td>\n",
       "      <td>Indian</td>\n",
       "      <td>24.65</td>\n",
       "    </tr>\n",
       "    <tr>\n",
       "      <th>1</th>\n",
       "      <td>A2</td>\n",
       "      <td>Jaspreet</td>\n",
       "      <td>32</td>\n",
       "      <td>American</td>\n",
       "      <td>18.54</td>\n",
       "    </tr>\n",
       "    <tr>\n",
       "      <th>2</th>\n",
       "      <td>A3</td>\n",
       "      <td>Dominic</td>\n",
       "      <td>19</td>\n",
       "      <td>Indian</td>\n",
       "      <td>27.66</td>\n",
       "    </tr>\n",
       "    <tr>\n",
       "      <th>3</th>\n",
       "      <td>A4</td>\n",
       "      <td>Ahmad</td>\n",
       "      <td>22</td>\n",
       "      <td>American</td>\n",
       "      <td>19.54</td>\n",
       "    </tr>\n",
       "    <tr>\n",
       "      <th>4</th>\n",
       "      <td>A5</td>\n",
       "      <td>Joseph</td>\n",
       "      <td>28</td>\n",
       "      <td>Indian</td>\n",
       "      <td>17.32</td>\n",
       "    </tr>\n",
       "    <tr>\n",
       "      <th>5</th>\n",
       "      <td>A6</td>\n",
       "      <td>Saju</td>\n",
       "      <td>31</td>\n",
       "      <td>Indian</td>\n",
       "      <td>12.56</td>\n",
       "    </tr>\n",
       "    <tr>\n",
       "      <th>6</th>\n",
       "      <td>A7</td>\n",
       "      <td>Monica</td>\n",
       "      <td>48</td>\n",
       "      <td>Chinese</td>\n",
       "      <td>11.09</td>\n",
       "    </tr>\n",
       "    <tr>\n",
       "      <th>7</th>\n",
       "      <td>A8</td>\n",
       "      <td>Preeti</td>\n",
       "      <td>67</td>\n",
       "      <td>American</td>\n",
       "      <td>12.23</td>\n",
       "    </tr>\n",
       "    <tr>\n",
       "      <th>8</th>\n",
       "      <td>A9</td>\n",
       "      <td>Emma</td>\n",
       "      <td>24</td>\n",
       "      <td>Indian</td>\n",
       "      <td>18.88</td>\n",
       "    </tr>\n",
       "    <tr>\n",
       "      <th>9</th>\n",
       "      <td>A10</td>\n",
       "      <td>Gaurav</td>\n",
       "      <td>29</td>\n",
       "      <td>Chinese</td>\n",
       "      <td>14.43</td>\n",
       "    </tr>\n",
       "  </tbody>\n",
       "</table>\n",
       "</div>"
      ],
      "text/plain": [
       "  Room      Name  Age   Cuisine  Expenditure\n",
       "0   A1    Shilpa   18    Indian        24.65\n",
       "1   A2  Jaspreet   32  American        18.54\n",
       "2   A3   Dominic   19    Indian        27.66\n",
       "3   A4     Ahmad   22  American        19.54\n",
       "4   A5    Joseph   28    Indian        17.32\n",
       "5   A6      Saju   31    Indian        12.56\n",
       "6   A7    Monica   48   Chinese        11.09\n",
       "7   A8    Preeti   67  American        12.23\n",
       "8   A9      Emma   24    Indian        18.88\n",
       "9  A10    Gaurav   29   Chinese        14.43"
      ]
     },
     "execution_count": 53,
     "metadata": {},
     "output_type": "execute_result"
    }
   ],
   "source": [
    "df"
   ]
  },
  {
   "cell_type": "code",
   "execution_count": 54,
   "id": "662cb6d7",
   "metadata": {
    "collapsed": true
   },
   "outputs": [
    {
     "data": {
      "text/plain": [
       "0    34.65\n",
       "1    28.54\n",
       "2    37.66\n",
       "3    29.54\n",
       "4    27.32\n",
       "5    22.56\n",
       "6    21.09\n",
       "7    22.23\n",
       "8    28.88\n",
       "9    24.43\n",
       "Name: Expenditure, dtype: float64"
      ]
     },
     "execution_count": 54,
     "metadata": {},
     "output_type": "execute_result"
    }
   ],
   "source": [
    "df['Expenditure'] + 10"
   ]
  },
  {
   "cell_type": "code",
   "execution_count": 55,
   "id": "e93f9c7c",
   "metadata": {
    "collapsed": true
   },
   "outputs": [
    {
     "data": {
      "text/plain": [
       "0    34.65\n",
       "1    28.54\n",
       "2    37.66\n",
       "3    29.54\n",
       "4    27.32\n",
       "5    22.56\n",
       "6    21.09\n",
       "7    22.23\n",
       "8    28.88\n",
       "9    24.43\n",
       "Name: Expenditure, dtype: float64"
      ]
     },
     "execution_count": 55,
     "metadata": {},
     "output_type": "execute_result"
    }
   ],
   "source": [
    "df['Expenditure'].add(10)"
   ]
  },
  {
   "cell_type": "code",
   "execution_count": 56,
   "id": "cb81ee18",
   "metadata": {
    "collapsed": true
   },
   "outputs": [
    {
     "data": {
      "text/plain": [
       "0    19.65\n",
       "1    13.54\n",
       "2    22.66\n",
       "3    14.54\n",
       "4    12.32\n",
       "5     7.56\n",
       "6     6.09\n",
       "7     7.23\n",
       "8    13.88\n",
       "9     9.43\n",
       "Name: Expenditure, dtype: float64"
      ]
     },
     "execution_count": 56,
     "metadata": {},
     "output_type": "execute_result"
    }
   ],
   "source": [
    "df['Expenditure'] - 5"
   ]
  },
  {
   "cell_type": "code",
   "execution_count": 57,
   "id": "1d62b8fa",
   "metadata": {
    "collapsed": true
   },
   "outputs": [
    {
     "data": {
      "text/plain": [
       "0    19.65\n",
       "1    13.54\n",
       "2    22.66\n",
       "3    14.54\n",
       "4    12.32\n",
       "5     7.56\n",
       "6     6.09\n",
       "7     7.23\n",
       "8    13.88\n",
       "9     9.43\n",
       "Name: Expenditure, dtype: float64"
      ]
     },
     "execution_count": 57,
     "metadata": {},
     "output_type": "execute_result"
    }
   ],
   "source": [
    "df['Expenditure'].sub(5)"
   ]
  },
  {
   "cell_type": "code",
   "execution_count": 58,
   "id": "a03af53c",
   "metadata": {
    "collapsed": true
   },
   "outputs": [
    {
     "data": {
      "text/plain": [
       "0    49.30\n",
       "1    37.08\n",
       "2    55.32\n",
       "3    39.08\n",
       "4    34.64\n",
       "5    25.12\n",
       "6    22.18\n",
       "7    24.46\n",
       "8    37.76\n",
       "9    28.86\n",
       "Name: Expenditure, dtype: float64"
      ]
     },
     "execution_count": 58,
     "metadata": {},
     "output_type": "execute_result"
    }
   ],
   "source": [
    "df['Expenditure']*2"
   ]
  },
  {
   "cell_type": "code",
   "execution_count": 59,
   "id": "3ebd4b87",
   "metadata": {
    "collapsed": true
   },
   "outputs": [
    {
     "data": {
      "text/plain": [
       "0    49.30\n",
       "1    37.08\n",
       "2    55.32\n",
       "3    39.08\n",
       "4    34.64\n",
       "5    25.12\n",
       "6    22.18\n",
       "7    24.46\n",
       "8    37.76\n",
       "9    28.86\n",
       "Name: Expenditure, dtype: float64"
      ]
     },
     "execution_count": 59,
     "metadata": {},
     "output_type": "execute_result"
    }
   ],
   "source": [
    "df['Expenditure'].mul(2)"
   ]
  },
  {
   "cell_type": "code",
   "execution_count": 60,
   "id": "c1363eac",
   "metadata": {
    "collapsed": true
   },
   "outputs": [
    {
     "data": {
      "text/plain": [
       "0    12.325\n",
       "1     9.270\n",
       "2    13.830\n",
       "3     9.770\n",
       "4     8.660\n",
       "5     6.280\n",
       "6     5.545\n",
       "7     6.115\n",
       "8     9.440\n",
       "9     7.215\n",
       "Name: Expenditure, dtype: float64"
      ]
     },
     "execution_count": 60,
     "metadata": {},
     "output_type": "execute_result"
    }
   ],
   "source": [
    "df['Expenditure']/2"
   ]
  },
  {
   "cell_type": "code",
   "execution_count": 61,
   "id": "1e08ca35",
   "metadata": {
    "collapsed": true
   },
   "outputs": [
    {
     "data": {
      "text/plain": [
       "0    12.325\n",
       "1     9.270\n",
       "2    13.830\n",
       "3     9.770\n",
       "4     8.660\n",
       "5     6.280\n",
       "6     5.545\n",
       "7     6.115\n",
       "8     9.440\n",
       "9     7.215\n",
       "Name: Expenditure, dtype: float64"
      ]
     },
     "execution_count": 61,
     "metadata": {},
     "output_type": "execute_result"
    }
   ],
   "source": [
    "df['Expenditure'].div(2)"
   ]
  },
  {
   "cell_type": "code",
   "execution_count": 64,
   "id": "a027cd46",
   "metadata": {
    "collapsed": true
   },
   "outputs": [
    {
     "data": {
      "text/plain": [
       "0    24.6\n",
       "1    18.5\n",
       "2    27.7\n",
       "3    19.5\n",
       "4    17.3\n",
       "5    12.6\n",
       "6    11.1\n",
       "7    12.2\n",
       "8    18.9\n",
       "9    14.4\n",
       "Name: Expenditure, dtype: float64"
      ]
     },
     "execution_count": 64,
     "metadata": {},
     "output_type": "execute_result"
    }
   ],
   "source": [
    "df[\"Expenditure\"].round(1)"
   ]
  },
  {
   "cell_type": "markdown",
   "id": "dacefc74",
   "metadata": {
    "id": "UFEVFuMhiVwz"
   },
   "source": [
    "### Example\n",
    "Statistical operations"
   ]
  },
  {
   "cell_type": "code",
   "execution_count": 65,
   "id": "1dbdd953",
   "metadata": {
    "colab": {
     "base_uri": "https://localhost:8080/",
     "height": 363
    },
    "collapsed": true,
    "executionInfo": {
     "elapsed": 73,
     "status": "ok",
     "timestamp": 1704219004238,
     "user": {
      "displayName": "Dawit Hadush",
      "userId": "03293108265000512791"
     },
     "user_tz": -330
    },
    "id": "2aUnIqkq5vcP",
    "outputId": "655dee44-e6cc-4838-e5e0-8e17a90ce2e8"
   },
   "outputs": [
    {
     "data": {
      "text/html": [
       "<div>\n",
       "<style scoped>\n",
       "    .dataframe tbody tr th:only-of-type {\n",
       "        vertical-align: middle;\n",
       "    }\n",
       "\n",
       "    .dataframe tbody tr th {\n",
       "        vertical-align: top;\n",
       "    }\n",
       "\n",
       "    .dataframe thead th {\n",
       "        text-align: right;\n",
       "    }\n",
       "</style>\n",
       "<table border=\"1\" class=\"dataframe\">\n",
       "  <thead>\n",
       "    <tr style=\"text-align: right;\">\n",
       "      <th></th>\n",
       "      <th>Room</th>\n",
       "      <th>Name</th>\n",
       "      <th>Age</th>\n",
       "      <th>Cuisine</th>\n",
       "      <th>Expenditure</th>\n",
       "    </tr>\n",
       "  </thead>\n",
       "  <tbody>\n",
       "    <tr>\n",
       "      <th>0</th>\n",
       "      <td>A1</td>\n",
       "      <td>Shilpa</td>\n",
       "      <td>18</td>\n",
       "      <td>Indian</td>\n",
       "      <td>24.65</td>\n",
       "    </tr>\n",
       "    <tr>\n",
       "      <th>1</th>\n",
       "      <td>A2</td>\n",
       "      <td>Jaspreet</td>\n",
       "      <td>32</td>\n",
       "      <td>American</td>\n",
       "      <td>18.54</td>\n",
       "    </tr>\n",
       "    <tr>\n",
       "      <th>2</th>\n",
       "      <td>A3</td>\n",
       "      <td>Dominic</td>\n",
       "      <td>19</td>\n",
       "      <td>Indian</td>\n",
       "      <td>27.66</td>\n",
       "    </tr>\n",
       "    <tr>\n",
       "      <th>3</th>\n",
       "      <td>A4</td>\n",
       "      <td>Ahmad</td>\n",
       "      <td>22</td>\n",
       "      <td>American</td>\n",
       "      <td>19.54</td>\n",
       "    </tr>\n",
       "    <tr>\n",
       "      <th>4</th>\n",
       "      <td>A5</td>\n",
       "      <td>Joseph</td>\n",
       "      <td>28</td>\n",
       "      <td>Indian</td>\n",
       "      <td>17.32</td>\n",
       "    </tr>\n",
       "    <tr>\n",
       "      <th>5</th>\n",
       "      <td>A6</td>\n",
       "      <td>Saju</td>\n",
       "      <td>31</td>\n",
       "      <td>Indian</td>\n",
       "      <td>12.56</td>\n",
       "    </tr>\n",
       "    <tr>\n",
       "      <th>6</th>\n",
       "      <td>A7</td>\n",
       "      <td>Monica</td>\n",
       "      <td>48</td>\n",
       "      <td>Chinese</td>\n",
       "      <td>11.09</td>\n",
       "    </tr>\n",
       "    <tr>\n",
       "      <th>7</th>\n",
       "      <td>A8</td>\n",
       "      <td>Preeti</td>\n",
       "      <td>67</td>\n",
       "      <td>American</td>\n",
       "      <td>12.23</td>\n",
       "    </tr>\n",
       "    <tr>\n",
       "      <th>8</th>\n",
       "      <td>A9</td>\n",
       "      <td>Emma</td>\n",
       "      <td>24</td>\n",
       "      <td>Indian</td>\n",
       "      <td>18.88</td>\n",
       "    </tr>\n",
       "    <tr>\n",
       "      <th>9</th>\n",
       "      <td>A10</td>\n",
       "      <td>Gaurav</td>\n",
       "      <td>29</td>\n",
       "      <td>Chinese</td>\n",
       "      <td>14.43</td>\n",
       "    </tr>\n",
       "  </tbody>\n",
       "</table>\n",
       "</div>"
      ],
      "text/plain": [
       "  Room      Name  Age   Cuisine  Expenditure\n",
       "0   A1    Shilpa   18    Indian        24.65\n",
       "1   A2  Jaspreet   32  American        18.54\n",
       "2   A3   Dominic   19    Indian        27.66\n",
       "3   A4     Ahmad   22  American        19.54\n",
       "4   A5    Joseph   28    Indian        17.32\n",
       "5   A6      Saju   31    Indian        12.56\n",
       "6   A7    Monica   48   Chinese        11.09\n",
       "7   A8    Preeti   67  American        12.23\n",
       "8   A9      Emma   24    Indian        18.88\n",
       "9  A10    Gaurav   29   Chinese        14.43"
      ]
     },
     "execution_count": 65,
     "metadata": {},
     "output_type": "execute_result"
    }
   ],
   "source": [
    "df"
   ]
  },
  {
   "cell_type": "code",
   "execution_count": 66,
   "id": "1d7b433f",
   "metadata": {
    "colab": {
     "base_uri": "https://localhost:8080/"
    },
    "executionInfo": {
     "elapsed": 72,
     "status": "ok",
     "timestamp": 1704219004238,
     "user": {
      "displayName": "Dawit Hadush",
      "userId": "03293108265000512791"
     },
     "user_tz": -330
    },
    "id": "kMSum59u5vcP",
    "outputId": "84bdeffa-88f8-4e0e-85eb-3bba99724e93"
   },
   "outputs": [
    {
     "data": {
      "text/plain": [
       "318"
      ]
     },
     "execution_count": 66,
     "metadata": {},
     "output_type": "execute_result"
    }
   ],
   "source": [
    "df['Age'].sum()"
   ]
  },
  {
   "cell_type": "code",
   "execution_count": 67,
   "id": "ec1cd775",
   "metadata": {
    "colab": {
     "base_uri": "https://localhost:8080/"
    },
    "executionInfo": {
     "elapsed": 69,
     "status": "ok",
     "timestamp": 1704219004238,
     "user": {
      "displayName": "Dawit Hadush",
      "userId": "03293108265000512791"
     },
     "user_tz": -330
    },
    "id": "nMN2MWYs5vcS",
    "outputId": "e758fad0-9919-4b03-e733-0964520a1362"
   },
   "outputs": [
    {
     "data": {
      "text/plain": [
       "31.8"
      ]
     },
     "execution_count": 67,
     "metadata": {},
     "output_type": "execute_result"
    }
   ],
   "source": [
    "df['Age'].mean()"
   ]
  },
  {
   "cell_type": "code",
   "execution_count": 68,
   "id": "4c52abc4",
   "metadata": {
    "colab": {
     "base_uri": "https://localhost:8080/"
    },
    "executionInfo": {
     "elapsed": 1152,
     "status": "ok",
     "timestamp": 1704219005322,
     "user": {
      "displayName": "Dawit Hadush",
      "userId": "03293108265000512791"
     },
     "user_tz": -330
    },
    "id": "c6V3GeVp5vcW",
    "outputId": "e14f42f7-1240-4095-8a3c-03ac212f0f79"
   },
   "outputs": [
    {
     "data": {
      "text/plain": [
       "17.689999999999998"
      ]
     },
     "execution_count": 68,
     "metadata": {},
     "output_type": "execute_result"
    }
   ],
   "source": [
    "df['Expenditure'].mean()"
   ]
  },
  {
   "cell_type": "code",
   "execution_count": 69,
   "id": "dd42c4f9",
   "metadata": {
    "colab": {
     "base_uri": "https://localhost:8080/"
    },
    "executionInfo": {
     "elapsed": 258,
     "status": "ok",
     "timestamp": 1704219005322,
     "user": {
      "displayName": "Dawit Hadush",
      "userId": "03293108265000512791"
     },
     "user_tz": -330
    },
    "id": "-B7jzXhI5vcX",
    "outputId": "9ed89579-1b8b-43ba-bc49-7c6046da4343"
   },
   "outputs": [
    {
     "data": {
      "text/plain": [
       "67"
      ]
     },
     "execution_count": 69,
     "metadata": {},
     "output_type": "execute_result"
    }
   ],
   "source": [
    "df['Age'].max()"
   ]
  },
  {
   "cell_type": "code",
   "execution_count": 70,
   "id": "3b3c3fe2",
   "metadata": {
    "colab": {
     "base_uri": "https://localhost:8080/"
    },
    "executionInfo": {
     "elapsed": 254,
     "status": "ok",
     "timestamp": 1704219005323,
     "user": {
      "displayName": "Dawit Hadush",
      "userId": "03293108265000512791"
     },
     "user_tz": -330
    },
    "id": "lfY28EaS5vcZ",
    "outputId": "f80d6645-fa19-4662-800e-be68ba6113e8"
   },
   "outputs": [
    {
     "data": {
      "text/plain": [
       "11.09"
      ]
     },
     "execution_count": 70,
     "metadata": {},
     "output_type": "execute_result"
    }
   ],
   "source": [
    "df['Expenditure'].min()"
   ]
  },
  {
   "cell_type": "code",
   "execution_count": 71,
   "id": "86a57f0e",
   "metadata": {
    "colab": {
     "base_uri": "https://localhost:8080/"
    },
    "executionInfo": {
     "elapsed": 252,
     "status": "ok",
     "timestamp": 1704219005323,
     "user": {
      "displayName": "Dawit Hadush",
      "userId": "03293108265000512791"
     },
     "user_tz": -330
    },
    "id": "J6XaUH0P5vcZ",
    "outputId": "6955586e-7597-4452-9a84-f5e4f253a313"
   },
   "outputs": [
    {
     "data": {
      "text/plain": [
       "0"
      ]
     },
     "execution_count": 71,
     "metadata": {},
     "output_type": "execute_result"
    }
   ],
   "source": [
    "df['Age'].idxmin()"
   ]
  },
  {
   "cell_type": "code",
   "execution_count": 72,
   "id": "13431189",
   "metadata": {
    "colab": {
     "base_uri": "https://localhost:8080/"
    },
    "executionInfo": {
     "elapsed": 250,
     "status": "ok",
     "timestamp": 1704219005323,
     "user": {
      "displayName": "Dawit Hadush",
      "userId": "03293108265000512791"
     },
     "user_tz": -330
    },
    "id": "GrSN8CDk5vcZ",
    "outputId": "d0c6093e-a92a-4fe4-c1ce-b351bc52934b"
   },
   "outputs": [
    {
     "data": {
      "text/plain": [
       "2"
      ]
     },
     "execution_count": 72,
     "metadata": {},
     "output_type": "execute_result"
    }
   ],
   "source": [
    "df['Expenditure'].idxmax()"
   ]
  },
  {
   "cell_type": "code",
   "execution_count": 73,
   "id": "398b5834",
   "metadata": {
    "colab": {
     "base_uri": "https://localhost:8080/"
    },
    "executionInfo": {
     "elapsed": 247,
     "status": "ok",
     "timestamp": 1704219005323,
     "user": {
      "displayName": "Dawit Hadush",
      "userId": "03293108265000512791"
     },
     "user_tz": -330
    },
    "id": "XBkNtlSA5vca",
    "outputId": "c67a1ab4-ec4f-4964-e2fb-1a59c222c968"
   },
   "outputs": [
    {
     "data": {
      "text/plain": [
       "17.93"
      ]
     },
     "execution_count": 73,
     "metadata": {},
     "output_type": "execute_result"
    }
   ],
   "source": [
    "df['Expenditure'].median()"
   ]
  },
  {
   "cell_type": "code",
   "execution_count": 74,
   "id": "09f3060e",
   "metadata": {
    "colab": {
     "base_uri": "https://localhost:8080/"
    },
    "executionInfo": {
     "elapsed": 241,
     "status": "ok",
     "timestamp": 1704219005324,
     "user": {
      "displayName": "Dawit Hadush",
      "userId": "03293108265000512791"
     },
     "user_tz": -330
    },
    "id": "IaYGDFi55vcb",
    "outputId": "8a958d05-6f8a-44ed-b21e-c998c3e59926"
   },
   "outputs": [
    {
     "data": {
      "text/plain": [
       "array(['Indian', 'American', 'Chinese'], dtype=object)"
      ]
     },
     "execution_count": 74,
     "metadata": {},
     "output_type": "execute_result"
    }
   ],
   "source": [
    "df['Cuisine'].unique()\n",
    "# unique values"
   ]
  },
  {
   "cell_type": "code",
   "execution_count": 75,
   "id": "075587d0",
   "metadata": {},
   "outputs": [
    {
     "data": {
      "text/plain": [
       "3"
      ]
     },
     "execution_count": 75,
     "metadata": {},
     "output_type": "execute_result"
    }
   ],
   "source": [
    "df['Cuisine'].nunique()\n",
    "# number of unique values"
   ]
  },
  {
   "cell_type": "code",
   "execution_count": 76,
   "id": "93d31d29",
   "metadata": {
    "colab": {
     "base_uri": "https://localhost:8080/"
    },
    "executionInfo": {
     "elapsed": 237,
     "status": "ok",
     "timestamp": 1704219005324,
     "user": {
      "displayName": "Dawit Hadush",
      "userId": "03293108265000512791"
     },
     "user_tz": -330
    },
    "id": "XUFwMmC35vcc",
    "outputId": "1e5ae822-aea5-499f-b62f-d4852f4c7163"
   },
   "outputs": [
    {
     "data": {
      "text/plain": [
       "Indian      5\n",
       "American    3\n",
       "Chinese     2\n",
       "Name: Cuisine, dtype: int64"
      ]
     },
     "execution_count": 76,
     "metadata": {},
     "output_type": "execute_result"
    }
   ],
   "source": [
    "df['Cuisine'].value_counts()\n",
    "# count of each unique value"
   ]
  },
  {
   "cell_type": "code",
   "execution_count": 77,
   "id": "204fbab9",
   "metadata": {},
   "outputs": [
    {
     "data": {
      "text/plain": [
       "10"
      ]
     },
     "execution_count": 77,
     "metadata": {},
     "output_type": "execute_result"
    }
   ],
   "source": [
    "df['Cuisine'].count()"
   ]
  },
  {
   "cell_type": "markdown",
   "id": "3c1eab86",
   "metadata": {
    "id": "AM64AAVplve1"
   },
   "source": [
    "### Example\n",
    "Sorting operations"
   ]
  },
  {
   "cell_type": "code",
   "execution_count": 78,
   "id": "7ad07d8e",
   "metadata": {
    "colab": {
     "base_uri": "https://localhost:8080/",
     "height": 363
    },
    "collapsed": true,
    "executionInfo": {
     "elapsed": 183,
     "status": "ok",
     "timestamp": 1704219005326,
     "user": {
      "displayName": "Dawit Hadush",
      "userId": "03293108265000512791"
     },
     "user_tz": -330
    },
    "id": "3_CGVs105vd6",
    "outputId": "cb20a890-0dd3-4b09-c5df-aa55aa1dfc0e"
   },
   "outputs": [
    {
     "data": {
      "text/html": [
       "<div>\n",
       "<style scoped>\n",
       "    .dataframe tbody tr th:only-of-type {\n",
       "        vertical-align: middle;\n",
       "    }\n",
       "\n",
       "    .dataframe tbody tr th {\n",
       "        vertical-align: top;\n",
       "    }\n",
       "\n",
       "    .dataframe thead th {\n",
       "        text-align: right;\n",
       "    }\n",
       "</style>\n",
       "<table border=\"1\" class=\"dataframe\">\n",
       "  <thead>\n",
       "    <tr style=\"text-align: right;\">\n",
       "      <th></th>\n",
       "      <th>Room</th>\n",
       "      <th>Name</th>\n",
       "      <th>Age</th>\n",
       "      <th>Cuisine</th>\n",
       "      <th>Expenditure</th>\n",
       "    </tr>\n",
       "  </thead>\n",
       "  <tbody>\n",
       "    <tr>\n",
       "      <th>0</th>\n",
       "      <td>A1</td>\n",
       "      <td>Shilpa</td>\n",
       "      <td>18</td>\n",
       "      <td>Indian</td>\n",
       "      <td>24.65</td>\n",
       "    </tr>\n",
       "    <tr>\n",
       "      <th>1</th>\n",
       "      <td>A2</td>\n",
       "      <td>Jaspreet</td>\n",
       "      <td>32</td>\n",
       "      <td>American</td>\n",
       "      <td>18.54</td>\n",
       "    </tr>\n",
       "    <tr>\n",
       "      <th>2</th>\n",
       "      <td>A3</td>\n",
       "      <td>Dominic</td>\n",
       "      <td>19</td>\n",
       "      <td>Indian</td>\n",
       "      <td>27.66</td>\n",
       "    </tr>\n",
       "    <tr>\n",
       "      <th>3</th>\n",
       "      <td>A4</td>\n",
       "      <td>Ahmad</td>\n",
       "      <td>22</td>\n",
       "      <td>American</td>\n",
       "      <td>19.54</td>\n",
       "    </tr>\n",
       "    <tr>\n",
       "      <th>4</th>\n",
       "      <td>A5</td>\n",
       "      <td>Joseph</td>\n",
       "      <td>28</td>\n",
       "      <td>Indian</td>\n",
       "      <td>17.32</td>\n",
       "    </tr>\n",
       "    <tr>\n",
       "      <th>5</th>\n",
       "      <td>A6</td>\n",
       "      <td>Saju</td>\n",
       "      <td>31</td>\n",
       "      <td>Indian</td>\n",
       "      <td>12.56</td>\n",
       "    </tr>\n",
       "    <tr>\n",
       "      <th>6</th>\n",
       "      <td>A7</td>\n",
       "      <td>Monica</td>\n",
       "      <td>48</td>\n",
       "      <td>Chinese</td>\n",
       "      <td>11.09</td>\n",
       "    </tr>\n",
       "    <tr>\n",
       "      <th>7</th>\n",
       "      <td>A8</td>\n",
       "      <td>Preeti</td>\n",
       "      <td>67</td>\n",
       "      <td>American</td>\n",
       "      <td>12.23</td>\n",
       "    </tr>\n",
       "    <tr>\n",
       "      <th>8</th>\n",
       "      <td>A9</td>\n",
       "      <td>Emma</td>\n",
       "      <td>24</td>\n",
       "      <td>Indian</td>\n",
       "      <td>18.88</td>\n",
       "    </tr>\n",
       "    <tr>\n",
       "      <th>9</th>\n",
       "      <td>A10</td>\n",
       "      <td>Gaurav</td>\n",
       "      <td>29</td>\n",
       "      <td>Chinese</td>\n",
       "      <td>14.43</td>\n",
       "    </tr>\n",
       "  </tbody>\n",
       "</table>\n",
       "</div>"
      ],
      "text/plain": [
       "  Room      Name  Age   Cuisine  Expenditure\n",
       "0   A1    Shilpa   18    Indian        24.65\n",
       "1   A2  Jaspreet   32  American        18.54\n",
       "2   A3   Dominic   19    Indian        27.66\n",
       "3   A4     Ahmad   22  American        19.54\n",
       "4   A5    Joseph   28    Indian        17.32\n",
       "5   A6      Saju   31    Indian        12.56\n",
       "6   A7    Monica   48   Chinese        11.09\n",
       "7   A8    Preeti   67  American        12.23\n",
       "8   A9      Emma   24    Indian        18.88\n",
       "9  A10    Gaurav   29   Chinese        14.43"
      ]
     },
     "execution_count": 78,
     "metadata": {},
     "output_type": "execute_result"
    }
   ],
   "source": [
    "df"
   ]
  },
  {
   "cell_type": "code",
   "execution_count": 79,
   "id": "bcc186d2",
   "metadata": {
    "colab": {
     "base_uri": "https://localhost:8080/",
     "height": 363
    },
    "collapsed": true,
    "executionInfo": {
     "elapsed": 177,
     "status": "ok",
     "timestamp": 1704219005326,
     "user": {
      "displayName": "Dawit Hadush",
      "userId": "03293108265000512791"
     },
     "user_tz": -330
    },
    "id": "zZoFOLzL5vd_",
    "outputId": "0deee6ba-91c5-4e38-a94a-5cbec0eefc40"
   },
   "outputs": [
    {
     "data": {
      "text/html": [
       "<div>\n",
       "<style scoped>\n",
       "    .dataframe tbody tr th:only-of-type {\n",
       "        vertical-align: middle;\n",
       "    }\n",
       "\n",
       "    .dataframe tbody tr th {\n",
       "        vertical-align: top;\n",
       "    }\n",
       "\n",
       "    .dataframe thead th {\n",
       "        text-align: right;\n",
       "    }\n",
       "</style>\n",
       "<table border=\"1\" class=\"dataframe\">\n",
       "  <thead>\n",
       "    <tr style=\"text-align: right;\">\n",
       "      <th></th>\n",
       "      <th>Room</th>\n",
       "      <th>Name</th>\n",
       "      <th>Age</th>\n",
       "      <th>Cuisine</th>\n",
       "      <th>Expenditure</th>\n",
       "    </tr>\n",
       "  </thead>\n",
       "  <tbody>\n",
       "    <tr>\n",
       "      <th>6</th>\n",
       "      <td>A7</td>\n",
       "      <td>Monica</td>\n",
       "      <td>48</td>\n",
       "      <td>Chinese</td>\n",
       "      <td>11.09</td>\n",
       "    </tr>\n",
       "    <tr>\n",
       "      <th>7</th>\n",
       "      <td>A8</td>\n",
       "      <td>Preeti</td>\n",
       "      <td>67</td>\n",
       "      <td>American</td>\n",
       "      <td>12.23</td>\n",
       "    </tr>\n",
       "    <tr>\n",
       "      <th>5</th>\n",
       "      <td>A6</td>\n",
       "      <td>Saju</td>\n",
       "      <td>31</td>\n",
       "      <td>Indian</td>\n",
       "      <td>12.56</td>\n",
       "    </tr>\n",
       "    <tr>\n",
       "      <th>9</th>\n",
       "      <td>A10</td>\n",
       "      <td>Gaurav</td>\n",
       "      <td>29</td>\n",
       "      <td>Chinese</td>\n",
       "      <td>14.43</td>\n",
       "    </tr>\n",
       "    <tr>\n",
       "      <th>4</th>\n",
       "      <td>A5</td>\n",
       "      <td>Joseph</td>\n",
       "      <td>28</td>\n",
       "      <td>Indian</td>\n",
       "      <td>17.32</td>\n",
       "    </tr>\n",
       "    <tr>\n",
       "      <th>1</th>\n",
       "      <td>A2</td>\n",
       "      <td>Jaspreet</td>\n",
       "      <td>32</td>\n",
       "      <td>American</td>\n",
       "      <td>18.54</td>\n",
       "    </tr>\n",
       "    <tr>\n",
       "      <th>8</th>\n",
       "      <td>A9</td>\n",
       "      <td>Emma</td>\n",
       "      <td>24</td>\n",
       "      <td>Indian</td>\n",
       "      <td>18.88</td>\n",
       "    </tr>\n",
       "    <tr>\n",
       "      <th>3</th>\n",
       "      <td>A4</td>\n",
       "      <td>Ahmad</td>\n",
       "      <td>22</td>\n",
       "      <td>American</td>\n",
       "      <td>19.54</td>\n",
       "    </tr>\n",
       "    <tr>\n",
       "      <th>0</th>\n",
       "      <td>A1</td>\n",
       "      <td>Shilpa</td>\n",
       "      <td>18</td>\n",
       "      <td>Indian</td>\n",
       "      <td>24.65</td>\n",
       "    </tr>\n",
       "    <tr>\n",
       "      <th>2</th>\n",
       "      <td>A3</td>\n",
       "      <td>Dominic</td>\n",
       "      <td>19</td>\n",
       "      <td>Indian</td>\n",
       "      <td>27.66</td>\n",
       "    </tr>\n",
       "  </tbody>\n",
       "</table>\n",
       "</div>"
      ],
      "text/plain": [
       "  Room      Name  Age   Cuisine  Expenditure\n",
       "6   A7    Monica   48   Chinese        11.09\n",
       "7   A8    Preeti   67  American        12.23\n",
       "5   A6      Saju   31    Indian        12.56\n",
       "9  A10    Gaurav   29   Chinese        14.43\n",
       "4   A5    Joseph   28    Indian        17.32\n",
       "1   A2  Jaspreet   32  American        18.54\n",
       "8   A9      Emma   24    Indian        18.88\n",
       "3   A4     Ahmad   22  American        19.54\n",
       "0   A1    Shilpa   18    Indian        24.65\n",
       "2   A3   Dominic   19    Indian        27.66"
      ]
     },
     "execution_count": 79,
     "metadata": {},
     "output_type": "execute_result"
    }
   ],
   "source": [
    "df.sort_values(by = 'Expenditure')\n",
    "# ascending order - by default"
   ]
  },
  {
   "cell_type": "code",
   "execution_count": 80,
   "id": "490066d4",
   "metadata": {
    "colab": {
     "base_uri": "https://localhost:8080/",
     "height": 363
    },
    "collapsed": true,
    "executionInfo": {
     "elapsed": 169,
     "status": "ok",
     "timestamp": 1704219005326,
     "user": {
      "displayName": "Dawit Hadush",
      "userId": "03293108265000512791"
     },
     "user_tz": -330
    },
    "id": "ZGJok9lb5veA",
    "outputId": "8693e110-42a1-4135-8a5b-d967a205af3f"
   },
   "outputs": [
    {
     "data": {
      "text/html": [
       "<div>\n",
       "<style scoped>\n",
       "    .dataframe tbody tr th:only-of-type {\n",
       "        vertical-align: middle;\n",
       "    }\n",
       "\n",
       "    .dataframe tbody tr th {\n",
       "        vertical-align: top;\n",
       "    }\n",
       "\n",
       "    .dataframe thead th {\n",
       "        text-align: right;\n",
       "    }\n",
       "</style>\n",
       "<table border=\"1\" class=\"dataframe\">\n",
       "  <thead>\n",
       "    <tr style=\"text-align: right;\">\n",
       "      <th></th>\n",
       "      <th>Room</th>\n",
       "      <th>Name</th>\n",
       "      <th>Age</th>\n",
       "      <th>Cuisine</th>\n",
       "      <th>Expenditure</th>\n",
       "    </tr>\n",
       "  </thead>\n",
       "  <tbody>\n",
       "    <tr>\n",
       "      <th>2</th>\n",
       "      <td>A3</td>\n",
       "      <td>Dominic</td>\n",
       "      <td>19</td>\n",
       "      <td>Indian</td>\n",
       "      <td>27.66</td>\n",
       "    </tr>\n",
       "    <tr>\n",
       "      <th>0</th>\n",
       "      <td>A1</td>\n",
       "      <td>Shilpa</td>\n",
       "      <td>18</td>\n",
       "      <td>Indian</td>\n",
       "      <td>24.65</td>\n",
       "    </tr>\n",
       "    <tr>\n",
       "      <th>3</th>\n",
       "      <td>A4</td>\n",
       "      <td>Ahmad</td>\n",
       "      <td>22</td>\n",
       "      <td>American</td>\n",
       "      <td>19.54</td>\n",
       "    </tr>\n",
       "    <tr>\n",
       "      <th>8</th>\n",
       "      <td>A9</td>\n",
       "      <td>Emma</td>\n",
       "      <td>24</td>\n",
       "      <td>Indian</td>\n",
       "      <td>18.88</td>\n",
       "    </tr>\n",
       "    <tr>\n",
       "      <th>1</th>\n",
       "      <td>A2</td>\n",
       "      <td>Jaspreet</td>\n",
       "      <td>32</td>\n",
       "      <td>American</td>\n",
       "      <td>18.54</td>\n",
       "    </tr>\n",
       "    <tr>\n",
       "      <th>4</th>\n",
       "      <td>A5</td>\n",
       "      <td>Joseph</td>\n",
       "      <td>28</td>\n",
       "      <td>Indian</td>\n",
       "      <td>17.32</td>\n",
       "    </tr>\n",
       "    <tr>\n",
       "      <th>9</th>\n",
       "      <td>A10</td>\n",
       "      <td>Gaurav</td>\n",
       "      <td>29</td>\n",
       "      <td>Chinese</td>\n",
       "      <td>14.43</td>\n",
       "    </tr>\n",
       "    <tr>\n",
       "      <th>5</th>\n",
       "      <td>A6</td>\n",
       "      <td>Saju</td>\n",
       "      <td>31</td>\n",
       "      <td>Indian</td>\n",
       "      <td>12.56</td>\n",
       "    </tr>\n",
       "    <tr>\n",
       "      <th>7</th>\n",
       "      <td>A8</td>\n",
       "      <td>Preeti</td>\n",
       "      <td>67</td>\n",
       "      <td>American</td>\n",
       "      <td>12.23</td>\n",
       "    </tr>\n",
       "    <tr>\n",
       "      <th>6</th>\n",
       "      <td>A7</td>\n",
       "      <td>Monica</td>\n",
       "      <td>48</td>\n",
       "      <td>Chinese</td>\n",
       "      <td>11.09</td>\n",
       "    </tr>\n",
       "  </tbody>\n",
       "</table>\n",
       "</div>"
      ],
      "text/plain": [
       "  Room      Name  Age   Cuisine  Expenditure\n",
       "2   A3   Dominic   19    Indian        27.66\n",
       "0   A1    Shilpa   18    Indian        24.65\n",
       "3   A4     Ahmad   22  American        19.54\n",
       "8   A9      Emma   24    Indian        18.88\n",
       "1   A2  Jaspreet   32  American        18.54\n",
       "4   A5    Joseph   28    Indian        17.32\n",
       "9  A10    Gaurav   29   Chinese        14.43\n",
       "5   A6      Saju   31    Indian        12.56\n",
       "7   A8    Preeti   67  American        12.23\n",
       "6   A7    Monica   48   Chinese        11.09"
      ]
     },
     "execution_count": 80,
     "metadata": {},
     "output_type": "execute_result"
    }
   ],
   "source": [
    "df.sort_values(by = 'Expenditure', ascending = False)\n",
    "# descending order"
   ]
  },
  {
   "cell_type": "markdown",
   "id": "99592871",
   "metadata": {
    "id": "L-JL0i2B5vel"
   },
   "source": [
    "### Example\n",
    "Group operations"
   ]
  },
  {
   "cell_type": "code",
   "execution_count": 81,
   "id": "cd7afd02",
   "metadata": {
    "collapsed": true
   },
   "outputs": [
    {
     "data": {
      "text/plain": [
       "Cuisine\n",
       "American    16.770\n",
       "Chinese     12.760\n",
       "Indian      20.214\n",
       "Name: Expenditure, dtype: float64"
      ]
     },
     "execution_count": 81,
     "metadata": {},
     "output_type": "execute_result"
    }
   ],
   "source": [
    "df.groupby(\"Cuisine\")[\"Expenditure\"].mean()"
   ]
  },
  {
   "cell_type": "code",
   "execution_count": 84,
   "id": "7f64e07a",
   "metadata": {
    "collapsed": true
   },
   "outputs": [
    {
     "name": "stdout",
     "output_type": "stream",
     "text": [
      "16.77\n",
      "12.76\n",
      "20.214\n"
     ]
    }
   ],
   "source": [
    "print(df[df[\"Cuisine\"]==\"American\"][\"Expenditure\"].mean())\n",
    "print(df[df[\"Cuisine\"]==\"Chinese\"][\"Expenditure\"].mean())\n",
    "print(df[df[\"Cuisine\"]==\"Indian\"][\"Expenditure\"].mean())"
   ]
  },
  {
   "cell_type": "code",
   "execution_count": 85,
   "id": "03723f1c",
   "metadata": {
    "collapsed": true
   },
   "outputs": [
    {
     "name": "stdout",
     "output_type": "stream",
     "text": [
      "19.54\n",
      "14.43\n",
      "27.66\n"
     ]
    }
   ],
   "source": [
    "print(df[df[\"Cuisine\"]==\"American\"][\"Expenditure\"].max())\n",
    "print(df[df[\"Cuisine\"]==\"Chinese\"][\"Expenditure\"].max())\n",
    "print(df[df[\"Cuisine\"]==\"Indian\"][\"Expenditure\"].max())"
   ]
  },
  {
   "cell_type": "code",
   "execution_count": 86,
   "id": "ed531268",
   "metadata": {
    "collapsed": true
   },
   "outputs": [
    {
     "data": {
      "text/plain": [
       "Cuisine\n",
       "American    19.54\n",
       "Chinese     14.43\n",
       "Indian      27.66\n",
       "Name: Expenditure, dtype: float64"
      ]
     },
     "execution_count": 86,
     "metadata": {},
     "output_type": "execute_result"
    }
   ],
   "source": [
    "df.groupby(\"Cuisine\")[\"Expenditure\"].max()"
   ]
  },
  {
   "cell_type": "code",
   "execution_count": 87,
   "id": "e65f8b3a",
   "metadata": {
    "collapsed": true
   },
   "outputs": [
    {
     "data": {
      "text/plain": [
       "Cuisine\n",
       "American    12.23\n",
       "Chinese     11.09\n",
       "Indian      12.56\n",
       "Name: Expenditure, dtype: float64"
      ]
     },
     "execution_count": 87,
     "metadata": {},
     "output_type": "execute_result"
    }
   ],
   "source": [
    "df.groupby(\"Cuisine\")[\"Expenditure\"].min()"
   ]
  },
  {
   "cell_type": "code",
   "execution_count": null,
   "id": "82611026",
   "metadata": {},
   "outputs": [],
   "source": [
    "#max/min/sum/median/count/mean etc etc"
   ]
  }
 ],
 "metadata": {
  "kernelspec": {
   "display_name": "Python 3",
   "language": "python",
   "name": "python3"
  },
  "language_info": {
   "codemirror_mode": {
    "name": "ipython",
    "version": 3
   },
   "file_extension": ".py",
   "mimetype": "text/x-python",
   "name": "python",
   "nbconvert_exporter": "python",
   "pygments_lexer": "ipython3",
   "version": "3.8.8"
  }
 },
 "nbformat": 4,
 "nbformat_minor": 5
}
