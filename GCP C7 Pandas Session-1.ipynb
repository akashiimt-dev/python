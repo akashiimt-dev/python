{
 "cells": [
  {
   "cell_type": "markdown",
   "id": "45279ba2",
   "metadata": {
    "id": "bqHqJ0X8SaCe"
   },
   "source": [
    "# Pandas\n",
    "We will learn about the basics of Pandas, which is a powerful, open-source data analysis and manipulation library for Python built on top of the NumPy package. **Pandas** is derived from the term **panel data**.\n",
    "\n",
    "In this session, we will study Pandas series and dataframes and some basic operations related to them\n",
    "\n",
    "To get started using `pandas`, import it into your Python program as follows:"
   ]
  },
  {
   "cell_type": "code",
   "execution_count": 1,
   "id": "d7666df1",
   "metadata": {},
   "outputs": [],
   "source": [
    "import pandas as pd"
   ]
  },
  {
   "cell_type": "markdown",
   "id": "b7a199b0",
   "metadata": {
    "id": "uHzXafJxSpFp"
   },
   "source": [
    "# Series\n",
    "The Pandas `Series` object is a 1D labeled array capable of holding data of any type"
   ]
  },
  {
   "cell_type": "markdown",
   "id": "c2522b59",
   "metadata": {
    "id": "xcVtay7KAQrt"
   },
   "source": [
    "### Example\n",
    "Creating series"
   ]
  },
  {
   "cell_type": "code",
   "execution_count": 2,
   "id": "38901546",
   "metadata": {},
   "outputs": [],
   "source": [
    "empty_series = pd.Series(data = None, dtype = 'int')"
   ]
  },
  {
   "cell_type": "code",
   "execution_count": 3,
   "id": "c875af05",
   "metadata": {
    "colab": {
     "base_uri": "https://localhost:8080/"
    },
    "executionInfo": {
     "elapsed": 30,
     "status": "ok",
     "timestamp": 1704217106830,
     "user": {
      "displayName": "Dawit Hadush",
      "userId": "03293108265000512791"
     },
     "user_tz": -330
    },
    "id": "abbsSXR1DeGE",
    "outputId": "75edbb53-03ef-4b3c-838c-de38c608de3a"
   },
   "outputs": [
    {
     "data": {
      "text/plain": [
       "Series([], dtype: int64)"
      ]
     },
     "execution_count": 3,
     "metadata": {},
     "output_type": "execute_result"
    }
   ],
   "source": [
    "empty_series"
   ]
  },
  {
   "cell_type": "code",
   "execution_count": 4,
   "id": "a70b37f1",
   "metadata": {
    "colab": {
     "base_uri": "https://localhost:8080/"
    },
    "executionInfo": {
     "elapsed": 27,
     "status": "ok",
     "timestamp": 1704217106830,
     "user": {
      "displayName": "Dawit Hadush",
      "userId": "03293108265000512791"
     },
     "user_tz": -330
    },
    "id": "yGtenoN45vUo",
    "outputId": "db56eacb-95d6-409b-8a73-1f1d4664093e"
   },
   "outputs": [
    {
     "data": {
      "text/plain": [
       "pandas.core.series.Series"
      ]
     },
     "execution_count": 4,
     "metadata": {},
     "output_type": "execute_result"
    }
   ],
   "source": [
    "type(empty_series)"
   ]
  },
  {
   "cell_type": "code",
   "execution_count": 5,
   "id": "d251189e",
   "metadata": {
    "colab": {
     "base_uri": "https://localhost:8080/"
    },
    "executionInfo": {
     "elapsed": 23,
     "status": "ok",
     "timestamp": 1704217106830,
     "user": {
      "displayName": "Dawit Hadush",
      "userId": "03293108265000512791"
     },
     "user_tz": -330
    },
    "id": "3QWm-U-fC7rx",
    "outputId": "d5528c05-af45-4010-e717-65ca44e2e621"
   },
   "outputs": [
    {
     "name": "stdout",
     "output_type": "stream",
     "text": [
      "Series([], dtype: int64)\n"
     ]
    }
   ],
   "source": [
    "print(empty_series)"
   ]
  },
  {
   "cell_type": "code",
   "execution_count": 6,
   "id": "015538ad",
   "metadata": {
    "executionInfo": {
     "elapsed": 18,
     "status": "ok",
     "timestamp": 1704217106830,
     "user": {
      "displayName": "Dawit Hadush",
      "userId": "03293108265000512791"
     },
     "user_tz": -330
    },
    "id": "xGyn4w3J5vUp"
   },
   "outputs": [],
   "source": [
    "production_data = [1000, 1200, 1100, 950, 1050, 1430, 1760]\n",
    "production_day = ['Day1', 'Day2', 'Day3', 'Day4', 'Day5', 'Day6', 'Day7']"
   ]
  },
  {
   "cell_type": "code",
   "execution_count": 7,
   "id": "a737f8d3",
   "metadata": {
    "collapsed": true,
    "executionInfo": {
     "elapsed": 18,
     "status": "ok",
     "timestamp": 1704217106830,
     "user": {
      "displayName": "Dawit Hadush",
      "userId": "03293108265000512791"
     },
     "user_tz": -330
    },
    "id": "XjoNm5bdXlPy"
   },
   "outputs": [
    {
     "data": {
      "text/plain": [
       "0    1000\n",
       "1    1200\n",
       "2    1100\n",
       "3     950\n",
       "4    1050\n",
       "5    1430\n",
       "6    1760\n",
       "Name: Production_Details, dtype: int64"
      ]
     },
     "execution_count": 7,
     "metadata": {},
     "output_type": "execute_result"
    }
   ],
   "source": [
    "daily_production = pd.Series(data = production_data, name = 'Production_Details')\n",
    "daily_production"
   ]
  },
  {
   "cell_type": "code",
   "execution_count": 8,
   "id": "8d63dfff",
   "metadata": {
    "collapsed": true
   },
   "outputs": [
    {
     "data": {
      "text/plain": [
       "Day1    1000\n",
       "Day2    1200\n",
       "Day3    1100\n",
       "Day4     950\n",
       "Day5    1050\n",
       "Day6    1430\n",
       "Day7    1760\n",
       "Name: Production_Details, dtype: int64"
      ]
     },
     "execution_count": 8,
     "metadata": {},
     "output_type": "execute_result"
    }
   ],
   "source": [
    "daily_production = pd.Series(data = production_data, index=production_day,name = 'Production_Details')\n",
    "daily_production"
   ]
  },
  {
   "cell_type": "code",
   "execution_count": 9,
   "id": "8beba17f",
   "metadata": {},
   "outputs": [
    {
     "data": {
      "text/plain": [
       "Index(['Day1', 'Day2', 'Day3', 'Day4', 'Day5', 'Day6', 'Day7'], dtype='object')"
      ]
     },
     "execution_count": 9,
     "metadata": {},
     "output_type": "execute_result"
    }
   ],
   "source": [
    "daily_production.index"
   ]
  },
  {
   "cell_type": "code",
   "execution_count": 10,
   "id": "428c062d",
   "metadata": {},
   "outputs": [
    {
     "data": {
      "text/plain": [
       "array([1000, 1200, 1100,  950, 1050, 1430, 1760])"
      ]
     },
     "execution_count": 10,
     "metadata": {},
     "output_type": "execute_result"
    }
   ],
   "source": [
    "daily_production.values"
   ]
  },
  {
   "cell_type": "code",
   "execution_count": 11,
   "id": "7f308933",
   "metadata": {},
   "outputs": [
    {
     "data": {
      "text/plain": [
       "dtype('int64')"
      ]
     },
     "execution_count": 11,
     "metadata": {},
     "output_type": "execute_result"
    }
   ],
   "source": [
    "daily_production.dtype"
   ]
  },
  {
   "cell_type": "code",
   "execution_count": 12,
   "id": "a798593c",
   "metadata": {
    "colab": {
     "base_uri": "https://localhost:8080/"
    },
    "executionInfo": {
     "elapsed": 111,
     "status": "ok",
     "timestamp": 1704217107843,
     "user": {
      "displayName": "Dawit Hadush",
      "userId": "03293108265000512791"
     },
     "user_tz": -330
    },
    "id": "rozQQaIj5vUw",
    "outputId": "b4963424-9abc-48ab-fe0f-8fbd24f588cd"
   },
   "outputs": [
    {
     "data": {
      "text/plain": [
       "(7,)"
      ]
     },
     "execution_count": 12,
     "metadata": {},
     "output_type": "execute_result"
    }
   ],
   "source": [
    "daily_production.shape"
   ]
  },
  {
   "cell_type": "code",
   "execution_count": 13,
   "id": "0c0a00c5",
   "metadata": {
    "colab": {
     "base_uri": "https://localhost:8080/"
    },
    "executionInfo": {
     "elapsed": 107,
     "status": "ok",
     "timestamp": 1704217107843,
     "user": {
      "displayName": "Dawit Hadush",
      "userId": "03293108265000512791"
     },
     "user_tz": -330
    },
    "id": "FMIJ3Pwm5vUw",
    "outputId": "5c1fbfe5-3fce-4d35-a4e4-d01e70c4dcc2"
   },
   "outputs": [
    {
     "data": {
      "text/plain": [
       "1"
      ]
     },
     "execution_count": 13,
     "metadata": {},
     "output_type": "execute_result"
    }
   ],
   "source": [
    "daily_production.ndim"
   ]
  },
  {
   "cell_type": "code",
   "execution_count": 14,
   "id": "0e1b6493",
   "metadata": {
    "colab": {
     "base_uri": "https://localhost:8080/"
    },
    "executionInfo": {
     "elapsed": 103,
     "status": "ok",
     "timestamp": 1704217107843,
     "user": {
      "displayName": "Dawit Hadush",
      "userId": "03293108265000512791"
     },
     "user_tz": -330
    },
    "id": "x01WusS-5vUx",
    "outputId": "97e2a052-0b84-4a17-b2f0-7a7d26863a37"
   },
   "outputs": [
    {
     "data": {
      "text/plain": [
       "7"
      ]
     },
     "execution_count": 14,
     "metadata": {},
     "output_type": "execute_result"
    }
   ],
   "source": [
    "daily_production.size"
   ]
  },
  {
   "cell_type": "code",
   "execution_count": 16,
   "id": "635d5065",
   "metadata": {},
   "outputs": [
    {
     "data": {
      "text/plain": [
       "Jan    2567.65\n",
       "Feb    2809.44\n",
       "Mar    3001.60\n",
       "Apr    2787.60\n",
       "May    3203.40\n",
       "dtype: float64"
      ]
     },
     "execution_count": 16,
     "metadata": {},
     "output_type": "execute_result"
    }
   ],
   "source": [
    "monthly_expenses = {'Jan': 2567.65,\n",
    "                    'Feb': 2809.44,\n",
    "                    'Mar': 3001.6,\n",
    "                    'Apr': 2787.6,\n",
    "                    'May': 3203.4}\n",
    "expenses_series = pd.Series(data = monthly_expenses)\n",
    "expenses_series"
   ]
  },
  {
   "cell_type": "code",
   "execution_count": 17,
   "id": "ea4c4c38",
   "metadata": {
    "collapsed": true
   },
   "outputs": [
    {
     "data": {
      "text/html": [
       "<div>\n",
       "<style scoped>\n",
       "    .dataframe tbody tr th:only-of-type {\n",
       "        vertical-align: middle;\n",
       "    }\n",
       "\n",
       "    .dataframe tbody tr th {\n",
       "        vertical-align: top;\n",
       "    }\n",
       "\n",
       "    .dataframe thead th {\n",
       "        text-align: right;\n",
       "    }\n",
       "</style>\n",
       "<table border=\"1\" class=\"dataframe\">\n",
       "  <thead>\n",
       "    <tr style=\"text-align: right;\">\n",
       "      <th></th>\n",
       "      <th>index</th>\n",
       "      <th>0</th>\n",
       "    </tr>\n",
       "  </thead>\n",
       "  <tbody>\n",
       "    <tr>\n",
       "      <th>0</th>\n",
       "      <td>Jan</td>\n",
       "      <td>2567.65</td>\n",
       "    </tr>\n",
       "    <tr>\n",
       "      <th>1</th>\n",
       "      <td>Feb</td>\n",
       "      <td>2809.44</td>\n",
       "    </tr>\n",
       "    <tr>\n",
       "      <th>2</th>\n",
       "      <td>Mar</td>\n",
       "      <td>3001.60</td>\n",
       "    </tr>\n",
       "    <tr>\n",
       "      <th>3</th>\n",
       "      <td>Apr</td>\n",
       "      <td>2787.60</td>\n",
       "    </tr>\n",
       "    <tr>\n",
       "      <th>4</th>\n",
       "      <td>May</td>\n",
       "      <td>3203.40</td>\n",
       "    </tr>\n",
       "  </tbody>\n",
       "</table>\n",
       "</div>"
      ],
      "text/plain": [
       "  index        0\n",
       "0   Jan  2567.65\n",
       "1   Feb  2809.44\n",
       "2   Mar  3001.60\n",
       "3   Apr  2787.60\n",
       "4   May  3203.40"
      ]
     },
     "execution_count": 17,
     "metadata": {},
     "output_type": "execute_result"
    }
   ],
   "source": [
    "expenses_series_reseted=expenses_series.reset_index()\n",
    "expenses_series_reseted\n",
    "# index will become one of the column in df and new by default indexes will get assign to df"
   ]
  },
  {
   "cell_type": "code",
   "execution_count": 18,
   "id": "7da4f4a4",
   "metadata": {
    "collapsed": true
   },
   "outputs": [
    {
     "data": {
      "text/html": [
       "<div>\n",
       "<style scoped>\n",
       "    .dataframe tbody tr th:only-of-type {\n",
       "        vertical-align: middle;\n",
       "    }\n",
       "\n",
       "    .dataframe tbody tr th {\n",
       "        vertical-align: top;\n",
       "    }\n",
       "\n",
       "    .dataframe thead th {\n",
       "        text-align: right;\n",
       "    }\n",
       "</style>\n",
       "<table border=\"1\" class=\"dataframe\">\n",
       "  <thead>\n",
       "    <tr style=\"text-align: right;\">\n",
       "      <th></th>\n",
       "      <th>0</th>\n",
       "    </tr>\n",
       "    <tr>\n",
       "      <th>index</th>\n",
       "      <th></th>\n",
       "    </tr>\n",
       "  </thead>\n",
       "  <tbody>\n",
       "    <tr>\n",
       "      <th>Jan</th>\n",
       "      <td>2567.65</td>\n",
       "    </tr>\n",
       "    <tr>\n",
       "      <th>Feb</th>\n",
       "      <td>2809.44</td>\n",
       "    </tr>\n",
       "    <tr>\n",
       "      <th>Mar</th>\n",
       "      <td>3001.60</td>\n",
       "    </tr>\n",
       "    <tr>\n",
       "      <th>Apr</th>\n",
       "      <td>2787.60</td>\n",
       "    </tr>\n",
       "    <tr>\n",
       "      <th>May</th>\n",
       "      <td>3203.40</td>\n",
       "    </tr>\n",
       "  </tbody>\n",
       "</table>\n",
       "</div>"
      ],
      "text/plain": [
       "             0\n",
       "index         \n",
       "Jan    2567.65\n",
       "Feb    2809.44\n",
       "Mar    3001.60\n",
       "Apr    2787.60\n",
       "May    3203.40"
      ]
     },
     "execution_count": 18,
     "metadata": {},
     "output_type": "execute_result"
    }
   ],
   "source": [
    "expenses_series_orig=expenses_series_reseted.set_index(\"index\")\n",
    "expenses_series_orig\n",
    "# reverse of reset_index"
   ]
  },
  {
   "cell_type": "code",
   "execution_count": 19,
   "id": "cfa223c9",
   "metadata": {},
   "outputs": [],
   "source": [
    "expenses_series_reseted.index=[\"A\",\"B\",\"C\",\"D\",\"E\"]"
   ]
  },
  {
   "cell_type": "code",
   "execution_count": 20,
   "id": "ceb02cc9",
   "metadata": {
    "collapsed": true
   },
   "outputs": [
    {
     "data": {
      "text/html": [
       "<div>\n",
       "<style scoped>\n",
       "    .dataframe tbody tr th:only-of-type {\n",
       "        vertical-align: middle;\n",
       "    }\n",
       "\n",
       "    .dataframe tbody tr th {\n",
       "        vertical-align: top;\n",
       "    }\n",
       "\n",
       "    .dataframe thead th {\n",
       "        text-align: right;\n",
       "    }\n",
       "</style>\n",
       "<table border=\"1\" class=\"dataframe\">\n",
       "  <thead>\n",
       "    <tr style=\"text-align: right;\">\n",
       "      <th></th>\n",
       "      <th>index</th>\n",
       "      <th>0</th>\n",
       "    </tr>\n",
       "  </thead>\n",
       "  <tbody>\n",
       "    <tr>\n",
       "      <th>A</th>\n",
       "      <td>Jan</td>\n",
       "      <td>2567.65</td>\n",
       "    </tr>\n",
       "    <tr>\n",
       "      <th>B</th>\n",
       "      <td>Feb</td>\n",
       "      <td>2809.44</td>\n",
       "    </tr>\n",
       "    <tr>\n",
       "      <th>C</th>\n",
       "      <td>Mar</td>\n",
       "      <td>3001.60</td>\n",
       "    </tr>\n",
       "    <tr>\n",
       "      <th>D</th>\n",
       "      <td>Apr</td>\n",
       "      <td>2787.60</td>\n",
       "    </tr>\n",
       "    <tr>\n",
       "      <th>E</th>\n",
       "      <td>May</td>\n",
       "      <td>3203.40</td>\n",
       "    </tr>\n",
       "  </tbody>\n",
       "</table>\n",
       "</div>"
      ],
      "text/plain": [
       "  index        0\n",
       "A   Jan  2567.65\n",
       "B   Feb  2809.44\n",
       "C   Mar  3001.60\n",
       "D   Apr  2787.60\n",
       "E   May  3203.40"
      ]
     },
     "execution_count": 20,
     "metadata": {},
     "output_type": "execute_result"
    }
   ],
   "source": [
    "expenses_series_reseted"
   ]
  },
  {
   "cell_type": "code",
   "execution_count": 21,
   "id": "937fe079",
   "metadata": {
    "executionInfo": {
     "elapsed": 27,
     "status": "ok",
     "timestamp": 1704217107846,
     "user": {
      "displayName": "Dawit Hadush",
      "userId": "03293108265000512791"
     },
     "user_tz": -330
    },
    "id": "s0-M8kdoY9aS"
   },
   "outputs": [],
   "source": [
    "import numpy as np"
   ]
  },
  {
   "cell_type": "code",
   "execution_count": 22,
   "id": "f18afca7",
   "metadata": {
    "executionInfo": {
     "elapsed": 27,
     "status": "ok",
     "timestamp": 1704217107846,
     "user": {
      "displayName": "Dawit Hadush",
      "userId": "03293108265000512791"
     },
     "user_tz": -330
    },
    "id": "adItMk9k5vWX"
   },
   "outputs": [],
   "source": [
    "employee_names = np.array(['Aarti', 'David', 'Mahmood', 'Pranjal'])\n",
    "employee_ID =  np.array([7634, 9008, 10115, 16643])"
   ]
  },
  {
   "cell_type": "code",
   "execution_count": 23,
   "id": "91640df4",
   "metadata": {
    "colab": {
     "base_uri": "https://localhost:8080/"
    },
    "collapsed": true,
    "executionInfo": {
     "elapsed": 26,
     "status": "ok",
     "timestamp": 1704217107846,
     "user": {
      "displayName": "Dawit Hadush",
      "userId": "03293108265000512791"
     },
     "user_tz": -330
    },
    "id": "z9FNgnKeYE7Q",
    "outputId": "8a1f9917-8434-473d-ad4c-d6bbe5003129"
   },
   "outputs": [
    {
     "data": {
      "text/plain": [
       "7634       Aarti\n",
       "9008       David\n",
       "10115    Mahmood\n",
       "16643    Pranjal\n",
       "dtype: object"
      ]
     },
     "execution_count": 23,
     "metadata": {},
     "output_type": "execute_result"
    }
   ],
   "source": [
    "employee_series = pd.Series(data=employee_names, index=employee_ID)\n",
    "employee_series"
   ]
  },
  {
   "cell_type": "code",
   "execution_count": 24,
   "id": "f1db432e",
   "metadata": {
    "collapsed": true
   },
   "outputs": [
    {
     "data": {
      "text/plain": [
       "Day1    1000\n",
       "Day2    1200\n",
       "Day3    1100\n",
       "Day4     950\n",
       "Day5    1050\n",
       "Day6    1430\n",
       "Day7    1760\n",
       "Name: Production_Details, dtype: int64"
      ]
     },
     "execution_count": 24,
     "metadata": {},
     "output_type": "execute_result"
    }
   ],
   "source": [
    "daily_production"
   ]
  },
  {
   "cell_type": "code",
   "execution_count": 25,
   "id": "fb2a27d5",
   "metadata": {
    "collapsed": true
   },
   "outputs": [
    {
     "data": {
      "text/plain": [
       "Day1    1000\n",
       "Day2    1200\n",
       "Day3    1100\n",
       "Day4     950\n",
       "Day5    1050\n",
       "Name: Production_Details, dtype: int64"
      ]
     },
     "execution_count": 25,
     "metadata": {},
     "output_type": "execute_result"
    }
   ],
   "source": [
    "daily_production[daily_production<1250]"
   ]
  },
  {
   "cell_type": "code",
   "execution_count": 26,
   "id": "0f9165a6",
   "metadata": {
    "collapsed": true
   },
   "outputs": [
    {
     "data": {
      "text/plain": [
       "Day6    1430\n",
       "Day7    1760\n",
       "Name: Production_Details, dtype: int64"
      ]
     },
     "execution_count": 26,
     "metadata": {},
     "output_type": "execute_result"
    }
   ],
   "source": [
    "daily_production[daily_production>1250]"
   ]
  },
  {
   "cell_type": "code",
   "execution_count": 27,
   "id": "7cbe26b0",
   "metadata": {
    "collapsed": true
   },
   "outputs": [
    {
     "data": {
      "text/plain": [
       "Day2    1200\n",
       "Day3    1100\n",
       "Day5    1050\n",
       "Day6    1430\n",
       "Name: Production_Details, dtype: int64"
      ]
     },
     "execution_count": 27,
     "metadata": {},
     "output_type": "execute_result"
    }
   ],
   "source": [
    "daily_production[(daily_production > 1000) & (daily_production < 1500)]"
   ]
  },
  {
   "cell_type": "code",
   "execution_count": 28,
   "id": "f8151050",
   "metadata": {
    "collapsed": true
   },
   "outputs": [
    {
     "data": {
      "text/plain": [
       "Day1    1000\n",
       "Day2    1200\n",
       "Day3    1100\n",
       "Day4     950\n",
       "Day5    1050\n",
       "Day6    1430\n",
       "Day7    1760\n",
       "Name: Production_Details, dtype: int64"
      ]
     },
     "execution_count": 28,
     "metadata": {},
     "output_type": "execute_result"
    }
   ],
   "source": [
    "daily_production[(daily_production > 1000) | (daily_production < 1500)]"
   ]
  },
  {
   "cell_type": "code",
   "execution_count": 29,
   "id": "23c25063",
   "metadata": {},
   "outputs": [
    {
     "data": {
      "text/plain": [
       "7"
      ]
     },
     "execution_count": 29,
     "metadata": {},
     "output_type": "execute_result"
    }
   ],
   "source": [
    "len(daily_production[(daily_production > 1000) | (daily_production < 1500)])"
   ]
  },
  {
   "cell_type": "code",
   "execution_count": 32,
   "id": "79217034",
   "metadata": {},
   "outputs": [
    {
     "data": {
      "text/plain": [
       "1760"
      ]
     },
     "execution_count": 32,
     "metadata": {},
     "output_type": "execute_result"
    }
   ],
   "source": [
    "daily_production.max()"
   ]
  },
  {
   "cell_type": "code",
   "execution_count": 33,
   "id": "76c14a1d",
   "metadata": {},
   "outputs": [
    {
     "data": {
      "text/plain": [
       "950"
      ]
     },
     "execution_count": 33,
     "metadata": {},
     "output_type": "execute_result"
    }
   ],
   "source": [
    "daily_production.min()"
   ]
  },
  {
   "cell_type": "code",
   "execution_count": 34,
   "id": "c73d531d",
   "metadata": {},
   "outputs": [
    {
     "data": {
      "text/plain": [
       "1212.857142857143"
      ]
     },
     "execution_count": 34,
     "metadata": {},
     "output_type": "execute_result"
    }
   ],
   "source": [
    "daily_production.mean()"
   ]
  },
  {
   "cell_type": "code",
   "execution_count": 35,
   "id": "b3251de9",
   "metadata": {},
   "outputs": [
    {
     "data": {
      "text/plain": [
       "1100.0"
      ]
     },
     "execution_count": 35,
     "metadata": {},
     "output_type": "execute_result"
    }
   ],
   "source": [
    "daily_production.median()"
   ]
  },
  {
   "cell_type": "code",
   "execution_count": 36,
   "id": "9830d954",
   "metadata": {},
   "outputs": [
    {
     "data": {
      "text/plain": [
       "8490"
      ]
     },
     "execution_count": 36,
     "metadata": {},
     "output_type": "execute_result"
    }
   ],
   "source": [
    "daily_production.sum()"
   ]
  },
  {
   "cell_type": "code",
   "execution_count": 37,
   "id": "0c8f4f4e",
   "metadata": {
    "colab": {
     "base_uri": "https://localhost:8080/"
    },
    "executionInfo": {
     "elapsed": 81,
     "status": "ok",
     "timestamp": 1704217108467,
     "user": {
      "displayName": "Dawit Hadush",
      "userId": "03293108265000512791"
     },
     "user_tz": -330
    },
    "id": "c8tGp7-15vWi",
    "outputId": "c0e2bd0a-1b62-40da-e117-3d357abde420"
   },
   "outputs": [
    {
     "data": {
      "text/plain": [
       "Day4     950\n",
       "Day1    1000\n",
       "Day5    1050\n",
       "Day3    1100\n",
       "Day2    1200\n",
       "Day6    1430\n",
       "Day7    1760\n",
       "Name: Production_Details, dtype: int64"
      ]
     },
     "execution_count": 37,
     "metadata": {},
     "output_type": "execute_result"
    }
   ],
   "source": [
    "daily_production.sort_values()\n",
    "# by default sorting in increasing order"
   ]
  },
  {
   "cell_type": "code",
   "execution_count": 38,
   "id": "6084de5f",
   "metadata": {
    "colab": {
     "base_uri": "https://localhost:8080/"
    },
    "executionInfo": {
     "elapsed": 76,
     "status": "ok",
     "timestamp": 1704217108467,
     "user": {
      "displayName": "Dawit Hadush",
      "userId": "03293108265000512791"
     },
     "user_tz": -330
    },
    "id": "--uQI-EO5vWi",
    "outputId": "9e73b340-bf43-4473-c4cb-5a916cd4f918"
   },
   "outputs": [
    {
     "data": {
      "text/plain": [
       "Day7    1760\n",
       "Day6    1430\n",
       "Day2    1200\n",
       "Day3    1100\n",
       "Day5    1050\n",
       "Day1    1000\n",
       "Day4     950\n",
       "Name: Production_Details, dtype: int64"
      ]
     },
     "execution_count": 38,
     "metadata": {},
     "output_type": "execute_result"
    }
   ],
   "source": [
    "daily_production.sort_values(ascending = False)"
   ]
  },
  {
   "cell_type": "code",
   "execution_count": 39,
   "id": "d54c52bf",
   "metadata": {
    "executionInfo": {
     "elapsed": 63,
     "status": "ok",
     "timestamp": 1704217108468,
     "user": {
      "displayName": "Dawit Hadush",
      "userId": "03293108265000512791"
     },
     "user_tz": -330
    },
    "id": "O9tq2ufv5vWo"
   },
   "outputs": [],
   "source": [
    "series_1 = pd.Series(data = [287, 343, 187], index = ['Asif', 'Bhairavi', 'Chad'], name = 'Monday')\n",
    "series_2 = pd.Series(data = [186, 524, 202], index = ['Asif', 'Bhairavi', 'Chad'], name = 'Tuesday')"
   ]
  },
  {
   "cell_type": "code",
   "execution_count": 40,
   "id": "599096e1",
   "metadata": {
    "colab": {
     "base_uri": "https://localhost:8080/"
    },
    "executionInfo": {
     "elapsed": 62,
     "status": "ok",
     "timestamp": 1704217108468,
     "user": {
      "displayName": "Dawit Hadush",
      "userId": "03293108265000512791"
     },
     "user_tz": -330
    },
    "id": "1NAb0Acf5vWp",
    "outputId": "8fb555cd-c178-4a2c-e138-f4f5bd862130"
   },
   "outputs": [
    {
     "data": {
      "text/plain": [
       "Asif        287\n",
       "Bhairavi    343\n",
       "Chad        187\n",
       "Name: Monday, dtype: int64"
      ]
     },
     "execution_count": 40,
     "metadata": {},
     "output_type": "execute_result"
    }
   ],
   "source": [
    "series_1"
   ]
  },
  {
   "cell_type": "code",
   "execution_count": 41,
   "id": "58238a24",
   "metadata": {
    "colab": {
     "base_uri": "https://localhost:8080/"
    },
    "executionInfo": {
     "elapsed": 60,
     "status": "ok",
     "timestamp": 1704217108468,
     "user": {
      "displayName": "Dawit Hadush",
      "userId": "03293108265000512791"
     },
     "user_tz": -330
    },
    "id": "WjIXsIna5vWp",
    "outputId": "4fc19aba-f5ca-4214-9924-4b3557a66dcc"
   },
   "outputs": [
    {
     "data": {
      "text/plain": [
       "Asif        186\n",
       "Bhairavi    524\n",
       "Chad        202\n",
       "Name: Tuesday, dtype: int64"
      ]
     },
     "execution_count": 41,
     "metadata": {},
     "output_type": "execute_result"
    }
   ],
   "source": [
    "series_2"
   ]
  },
  {
   "cell_type": "code",
   "execution_count": 42,
   "id": "8d7a5f3e",
   "metadata": {
    "colab": {
     "base_uri": "https://localhost:8080/"
    },
    "executionInfo": {
     "elapsed": 56,
     "status": "ok",
     "timestamp": 1704217108468,
     "user": {
      "displayName": "Dawit Hadush",
      "userId": "03293108265000512791"
     },
     "user_tz": -330
    },
    "id": "oONfrGWz5vWp",
    "outputId": "c6dcd96a-c34d-41c8-a41f-5035316f9cbd"
   },
   "outputs": [
    {
     "data": {
      "text/plain": [
       "Asif        473\n",
       "Bhairavi    867\n",
       "Chad        389\n",
       "dtype: int64"
      ]
     },
     "execution_count": 42,
     "metadata": {},
     "output_type": "execute_result"
    }
   ],
   "source": [
    "series_1 + series_2"
   ]
  },
  {
   "cell_type": "code",
   "execution_count": 43,
   "id": "10a39a41",
   "metadata": {},
   "outputs": [
    {
     "data": {
      "text/plain": [
       "Asif        473\n",
       "Bhairavi    867\n",
       "Chad        389\n",
       "dtype: int64"
      ]
     },
     "execution_count": 43,
     "metadata": {},
     "output_type": "execute_result"
    }
   ],
   "source": [
    "series_1.add(series_2)"
   ]
  },
  {
   "cell_type": "markdown",
   "id": "93b0b478",
   "metadata": {
    "id": "H-orMKrf5vWv"
   },
   "source": [
    "### Quiz\n",
    "Consider the series shown below:\n",
    "```\n",
    "cust_names = ['Chad', 'Farheen', 'Himadri', 'Monisha']\n",
    "cust_bill = [256.78, 434.53, 109.25, 529.42]\n",
    "cust_info = pd.Series(cust_bill, cust_names)\n",
    "```\n",
    "Use series operations to find out which customer has spent the maximum amount of money"
   ]
  },
  {
   "cell_type": "code",
   "execution_count": 48,
   "id": "debac7f9",
   "metadata": {},
   "outputs": [
    {
     "data": {
      "text/plain": [
       "'Monisha'"
      ]
     },
     "execution_count": 48,
     "metadata": {},
     "output_type": "execute_result"
    }
   ],
   "source": [
    "cust_names = ['Chad', 'Farheen', 'Himadri', 'Monisha']\n",
    "cust_bill = [256.78, 434.53, 109.25, 529.42]\n",
    "cust_info = pd.Series(cust_bill, cust_names)\n",
    "cust_info.idxmax()"
   ]
  },
  {
   "cell_type": "code",
   "execution_count": 49,
   "id": "92ed815f",
   "metadata": {},
   "outputs": [
    {
     "data": {
      "text/plain": [
       "'Himadri'"
      ]
     },
     "execution_count": 49,
     "metadata": {},
     "output_type": "execute_result"
    }
   ],
   "source": [
    "cust_info.idxmin()"
   ]
  },
  {
   "cell_type": "markdown",
   "id": "cf91f362",
   "metadata": {
    "id": "CO4WYF_PTR7k"
   },
   "source": [
    "# Dataframes\n",
    "A Dataframe is a 2D table made up of multiple series. We will study dataframes in detail. Learners are expected to work with series on their own later as most of the methods and operations that are associated with dataframes are also applicable to series."
   ]
  },
  {
   "cell_type": "markdown",
   "id": "a84279e6",
   "metadata": {
    "id": "T9Qy8OwKtTa5"
   },
   "source": [
    "### Example\n",
    "Creating dataframes"
   ]
  },
  {
   "cell_type": "code",
   "execution_count": 50,
   "id": "82589135",
   "metadata": {
    "executionInfo": {
     "elapsed": 42,
     "status": "ok",
     "timestamp": 1704217108470,
     "user": {
      "displayName": "Dawit Hadush",
      "userId": "03293108265000512791"
     },
     "user_tz": -330
    },
    "id": "SlwlQuGDtTbB"
   },
   "outputs": [],
   "source": [
    "df = pd.DataFrame()"
   ]
  },
  {
   "cell_type": "code",
   "execution_count": 51,
   "id": "7472b9b4",
   "metadata": {
    "colab": {
     "base_uri": "https://localhost:8080/",
     "height": 53
    },
    "executionInfo": {
     "elapsed": 42,
     "status": "ok",
     "timestamp": 1704217108470,
     "user": {
      "displayName": "Dawit Hadush",
      "userId": "03293108265000512791"
     },
     "user_tz": -330
    },
    "id": "UzjYppqP5vWy",
    "outputId": "aac76dee-8fb2-405b-e886-4f31d3ed5e99"
   },
   "outputs": [
    {
     "data": {
      "text/html": [
       "<div>\n",
       "<style scoped>\n",
       "    .dataframe tbody tr th:only-of-type {\n",
       "        vertical-align: middle;\n",
       "    }\n",
       "\n",
       "    .dataframe tbody tr th {\n",
       "        vertical-align: top;\n",
       "    }\n",
       "\n",
       "    .dataframe thead th {\n",
       "        text-align: right;\n",
       "    }\n",
       "</style>\n",
       "<table border=\"1\" class=\"dataframe\">\n",
       "  <thead>\n",
       "    <tr style=\"text-align: right;\">\n",
       "      <th></th>\n",
       "    </tr>\n",
       "  </thead>\n",
       "  <tbody>\n",
       "  </tbody>\n",
       "</table>\n",
       "</div>"
      ],
      "text/plain": [
       "Empty DataFrame\n",
       "Columns: []\n",
       "Index: []"
      ]
     },
     "execution_count": 51,
     "metadata": {},
     "output_type": "execute_result"
    }
   ],
   "source": [
    "df"
   ]
  },
  {
   "cell_type": "code",
   "execution_count": 52,
   "id": "94224401",
   "metadata": {
    "colab": {
     "base_uri": "https://localhost:8080/"
    },
    "executionInfo": {
     "elapsed": 41,
     "status": "ok",
     "timestamp": 1704217108470,
     "user": {
      "displayName": "Dawit Hadush",
      "userId": "03293108265000512791"
     },
     "user_tz": -330
    },
    "id": "tsl2kYNutoke",
    "outputId": "7184fb70-c8b7-4600-e84b-c9108851c5c7"
   },
   "outputs": [
    {
     "data": {
      "text/plain": [
       "pandas.core.frame.DataFrame"
      ]
     },
     "execution_count": 52,
     "metadata": {},
     "output_type": "execute_result"
    }
   ],
   "source": [
    "type(df)"
   ]
  },
  {
   "cell_type": "code",
   "execution_count": 53,
   "id": "9da9ee89",
   "metadata": {
    "executionInfo": {
     "elapsed": 35,
     "status": "ok",
     "timestamp": 1704217108470,
     "user": {
      "displayName": "Dawit Hadush",
      "userId": "03293108265000512791"
     },
     "user_tz": -330
    },
    "id": "rZSwHfkYs2qA",
    "scrolled": true
   },
   "outputs": [],
   "source": [
    "cust_data = [['001', 'Alice', 'alice@example.com', '123-456-7890', 20],\n",
    "             ['002', 'Bhooshan', 'bob@example.com', '987-654-3210', 15],\n",
    "             ['003', 'Carl', 'charlie@example.com', '555-123-4567', 25]]\n",
    "\n",
    "cust_cols = ['CustomerID', 'Name', 'Email', 'Phone', 'TotalPurchases']\n",
    "\n",
    "df = pd.DataFrame(data = cust_data, columns = cust_cols)"
   ]
  },
  {
   "cell_type": "code",
   "execution_count": 54,
   "id": "c8dcd9ce",
   "metadata": {
    "collapsed": true
   },
   "outputs": [
    {
     "data": {
      "text/html": [
       "<div>\n",
       "<style scoped>\n",
       "    .dataframe tbody tr th:only-of-type {\n",
       "        vertical-align: middle;\n",
       "    }\n",
       "\n",
       "    .dataframe tbody tr th {\n",
       "        vertical-align: top;\n",
       "    }\n",
       "\n",
       "    .dataframe thead th {\n",
       "        text-align: right;\n",
       "    }\n",
       "</style>\n",
       "<table border=\"1\" class=\"dataframe\">\n",
       "  <thead>\n",
       "    <tr style=\"text-align: right;\">\n",
       "      <th></th>\n",
       "      <th>CustomerID</th>\n",
       "      <th>Name</th>\n",
       "      <th>Email</th>\n",
       "      <th>Phone</th>\n",
       "      <th>TotalPurchases</th>\n",
       "    </tr>\n",
       "  </thead>\n",
       "  <tbody>\n",
       "    <tr>\n",
       "      <th>0</th>\n",
       "      <td>001</td>\n",
       "      <td>Alice</td>\n",
       "      <td>alice@example.com</td>\n",
       "      <td>123-456-7890</td>\n",
       "      <td>20</td>\n",
       "    </tr>\n",
       "    <tr>\n",
       "      <th>1</th>\n",
       "      <td>002</td>\n",
       "      <td>Bhooshan</td>\n",
       "      <td>bob@example.com</td>\n",
       "      <td>987-654-3210</td>\n",
       "      <td>15</td>\n",
       "    </tr>\n",
       "    <tr>\n",
       "      <th>2</th>\n",
       "      <td>003</td>\n",
       "      <td>Carl</td>\n",
       "      <td>charlie@example.com</td>\n",
       "      <td>555-123-4567</td>\n",
       "      <td>25</td>\n",
       "    </tr>\n",
       "  </tbody>\n",
       "</table>\n",
       "</div>"
      ],
      "text/plain": [
       "  CustomerID      Name                Email         Phone  TotalPurchases\n",
       "0        001     Alice    alice@example.com  123-456-7890              20\n",
       "1        002  Bhooshan      bob@example.com  987-654-3210              15\n",
       "2        003      Carl  charlie@example.com  555-123-4567              25"
      ]
     },
     "execution_count": 54,
     "metadata": {},
     "output_type": "execute_result"
    }
   ],
   "source": [
    "df"
   ]
  },
  {
   "cell_type": "code",
   "execution_count": 55,
   "id": "7b309f17",
   "metadata": {},
   "outputs": [
    {
     "data": {
      "text/plain": [
       "(3, 5)"
      ]
     },
     "execution_count": 55,
     "metadata": {},
     "output_type": "execute_result"
    }
   ],
   "source": [
    "df.shape"
   ]
  },
  {
   "cell_type": "code",
   "execution_count": 56,
   "id": "6a48f698",
   "metadata": {},
   "outputs": [
    {
     "data": {
      "text/plain": [
       "2"
      ]
     },
     "execution_count": 56,
     "metadata": {},
     "output_type": "execute_result"
    }
   ],
   "source": [
    "df.ndim"
   ]
  },
  {
   "cell_type": "code",
   "execution_count": 57,
   "id": "14d1b417",
   "metadata": {},
   "outputs": [],
   "source": [
    "cust_data = [['001', 'Alice', 'alice@example.com', '123-456-7890', 20],\n",
    "             ['002', 'Bhooshan', 'bob@example.com', '987-654-3210', 15],\n",
    "             ['003', 'Carl', 'charlie@example.com', '555-123-4567', 25]]\n",
    "\n",
    "cust_cols = ['CustomerID', 'Name', 'Email', 'Phone', 'TotalPurchases']\n",
    "\n",
    "cust_ind = ['A', 'B', 'C']\n",
    "\n",
    "df = pd.DataFrame(data = cust_data, columns = cust_cols, index = cust_ind)"
   ]
  },
  {
   "cell_type": "code",
   "execution_count": 58,
   "id": "dba3064f",
   "metadata": {
    "collapsed": true
   },
   "outputs": [
    {
     "data": {
      "text/html": [
       "<div>\n",
       "<style scoped>\n",
       "    .dataframe tbody tr th:only-of-type {\n",
       "        vertical-align: middle;\n",
       "    }\n",
       "\n",
       "    .dataframe tbody tr th {\n",
       "        vertical-align: top;\n",
       "    }\n",
       "\n",
       "    .dataframe thead th {\n",
       "        text-align: right;\n",
       "    }\n",
       "</style>\n",
       "<table border=\"1\" class=\"dataframe\">\n",
       "  <thead>\n",
       "    <tr style=\"text-align: right;\">\n",
       "      <th></th>\n",
       "      <th>CustomerID</th>\n",
       "      <th>Name</th>\n",
       "      <th>Email</th>\n",
       "      <th>Phone</th>\n",
       "      <th>TotalPurchases</th>\n",
       "    </tr>\n",
       "  </thead>\n",
       "  <tbody>\n",
       "    <tr>\n",
       "      <th>A</th>\n",
       "      <td>001</td>\n",
       "      <td>Alice</td>\n",
       "      <td>alice@example.com</td>\n",
       "      <td>123-456-7890</td>\n",
       "      <td>20</td>\n",
       "    </tr>\n",
       "    <tr>\n",
       "      <th>B</th>\n",
       "      <td>002</td>\n",
       "      <td>Bhooshan</td>\n",
       "      <td>bob@example.com</td>\n",
       "      <td>987-654-3210</td>\n",
       "      <td>15</td>\n",
       "    </tr>\n",
       "    <tr>\n",
       "      <th>C</th>\n",
       "      <td>003</td>\n",
       "      <td>Carl</td>\n",
       "      <td>charlie@example.com</td>\n",
       "      <td>555-123-4567</td>\n",
       "      <td>25</td>\n",
       "    </tr>\n",
       "  </tbody>\n",
       "</table>\n",
       "</div>"
      ],
      "text/plain": [
       "  CustomerID      Name                Email         Phone  TotalPurchases\n",
       "A        001     Alice    alice@example.com  123-456-7890              20\n",
       "B        002  Bhooshan      bob@example.com  987-654-3210              15\n",
       "C        003      Carl  charlie@example.com  555-123-4567              25"
      ]
     },
     "execution_count": 58,
     "metadata": {},
     "output_type": "execute_result"
    }
   ],
   "source": [
    "df"
   ]
  },
  {
   "cell_type": "code",
   "execution_count": 59,
   "id": "b5a50bc3",
   "metadata": {},
   "outputs": [],
   "source": [
    "cust_data = {'Name': ['Alice', 'Bob', 'Charlie', 'David', 'Eva', 'Frank'],\n",
    "             'Email': ['alice@example.com', 'bob@example.com', 'charlie@example.com', 'david@example.com', 'eva@example.com', 'frank@example.com'],\n",
    "             'Phone':  ['123-456-7890', '987-654-3210', '555-123-4567', '111-222-3333', '444-555-6666', '777-888-9999'],\n",
    "             'TotalPurchases':  [20, 15, 25, 10, 30, 22]}\n",
    "\n",
    "cust_ind = ['001', '002', '003', '004', '005', '006']\n",
    "\n",
    "df = pd.DataFrame(data = cust_data, index = cust_ind)"
   ]
  },
  {
   "cell_type": "code",
   "execution_count": 60,
   "id": "4aa35e01",
   "metadata": {
    "collapsed": true
   },
   "outputs": [
    {
     "data": {
      "text/html": [
       "<div>\n",
       "<style scoped>\n",
       "    .dataframe tbody tr th:only-of-type {\n",
       "        vertical-align: middle;\n",
       "    }\n",
       "\n",
       "    .dataframe tbody tr th {\n",
       "        vertical-align: top;\n",
       "    }\n",
       "\n",
       "    .dataframe thead th {\n",
       "        text-align: right;\n",
       "    }\n",
       "</style>\n",
       "<table border=\"1\" class=\"dataframe\">\n",
       "  <thead>\n",
       "    <tr style=\"text-align: right;\">\n",
       "      <th></th>\n",
       "      <th>Name</th>\n",
       "      <th>Email</th>\n",
       "      <th>Phone</th>\n",
       "      <th>TotalPurchases</th>\n",
       "    </tr>\n",
       "  </thead>\n",
       "  <tbody>\n",
       "    <tr>\n",
       "      <th>001</th>\n",
       "      <td>Alice</td>\n",
       "      <td>alice@example.com</td>\n",
       "      <td>123-456-7890</td>\n",
       "      <td>20</td>\n",
       "    </tr>\n",
       "    <tr>\n",
       "      <th>002</th>\n",
       "      <td>Bob</td>\n",
       "      <td>bob@example.com</td>\n",
       "      <td>987-654-3210</td>\n",
       "      <td>15</td>\n",
       "    </tr>\n",
       "    <tr>\n",
       "      <th>003</th>\n",
       "      <td>Charlie</td>\n",
       "      <td>charlie@example.com</td>\n",
       "      <td>555-123-4567</td>\n",
       "      <td>25</td>\n",
       "    </tr>\n",
       "    <tr>\n",
       "      <th>004</th>\n",
       "      <td>David</td>\n",
       "      <td>david@example.com</td>\n",
       "      <td>111-222-3333</td>\n",
       "      <td>10</td>\n",
       "    </tr>\n",
       "    <tr>\n",
       "      <th>005</th>\n",
       "      <td>Eva</td>\n",
       "      <td>eva@example.com</td>\n",
       "      <td>444-555-6666</td>\n",
       "      <td>30</td>\n",
       "    </tr>\n",
       "    <tr>\n",
       "      <th>006</th>\n",
       "      <td>Frank</td>\n",
       "      <td>frank@example.com</td>\n",
       "      <td>777-888-9999</td>\n",
       "      <td>22</td>\n",
       "    </tr>\n",
       "  </tbody>\n",
       "</table>\n",
       "</div>"
      ],
      "text/plain": [
       "        Name                Email         Phone  TotalPurchases\n",
       "001    Alice    alice@example.com  123-456-7890              20\n",
       "002      Bob      bob@example.com  987-654-3210              15\n",
       "003  Charlie  charlie@example.com  555-123-4567              25\n",
       "004    David    david@example.com  111-222-3333              10\n",
       "005      Eva      eva@example.com  444-555-6666              30\n",
       "006    Frank    frank@example.com  777-888-9999              22"
      ]
     },
     "execution_count": 60,
     "metadata": {},
     "output_type": "execute_result"
    }
   ],
   "source": [
    "df"
   ]
  },
  {
   "cell_type": "markdown",
   "id": "dd815797",
   "metadata": {
    "id": "hsBhViI85vXP"
   },
   "source": [
    "### Example\n",
    "Reading data into dataframes"
   ]
  },
  {
   "cell_type": "code",
   "execution_count": 61,
   "id": "9f665a17",
   "metadata": {},
   "outputs": [],
   "source": [
    "df = pd.read_csv('Buffet_Details.csv')"
   ]
  },
  {
   "cell_type": "code",
   "execution_count": 62,
   "id": "e0fbfefc",
   "metadata": {},
   "outputs": [
    {
     "data": {
      "text/html": [
       "<div>\n",
       "<style scoped>\n",
       "    .dataframe tbody tr th:only-of-type {\n",
       "        vertical-align: middle;\n",
       "    }\n",
       "\n",
       "    .dataframe tbody tr th {\n",
       "        vertical-align: top;\n",
       "    }\n",
       "\n",
       "    .dataframe thead th {\n",
       "        text-align: right;\n",
       "    }\n",
       "</style>\n",
       "<table border=\"1\" class=\"dataframe\">\n",
       "  <thead>\n",
       "    <tr style=\"text-align: right;\">\n",
       "      <th></th>\n",
       "      <th>Room</th>\n",
       "      <th>Name</th>\n",
       "      <th>Age</th>\n",
       "      <th>Cuisine</th>\n",
       "      <th>Expenditure</th>\n",
       "    </tr>\n",
       "  </thead>\n",
       "  <tbody>\n",
       "    <tr>\n",
       "      <th>0</th>\n",
       "      <td>A1</td>\n",
       "      <td>Shilpa</td>\n",
       "      <td>18</td>\n",
       "      <td>Indian</td>\n",
       "      <td>24.65</td>\n",
       "    </tr>\n",
       "    <tr>\n",
       "      <th>1</th>\n",
       "      <td>A2</td>\n",
       "      <td>Jaspreet</td>\n",
       "      <td>32</td>\n",
       "      <td>American</td>\n",
       "      <td>18.54</td>\n",
       "    </tr>\n",
       "    <tr>\n",
       "      <th>2</th>\n",
       "      <td>A3</td>\n",
       "      <td>Dominic</td>\n",
       "      <td>19</td>\n",
       "      <td>Indian</td>\n",
       "      <td>27.66</td>\n",
       "    </tr>\n",
       "    <tr>\n",
       "      <th>3</th>\n",
       "      <td>A4</td>\n",
       "      <td>Ahmad</td>\n",
       "      <td>22</td>\n",
       "      <td>American</td>\n",
       "      <td>19.54</td>\n",
       "    </tr>\n",
       "    <tr>\n",
       "      <th>4</th>\n",
       "      <td>A5</td>\n",
       "      <td>Joseph</td>\n",
       "      <td>28</td>\n",
       "      <td>Indian</td>\n",
       "      <td>17.32</td>\n",
       "    </tr>\n",
       "    <tr>\n",
       "      <th>5</th>\n",
       "      <td>A6</td>\n",
       "      <td>Saju</td>\n",
       "      <td>31</td>\n",
       "      <td>Indian</td>\n",
       "      <td>12.56</td>\n",
       "    </tr>\n",
       "    <tr>\n",
       "      <th>6</th>\n",
       "      <td>A7</td>\n",
       "      <td>Monica</td>\n",
       "      <td>48</td>\n",
       "      <td>Chinese</td>\n",
       "      <td>11.09</td>\n",
       "    </tr>\n",
       "    <tr>\n",
       "      <th>7</th>\n",
       "      <td>A8</td>\n",
       "      <td>Preeti</td>\n",
       "      <td>67</td>\n",
       "      <td>American</td>\n",
       "      <td>12.23</td>\n",
       "    </tr>\n",
       "    <tr>\n",
       "      <th>8</th>\n",
       "      <td>A9</td>\n",
       "      <td>Emma</td>\n",
       "      <td>24</td>\n",
       "      <td>Indian</td>\n",
       "      <td>18.88</td>\n",
       "    </tr>\n",
       "    <tr>\n",
       "      <th>9</th>\n",
       "      <td>A10</td>\n",
       "      <td>Gaurav</td>\n",
       "      <td>29</td>\n",
       "      <td>Chinese</td>\n",
       "      <td>14.43</td>\n",
       "    </tr>\n",
       "  </tbody>\n",
       "</table>\n",
       "</div>"
      ],
      "text/plain": [
       "  Room      Name  Age   Cuisine  Expenditure\n",
       "0   A1    Shilpa   18    Indian        24.65\n",
       "1   A2  Jaspreet   32  American        18.54\n",
       "2   A3   Dominic   19    Indian        27.66\n",
       "3   A4     Ahmad   22  American        19.54\n",
       "4   A5    Joseph   28    Indian        17.32\n",
       "5   A6      Saju   31    Indian        12.56\n",
       "6   A7    Monica   48   Chinese        11.09\n",
       "7   A8    Preeti   67  American        12.23\n",
       "8   A9      Emma   24    Indian        18.88\n",
       "9  A10    Gaurav   29   Chinese        14.43"
      ]
     },
     "execution_count": 62,
     "metadata": {},
     "output_type": "execute_result"
    }
   ],
   "source": [
    "df"
   ]
  },
  {
   "cell_type": "code",
   "execution_count": null,
   "id": "03d74ab3",
   "metadata": {},
   "outputs": [],
   "source": []
  }
 ],
 "metadata": {
  "kernelspec": {
   "display_name": "Python 3",
   "language": "python",
   "name": "python3"
  },
  "language_info": {
   "codemirror_mode": {
    "name": "ipython",
    "version": 3
   },
   "file_extension": ".py",
   "mimetype": "text/x-python",
   "name": "python",
   "nbconvert_exporter": "python",
   "pygments_lexer": "ipython3",
   "version": "3.8.8"
  }
 },
 "nbformat": 4,
 "nbformat_minor": 5
}
