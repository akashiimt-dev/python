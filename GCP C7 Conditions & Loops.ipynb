{
 "cells": [
  {
   "cell_type": "markdown",
   "id": "2c4b77e8",
   "metadata": {
    "id": "abYpioLyK_XC"
   },
   "source": [
    "# Conditionals\n",
    "In Python, conditional statements are used to control the flow of the execution of a program based on certain conditions. The primary conditional statements in Python are:\n",
    "- `if` statement\n",
    "- `if-else` statement\n",
    "- `if-elif-else` statement"
   ]
  },
  {
   "cell_type": "markdown",
   "id": "66aff26c",
   "metadata": {
    "id": "0bXXk8D_LKhJ"
   },
   "source": [
    "# The `if` statement\n",
    "Used to execute a block of code if a specified condition is true"
   ]
  },
  {
   "cell_type": "markdown",
   "id": "c021eb7f",
   "metadata": {
    "id": "lgJPKyfcOjOw"
   },
   "source": [
    "### Example\n",
    "Boolean values"
   ]
  },
  {
   "cell_type": "code",
   "execution_count": 1,
   "id": "fe07cb31",
   "metadata": {},
   "outputs": [],
   "source": [
    "x=10"
   ]
  },
  {
   "cell_type": "code",
   "execution_count": 2,
   "id": "102d2fa1",
   "metadata": {},
   "outputs": [
    {
     "data": {
      "text/plain": [
       "True"
      ]
     },
     "execution_count": 2,
     "metadata": {},
     "output_type": "execute_result"
    }
   ],
   "source": [
    "# Greator than\n",
    "x > 5\n",
    "# Return a boolean value whether True or False"
   ]
  },
  {
   "cell_type": "code",
   "execution_count": 3,
   "id": "ce801547",
   "metadata": {},
   "outputs": [
    {
     "data": {
      "text/plain": [
       "False"
      ]
     },
     "execution_count": 3,
     "metadata": {},
     "output_type": "execute_result"
    }
   ],
   "source": [
    "# Lesser than\n",
    "x < 5"
   ]
  },
  {
   "cell_type": "code",
   "execution_count": 4,
   "id": "8a1713d3",
   "metadata": {},
   "outputs": [
    {
     "data": {
      "text/plain": [
       "True"
      ]
     },
     "execution_count": 4,
     "metadata": {},
     "output_type": "execute_result"
    }
   ],
   "source": [
    "# Greator than or equals to\n",
    "x >=5"
   ]
  },
  {
   "cell_type": "code",
   "execution_count": 5,
   "id": "0eeb1e32",
   "metadata": {},
   "outputs": [
    {
     "data": {
      "text/plain": [
       "False"
      ]
     },
     "execution_count": 5,
     "metadata": {},
     "output_type": "execute_result"
    }
   ],
   "source": [
    "# Lesser than or equals to\n",
    "x <=5"
   ]
  },
  {
   "cell_type": "code",
   "execution_count": 6,
   "id": "7f97b86b",
   "metadata": {},
   "outputs": [
    {
     "data": {
      "text/plain": [
       "False"
      ]
     },
     "execution_count": 6,
     "metadata": {},
     "output_type": "execute_result"
    }
   ],
   "source": [
    "# equals to \n",
    "x == 5"
   ]
  },
  {
   "cell_type": "code",
   "execution_count": 7,
   "id": "c9b8c021",
   "metadata": {},
   "outputs": [
    {
     "data": {
      "text/plain": [
       "True"
      ]
     },
     "execution_count": 7,
     "metadata": {},
     "output_type": "execute_result"
    }
   ],
   "source": [
    "# not equals to\n",
    "x != 5"
   ]
  },
  {
   "cell_type": "code",
   "execution_count": 8,
   "id": "c7c36daa",
   "metadata": {
    "id": "SLlB9QNdv4JA"
   },
   "outputs": [],
   "source": [
    "bool_val = x > 5"
   ]
  },
  {
   "cell_type": "code",
   "execution_count": 9,
   "id": "426bec98",
   "metadata": {},
   "outputs": [
    {
     "data": {
      "text/plain": [
       "True"
      ]
     },
     "execution_count": 9,
     "metadata": {},
     "output_type": "execute_result"
    }
   ],
   "source": [
    "bool_val"
   ]
  },
  {
   "cell_type": "code",
   "execution_count": 15,
   "id": "3d203b1e",
   "metadata": {},
   "outputs": [],
   "source": [
    "x=30\n",
    "bool_val = x > 5"
   ]
  },
  {
   "cell_type": "code",
   "execution_count": 16,
   "id": "76ad005e",
   "metadata": {},
   "outputs": [
    {
     "data": {
      "text/plain": [
       "True"
      ]
     },
     "execution_count": 16,
     "metadata": {},
     "output_type": "execute_result"
    }
   ],
   "source": [
    "bool_val"
   ]
  },
  {
   "cell_type": "code",
   "execution_count": 17,
   "id": "30df4d95",
   "metadata": {},
   "outputs": [
    {
     "name": "stdout",
     "output_type": "stream",
     "text": [
      "x is greator than 5\n"
     ]
    }
   ],
   "source": [
    "if bool_val:\n",
    "    print(\"x is greator than 5\")\n",
    "# recommended"
   ]
  },
  {
   "cell_type": "code",
   "execution_count": 18,
   "id": "e60a5373",
   "metadata": {},
   "outputs": [
    {
     "name": "stdout",
     "output_type": "stream",
     "text": [
      "x is greator than 5\n"
     ]
    }
   ],
   "source": [
    "if bool_val: print(\"x is greator than 5\")"
   ]
  },
  {
   "cell_type": "code",
   "execution_count": 19,
   "id": "c89b2347",
   "metadata": {},
   "outputs": [
    {
     "name": "stdout",
     "output_type": "stream",
     "text": [
      "x is greator than 5\n"
     ]
    }
   ],
   "source": [
    "if x > 5:\n",
    "    print(\"x is greator than 5\")\n",
    "# This gap is known as indentation (1 tab / 4 spaces)"
   ]
  },
  {
   "cell_type": "code",
   "execution_count": 20,
   "id": "3f86e8e3",
   "metadata": {
    "colab": {
     "base_uri": "https://localhost:8080/"
    },
    "id": "va9_dp51r7Vk",
    "outputId": "157fcd20-509c-4d7e-c71f-4f3d6575fb65"
   },
   "outputs": [
    {
     "name": "stdout",
     "output_type": "stream",
     "text": [
      "It's a sunny day!\n"
     ]
    }
   ],
   "source": [
    "is_sunny = True\n",
    "if is_sunny: print(\"It's a sunny day!\")"
   ]
  },
  {
   "cell_type": "code",
   "execution_count": 17,
   "id": "64a33775",
   "metadata": {
    "colab": {
     "base_uri": "https://localhost:8080/"
    },
    "id": "agWiqg0RL8Kj",
    "outputId": "40df8b9e-b9ad-4985-fbce-182f4dd22a1c",
    "scrolled": true
   },
   "outputs": [
    {
     "name": "stdout",
     "output_type": "stream",
     "text": [
      "This statement will always be printed\n"
     ]
    }
   ],
   "source": [
    "if True: print('This statement will always be printed')"
   ]
  },
  {
   "cell_type": "code",
   "execution_count": 21,
   "id": "7e0ce23b",
   "metadata": {
    "id": "fY1oArPOv4JD"
   },
   "outputs": [],
   "source": [
    "if False: print('This statement will never be printed')"
   ]
  },
  {
   "cell_type": "code",
   "execution_count": 22,
   "id": "a4c3de76",
   "metadata": {},
   "outputs": [
    {
     "name": "stdout",
     "output_type": "stream",
     "text": [
      "This statement will never be printed\n"
     ]
    }
   ],
   "source": [
    "if not False: print('This statement will never be printed')"
   ]
  },
  {
   "cell_type": "code",
   "execution_count": 23,
   "id": "0d47cd09",
   "metadata": {},
   "outputs": [],
   "source": [
    "if not True: print(\"This statement will not be printed\")"
   ]
  },
  {
   "cell_type": "code",
   "execution_count": 29,
   "id": "487931db",
   "metadata": {},
   "outputs": [],
   "source": [
    "x=10"
   ]
  },
  {
   "cell_type": "code",
   "execution_count": 30,
   "id": "e0ddf5cc",
   "metadata": {
    "id": "4WjfMkBcv4JD",
    "outputId": "8676b672-9342-41f3-ca90-f6c1fe311d80"
   },
   "outputs": [
    {
     "data": {
      "text/plain": [
       "True"
      ]
     },
     "execution_count": 30,
     "metadata": {},
     "output_type": "execute_result"
    }
   ],
   "source": [
    "x > 5 and x < 15\n",
    "# True if both conditions otherwise False"
   ]
  },
  {
   "cell_type": "code",
   "execution_count": 31,
   "id": "97913257",
   "metadata": {
    "id": "OeSReIFQv4JD",
    "outputId": "489c191d-23f4-43c5-f620-aa9bb564c281"
   },
   "outputs": [
    {
     "data": {
      "text/plain": [
       "False"
      ]
     },
     "execution_count": 31,
     "metadata": {},
     "output_type": "execute_result"
    }
   ],
   "source": [
    "x > 5 and x < 7"
   ]
  },
  {
   "cell_type": "code",
   "execution_count": 32,
   "id": "96e0b1a6",
   "metadata": {
    "id": "vTSyIIBqv4JD",
    "outputId": "7549d1bc-f4d2-4188-8667-dda5615a7ae7"
   },
   "outputs": [
    {
     "data": {
      "text/plain": [
       "True"
      ]
     },
     "execution_count": 32,
     "metadata": {},
     "output_type": "execute_result"
    }
   ],
   "source": [
    "x > 5 or x < 7\n",
    "# True if any of the condition is True otherwise False"
   ]
  },
  {
   "cell_type": "code",
   "execution_count": 33,
   "id": "9b42013a",
   "metadata": {
    "id": "RKonhrHGv4JE",
    "outputId": "3bbf4c4d-0d67-44f0-a0bc-3f69942bced2"
   },
   "outputs": [
    {
     "data": {
      "text/plain": [
       "True"
      ]
     },
     "execution_count": 33,
     "metadata": {},
     "output_type": "execute_result"
    }
   ],
   "source": [
    "(x > 5 and x < 15)"
   ]
  },
  {
   "cell_type": "code",
   "execution_count": 34,
   "id": "f9311f6b",
   "metadata": {
    "id": "kl5ywfIEv4JE",
    "outputId": "a873e3ca-ad8e-4632-ca68-6833b36b97a4"
   },
   "outputs": [
    {
     "data": {
      "text/plain": [
       "False"
      ]
     },
     "execution_count": 34,
     "metadata": {},
     "output_type": "execute_result"
    }
   ],
   "source": [
    "(x > 5) and (x < 7)"
   ]
  },
  {
   "cell_type": "markdown",
   "id": "1993f235",
   "metadata": {
    "id": "KuZzYsA6tc5f"
   },
   "source": [
    "### Example\n",
    "Conditions on variables"
   ]
  },
  {
   "cell_type": "code",
   "execution_count": 35,
   "id": "4f2cd968",
   "metadata": {
    "colab": {
     "base_uri": "https://localhost:8080/"
    },
    "id": "-xJF_Xu9NcPr",
    "outputId": "32f22caa-ccc0-4fce-96d6-a1fb53609a25"
   },
   "outputs": [
    {
     "name": "stdout",
     "output_type": "stream",
     "text": [
      "Name has 5 or more characters\n"
     ]
    }
   ],
   "source": [
    "name = 'Akhil'\n",
    "if len(name) >= 5: print('Name has 5 or more characters')"
   ]
  },
  {
   "cell_type": "code",
   "execution_count": 36,
   "id": "b8a9f5e0",
   "metadata": {},
   "outputs": [],
   "source": [
    "name = 'Shiv'\n",
    "if len(name) >= 5: print('Name has 5 or more characters')"
   ]
  },
  {
   "cell_type": "markdown",
   "id": "ef392338",
   "metadata": {
    "id": "BYoWdWtgVVHi"
   },
   "source": [
    "# The `if-else` statement\n",
    "The `if-else` statement allows you to execute one block of code if the condition is true and another block of code if the condition is false"
   ]
  },
  {
   "cell_type": "code",
   "execution_count": 37,
   "id": "4a28b83c",
   "metadata": {
    "collapsed": true
   },
   "outputs": [
    {
     "name": "stdout",
     "output_type": "stream",
     "text": [
      "This will always be printed!\n"
     ]
    }
   ],
   "source": [
    "if True: print('This will always be printed!')\n",
    "else: print('This will never be printed!')"
   ]
  },
  {
   "cell_type": "code",
   "execution_count": 39,
   "id": "0e39672f",
   "metadata": {
    "collapsed": true
   },
   "outputs": [
    {
     "name": "stdout",
     "output_type": "stream",
     "text": [
      "This will always be printed!\n"
     ]
    }
   ],
   "source": [
    "if True: \n",
    "    print('This will always be printed!')\n",
    "else: \n",
    "    print('This will never be printed!')"
   ]
  },
  {
   "cell_type": "code",
   "execution_count": 38,
   "id": "8eb7fcda",
   "metadata": {
    "collapsed": true
   },
   "outputs": [
    {
     "name": "stdout",
     "output_type": "stream",
     "text": [
      "This will always be printed!\n"
     ]
    }
   ],
   "source": [
    "if False: print('This will never be printed!')\n",
    "else: print('This will always be printed!')"
   ]
  },
  {
   "cell_type": "code",
   "execution_count": 43,
   "id": "9b11f997",
   "metadata": {
    "collapsed": true
   },
   "outputs": [
    {
     "name": "stdout",
     "output_type": "stream",
     "text": [
      "Customer is not eligible for a senior discount\n"
     ]
    }
   ],
   "source": [
    "customer_age = 30\n",
    "if customer_age >= 65:\n",
    "    print('Customer is eligible for a senior discount')\n",
    "else:\n",
    "    print('Customer is not eligible for a senior discount')"
   ]
  },
  {
   "cell_type": "code",
   "execution_count": 45,
   "id": "fc1df23e",
   "metadata": {
    "collapsed": true
   },
   "outputs": [
    {
     "name": "stdout",
     "output_type": "stream",
     "text": [
      "Enter score: 13\n",
      "fail\n"
     ]
    }
   ],
   "source": [
    "score = int(input('Enter score: '))\n",
    "\n",
    "if score > 35: print('pass')\n",
    "else: print('fail')"
   ]
  },
  {
   "cell_type": "markdown",
   "id": "5c8014f3",
   "metadata": {
    "id": "eZSO-5ZZOg05"
   },
   "source": [
    "# The `if-elif-else` statement\n",
    "The command `elif` means \"else if\" and is used to check multiple conditions. It comes after an initial `if` statement and before the optional `else` statement."
   ]
  },
  {
   "cell_type": "code",
   "execution_count": 49,
   "id": "3b5631a7",
   "metadata": {},
   "outputs": [
    {
     "name": "stdout",
     "output_type": "stream",
     "text": [
      "invalid colour\n"
     ]
    }
   ],
   "source": [
    "current_color = 'blue'\n",
    "\n",
    "if current_color == 'red': print('stop')\n",
    "elif current_color == 'yellow': print('wait')\n",
    "elif current_color == 'green': print('go')\n",
    "else: print('invalid colour')"
   ]
  },
  {
   "cell_type": "code",
   "execution_count": 52,
   "id": "ddc04417",
   "metadata": {},
   "outputs": [
    {
     "name": "stdout",
     "output_type": "stream",
     "text": [
      "stop--red\n"
     ]
    }
   ],
   "source": [
    "current_color = 'red'\n",
    "\n",
    "if current_color == 'red': \n",
    "    print('stop--red')\n",
    "elif current_color == 'yellow': \n",
    "    print('wait--yellow')\n",
    "elif current_color == 'green': \n",
    "    print('go--green')\n",
    "else: \n",
    "    print('invalid colour')"
   ]
  },
  {
   "cell_type": "markdown",
   "id": "404fed5f",
   "metadata": {
    "id": "9qaWFaTPUR6x"
   },
   "source": [
    "# Nested `if` statments\n",
    "Nested `if` statements involve placing one `if` statement inside another. They are useful when you need to check multiple conditions, and the execution of one condition depends on the outcome of another."
   ]
  },
  {
   "cell_type": "markdown",
   "id": "7ec061cb",
   "metadata": {
    "id": "32rRF8c4agGP"
   },
   "source": [
    "### Example\n",
    "Creating nested `if` statements"
   ]
  },
  {
   "cell_type": "code",
   "execution_count": 54,
   "id": "f8ae7aef",
   "metadata": {
    "id": "T6f7HsAUEEBw"
   },
   "outputs": [
    {
     "name": "stdout",
     "output_type": "stream",
     "text": [
      "low credit score\n"
     ]
    }
   ],
   "source": [
    "credit_score = 550\n",
    "income = 60000\n",
    "if credit_score >= 700:#0 spaces/ 0 tabs\n",
    "    if income >= 50000:#4 spaces/ 1 tab\n",
    "        print('credit card approved')#8 spaces/ 2 tabs\n",
    "    else:#4 spaces/ 1 tab\n",
    "        print('insufficient income')#8 spaces/ 2 tabs\n",
    "else: print('low credit score')#0 spaces/ 0 tabs"
   ]
  },
  {
   "cell_type": "markdown",
   "id": "9e493b9b",
   "metadata": {
    "id": "TViSGmQzfUwk"
   },
   "source": [
    "# The `for` loop\n",
    "`for` loops are used to iterate over iterables"
   ]
  },
  {
   "cell_type": "code",
   "execution_count": 55,
   "id": "02865528",
   "metadata": {},
   "outputs": [],
   "source": [
    "#iterables: Through which you can iterate like string, list, tuple, dictionaries, set\n",
    "#iteration: repeating a process again and again"
   ]
  },
  {
   "cell_type": "code",
   "execution_count": 56,
   "id": "8f016517",
   "metadata": {
    "collapsed": true
   },
   "outputs": [
    {
     "name": "stdout",
     "output_type": "stream",
     "text": [
      "U\n",
      "p\n",
      "g\n",
      "r\n",
      "a\n",
      "d\n"
     ]
    }
   ],
   "source": [
    "for i in \"Upgrad\":# i is iterator # \"Upgrad\" is a iterable # one process is known as iteration\n",
    "    print(i)"
   ]
  },
  {
   "cell_type": "code",
   "execution_count": 57,
   "id": "ffa1e846",
   "metadata": {
    "collapsed": true
   },
   "outputs": [
    {
     "name": "stdout",
     "output_type": "stream",
     "text": [
      "Aravind\n",
      "Charlie\n",
      "Dinesh\n",
      "Parveen\n",
      "Ram\n",
      "Subhadra\n",
      "Zareena\n"
     ]
    }
   ],
   "source": [
    "names = ['Aravind', 'Charlie', 'Dinesh', 'Parveen', 'Ram', 'Subhadra', 'Zareena']\n",
    "for i in names: \n",
    "    print(i)"
   ]
  },
  {
   "cell_type": "code",
   "execution_count": 66,
   "id": "3573cfcb",
   "metadata": {
    "collapsed": true
   },
   "outputs": [
    {
     "name": "stdout",
     "output_type": "stream",
     "text": [
      "Aravind\n",
      "Charlie\n",
      "Dinesh\n",
      "Parveen\n",
      "Ram\n",
      "Subhadra\n",
      "Zareena\n"
     ]
    }
   ],
   "source": [
    "names = ('Aravind', 'Charlie', 'Dinesh', 'Parveen', 'Ram', 'Subhadra', 'Zareena')\n",
    "for name in names: \n",
    "    print(name)"
   ]
  },
  {
   "cell_type": "code",
   "execution_count": 59,
   "id": "eaa0896b",
   "metadata": {
    "collapsed": true
   },
   "outputs": [
    {
     "name": "stdout",
     "output_type": "stream",
     "text": [
      "Aravind\n",
      "Ram\n",
      "Zareena\n",
      "Dinesh\n",
      "Subhadra\n",
      "Charlie\n",
      "Parveen\n"
     ]
    }
   ],
   "source": [
    "names = {'Aravind', 'Charlie', 'Dinesh', 'Parveen', 'Ram', 'Subhadra', 'Zareena'}\n",
    "for name in names: \n",
    "    print(name)"
   ]
  },
  {
   "cell_type": "code",
   "execution_count": 61,
   "id": "8eaf64ba",
   "metadata": {
    "collapsed": true
   },
   "outputs": [
    {
     "name": "stdout",
     "output_type": "stream",
     "text": [
      "Aravind ---> 26765\n",
      "Charlie ---> 34431\n",
      "Dinesh ---> 65587\n",
      "Parveen ---> 45809\n",
      "Ram ---> 87987\n",
      "Subhadra ---> 54019\n",
      "Zareena ---> 21298\n"
     ]
    }
   ],
   "source": [
    "names = {'Aravind': 26765, 'Charlie': 34431, 'Dinesh': 65587, 'Parveen': 45809, 'Ram': 87987, 'Subhadra': 54019, 'Zareena': 21298}\n",
    "for key,value in names.items(): \n",
    "    print(key,\"--->\",value)"
   ]
  },
  {
   "cell_type": "code",
   "execution_count": 62,
   "id": "c5f24753",
   "metadata": {
    "collapsed": true
   },
   "outputs": [
    {
     "name": "stdout",
     "output_type": "stream",
     "text": [
      "Aravind\n",
      "Charlie\n",
      "Dinesh\n",
      "Parveen\n",
      "Ram\n",
      "Subhadra\n",
      "Zareena\n"
     ]
    }
   ],
   "source": [
    "for key in names.keys(): \n",
    "    print(key)"
   ]
  },
  {
   "cell_type": "code",
   "execution_count": 64,
   "id": "4341392f",
   "metadata": {
    "collapsed": true
   },
   "outputs": [
    {
     "name": "stdout",
     "output_type": "stream",
     "text": [
      "26765\n",
      "34431\n",
      "65587\n",
      "45809\n",
      "87987\n",
      "54019\n",
      "21298\n"
     ]
    }
   ],
   "source": [
    "for value in names.values(): \n",
    "    print(value)"
   ]
  },
  {
   "cell_type": "code",
   "execution_count": 70,
   "id": "0656b7a8",
   "metadata": {},
   "outputs": [
    {
     "name": "stdout",
     "output_type": "stream",
     "text": [
      "Aravind length is greator than 6\n",
      "Charlie length is greator than 6\n",
      "Dinesh length is less than equals to 6\n",
      "Parveen length is greator than 6\n",
      "Ram length is less than equals to 6\n",
      "Subhadra length is greator than 6\n",
      "Zareena length is greator than 6\n"
     ]
    }
   ],
   "source": [
    "# print only those names whose length is less than 6\n",
    "names = ['Aravind', 'Charlie', 'Dinesh', 'Parveen', 'Ram', 'Subhadra', 'Zareena']\n",
    "for i in names: \n",
    "    if len(i)<=6:\n",
    "        print(i,\"length is less than equals to 6\")\n",
    "    else:\n",
    "        print(i,\"length is greator than 6\")"
   ]
  },
  {
   "cell_type": "markdown",
   "id": "8528a1f2",
   "metadata": {
    "id": "rRxbcbiSLKEZ"
   },
   "source": [
    "# The `while` loop\n",
    "While loops are used to execute a block of statements repeatedly until a given condition is satisfied"
   ]
  },
  {
   "cell_type": "code",
   "execution_count": 72,
   "id": "6f6b661a",
   "metadata": {},
   "outputs": [
    {
     "name": "stdout",
     "output_type": "stream",
     "text": [
      "0 U\n",
      "2 g\n",
      "4 a\n"
     ]
    }
   ],
   "source": [
    "i=0\n",
    "string=\"Upgrad\"\n",
    "while i<len(string):# condition if not satisfied it will stop the loop\n",
    "    print(i,string[i])\n",
    "    i=i+2\n",
    "    "
   ]
  },
  {
   "cell_type": "code",
   "execution_count": 74,
   "id": "06d16727",
   "metadata": {},
   "outputs": [],
   "source": [
    "# while True:\n",
    "#     print(\"I am in infinite loop!!!\")"
   ]
  }
 ],
 "metadata": {
  "kernelspec": {
   "display_name": "Python 3",
   "language": "python",
   "name": "python3"
  },
  "language_info": {
   "codemirror_mode": {
    "name": "ipython",
    "version": 3
   },
   "file_extension": ".py",
   "mimetype": "text/x-python",
   "name": "python",
   "nbconvert_exporter": "python",
   "pygments_lexer": "ipython3",
   "version": "3.8.8"
  }
 },
 "nbformat": 4,
 "nbformat_minor": 5
}
