{
 "cells": [
  {
   "cell_type": "markdown",
   "id": "30570031",
   "metadata": {
    "id": "b0bH0IUl5RiB"
   },
   "source": [
    "# Logic building and problem solving\n",
    "Logic building and problem-solving are fundamental skills in programming that involve the ability to think critically, analyze situations, and devise effective solutions using programming languages"
   ]
  },
  {
   "cell_type": "markdown",
   "id": "72aec496",
   "metadata": {
    "id": "Cdva_Cob0zLK"
   },
   "source": [
    "### Example\n",
    "**Problem:** Design a program to add two numbers entered by the user. The program should prompt the user to input two numerical values and then calculate and display the sum of these numbers."
   ]
  },
  {
   "cell_type": "markdown",
   "id": "fe27da4b",
   "metadata": {
    "id": "Mo3cxT9I0zLL"
   },
   "source": [
    "#### Step 1\n",
    "**Determine nature and type of input and output:** Clearly define what information your program will take in (input) and what it should produce (output). Understand the format and constraints of the data.\n",
    "\n",
    "**Input:** Two numbers. These can be integers, floats, and so on.\n",
    "\n",
    "**Output:** The sum of the two numbers (sum). Its data type will depend on the two numbers. But we can generalize to float.\n",
    "\n",
    "**Test cases:**\n",
    "```\n",
    "Input:\n",
    "  Enter the first number: 5\n",
    "  Enter the second number: 3\n",
    "Expected output:\n",
    "  The sum is: 8.0\n",
    "\n",
    "Input:\n",
    "  Enter the first number: -7\n",
    "  Enter the second number: -2\n",
    "Expected output:\n",
    "  The sum is: -9.0\n",
    "\n",
    "Input:\n",
    "  Enter the first number: 4.5\n",
    "  Enter the second number: 2.5\n",
    "Expected output:\n",
    "  The sum is: 7.0\n",
    "\n",
    "Input:\n",
    "  Enter the first number: 0\n",
    "  Enter the second number: 0\n",
    "Expected output:\n",
    "  The sum is: 0.0\n",
    "\n",
    "Input:\n",
    "  Enter the first number: 1000000\n",
    "  Enter the second number: 500000\n",
    "Expected output:\n",
    "  The sum is: 1500000.0\n",
    "\n",
    "Input:\n",
    "  Enter the first number: -10\n",
    "  Enter the second number: 7\n",
    "Expected output:\n",
    "  The sum is: -3.0\n",
    "\n",
    "Input:\n",
    "  Enter the first number: 3.5\n",
    "  Enter the second number: 2.25\n",
    "Expected output:\n",
    "  The sum is: 5.75\n",
    "\n",
    "Input:\n",
    "  Enter the first number: abc\n",
    "  Enter the second number: 123\n",
    "Expected output:\n",
    "  ValueError: could not convert string to float: 'abc'\n",
    "```"
   ]
  },
  {
   "cell_type": "markdown",
   "id": "7c1dc5c8",
   "metadata": {
    "id": "xc_UFTh4CMoR"
   },
   "source": [
    "#### Step 2\n",
    "**Flowchart:** Draw a rough diagram to track how input data transforms into output data.\n",
    "\n",
    "![sum_of_two_numbers (1).jpg](data:image/jpeg;base64,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)\n",
    "\n",
    "\n"
   ]
  },
  {
   "cell_type": "markdown",
   "id": "fe298529",
   "metadata": {
    "id": "2RYnbGsJCVex"
   },
   "source": [
    "#### Step 3\n",
    "**Pseudocode:** Write pseudocode to describe the logical steps of your program in plain language. Use basic programming constructs like loops, conditionals, and functions to represent the steps This acts as a roadmap for your actual code.\n",
    "\n",
    "1. Declare variables `num1` and `num2` and read the  \n",
    "   two numbers\n",
    "2. find the sum of the two numbers and assign the result to `summation`\n",
    "3. Print the `summation`"
   ]
  },
  {
   "cell_type": "markdown",
   "id": "2a00ddce",
   "metadata": {
    "id": "9u-Om01dCd75"
   },
   "source": [
    "#### Step 4\n",
    "**Coding the program:** Translate your pseudocode into the actual code. Start with the basic structure, and then gradually add details. Use comments to include relevant parts of your pseudocode in the code."
   ]
  },
  {
   "cell_type": "markdown",
   "id": "4791e9ca",
   "metadata": {
    "id": "ykw5cWSSCi7B"
   },
   "source": [
    "#### Step 5\n",
    "**Testing the program:** Test your program with various inputs, including boundary cases, to ensure it behaves as expected. Look for logical errors and fix any bugs. Debugging tools and print statements can be helpful.\n",
    "\n",
    "**Note:** Use the test cases mentioned in the first step to test the program to start off the testing"
   ]
  },
  {
   "cell_type": "code",
   "execution_count": 1,
   "id": "89278a29",
   "metadata": {},
   "outputs": [],
   "source": [
    "#Determine nature and type of input and output\n",
    "#Flowchart\n",
    "#Pseudocode\n",
    "#Coding the program in python\n",
    "#Testing the program"
   ]
  },
  {
   "cell_type": "markdown",
   "id": "e5e087a7",
   "metadata": {
    "id": "0jBa2gQV0Jfm"
   },
   "source": [
    "### Example\n",
    "**Problem:** Write a program that receives a string and shifts all the vowels present in it to the beginning. Output the resultant string. The order of all the vowels with respect to each other as well as the order of all the other characters with respect to each other should stay the same."
   ]
  },
  {
   "cell_type": "markdown",
   "id": "61331668",
   "metadata": {},
   "source": [
    "**Test cases:**\n",
    "```\n",
    "Input:\n",
    "  \"hello\"\n",
    "Expected output:\n",
    "  \"eohll\"\n",
    "\n",
    "Input:\n",
    "  \"Programming\"\n",
    "Expected output:\n",
    "  \"oaiPrgrmmng\"\n",
    "\n",
    "Input:\n",
    "  \"rhythm\"\n",
    "Expected output:\n",
    "  \"rhythm\"\n",
    "\n",
    "Input:\n",
    "  \"aeiou\"\n",
    "Expected output:\n",
    "  \"aeiou\"\n",
    "\n",
    "Input:\n",
    "  \"\"\n",
    "Expected output:\n",
    "  \"\"\n",
    "\n",
    "Input:\n",
    "  \"1@3!5\"\n",
    "Expected output:\n",
    "  \"1@3!5\"\n",
    "\n",
    "Input:\n",
    "  \"hello world\"\n",
    "Expected output:\n",
    "  \"eoo hll wrld\"\n",
    "```"
   ]
  },
  {
   "cell_type": "code",
   "execution_count": 8,
   "id": "70d9cc91",
   "metadata": {},
   "outputs": [
    {
     "name": "stdout",
     "output_type": "stream",
     "text": [
      "hello world\n",
      "eoo hll wrld\n"
     ]
    }
   ],
   "source": [
    "input_string=input()\n",
    "vow=''\n",
    "cons=''\n",
    "\n",
    "# Iterate through each character in the input string\n",
    "#### YOUR CODE HERE####\n",
    "for char in input_string:\n",
    "    if char.lower() in \"aeiou\":\n",
    "        vow=vow+char\n",
    "    else:\n",
    "        cons=cons+char\n",
    "if \" \" in input_string:\n",
    "     print(vow+' '+cons)\n",
    "else:\n",
    "    print(vow+cons)"
   ]
  },
  {
   "cell_type": "markdown",
   "id": "0cdb97c7",
   "metadata": {
    "id": "_NvrJN6m6szJ"
   },
   "source": [
    "### Quiz\n",
    "**Problem:** Create a program that takes a list of integers as input, splits the elements into three separate lists based on whether they are zero, positive, or negative, and then prints the resulting lists\n",
    "\n",
    "**Test cases:**\n",
    "```\n",
    "Input:\n",
    "  1 2 3\n",
    "Expected output:\n",
    "  Zeros: []\n",
    "  Positives: [1, 2, 3]\n",
    "  Negatives: []\n",
    "  \n",
    "Input:\n",
    "  -2 -5 0 1 2 5 0\n",
    "Expected output:\n",
    "  Zeros: [0, 0]\n",
    "  Positives: [1, 2, 5]\n",
    "  Negatives: [-2, -5]\n",
    "  \n",
    "Input:\n",
    "  256 -345 0 12 0 -4 56 74 0 -123\n",
    "Expected output:\n",
    "  Zeros: [0, 0, 0]\n",
    "  Positives: [256, 12, 56, 74]\n",
    "  Negatives: [-345, -4, -123]\n",
    "```\n",
    "\n",
    "**Note:** Use the problem solving steps you learned to solve this problem"
   ]
  },
  {
   "cell_type": "code",
   "execution_count": 9,
   "id": "195ef689",
   "metadata": {},
   "outputs": [
    {
     "name": "stdout",
     "output_type": "stream",
     "text": [
      "[256,-345 ,0,12,0,-4,56,74 ,0,-123]\n",
      "Zeros: [0, 0, 0]\n",
      "Positives: [256, 12, 56, 74]\n",
      "Negatives: [-345, -4, -123]\n"
     ]
    }
   ],
   "source": [
    "import ast\n",
    "ls=ast.literal_eval(input())\n",
    "zeros=[]\n",
    "pos=[]\n",
    "neg=[]\n",
    "for i in ls:\n",
    "    if i>0:\n",
    "        pos.append(i)\n",
    "    elif i<0:\n",
    "        neg.append(i)\n",
    "    else:\n",
    "        zeros.append(i)\n",
    "print(\"Zeros:\",zeros)\n",
    "print(\"Positives:\",pos)\n",
    "print(\"Negatives:\",neg)"
   ]
  },
  {
   "cell_type": "markdown",
   "id": "460e3b1e",
   "metadata": {},
   "source": [
    "### Example\n",
    "**Problem:** You are tasked with developing a program to analyze the performance of a stock portfolio. The program should prompt the user to input details about each stock in their portfolio, including the number of stocks, the stock symbol, initial price, and current price. Subsequently, the program should calculate the percentage gain or loss for each stock, then display the overall portfolio performance, taking into account the combined percentage changes of all the stocks along with an indication of whether the change is positive or negative."
   ]
  },
  {
   "cell_type": "markdown",
   "id": "2154b881",
   "metadata": {},
   "source": [
    "**Input:**\n",
    "- Number of stocks: Positive integer\n",
    "- Stock symbol: Alphanumeric and case-sensitive\n",
    "- Initial price: Non-negative floating-point number\n",
    "- Current price: Non-negative floating-point number\n",
    "\n",
    "**Output:**\n",
    "- Overall portfolio performance: float\n",
    "\n",
    "**Test cases:**\n",
    "```\n",
    "Input:\n",
    "  Enter the number of stocks in your portfolio: 2\n",
    "  Enter stock symbol: AAPL\n",
    "  Enter initial price: 100.00\n",
    "  Enter current price: 110.00\n",
    "  Enter stock symbol: GOOGL\n",
    "  Enter initial price: 1500.00\n",
    "  Enter current price: 1600.00\n",
    "Expected Output:\n",
    "  Overall portfolio performance: +6.875%\n",
    "\n",
    "Input:\n",
    "  Enter the number of stocks in your portfolio: 2\n",
    "  Enter stock symbol: AAPL\n",
    "  Enter initial price: 200.00\n",
    "  Enter current price: 190.00\n",
    "  Enter stock symbol: GOOGL\n",
    "  Enter initial price: 1800.00\n",
    "  Enter current price: 1750.00\n",
    "Expected Output:\n",
    "  Overall portfolio performance: -3.00%\n",
    "\n",
    "Input:\n",
    "  Enter the number of stocks in your portfolio: 3\n",
    "  Enter stock symbol: AAPL\n",
    "  Enter initial price: 50.00\n",
    "  Enter current price: 50.00\n",
    "  Enter stock symbol: GOOGL\n",
    "  Enter initial price: 1000.00\n",
    "  Enter current price: 1000.00\n",
    "  Enter stock symbol: MSFT\n",
    "  Enter initial price: 75.00\n",
    "  Enter current price: 75.00\n",
    "Expected Output:\n",
    "  Overall portfolio performance: 0.00%"
   ]
  },
  {
   "cell_type": "code",
   "execution_count": 12,
   "id": "a58de14c",
   "metadata": {},
   "outputs": [
    {
     "name": "stdout",
     "output_type": "stream",
     "text": [
      "Enter the number of stocks in your portfolio:3\n",
      "Enter stock symbol:AAPL\n",
      "Enter initial price: 50\n",
      "Enter current price:50\n",
      "Enter stock symbol:GOOGL\n",
      "Enter initial price: 1000\n",
      "Enter current price:1000\n",
      "Enter stock symbol:MSFT\n",
      "Enter initial price: 75\n",
      "Enter current price:75\n",
      "Overall portfolio performance: 0.0 %\n"
     ]
    }
   ],
   "source": [
    "no_of_stocks=int(input(\"Enter the number of stocks in your portfolio:\"))\n",
    "initial=[]\n",
    "current=[]\n",
    "for i in range(no_of_stocks):\n",
    "    stock_name=input(\"Enter stock symbol:\")\n",
    "    stock_price_initial=float(input(\"Enter initial price: \"))\n",
    "    stock_price_current=float(input(\"Enter current price:\"))\n",
    "    initial.append(stock_price_initial)\n",
    "    current.append(stock_price_current)\n",
    "perf=100*(sum(current)-sum(initial))/sum(initial)\n",
    "print(\"Overall portfolio performance:\",perf,\"%\")"
   ]
  },
  {
   "cell_type": "markdown",
   "id": "acac389b",
   "metadata": {},
   "source": [
    "Ques: Given a list in Python and provided the indexes of the elements, write a program to swap the two elements in the list.\n",
    "\n",
    "- Input : List = [23, 65, 19, 90], ind1 = 0, ind2 = 2\n",
    "- Output : [19, 65, 23, 90]\n",
    "\n",
    "- Input : List = [1, 2, 3, 4, 5], ind1 = 1, ind2 = 4\n",
    "- Output : [1, 5, 3, 4, 2]"
   ]
  },
  {
   "cell_type": "code",
   "execution_count": 14,
   "id": "312c8786",
   "metadata": {},
   "outputs": [
    {
     "name": "stdout",
     "output_type": "stream",
     "text": [
      "[1, 2, 3, 4, 5]\n",
      "1\n",
      "4\n",
      "[1, 5, 3, 4, 2]\n"
     ]
    }
   ],
   "source": [
    "import ast\n",
    "ls=ast.literal_eval(input())\n",
    "ind1=int(input())\n",
    "ind2=int(input())\n",
    "ls[ind1],ls[ind2]=ls[ind2],ls[ind1]\n",
    "print(ls)"
   ]
  },
  {
   "cell_type": "code",
   "execution_count": null,
   "id": "1c78c63b",
   "metadata": {},
   "outputs": [],
   "source": []
  }
 ],
 "metadata": {
  "kernelspec": {
   "display_name": "Python 3",
   "language": "python",
   "name": "python3"
  },
  "language_info": {
   "codemirror_mode": {
    "name": "ipython",
    "version": 3
   },
   "file_extension": ".py",
   "mimetype": "text/x-python",
   "name": "python",
   "nbconvert_exporter": "python",
   "pygments_lexer": "ipython3",
   "version": "3.8.8"
  }
 },
 "nbformat": 4,
 "nbformat_minor": 5
}
