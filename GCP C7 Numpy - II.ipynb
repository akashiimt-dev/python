{
 "cells": [
  {
   "cell_type": "code",
   "execution_count": 1,
   "id": "80f10e1c",
   "metadata": {
    "id": "IS7aa_rkKqgz"
   },
   "outputs": [],
   "source": [
    "import numpy as np"
   ]
  },
  {
   "cell_type": "markdown",
   "id": "fbef6892",
   "metadata": {
    "id": "AtkBuv4QAd4q"
   },
   "source": [
    "### Quiz\n",
    "Consider the arrays shown below:\n",
    "```\n",
    "arr_1 = np.array([[1, 3], [-2, 5], [6, 7]])\n",
    "arr_2 = np.array([[1, -7, 4], [0, 8, -4]])\n",
    "```\n",
    "Add the two arrays to produce the following array:\n",
    "```\n",
    "np.array([[2, 3], [-9, 13], [10, 3]])\n",
    "```\n",
    "You may need to transpose the second array and check whether the elements match accordingly"
   ]
  },
  {
   "cell_type": "code",
   "execution_count": 2,
   "id": "ef0fa3a6",
   "metadata": {},
   "outputs": [],
   "source": [
    "arr_1 = np.array([[1, 3], [-2, 5], [6, 7]])\n",
    "arr_2 = np.array([[1, -7, 4], [0, 8, -4]])"
   ]
  },
  {
   "cell_type": "code",
   "execution_count": 3,
   "id": "6e812e30",
   "metadata": {},
   "outputs": [
    {
     "data": {
      "text/plain": [
       "array([[ 1,  3],\n",
       "       [-2,  5],\n",
       "       [ 6,  7]])"
      ]
     },
     "execution_count": 3,
     "metadata": {},
     "output_type": "execute_result"
    }
   ],
   "source": [
    "arr_1"
   ]
  },
  {
   "cell_type": "code",
   "execution_count": 4,
   "id": "9fc51154",
   "metadata": {},
   "outputs": [
    {
     "data": {
      "text/plain": [
       "array([[ 1, -7,  4],\n",
       "       [ 0,  8, -4]])"
      ]
     },
     "execution_count": 4,
     "metadata": {},
     "output_type": "execute_result"
    }
   ],
   "source": [
    "arr_2"
   ]
  },
  {
   "cell_type": "code",
   "execution_count": 7,
   "id": "f7719f5e",
   "metadata": {},
   "outputs": [],
   "source": [
    "out=arr_1+arr_2.transpose()"
   ]
  },
  {
   "cell_type": "code",
   "execution_count": 8,
   "id": "f7e28daf",
   "metadata": {},
   "outputs": [
    {
     "data": {
      "text/plain": [
       "array([[ 2,  3],\n",
       "       [-9, 13],\n",
       "       [10,  3]])"
      ]
     },
     "execution_count": 8,
     "metadata": {},
     "output_type": "execute_result"
    }
   ],
   "source": [
    "out"
   ]
  },
  {
   "cell_type": "markdown",
   "id": "c234d601",
   "metadata": {
    "id": "NHT9e8LzAd4s"
   },
   "source": [
    "### Example\n",
    "Performing exponentiation with arrays"
   ]
  },
  {
   "cell_type": "code",
   "execution_count": 9,
   "id": "99a9b003",
   "metadata": {
    "colab": {
     "base_uri": "https://localhost:8080/"
    },
    "executionInfo": {
     "elapsed": 436,
     "status": "ok",
     "timestamp": 1703821132401,
     "user": {
      "displayName": "Dawit Hadush",
      "userId": "03293108265000512791"
     },
     "user_tz": -330
    },
    "id": "U6kv2a_OAd4s",
    "outputId": "b235922f-5b7f-4cc7-fdfc-de46d50aea10"
   },
   "outputs": [
    {
     "data": {
      "text/plain": [
       "array([[ 1. ,  0. , -1. ],\n",
       "       [ 2. ,  0.5,  0.1]])"
      ]
     },
     "execution_count": 9,
     "metadata": {},
     "output_type": "execute_result"
    }
   ],
   "source": [
    "np_arr = np.array([[1, 0, -1], [2, 0.5, 0.1]])\n",
    "np_arr"
   ]
  },
  {
   "cell_type": "code",
   "execution_count": 10,
   "id": "7111314e",
   "metadata": {
    "colab": {
     "base_uri": "https://localhost:8080/"
    },
    "executionInfo": {
     "elapsed": 428,
     "status": "ok",
     "timestamp": 1703821132401,
     "user": {
      "displayName": "Dawit Hadush",
      "userId": "03293108265000512791"
     },
     "user_tz": -330
    },
    "id": "ao9T5iWSAd4s",
    "outputId": "aeeeafa8-f091-481e-dd7f-b56c2c7b767f"
   },
   "outputs": [
    {
     "data": {
      "text/plain": [
       "array([[1.  , 0.  , 1.  ],\n",
       "       [4.  , 0.25, 0.01]])"
      ]
     },
     "execution_count": 10,
     "metadata": {},
     "output_type": "execute_result"
    }
   ],
   "source": [
    "np_arr ** 2"
   ]
  },
  {
   "cell_type": "code",
   "execution_count": 13,
   "id": "d8e5b9da",
   "metadata": {},
   "outputs": [
    {
     "data": {
      "text/plain": [
       "array([[ 1.00e+00,  0.00e+00, -1.00e+00],\n",
       "       [ 8.00e+00,  1.25e-01,  1.00e-03]])"
      ]
     },
     "execution_count": 13,
     "metadata": {},
     "output_type": "execute_result"
    }
   ],
   "source": [
    "np_arr ** 3"
   ]
  },
  {
   "cell_type": "code",
   "execution_count": null,
   "id": "8e5c1c0e",
   "metadata": {},
   "outputs": [],
   "source": [
    "1.25e-01 = 1.25*10^(-1)=0.125"
   ]
  },
  {
   "cell_type": "code",
   "execution_count": 14,
   "id": "be409645",
   "metadata": {},
   "outputs": [],
   "source": [
    "arr=np_arr ** 2"
   ]
  },
  {
   "cell_type": "code",
   "execution_count": 15,
   "id": "dbfccd99",
   "metadata": {},
   "outputs": [
    {
     "data": {
      "text/plain": [
       "array([[1.  , 0.  , 1.  ],\n",
       "       [4.  , 0.25, 0.01]])"
      ]
     },
     "execution_count": 15,
     "metadata": {},
     "output_type": "execute_result"
    }
   ],
   "source": [
    "arr"
   ]
  },
  {
   "cell_type": "code",
   "execution_count": 16,
   "id": "3257d453",
   "metadata": {},
   "outputs": [
    {
     "data": {
      "text/plain": [
       "array([[1. , 0. , 1. ],\n",
       "       [2. , 0.5, 0.1]])"
      ]
     },
     "execution_count": 16,
     "metadata": {},
     "output_type": "execute_result"
    }
   ],
   "source": [
    "np.sqrt(arr)"
   ]
  },
  {
   "cell_type": "code",
   "execution_count": 17,
   "id": "604b1153",
   "metadata": {
    "colab": {
     "base_uri": "https://localhost:8080/"
    },
    "executionInfo": {
     "elapsed": 346,
     "status": "ok",
     "timestamp": 1703821132405,
     "user": {
      "displayName": "Dawit Hadush",
      "userId": "03293108265000512791"
     },
     "user_tz": -330
    },
    "id": "RdfU_zCaAd4z",
    "outputId": "bcf1f355-6ccc-4c1c-8ff3-9fda57cc2335"
   },
   "outputs": [
    {
     "data": {
      "text/plain": [
       "array([2450.67, 1872.34, 1098.44])"
      ]
     },
     "execution_count": 17,
     "metadata": {},
     "output_type": "execute_result"
    }
   ],
   "source": [
    "company_revenue_jan = np.array([2450.67, 1872.34, 1098.44])\n",
    "company_revenue_jan"
   ]
  },
  {
   "cell_type": "code",
   "execution_count": 18,
   "id": "501dd944",
   "metadata": {
    "colab": {
     "base_uri": "https://localhost:8080/"
    },
    "executionInfo": {
     "elapsed": 337,
     "status": "ok",
     "timestamp": 1703821132405,
     "user": {
      "displayName": "Dawit Hadush",
      "userId": "03293108265000512791"
     },
     "user_tz": -330
    },
    "id": "KazRZv74Ad4z",
    "outputId": "08d24f6c-0c45-4a15-98c2-e608f8bafa5d"
   },
   "outputs": [
    {
     "data": {
      "text/plain": [
       "5421.450000000001"
      ]
     },
     "execution_count": 18,
     "metadata": {},
     "output_type": "execute_result"
    }
   ],
   "source": [
    "company_revenue_jan.sum()"
   ]
  },
  {
   "cell_type": "markdown",
   "id": "98d8203a",
   "metadata": {
    "id": "-Hm80lPgAd4u"
   },
   "source": [
    "### Quiz\n",
    "Define a function called `return_exp_array` that takes in an array and returns an array whose elements are exponentiated versions of the original elements. Consider the exponent as an input to the function as well.\n",
    "\n",
    "Here is a test case to help you out:\n",
    "> The output of `return_exp_array(np.array([0, 2], [-2, -1]), 4)` should be `np.array([0, 16], [16, 1])`"
   ]
  },
  {
   "cell_type": "code",
   "execution_count": 19,
   "id": "5c9de708",
   "metadata": {},
   "outputs": [
    {
     "data": {
      "text/plain": [
       "array([[ 0, 16],\n",
       "       [16,  1]])"
      ]
     },
     "execution_count": 19,
     "metadata": {},
     "output_type": "execute_result"
    }
   ],
   "source": [
    "def return_exp_array(in_arr, exp_val): \n",
    "    return in_arr ** exp_val\n",
    "return_exp_array(np.array([[0, 2], [-2, -1]]), 4)"
   ]
  },
  {
   "cell_type": "code",
   "execution_count": 20,
   "id": "a39f1805",
   "metadata": {
    "colab": {
     "base_uri": "https://localhost:8080/"
    },
    "executionInfo": {
     "elapsed": 332,
     "status": "ok",
     "timestamp": 1703821132406,
     "user": {
      "displayName": "Dawit Hadush",
      "userId": "03293108265000512791"
     },
     "user_tz": -330
    },
    "id": "47F3hX0bAd4z",
    "outputId": "b3c8663a-2f1f-454d-8235-08f6e65c096a"
   },
   "outputs": [
    {
     "data": {
      "text/plain": [
       "array([[ 2, 25, 45],\n",
       "       [10, 16,  8],\n",
       "       [ 4,  3, 12]])"
      ]
     },
     "execution_count": 20,
     "metadata": {},
     "output_type": "execute_result"
    }
   ],
   "source": [
    "monthly_rates = np.array([[2, 25, 45], [10, 16, 8], [4, 3, 12]])\n",
    "monthly_rates"
   ]
  },
  {
   "cell_type": "code",
   "execution_count": 21,
   "id": "cc2724c8",
   "metadata": {
    "colab": {
     "base_uri": "https://localhost:8080/"
    },
    "executionInfo": {
     "elapsed": 328,
     "status": "ok",
     "timestamp": 1703821132407,
     "user": {
      "displayName": "Dawit Hadush",
      "userId": "03293108265000512791"
     },
     "user_tz": -330
    },
    "id": "OnYusBDNAd4z",
    "outputId": "54ff5662-7bec-4c51-d98b-fd538f95edf1"
   },
   "outputs": [
    {
     "data": {
      "text/plain": [
       "125"
      ]
     },
     "execution_count": 21,
     "metadata": {},
     "output_type": "execute_result"
    }
   ],
   "source": [
    "monthly_rates.sum()"
   ]
  },
  {
   "cell_type": "code",
   "execution_count": 22,
   "id": "625d97c7",
   "metadata": {
    "colab": {
     "base_uri": "https://localhost:8080/"
    },
    "executionInfo": {
     "elapsed": 323,
     "status": "ok",
     "timestamp": 1703821132407,
     "user": {
      "displayName": "Dawit Hadush",
      "userId": "03293108265000512791"
     },
     "user_tz": -330
    },
    "id": "pkTSZFdrAd4z",
    "outputId": "5d93c4dc-113a-4891-98ff-5838b982402d"
   },
   "outputs": [
    {
     "data": {
      "text/plain": [
       "array([16, 44, 65])"
      ]
     },
     "execution_count": 22,
     "metadata": {},
     "output_type": "execute_result"
    }
   ],
   "source": [
    "monthly_rates.sum(axis = 0)# columnwise sum"
   ]
  },
  {
   "cell_type": "code",
   "execution_count": 23,
   "id": "b9ad5cde",
   "metadata": {
    "colab": {
     "base_uri": "https://localhost:8080/"
    },
    "executionInfo": {
     "elapsed": 318,
     "status": "ok",
     "timestamp": 1703821132407,
     "user": {
      "displayName": "Dawit Hadush",
      "userId": "03293108265000512791"
     },
     "user_tz": -330
    },
    "id": "8MW3CI1QAd4z",
    "outputId": "6408e4ad-a560-4934-8a5d-129c1c897b66"
   },
   "outputs": [
    {
     "data": {
      "text/plain": [
       "array([72, 34, 19])"
      ]
     },
     "execution_count": 23,
     "metadata": {},
     "output_type": "execute_result"
    }
   ],
   "source": [
    "monthly_rates.sum(axis = 1)"
   ]
  },
  {
   "cell_type": "code",
   "execution_count": 25,
   "id": "703bb68c",
   "metadata": {
    "colab": {
     "base_uri": "https://localhost:8080/"
    },
    "executionInfo": {
     "elapsed": 314,
     "status": "ok",
     "timestamp": 1703821132408,
     "user": {
      "displayName": "Dawit Hadush",
      "userId": "03293108265000512791"
     },
     "user_tz": -330
    },
    "id": "MBMXw1JRAd4z",
    "outputId": "350a6d11-d5ab-4b93-dba3-615f02faf7cd"
   },
   "outputs": [
    {
     "data": {
      "text/plain": [
       "array([[ 2, 25, 45],\n",
       "       [10, 16,  8],\n",
       "       [ 4,  3, 12]])"
      ]
     },
     "execution_count": 25,
     "metadata": {},
     "output_type": "execute_result"
    }
   ],
   "source": [
    "monthly_rates"
   ]
  },
  {
   "cell_type": "code",
   "execution_count": 26,
   "id": "1ca5b1a9",
   "metadata": {
    "colab": {
     "base_uri": "https://localhost:8080/"
    },
    "executionInfo": {
     "elapsed": 309,
     "status": "ok",
     "timestamp": 1703821132408,
     "user": {
      "displayName": "Dawit Hadush",
      "userId": "03293108265000512791"
     },
     "user_tz": -330
    },
    "id": "ApMRKbyPAd4z",
    "outputId": "a58ffa25-3836-4cce-83f7-d011fceb2899"
   },
   "outputs": [
    {
     "data": {
      "text/plain": [
       "414720000"
      ]
     },
     "execution_count": 26,
     "metadata": {},
     "output_type": "execute_result"
    }
   ],
   "source": [
    "monthly_rates.prod()"
   ]
  },
  {
   "cell_type": "code",
   "execution_count": 27,
   "id": "ee45e99b",
   "metadata": {
    "colab": {
     "base_uri": "https://localhost:8080/"
    },
    "executionInfo": {
     "elapsed": 305,
     "status": "ok",
     "timestamp": 1703821132408,
     "user": {
      "displayName": "Dawit Hadush",
      "userId": "03293108265000512791"
     },
     "user_tz": -330
    },
    "id": "dK7BvzUaAd4z",
    "outputId": "25497501-1217-451a-c69b-233cb0078d6f"
   },
   "outputs": [
    {
     "data": {
      "text/plain": [
       "array([  80, 1200, 4320])"
      ]
     },
     "execution_count": 27,
     "metadata": {},
     "output_type": "execute_result"
    }
   ],
   "source": [
    "monthly_rates.prod(axis = 0)"
   ]
  },
  {
   "cell_type": "code",
   "execution_count": 28,
   "id": "2ec3d5f8",
   "metadata": {
    "colab": {
     "base_uri": "https://localhost:8080/"
    },
    "executionInfo": {
     "elapsed": 301,
     "status": "ok",
     "timestamp": 1703821132409,
     "user": {
      "displayName": "Dawit Hadush",
      "userId": "03293108265000512791"
     },
     "user_tz": -330
    },
    "id": "2APgfpurAd40",
    "outputId": "e86e25f5-efa4-4e8b-90d2-fa63c6ff3e3e"
   },
   "outputs": [
    {
     "data": {
      "text/plain": [
       "array([2250, 1280,  144])"
      ]
     },
     "execution_count": 28,
     "metadata": {},
     "output_type": "execute_result"
    }
   ],
   "source": [
    "monthly_rates.prod(axis = 1)"
   ]
  },
  {
   "cell_type": "code",
   "execution_count": 29,
   "id": "48f20944",
   "metadata": {
    "colab": {
     "base_uri": "https://localhost:8080/"
    },
    "executionInfo": {
     "elapsed": 291,
     "status": "ok",
     "timestamp": 1703821132410,
     "user": {
      "displayName": "Dawit Hadush",
      "userId": "03293108265000512791"
     },
     "user_tz": -330
    },
    "id": "bexLK6oTAd40",
    "outputId": "a5cd5882-53ee-426c-dcc3-d7bbcc94d75f"
   },
   "outputs": [
    {
     "data": {
      "text/plain": [
       "13.88888888888889"
      ]
     },
     "execution_count": 29,
     "metadata": {},
     "output_type": "execute_result"
    }
   ],
   "source": [
    "monthly_rates.mean()"
   ]
  },
  {
   "cell_type": "code",
   "execution_count": 30,
   "id": "8f98f678",
   "metadata": {
    "colab": {
     "base_uri": "https://localhost:8080/"
    },
    "executionInfo": {
     "elapsed": 286,
     "status": "ok",
     "timestamp": 1703821132410,
     "user": {
      "displayName": "Dawit Hadush",
      "userId": "03293108265000512791"
     },
     "user_tz": -330
    },
    "id": "odLOpiY2Ad40",
    "outputId": "62a57843-4cbd-47c6-e82c-bda8352ff71d"
   },
   "outputs": [
    {
     "data": {
      "text/plain": [
       "array([ 5.33333333, 14.66666667, 21.66666667])"
      ]
     },
     "execution_count": 30,
     "metadata": {},
     "output_type": "execute_result"
    }
   ],
   "source": [
    "monthly_rates.mean(axis = 0)"
   ]
  },
  {
   "cell_type": "code",
   "execution_count": 31,
   "id": "19adb01d",
   "metadata": {
    "colab": {
     "base_uri": "https://localhost:8080/"
    },
    "executionInfo": {
     "elapsed": 282,
     "status": "ok",
     "timestamp": 1703821132411,
     "user": {
      "displayName": "Dawit Hadush",
      "userId": "03293108265000512791"
     },
     "user_tz": -330
    },
    "id": "3TxBvUiFAd40",
    "outputId": "2c7a8780-71ef-4bbd-de4c-255c048c4536"
   },
   "outputs": [
    {
     "data": {
      "text/plain": [
       "array([24.        , 11.33333333,  6.33333333])"
      ]
     },
     "execution_count": 31,
     "metadata": {},
     "output_type": "execute_result"
    }
   ],
   "source": [
    "monthly_rates.mean(axis = 1)"
   ]
  },
  {
   "cell_type": "markdown",
   "id": "6d0df16b",
   "metadata": {
    "id": "GWRxazqPAd41"
   },
   "source": [
    "### Example\n",
    "Rounding"
   ]
  },
  {
   "cell_type": "code",
   "execution_count": 32,
   "id": "91f0b0be",
   "metadata": {
    "colab": {
     "base_uri": "https://localhost:8080/"
    },
    "executionInfo": {
     "elapsed": 251,
     "status": "ok",
     "timestamp": 1703821132413,
     "user": {
      "displayName": "Dawit Hadush",
      "userId": "03293108265000512791"
     },
     "user_tz": -330
    },
    "id": "0uh01MTKAd41",
    "outputId": "92deb281-afa7-419b-df8f-51c9832ac37b"
   },
   "outputs": [
    {
     "data": {
      "text/plain": [
       "array([ 1.56  ,  2.765 , -3.33  ,  5.102 ,  6.6464])"
      ]
     },
     "execution_count": 32,
     "metadata": {},
     "output_type": "execute_result"
    }
   ],
   "source": [
    "np_arr = np.array([1.56, 2.765, -3.33, 5.102, 6.6464])\n",
    "np_arr"
   ]
  },
  {
   "cell_type": "code",
   "execution_count": 33,
   "id": "b674a1f1",
   "metadata": {
    "colab": {
     "base_uri": "https://localhost:8080/"
    },
    "executionInfo": {
     "elapsed": 244,
     "status": "ok",
     "timestamp": 1703821132413,
     "user": {
      "displayName": "Dawit Hadush",
      "userId": "03293108265000512791"
     },
     "user_tz": -330
    },
    "id": "8us-w2N8Ad41",
    "outputId": "d8347179-eb13-4624-f71a-4d3c75b45b8d"
   },
   "outputs": [
    {
     "data": {
      "text/plain": [
       "array([ 1.56,  2.76, -3.33,  5.1 ,  6.65])"
      ]
     },
     "execution_count": 33,
     "metadata": {},
     "output_type": "execute_result"
    }
   ],
   "source": [
    "np.round(a = np_arr, decimals = 2)"
   ]
  },
  {
   "cell_type": "code",
   "execution_count": 34,
   "id": "488f2c29",
   "metadata": {
    "colab": {
     "base_uri": "https://localhost:8080/"
    },
    "executionInfo": {
     "elapsed": 239,
     "status": "ok",
     "timestamp": 1703821132414,
     "user": {
      "displayName": "Dawit Hadush",
      "userId": "03293108265000512791"
     },
     "user_tz": -330
    },
    "id": "a2uwLlELAd41",
    "outputId": "1a7d1265-31ac-4a1d-cc30-ce657e6ca647"
   },
   "outputs": [
    {
     "data": {
      "text/plain": [
       "array([ 1.56  ,  2.765 , -3.33  ,  5.102 ,  6.6464])"
      ]
     },
     "execution_count": 34,
     "metadata": {},
     "output_type": "execute_result"
    }
   ],
   "source": [
    "np_arr"
   ]
  },
  {
   "cell_type": "code",
   "execution_count": 35,
   "id": "5837f3ee",
   "metadata": {
    "colab": {
     "base_uri": "https://localhost:8080/"
    },
    "executionInfo": {
     "elapsed": 232,
     "status": "ok",
     "timestamp": 1703821132414,
     "user": {
      "displayName": "Dawit Hadush",
      "userId": "03293108265000512791"
     },
     "user_tz": -330
    },
    "id": "Ao-heHGwAd41",
    "outputId": "3cb2929a-0556-4fc8-8d32-4474fb14afeb"
   },
   "outputs": [
    {
     "data": {
      "text/plain": [
       "array([ 1.56 ,  2.765, -3.33 ,  5.102,  6.646])"
      ]
     },
     "execution_count": 35,
     "metadata": {},
     "output_type": "execute_result"
    }
   ],
   "source": [
    "np_arr = np.round(a = np_arr, decimals = 3)\n",
    "np_arr"
   ]
  },
  {
   "cell_type": "code",
   "execution_count": 36,
   "id": "caedae45",
   "metadata": {},
   "outputs": [
    {
     "data": {
      "text/plain": [
       "array([0, 1, 2, 3, 4, 5, 6, 7, 8, 9])"
      ]
     },
     "execution_count": 36,
     "metadata": {},
     "output_type": "execute_result"
    }
   ],
   "source": [
    "np.arange(0,10)"
   ]
  },
  {
   "cell_type": "code",
   "execution_count": 37,
   "id": "da701f8e",
   "metadata": {},
   "outputs": [
    {
     "data": {
      "text/plain": [
       "array([0. , 0.5, 1. , 1.5, 2. , 2.5, 3. , 3.5, 4. , 4.5, 5. , 5.5, 6. ,\n",
       "       6.5, 7. , 7.5, 8. , 8.5, 9. , 9.5])"
      ]
     },
     "execution_count": 37,
     "metadata": {},
     "output_type": "execute_result"
    }
   ],
   "source": [
    "np.arange(0,10,0.5)"
   ]
  },
  {
   "cell_type": "markdown",
   "id": "21e3e4d6",
   "metadata": {
    "id": "PsTOs0eJAd42"
   },
   "source": [
    "### Quiz\n",
    "Create the following array:\n",
    "```\n",
    "np.array[-7, -6.5, -6, -5.5, -5, -4.5, -4, -3.5, -3, -2.5, -2, -1.5, -1, -0.5, 0, 0.5, 1, 1.5, 2, 2.5, 3, 3.5, 4.]\n",
    "```"
   ]
  },
  {
   "cell_type": "code",
   "execution_count": 41,
   "id": "d657d79a",
   "metadata": {},
   "outputs": [
    {
     "data": {
      "text/plain": [
       "array([-7. , -6.5, -6. , -5.5, -5. , -4.5, -4. , -3.5, -3. , -2.5, -2. ,\n",
       "       -1.5, -1. , -0.5,  0. ,  0.5,  1. ,  1.5,  2. ,  2.5,  3. ,  3.5,\n",
       "        4. ])"
      ]
     },
     "execution_count": 41,
     "metadata": {},
     "output_type": "execute_result"
    }
   ],
   "source": [
    "np.arange(-7,4.5,0.5)"
   ]
  },
  {
   "cell_type": "markdown",
   "id": "e745b25e",
   "metadata": {
    "id": "xobh_7ygAd43"
   },
   "source": [
    "### Quiz\n",
    "Create an array with 20 entries starting with the number $-10$ and ending with the number $10$"
   ]
  },
  {
   "cell_type": "code",
   "execution_count": 42,
   "id": "4a33e0e2",
   "metadata": {},
   "outputs": [
    {
     "data": {
      "text/plain": [
       "array([-10.        ,  -8.94736842,  -7.89473684,  -6.84210526,\n",
       "        -5.78947368,  -4.73684211,  -3.68421053,  -2.63157895,\n",
       "        -1.57894737,  -0.52631579,   0.52631579,   1.57894737,\n",
       "         2.63157895,   3.68421053,   4.73684211,   5.78947368,\n",
       "         6.84210526,   7.89473684,   8.94736842,  10.        ])"
      ]
     },
     "execution_count": 42,
     "metadata": {},
     "output_type": "execute_result"
    }
   ],
   "source": [
    "np.linspace(-10, 10, 20)"
   ]
  },
  {
   "cell_type": "markdown",
   "id": "ea7221df",
   "metadata": {
    "id": "lGIFlcK8Ad43"
   },
   "source": [
    "### Example\n",
    "Generating some standard arrays"
   ]
  },
  {
   "cell_type": "code",
   "execution_count": 54,
   "id": "76453569",
   "metadata": {
    "colab": {
     "base_uri": "https://localhost:8080/"
    },
    "executionInfo": {
     "elapsed": 124,
     "status": "ok",
     "timestamp": 1703821132424,
     "user": {
      "displayName": "Dawit Hadush",
      "userId": "03293108265000512791"
     },
     "user_tz": -330
    },
    "id": "N0oTOPejAd43",
    "outputId": "f6caf3ff-7a22-439a-ee0f-614b6961f61f"
   },
   "outputs": [
    {
     "data": {
      "text/plain": [
       "array([[0., 0.],\n",
       "       [0., 0.]])"
      ]
     },
     "execution_count": 54,
     "metadata": {},
     "output_type": "execute_result"
    }
   ],
   "source": [
    "np.zeros(shape = (2, 2))"
   ]
  },
  {
   "cell_type": "code",
   "execution_count": 48,
   "id": "ac140c99",
   "metadata": {
    "colab": {
     "base_uri": "https://localhost:8080/"
    },
    "executionInfo": {
     "elapsed": 116,
     "status": "ok",
     "timestamp": 1703821132424,
     "user": {
      "displayName": "Dawit Hadush",
      "userId": "03293108265000512791"
     },
     "user_tz": -330
    },
    "id": "ZBVfTi4lAd43",
    "outputId": "230a16b6-1f19-4398-b011-042086a5c213"
   },
   "outputs": [
    {
     "data": {
      "text/plain": [
       "array([0., 0., 0., 0., 0., 0., 0., 0., 0., 0.])"
      ]
     },
     "execution_count": 48,
     "metadata": {},
     "output_type": "execute_result"
    }
   ],
   "source": [
    "np.zeros(10)"
   ]
  },
  {
   "cell_type": "code",
   "execution_count": 49,
   "id": "822aded2",
   "metadata": {
    "colab": {
     "base_uri": "https://localhost:8080/"
    },
    "executionInfo": {
     "elapsed": 108,
     "status": "ok",
     "timestamp": 1703821132424,
     "user": {
      "displayName": "Dawit Hadush",
      "userId": "03293108265000512791"
     },
     "user_tz": -330
    },
    "id": "b6XVYP7UAd43",
    "outputId": "62891690-3f56-4b18-93b4-326b50277a12"
   },
   "outputs": [
    {
     "data": {
      "text/plain": [
       "array([[1., 1., 1., 1., 1.],\n",
       "       [1., 1., 1., 1., 1.],\n",
       "       [1., 1., 1., 1., 1.]])"
      ]
     },
     "execution_count": 49,
     "metadata": {},
     "output_type": "execute_result"
    }
   ],
   "source": [
    "np.ones(shape = (3, 5))"
   ]
  },
  {
   "cell_type": "code",
   "execution_count": 50,
   "id": "418bbe91",
   "metadata": {},
   "outputs": [
    {
     "data": {
      "text/plain": [
       "array([[1., 0., 0., 0., 0.],\n",
       "       [0., 1., 0., 0., 0.],\n",
       "       [0., 0., 1., 0., 0.],\n",
       "       [0., 0., 0., 1., 0.],\n",
       "       [0., 0., 0., 0., 1.]])"
      ]
     },
     "execution_count": 50,
     "metadata": {},
     "output_type": "execute_result"
    }
   ],
   "source": [
    "np.eye(5)\n",
    "# Idendity Matrix is a Sqaure matrix (no. of rows = no. of columns)"
   ]
  },
  {
   "cell_type": "code",
   "execution_count": 53,
   "id": "6f74d76e",
   "metadata": {},
   "outputs": [
    {
     "data": {
      "text/plain": [
       "array([[5, 5, 5, 5],\n",
       "       [5, 5, 5, 5],\n",
       "       [5, 5, 5, 5]])"
      ]
     },
     "execution_count": 53,
     "metadata": {},
     "output_type": "execute_result"
    }
   ],
   "source": [
    "np.full((3,4),fill_value=5)"
   ]
  },
  {
   "cell_type": "markdown",
   "id": "48672e81",
   "metadata": {
    "id": "XUHNnFT9Ad43"
   },
   "source": [
    "### Example\n",
    "Random number generation"
   ]
  },
  {
   "cell_type": "code",
   "execution_count": 57,
   "id": "ca817fb7",
   "metadata": {
    "colab": {
     "base_uri": "https://localhost:8080/"
    },
    "executionInfo": {
     "elapsed": 1406,
     "status": "ok",
     "timestamp": 1703821133740,
     "user": {
      "displayName": "Dawit Hadush",
      "userId": "03293108265000512791"
     },
     "user_tz": -330
    },
    "id": "o82vMHKhAd43",
    "outputId": "1ae8410e-04b4-4bfa-cdf3-71b9963f8327"
   },
   "outputs": [
    {
     "data": {
      "text/plain": [
       "array([[2, 3, 3],\n",
       "       [1, 1, 1]])"
      ]
     },
     "execution_count": 57,
     "metadata": {},
     "output_type": "execute_result"
    }
   ],
   "source": [
    "np.random.randint(low = 1, high = 5, size = (2,3))"
   ]
  },
  {
   "cell_type": "code",
   "execution_count": null,
   "id": "a4a6f0af",
   "metadata": {},
   "outputs": [],
   "source": [
    "#max,min,median"
   ]
  }
 ],
 "metadata": {
  "kernelspec": {
   "display_name": "Python 3",
   "language": "python",
   "name": "python3"
  },
  "language_info": {
   "codemirror_mode": {
    "name": "ipython",
    "version": 3
   },
   "file_extension": ".py",
   "mimetype": "text/x-python",
   "name": "python",
   "nbconvert_exporter": "python",
   "pygments_lexer": "ipython3",
   "version": "3.8.8"
  }
 },
 "nbformat": 4,
 "nbformat_minor": 5
}
