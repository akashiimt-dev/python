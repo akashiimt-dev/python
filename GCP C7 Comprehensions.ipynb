{
 "cells": [
  {
   "cell_type": "markdown",
   "id": "a83b35cc",
   "metadata": {
    "id": "evpcACi-LBK2"
   },
   "source": [
    "# Comprehensions\n",
    "Comprehensions in Python are a succinct and powerful feature for creating and transforming data structures. They provide a concise syntax for generating and modifying iterables such as lists and dictionaries, allowing for efficient operations on iterable objects in just a single line of code.\n",
    "\n",
    "They follow the general syntax `[expression for item in iterable if condition]`"
   ]
  },
  {
   "cell_type": "markdown",
   "id": "6e17744c",
   "metadata": {
    "id": "_SycI1xMdn0v"
   },
   "source": [
    "# List comprehensions"
   ]
  },
  {
   "cell_type": "markdown",
   "id": "31be2dc3",
   "metadata": {
    "id": "PGJZRkAENIR_"
   },
   "source": [
    "### Example\n",
    "Creating list comprehensions"
   ]
  },
  {
   "cell_type": "code",
   "execution_count": 2,
   "id": "778016f4",
   "metadata": {
    "id": "UVzNiZzjN3JC"
   },
   "outputs": [],
   "source": [
    "daily_sales = [120, 105, 133, 89, 74, 112, 115]"
   ]
  },
  {
   "cell_type": "code",
   "execution_count": 3,
   "id": "0f66a2ff",
   "metadata": {},
   "outputs": [],
   "source": [
    "# Calculate the profit for each day assuming profit is 10% of the sales and store out of profit in a list"
   ]
  },
  {
   "cell_type": "code",
   "execution_count": 9,
   "id": "574384d2",
   "metadata": {},
   "outputs": [
    {
     "name": "stdout",
     "output_type": "stream",
     "text": [
      "[12.0, 10.5, 13.3, 8.9, 7.4, 11.2, 11.5]\n"
     ]
    }
   ],
   "source": [
    "profit_sales=[]\n",
    "for sales in daily_sales:\n",
    "    profit=round(0.1*sales,2)\n",
    "    profit_sales.append(profit)\n",
    "print(profit_sales)"
   ]
  },
  {
   "cell_type": "code",
   "execution_count": 10,
   "id": "f52b35f5",
   "metadata": {},
   "outputs": [
    {
     "name": "stdout",
     "output_type": "stream",
     "text": [
      "[12.0, 10.5, 13.3, 8.9, 7.4, 11.2, 11.5]\n"
     ]
    }
   ],
   "source": [
    "profit_sales=[round(0.1*i,2) for i in daily_sales]\n",
    "print(profit_sales)\n",
    "#[expression for loop]"
   ]
  },
  {
   "cell_type": "code",
   "execution_count": 11,
   "id": "9b075d6f",
   "metadata": {},
   "outputs": [],
   "source": [
    "# Create a list where each element is the square of number 1 to 6"
   ]
  },
  {
   "cell_type": "code",
   "execution_count": 13,
   "id": "6c1ecaf4",
   "metadata": {},
   "outputs": [
    {
     "data": {
      "text/plain": [
       "[1, 4, 9, 16, 25, 36]"
      ]
     },
     "execution_count": 13,
     "metadata": {},
     "output_type": "execute_result"
    }
   ],
   "source": [
    "[i**2 for i in range(1,7)]"
   ]
  },
  {
   "cell_type": "code",
   "execution_count": 14,
   "id": "03cb73e5",
   "metadata": {
    "id": "E5NQ93iuO_kY"
   },
   "outputs": [],
   "source": [
    "my_string = 'Hello'"
   ]
  },
  {
   "cell_type": "code",
   "execution_count": 15,
   "id": "808cf5f6",
   "metadata": {
    "id": "up8E4_tBPEAU"
   },
   "outputs": [],
   "source": [
    "comp_list = [char for char in my_string]"
   ]
  },
  {
   "cell_type": "code",
   "execution_count": 16,
   "id": "fce1d60c",
   "metadata": {
    "colab": {
     "base_uri": "https://localhost:8080/"
    },
    "id": "aGI_ddRGPKxL",
    "outputId": "a6472933-613b-45cd-d0b9-35920b9b2a65"
   },
   "outputs": [
    {
     "data": {
      "text/plain": [
       "['H', 'e', 'l', 'l', 'o']"
      ]
     },
     "execution_count": 16,
     "metadata": {},
     "output_type": "execute_result"
    }
   ],
   "source": [
    "comp_list"
   ]
  },
  {
   "cell_type": "markdown",
   "id": "3bb62402",
   "metadata": {
    "id": "LIcS4i3GIlOi"
   },
   "source": [
    "# Filtering elements from lists using comprehensions"
   ]
  },
  {
   "cell_type": "markdown",
   "id": "9773d967",
   "metadata": {
    "id": "ckfAiuNO0BZq"
   },
   "source": [
    "### Example\n",
    "List comprehensions with conditions"
   ]
  },
  {
   "cell_type": "code",
   "execution_count": 21,
   "id": "b18a4a0f",
   "metadata": {},
   "outputs": [],
   "source": [
    "# Write a python code to extract the even numbers from the list of numbers 30 to 60 (both inclusive)"
   ]
  },
  {
   "cell_type": "code",
   "execution_count": 17,
   "id": "9f5f58dc",
   "metadata": {},
   "outputs": [
    {
     "name": "stdout",
     "output_type": "stream",
     "text": [
      "[30, 32, 34, 36, 38, 40, 42, 44, 46, 48, 50, 52, 54, 56, 58, 60]\n"
     ]
    }
   ],
   "source": [
    "even_numbers=[]\n",
    "for i in range(30,61):\n",
    "    if i%2==0:\n",
    "        even_numbers.append(i)\n",
    "print(even_numbers)"
   ]
  },
  {
   "cell_type": "code",
   "execution_count": 18,
   "id": "649c2203",
   "metadata": {},
   "outputs": [
    {
     "name": "stdout",
     "output_type": "stream",
     "text": [
      "[30, 32, 34, 36, 38, 40, 42, 44, 46, 48, 50, 52, 54, 56, 58, 60]\n"
     ]
    }
   ],
   "source": [
    "#[expression for loop if condition]\n",
    "even_numbers=[i for i in range(30,61) if i%2==0]\n",
    "print(even_numbers)"
   ]
  },
  {
   "cell_type": "code",
   "execution_count": 19,
   "id": "cbb7ab15",
   "metadata": {},
   "outputs": [
    {
     "name": "stdout",
     "output_type": "stream",
     "text": [
      "[31, 33, 35, 37, 39, 41, 43, 45, 47, 49, 51, 53, 55, 57, 59]\n"
     ]
    }
   ],
   "source": [
    "# do the above same thing for odd numbers\n",
    "odd_numbers=[i for i in range(30,61) if i%2!=0]\n",
    "print(odd_numbers)"
   ]
  },
  {
   "cell_type": "code",
   "execution_count": 21,
   "id": "0f73b766",
   "metadata": {
    "id": "rrhNenr82eiW"
   },
   "outputs": [],
   "source": [
    "words = ['apple', 'banana', 'kiwi', 'orange', 'grape']"
   ]
  },
  {
   "cell_type": "code",
   "execution_count": 22,
   "id": "8acbf343",
   "metadata": {},
   "outputs": [
    {
     "data": {
      "text/plain": [
       "['banana', 'orange']"
      ]
     },
     "execution_count": 22,
     "metadata": {},
     "output_type": "execute_result"
    }
   ],
   "source": [
    "# print all words whose length in greator than 5 in a list\n",
    "long_words = [word for word in words if len(word) > 5]\n",
    "long_words"
   ]
  },
  {
   "cell_type": "code",
   "execution_count": 23,
   "id": "916adeb0",
   "metadata": {
    "id": "vz9_ZPeEBSUu"
   },
   "outputs": [],
   "source": [
    "numbers = [-2, -1, 0, 1, 2, 3, 4, 5]"
   ]
  },
  {
   "cell_type": "code",
   "execution_count": 24,
   "id": "4057af60",
   "metadata": {
    "id": "53aKxRvkBaMl"
   },
   "outputs": [],
   "source": [
    "pos_nums = [num for num in numbers if num > 0]"
   ]
  },
  {
   "cell_type": "code",
   "execution_count": 25,
   "id": "20a949bb",
   "metadata": {
    "colab": {
     "base_uri": "https://localhost:8080/"
    },
    "id": "xX-vhzytBgCS",
    "outputId": "2c0788a5-6f83-4327-d24d-85516362ff55"
   },
   "outputs": [
    {
     "data": {
      "text/plain": [
       "[1, 2, 3, 4, 5]"
      ]
     },
     "execution_count": 25,
     "metadata": {},
     "output_type": "execute_result"
    }
   ],
   "source": [
    "pos_nums"
   ]
  },
  {
   "cell_type": "code",
   "execution_count": 26,
   "id": "83a1bbf9",
   "metadata": {},
   "outputs": [],
   "source": [
    "# Write a python code to extract the even numbers list and odd numbers list from the list of numbers 30 to 60 (both inclusive)"
   ]
  },
  {
   "cell_type": "code",
   "execution_count": null,
   "id": "2305c76c",
   "metadata": {},
   "outputs": [],
   "source": [
    "#[expression if condition else expression for loop]"
   ]
  },
  {
   "cell_type": "code",
   "execution_count": 33,
   "id": "861f40d8",
   "metadata": {},
   "outputs": [
    {
     "name": "stdout",
     "output_type": "stream",
     "text": [
      "90000\n"
     ]
    },
    {
     "data": {
      "text/plain": [
       "['Not Eligible',\n",
       " 'Not Eligible',\n",
       " 'Eligible',\n",
       " 'Not Eligible',\n",
       " 'Not Eligible',\n",
       " 'Eligible',\n",
       " 'Eligible',\n",
       " 'Eligible']"
      ]
     },
     "execution_count": 33,
     "metadata": {},
     "output_type": "execute_result"
    }
   ],
   "source": [
    "# check the eligibility of loan of 50k basis income provided by customers (eligibility if their income is more than\n",
    "# 25% of loan amount then they are eligible otherwise not eligible)\n",
    "income_list=[10000,20000,30000,13000,3000,31000,50000,27000]\n",
    "loan_amount=int(input())\n",
    "[\"Eligible\" if i >0.25*loan_amount else \"Not Eligible\" for i in income_list ]"
   ]
  },
  {
   "cell_type": "code",
   "execution_count": null,
   "id": "a25a7a86",
   "metadata": {},
   "outputs": [],
   "source": [
    "#[expression for loop]\n",
    "#[expression for loop if condition]\n",
    "#[expression if condition else condition for loop]"
   ]
  },
  {
   "cell_type": "markdown",
   "id": "14f142fb",
   "metadata": {
    "id": "wQs3wzMHdst-"
   },
   "source": [
    "# Set comprehensions"
   ]
  },
  {
   "cell_type": "code",
   "execution_count": null,
   "id": "91e9905f",
   "metadata": {},
   "outputs": [],
   "source": [
    "#{expression for loop}\n",
    "#{expression for loop if condition}\n",
    "#{expression if condition else condition for loop}"
   ]
  },
  {
   "cell_type": "markdown",
   "id": "b795550b",
   "metadata": {
    "id": "4xpelbWv7Dbi"
   },
   "source": [
    "### Example\n",
    "Set comprehensions"
   ]
  },
  {
   "cell_type": "code",
   "execution_count": 34,
   "id": "c3ddf10a",
   "metadata": {
    "id": "L_bL3g-Z688S"
   },
   "outputs": [],
   "source": [
    "my_set = {1, 2, 3, 4, 5}"
   ]
  },
  {
   "cell_type": "code",
   "execution_count": 35,
   "id": "b00bcbc2",
   "metadata": {
    "colab": {
     "base_uri": "https://localhost:8080/"
    },
    "id": "r_5bZt0n7Uc_",
    "outputId": "3b45b6cd-5c4b-43f7-b87a-2e9907acc118"
   },
   "outputs": [
    {
     "data": {
      "text/plain": [
       "{1, 2, 3, 4, 5}"
      ]
     },
     "execution_count": 35,
     "metadata": {},
     "output_type": "execute_result"
    }
   ],
   "source": [
    "my_set"
   ]
  },
  {
   "cell_type": "code",
   "execution_count": 36,
   "id": "fa186e1e",
   "metadata": {
    "id": "pCtkNgxy7Vcq"
   },
   "outputs": [],
   "source": [
    "comp_set = {num for num in my_set}"
   ]
  },
  {
   "cell_type": "code",
   "execution_count": 37,
   "id": "024ec712",
   "metadata": {
    "colab": {
     "base_uri": "https://localhost:8080/"
    },
    "id": "jU4SrZLr7fVk",
    "outputId": "c0311cd8-d5a3-4263-9c9e-b4e911a867ad"
   },
   "outputs": [
    {
     "data": {
      "text/plain": [
       "{1, 2, 3, 4, 5}"
      ]
     },
     "execution_count": 37,
     "metadata": {},
     "output_type": "execute_result"
    }
   ],
   "source": [
    "comp_set"
   ]
  },
  {
   "cell_type": "code",
   "execution_count": 38,
   "id": "c8266704",
   "metadata": {
    "id": "84Qf-Bo67lFu"
   },
   "outputs": [],
   "source": [
    "comp_set = {num for num in range(6)}"
   ]
  },
  {
   "cell_type": "code",
   "execution_count": 39,
   "id": "bf978a16",
   "metadata": {
    "colab": {
     "base_uri": "https://localhost:8080/"
    },
    "id": "JSCRxbeF7o9b",
    "outputId": "6ccb89ab-13cc-42ab-ba5b-95222405c819"
   },
   "outputs": [
    {
     "data": {
      "text/plain": [
       "{0, 1, 2, 3, 4, 5}"
      ]
     },
     "execution_count": 39,
     "metadata": {},
     "output_type": "execute_result"
    }
   ],
   "source": [
    "comp_set"
   ]
  },
  {
   "cell_type": "code",
   "execution_count": 40,
   "id": "afae1329",
   "metadata": {},
   "outputs": [],
   "source": [
    "comp_set = {num for num in [23, 56, 76, 24, 52]}"
   ]
  },
  {
   "cell_type": "code",
   "execution_count": 41,
   "id": "2a9e1720",
   "metadata": {},
   "outputs": [
    {
     "data": {
      "text/plain": [
       "{23, 24, 52, 56, 76}"
      ]
     },
     "execution_count": 41,
     "metadata": {},
     "output_type": "execute_result"
    }
   ],
   "source": [
    "comp_set"
   ]
  },
  {
   "cell_type": "code",
   "execution_count": 42,
   "id": "32affd46",
   "metadata": {
    "id": "51uR07Tt7zH0"
   },
   "outputs": [],
   "source": [
    "my_string = 'Some text'"
   ]
  },
  {
   "cell_type": "code",
   "execution_count": 43,
   "id": "3b8ce7fb",
   "metadata": {
    "id": "6W3YWjMh72W6"
   },
   "outputs": [],
   "source": [
    "comp_set = {char for char in my_string}"
   ]
  },
  {
   "cell_type": "code",
   "execution_count": 44,
   "id": "8245b27a",
   "metadata": {
    "colab": {
     "base_uri": "https://localhost:8080/"
    },
    "id": "noExb_aI78_L",
    "outputId": "bf6797b6-ef77-4efe-86da-184715f26315"
   },
   "outputs": [
    {
     "data": {
      "text/plain": [
       "{' ', 'S', 'e', 'm', 'o', 't', 'x'}"
      ]
     },
     "execution_count": 44,
     "metadata": {},
     "output_type": "execute_result"
    }
   ],
   "source": [
    "comp_set"
   ]
  },
  {
   "cell_type": "markdown",
   "id": "376cdcb9",
   "metadata": {
    "id": "oVwLQLsMrRJC"
   },
   "source": [
    "# Transforming sets"
   ]
  },
  {
   "cell_type": "markdown",
   "id": "f3740302",
   "metadata": {
    "id": "TlOumLJsyyRn"
   },
   "source": [
    "### Example\n",
    "Transforming sets"
   ]
  },
  {
   "cell_type": "code",
   "execution_count": 45,
   "id": "9fbe5aa7",
   "metadata": {
    "id": "FH4mXN6Kt9BU"
   },
   "outputs": [],
   "source": [
    "my_set = {'basketball', 'football', 'cricket', 'curling', 'running'}"
   ]
  },
  {
   "cell_type": "code",
   "execution_count": 46,
   "id": "df5bbb0b",
   "metadata": {
    "id": "cjtcwXbouR5Y"
   },
   "outputs": [],
   "source": [
    "capped_set = {word.upper() for word in my_set}"
   ]
  },
  {
   "cell_type": "code",
   "execution_count": 47,
   "id": "b600e1d9",
   "metadata": {
    "colab": {
     "base_uri": "https://localhost:8080/"
    },
    "id": "fg9wu5XZuYJ0",
    "outputId": "9ba26348-0b7a-40e3-ee89-f42869a0cb56"
   },
   "outputs": [
    {
     "data": {
      "text/plain": [
       "{'BASKETBALL', 'CRICKET', 'CURLING', 'FOOTBALL', 'RUNNING'}"
      ]
     },
     "execution_count": 47,
     "metadata": {},
     "output_type": "execute_result"
    }
   ],
   "source": [
    "capped_set"
   ]
  },
  {
   "cell_type": "markdown",
   "id": "dbfa289e",
   "metadata": {
    "id": "Luqlk14SygZw"
   },
   "source": [
    "# Filtering elements from sets using comprehensions"
   ]
  },
  {
   "cell_type": "markdown",
   "id": "c2dd7b9e",
   "metadata": {
    "id": "N5F9PaZ8y9dO"
   },
   "source": [
    "### Example\n",
    "Set comprehensions with conditions"
   ]
  },
  {
   "cell_type": "code",
   "execution_count": 48,
   "id": "153ca7fa",
   "metadata": {
    "id": "u5QId0qFy8qh"
   },
   "outputs": [],
   "source": [
    "my_set = {1, 2, 3, 4, 5, 6}"
   ]
  },
  {
   "cell_type": "code",
   "execution_count": 49,
   "id": "a97317d8",
   "metadata": {
    "id": "eAqO0SvO02f4"
   },
   "outputs": [],
   "source": [
    "odd_set = {num for num in my_set if num % 2 != 0}"
   ]
  },
  {
   "cell_type": "code",
   "execution_count": 50,
   "id": "0bb0cefe",
   "metadata": {
    "colab": {
     "base_uri": "https://localhost:8080/"
    },
    "id": "vlG4RP8J1E9N",
    "outputId": "51d7e5bc-d28e-40c9-fad9-96196a3f958d"
   },
   "outputs": [
    {
     "data": {
      "text/plain": [
       "{1, 3, 5}"
      ]
     },
     "execution_count": 50,
     "metadata": {},
     "output_type": "execute_result"
    }
   ],
   "source": [
    "odd_set"
   ]
  },
  {
   "cell_type": "code",
   "execution_count": 51,
   "id": "daa279db",
   "metadata": {
    "id": "5z1U16x-1JBg"
   },
   "outputs": [],
   "source": [
    "even_set = {num for num in my_set if num % 2 == 0}"
   ]
  },
  {
   "cell_type": "code",
   "execution_count": 52,
   "id": "65991483",
   "metadata": {
    "colab": {
     "base_uri": "https://localhost:8080/"
    },
    "id": "IgKeQB3p1NzV",
    "outputId": "c9ce081e-8488-4d07-e800-a4e1dba03e52"
   },
   "outputs": [
    {
     "data": {
      "text/plain": [
       "{2, 4, 6}"
      ]
     },
     "execution_count": 52,
     "metadata": {},
     "output_type": "execute_result"
    }
   ],
   "source": [
    "even_set"
   ]
  },
  {
   "cell_type": "code",
   "execution_count": 53,
   "id": "694fe4c7",
   "metadata": {},
   "outputs": [],
   "source": [
    "vegetables_set = {'carrot', 'broccoli', 'tomato', 'spinach', 'cucumber', 'bell pepper',\n",
    "                  'zucchini', 'asparagus', 'sweet potato', 'cauliflower', 'kale',\n",
    "                  'eggplant', 'green beans', 'peas', 'radish'}\n",
    "\n",
    "fruits_set = {'apple', 'banana', 'orange', 'grape', 'kiwi', 'strawberry',\n",
    "              'watermelon', 'pineapple', 'mango', 'peach', 'pear',\n",
    "              'blueberry', 'raspberry', 'plum', 'cherry'}"
   ]
  },
  {
   "cell_type": "code",
   "execution_count": 54,
   "id": "dd9a0507",
   "metadata": {},
   "outputs": [],
   "source": [
    "item_purch = {'carrot', 'broccoli', 'tomato', 'spinach', 'cucumber', 'bell pepper',\n",
    "             'apple', 'banana', 'orange', 'grape', 'kiwi', 'strawberry'}"
   ]
  },
  {
   "cell_type": "code",
   "execution_count": 55,
   "id": "095a1317",
   "metadata": {},
   "outputs": [
    {
     "name": "stdout",
     "output_type": "stream",
     "text": [
      "{'strawberry', 'banana', 'grape', 'apple', 'orange', 'kiwi'}\n",
      "{'cucumber', 'carrot', 'tomato', 'broccoli', 'bell pepper', 'spinach'}\n"
     ]
    }
   ],
   "source": [
    "fruits={i for i in item_purch if i in fruits_set}\n",
    "vegetables={i for i in item_purch if i in vegetables_set}\n",
    "print(fruits)\n",
    "print(vegetables)"
   ]
  },
  {
   "cell_type": "markdown",
   "id": "ae7a7d72",
   "metadata": {
    "id": "VSkMQWeYdxZX"
   },
   "source": [
    "# Dictionary comprehensions"
   ]
  },
  {
   "cell_type": "markdown",
   "id": "c47450ae",
   "metadata": {
    "id": "Yct3gIc9Ca_D"
   },
   "source": [
    "### Example\n",
    "Dictionary comprehensions"
   ]
  },
  {
   "cell_type": "code",
   "execution_count": 58,
   "id": "473d399d",
   "metadata": {
    "id": "Hwewnm1nCakb"
   },
   "outputs": [],
   "source": [
    "dict_comp = {i:i for i in range(4)}"
   ]
  },
  {
   "cell_type": "code",
   "execution_count": 59,
   "id": "32e801ad",
   "metadata": {
    "colab": {
     "base_uri": "https://localhost:8080/"
    },
    "id": "fmT1PkXsdh8p",
    "outputId": "ea47cab6-eacb-4244-f653-0a76738351f9"
   },
   "outputs": [
    {
     "data": {
      "text/plain": [
       "{0: 0, 1: 1, 2: 2, 3: 3}"
      ]
     },
     "execution_count": 59,
     "metadata": {},
     "output_type": "execute_result"
    }
   ],
   "source": [
    "dict_comp"
   ]
  },
  {
   "cell_type": "code",
   "execution_count": 61,
   "id": "aa4e4da5",
   "metadata": {
    "id": "l3-zq-zLEgNC"
   },
   "outputs": [],
   "source": [
    "dict_comp = {num: num ** 2 for num in range(3)}"
   ]
  },
  {
   "cell_type": "code",
   "execution_count": 62,
   "id": "b8a15ad3",
   "metadata": {
    "colab": {
     "base_uri": "https://localhost:8080/"
    },
    "id": "MOCoORw3ExbO",
    "outputId": "00516897-4229-4ccf-9d60-669d1b8a9917"
   },
   "outputs": [
    {
     "data": {
      "text/plain": [
       "{0: 0, 1: 1, 2: 4}"
      ]
     },
     "execution_count": 62,
     "metadata": {},
     "output_type": "execute_result"
    }
   ],
   "source": [
    "dict_comp"
   ]
  },
  {
   "cell_type": "code",
   "execution_count": 65,
   "id": "f32329e0",
   "metadata": {
    "id": "87KCBGgZHNJf"
   },
   "outputs": [],
   "source": [
    "words = ['apple', 'banana', 'kiwi', 'orange', 'grape']"
   ]
  },
  {
   "cell_type": "code",
   "execution_count": 66,
   "id": "6d9d9a61",
   "metadata": {
    "id": "rkHQ7GAVE40p"
   },
   "outputs": [],
   "source": [
    "dict_comp = {word: len(word) for word in words}"
   ]
  },
  {
   "cell_type": "code",
   "execution_count": 67,
   "id": "3e260be9",
   "metadata": {
    "colab": {
     "base_uri": "https://localhost:8080/"
    },
    "id": "WI1nYD0aHfts",
    "outputId": "5dac076c-6480-4a8c-d551-fc6f33543954"
   },
   "outputs": [
    {
     "data": {
      "text/plain": [
       "{'apple': 5, 'banana': 6, 'kiwi': 4, 'orange': 6, 'grape': 5}"
      ]
     },
     "execution_count": 67,
     "metadata": {},
     "output_type": "execute_result"
    }
   ],
   "source": [
    "dict_comp"
   ]
  },
  {
   "cell_type": "markdown",
   "id": "8fc56dbd",
   "metadata": {
    "id": "dKInH8_4-eyU"
   },
   "source": [
    "# Transforming dictionaries"
   ]
  },
  {
   "cell_type": "markdown",
   "id": "368ad10b",
   "metadata": {
    "id": "7KpI2ZyW8TjS"
   },
   "source": [
    "### Example\n",
    "Transforming dictionaries"
   ]
  },
  {
   "cell_type": "code",
   "execution_count": 68,
   "id": "59823e03",
   "metadata": {
    "colab": {
     "base_uri": "https://localhost:8080/"
    },
    "id": "vtkRvyrH-GaO",
    "outputId": "d4104b70-fea2-4e99-a0b4-ad46f7e0b2d2"
   },
   "outputs": [
    {
     "data": {
      "text/plain": [
       "{'a': 2, 'b': 3, 'c': 4}"
      ]
     },
     "execution_count": 68,
     "metadata": {},
     "output_type": "execute_result"
    }
   ],
   "source": [
    "original_dict = {'a': 2, 'b': 3, 'c': 4}\n",
    "original_dict"
   ]
  },
  {
   "cell_type": "code",
   "execution_count": 69,
   "id": "de596d08",
   "metadata": {
    "id": "TZ0AQR1c-qBJ"
   },
   "outputs": [],
   "source": [
    "squared_dict = {key: value ** 2 for key, value in original_dict.items()}"
   ]
  },
  {
   "cell_type": "code",
   "execution_count": 70,
   "id": "09048b09",
   "metadata": {
    "colab": {
     "base_uri": "https://localhost:8080/"
    },
    "id": "xCXSVzgj-6hf",
    "outputId": "9e8f1cd0-b477-4aeb-99e8-b82ea36b32be"
   },
   "outputs": [
    {
     "data": {
      "text/plain": [
       "{'a': 4, 'b': 9, 'c': 16}"
      ]
     },
     "execution_count": 70,
     "metadata": {},
     "output_type": "execute_result"
    }
   ],
   "source": [
    "squared_dict"
   ]
  },
  {
   "cell_type": "markdown",
   "id": "13b12cea",
   "metadata": {
    "id": "IZ2K-G38EaA8"
   },
   "source": [
    "# Filtering elements from dicitionaries using comprehensions"
   ]
  },
  {
   "cell_type": "markdown",
   "id": "72a2cab1",
   "metadata": {
    "id": "E9v64hrxFA8D"
   },
   "source": [
    "### Example\n",
    "Dictionary comprehensions with conditions"
   ]
  },
  {
   "cell_type": "code",
   "execution_count": 71,
   "id": "b7474951",
   "metadata": {
    "id": "blV7A3u9Fhs4"
   },
   "outputs": [],
   "source": [
    "my_dict = {'a': 1, 'b': 2, 'c': 3, 'd': 4, 'e': 5}"
   ]
  },
  {
   "cell_type": "code",
   "execution_count": 72,
   "id": "f8ce2721",
   "metadata": {
    "id": "2kfxXFuPGMLY"
   },
   "outputs": [],
   "source": [
    "even_dict = {key: value for key, value in my_dict.items() if value % 2 == 0}"
   ]
  },
  {
   "cell_type": "code",
   "execution_count": 73,
   "id": "b094c66f",
   "metadata": {
    "colab": {
     "base_uri": "https://localhost:8080/"
    },
    "id": "A0V00zDjGyA_",
    "outputId": "f693c52e-904d-415d-e844-38866d392a5e"
   },
   "outputs": [
    {
     "data": {
      "text/plain": [
       "{'b': 2, 'd': 4}"
      ]
     },
     "execution_count": 73,
     "metadata": {},
     "output_type": "execute_result"
    }
   ],
   "source": [
    "even_dict"
   ]
  },
  {
   "cell_type": "code",
   "execution_count": 74,
   "id": "98d91df8",
   "metadata": {
    "id": "40gM0AE8HWGv"
   },
   "outputs": [],
   "source": [
    "odd_dict = {key: value for key, value in my_dict.items() if value % 2 != 0}"
   ]
  },
  {
   "cell_type": "code",
   "execution_count": 75,
   "id": "df2219ef",
   "metadata": {
    "colab": {
     "base_uri": "https://localhost:8080/"
    },
    "id": "b15aC8_NHcza",
    "outputId": "fcb8dcef-2ec9-405d-d045-e2b79d4223d0"
   },
   "outputs": [
    {
     "data": {
      "text/plain": [
       "{'a': 1, 'c': 3, 'e': 5}"
      ]
     },
     "execution_count": 75,
     "metadata": {},
     "output_type": "execute_result"
    }
   ],
   "source": [
    "odd_dict"
   ]
  },
  {
   "cell_type": "markdown",
   "id": "3d4198f9",
   "metadata": {
    "id": "azmLRVQ7IxsA"
   },
   "source": [
    "### Quiz\n",
    "Consider the following list of car models: `['Toyota', 'Honda', 'Ford', 'Chevrolet', 'BMW', 'Mercedes', 'Tesla', 'Nissan']\n",
    "`. Create a dictionary that maps the names of the cars with their first letter."
   ]
  },
  {
   "cell_type": "code",
   "execution_count": 76,
   "id": "2cf92245",
   "metadata": {},
   "outputs": [
    {
     "name": "stdout",
     "output_type": "stream",
     "text": [
      "{'Toyota': 'T', 'Honda': 'H', 'Ford': 'F', 'Chevrolet': 'C', 'BMW': 'B', 'Mercedes': 'M', 'Tesla': 'T', 'Nissan': 'N'}\n"
     ]
    }
   ],
   "source": [
    "ls=['Toyota', 'Honda', 'Ford', 'Chevrolet', 'BMW', 'Mercedes', 'Tesla', 'Nissan']\n",
    "out={i:i[0] for i in ls}\n",
    "print(out)"
   ]
  },
  {
   "cell_type": "markdown",
   "id": "99d3fc2a",
   "metadata": {
    "id": "5JsXdeOaH7T0"
   },
   "source": [
    "### Quiz\n",
    "Given a list of numbers `[3, 8, 15, 7, 11, 22, 5, 14]`, create a dictionary that maps the numbers with their cubes"
   ]
  },
  {
   "cell_type": "code",
   "execution_count": 77,
   "id": "310919d2",
   "metadata": {},
   "outputs": [
    {
     "name": "stdout",
     "output_type": "stream",
     "text": [
      "{3: 27, 8: 512, 15: 3375, 7: 343, 11: 1331, 22: 10648, 5: 125, 14: 2744}\n"
     ]
    }
   ],
   "source": [
    "ls=[3, 8, 15, 7, 11, 22, 5, 14]\n",
    "out={i:i**3 for i in ls}\n",
    "print(out)"
   ]
  },
  {
   "cell_type": "code",
   "execution_count": null,
   "id": "aa1b8557",
   "metadata": {},
   "outputs": [],
   "source": []
  }
 ],
 "metadata": {
  "kernelspec": {
   "display_name": "Python 3",
   "language": "python",
   "name": "python3"
  },
  "language_info": {
   "codemirror_mode": {
    "name": "ipython",
    "version": 3
   },
   "file_extension": ".py",
   "mimetype": "text/x-python",
   "name": "python",
   "nbconvert_exporter": "python",
   "pygments_lexer": "ipython3",
   "version": "3.8.8"
  }
 },
 "nbformat": 4,
 "nbformat_minor": 5
}
