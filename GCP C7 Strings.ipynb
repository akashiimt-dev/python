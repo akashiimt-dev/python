{
 "cells": [
  {
   "cell_type": "markdown",
   "id": "3fd1ed13",
   "metadata": {
    "id": "c2F4wtow-9-Z"
   },
   "source": [
    "# Strings\n",
    "Strings are fundamental data structures in Python, widely utilized across diverse domains such as software development, data science, and machine learning. They are essentially sequences of characters, typically associated with one or more languages, both natural and technical."
   ]
  },
  {
   "cell_type": "markdown",
   "id": "a49fbb58",
   "metadata": {
    "id": "LnDkx4jgI4iY"
   },
   "source": [
    "## Creating strings"
   ]
  },
  {
   "cell_type": "markdown",
   "id": "8fd4f553",
   "metadata": {
    "id": "2NzM4v4v4fsH"
   },
   "source": [
    "### Example\n",
    "Creating empty strings\n"
   ]
  },
  {
   "cell_type": "code",
   "execution_count": 1,
   "id": "90b16c6b",
   "metadata": {},
   "outputs": [],
   "source": [
    "empty_string_1 = ''"
   ]
  },
  {
   "cell_type": "code",
   "execution_count": 11,
   "id": "00be5c8d",
   "metadata": {},
   "outputs": [
    {
     "name": "stdout",
     "output_type": "stream",
     "text": [
      "\n"
     ]
    }
   ],
   "source": [
    "print(empty_string_1)"
   ]
  },
  {
   "cell_type": "code",
   "execution_count": 2,
   "id": "3544c63c",
   "metadata": {},
   "outputs": [
    {
     "data": {
      "text/plain": [
       "str"
      ]
     },
     "execution_count": 2,
     "metadata": {},
     "output_type": "execute_result"
    }
   ],
   "source": [
    "type(empty_string_1)"
   ]
  },
  {
   "cell_type": "code",
   "execution_count": 3,
   "id": "2c7ecaa9",
   "metadata": {},
   "outputs": [],
   "source": [
    "empty_string_2 = \"\""
   ]
  },
  {
   "cell_type": "code",
   "execution_count": 4,
   "id": "452a5886",
   "metadata": {},
   "outputs": [
    {
     "data": {
      "text/plain": [
       "str"
      ]
     },
     "execution_count": 4,
     "metadata": {},
     "output_type": "execute_result"
    }
   ],
   "source": [
    "type(empty_string_2)"
   ]
  },
  {
   "cell_type": "markdown",
   "id": "0acb2bd4",
   "metadata": {
    "id": "5J8SAui8_pHD"
   },
   "source": [
    "### Example\n",
    "Creating non-empty strings"
   ]
  },
  {
   "cell_type": "code",
   "execution_count": 5,
   "id": "28b28056",
   "metadata": {},
   "outputs": [],
   "source": [
    "animal='dog'"
   ]
  },
  {
   "cell_type": "code",
   "execution_count": 6,
   "id": "7ff1c9b1",
   "metadata": {},
   "outputs": [
    {
     "data": {
      "text/plain": [
       "str"
      ]
     },
     "execution_count": 6,
     "metadata": {},
     "output_type": "execute_result"
    }
   ],
   "source": [
    "type(animal)"
   ]
  },
  {
   "cell_type": "code",
   "execution_count": 7,
   "id": "f668d7f7",
   "metadata": {},
   "outputs": [],
   "source": [
    "some_string='25'"
   ]
  },
  {
   "cell_type": "code",
   "execution_count": 8,
   "id": "0c9592a2",
   "metadata": {},
   "outputs": [
    {
     "data": {
      "text/plain": [
       "str"
      ]
     },
     "execution_count": 8,
     "metadata": {},
     "output_type": "execute_result"
    }
   ],
   "source": [
    "type(some_string)"
   ]
  },
  {
   "cell_type": "code",
   "execution_count": 9,
   "id": "8f7c23e7",
   "metadata": {},
   "outputs": [],
   "source": [
    "some_string_num=25"
   ]
  },
  {
   "cell_type": "code",
   "execution_count": 10,
   "id": "5a8adf86",
   "metadata": {},
   "outputs": [
    {
     "data": {
      "text/plain": [
       "int"
      ]
     },
     "execution_count": 10,
     "metadata": {},
     "output_type": "execute_result"
    }
   ],
   "source": [
    "type(some_string_num)"
   ]
  },
  {
   "cell_type": "markdown",
   "id": "c3e488b8",
   "metadata": {
    "id": "VdkRzFJMIH-I"
   },
   "source": [
    "### Quiz\n",
    "Store the string `'I am a python programmer.'` in a variable called `py_string`. Display the string as an output and also print the actual string."
   ]
  },
  {
   "cell_type": "code",
   "execution_count": 15,
   "id": "82d6bda1",
   "metadata": {},
   "outputs": [
    {
     "data": {
      "text/plain": [
       "str"
      ]
     },
     "execution_count": 15,
     "metadata": {},
     "output_type": "execute_result"
    }
   ],
   "source": [
    "py_string='I am a python programmer.'\n",
    "type(py_string)"
   ]
  },
  {
   "cell_type": "code",
   "execution_count": 13,
   "id": "98322c1f",
   "metadata": {},
   "outputs": [
    {
     "name": "stdout",
     "output_type": "stream",
     "text": [
      "I am a python programmer.\n"
     ]
    }
   ],
   "source": [
    "print(py_string)"
   ]
  },
  {
   "cell_type": "markdown",
   "id": "37f969e8",
   "metadata": {
    "id": "tAKpF2n57TXY"
   },
   "source": [
    "### Example\n",
    "Creating multiline strings"
   ]
  },
  {
   "cell_type": "code",
   "execution_count": 16,
   "id": "ca80405b",
   "metadata": {},
   "outputs": [],
   "source": [
    "multiline_string = '''\n",
    "This is a multiline\n",
    "string created using\n",
    "triple quotes.\n",
    "'''"
   ]
  },
  {
   "cell_type": "code",
   "execution_count": 17,
   "id": "7474d4e1",
   "metadata": {},
   "outputs": [
    {
     "data": {
      "text/plain": [
       "str"
      ]
     },
     "execution_count": 17,
     "metadata": {},
     "output_type": "execute_result"
    }
   ],
   "source": [
    "type(multiline_string)"
   ]
  },
  {
   "cell_type": "markdown",
   "id": "b5f9ed37",
   "metadata": {
    "id": "Sdl5r_oq3rl8"
   },
   "source": [
    "### Example\n",
    "Creating strings using the `str()` function"
   ]
  },
  {
   "cell_type": "code",
   "execution_count": 18,
   "id": "9c1a2b86",
   "metadata": {},
   "outputs": [],
   "source": [
    "age=42"
   ]
  },
  {
   "cell_type": "code",
   "execution_count": 19,
   "id": "7d306523",
   "metadata": {},
   "outputs": [
    {
     "data": {
      "text/plain": [
       "int"
      ]
     },
     "execution_count": 19,
     "metadata": {},
     "output_type": "execute_result"
    }
   ],
   "source": [
    "type(age)"
   ]
  },
  {
   "cell_type": "code",
   "execution_count": 20,
   "id": "2dac24db",
   "metadata": {},
   "outputs": [],
   "source": [
    "string_age=str(age)"
   ]
  },
  {
   "cell_type": "code",
   "execution_count": 21,
   "id": "df89de71",
   "metadata": {},
   "outputs": [
    {
     "data": {
      "text/plain": [
       "str"
      ]
     },
     "execution_count": 21,
     "metadata": {},
     "output_type": "execute_result"
    }
   ],
   "source": [
    "type(string_age)"
   ]
  },
  {
   "cell_type": "code",
   "execution_count": 22,
   "id": "84dff6ee",
   "metadata": {},
   "outputs": [],
   "source": [
    "money=65.4"
   ]
  },
  {
   "cell_type": "code",
   "execution_count": 23,
   "id": "a15312c4",
   "metadata": {},
   "outputs": [
    {
     "data": {
      "text/plain": [
       "float"
      ]
     },
     "execution_count": 23,
     "metadata": {},
     "output_type": "execute_result"
    }
   ],
   "source": [
    "type(money)"
   ]
  },
  {
   "cell_type": "code",
   "execution_count": 24,
   "id": "7620336f",
   "metadata": {},
   "outputs": [],
   "source": [
    "string_money=str(money)"
   ]
  },
  {
   "cell_type": "code",
   "execution_count": 25,
   "id": "48cd470a",
   "metadata": {},
   "outputs": [
    {
     "data": {
      "text/plain": [
       "str"
      ]
     },
     "execution_count": 25,
     "metadata": {},
     "output_type": "execute_result"
    }
   ],
   "source": [
    "type(string_money)"
   ]
  },
  {
   "cell_type": "markdown",
   "id": "2cfdeb32",
   "metadata": {
    "id": "VoXnZkvdN5b3"
   },
   "source": [
    "## Indexing and slicing strings"
   ]
  },
  {
   "cell_type": "markdown",
   "id": "f5e21eda",
   "metadata": {
    "id": "gQ_6-31yOPWv"
   },
   "source": [
    "### Example\n",
    "Accessing individual characters in a string"
   ]
  },
  {
   "cell_type": "code",
   "execution_count": 26,
   "id": "ef7d435f",
   "metadata": {},
   "outputs": [],
   "source": [
    "my_string = 'Python'"
   ]
  },
  {
   "cell_type": "code",
   "execution_count": null,
   "id": "dcc4b651",
   "metadata": {},
   "outputs": [],
   "source": [
    "P    y   t   h   o  n\n",
    "0    1   2   3   4  5 (left --> right)\n",
    "-6  -5  -4  -3  -2 -1(right --> left)"
   ]
  },
  {
   "cell_type": "code",
   "execution_count": 27,
   "id": "2c62c239",
   "metadata": {},
   "outputs": [],
   "source": [
    "# indexing and slicing --> []"
   ]
  },
  {
   "cell_type": "code",
   "execution_count": 28,
   "id": "d1a6adc6",
   "metadata": {},
   "outputs": [
    {
     "data": {
      "text/plain": [
       "'y'"
      ]
     },
     "execution_count": 28,
     "metadata": {},
     "output_type": "execute_result"
    }
   ],
   "source": [
    "my_string[1]"
   ]
  },
  {
   "cell_type": "code",
   "execution_count": 30,
   "id": "1aa52c6c",
   "metadata": {},
   "outputs": [
    {
     "data": {
      "text/plain": [
       "'y'"
      ]
     },
     "execution_count": 30,
     "metadata": {},
     "output_type": "execute_result"
    }
   ],
   "source": [
    "my_string[-5]"
   ]
  },
  {
   "cell_type": "code",
   "execution_count": 29,
   "id": "8d1de3c4",
   "metadata": {},
   "outputs": [
    {
     "data": {
      "text/plain": [
       "'o'"
      ]
     },
     "execution_count": 29,
     "metadata": {},
     "output_type": "execute_result"
    }
   ],
   "source": [
    "my_string[4]"
   ]
  },
  {
   "cell_type": "code",
   "execution_count": 31,
   "id": "aab67b37",
   "metadata": {},
   "outputs": [
    {
     "data": {
      "text/plain": [
       "'o'"
      ]
     },
     "execution_count": 31,
     "metadata": {},
     "output_type": "execute_result"
    }
   ],
   "source": [
    "my_string[-2]"
   ]
  },
  {
   "cell_type": "markdown",
   "id": "834fa82d",
   "metadata": {
    "id": "-bcRk-01EQoY"
   },
   "source": [
    "### Quiz\n",
    "Store the string `'Hello world!'` in a variable called `hello_str` and print it.<br>\n",
    "Print the first character from `hello_str`.<br>\n",
    "Print the seventh character from `hello_str`.<br>\n",
    "Print the last character from `hello_str`."
   ]
  },
  {
   "cell_type": "code",
   "execution_count": 32,
   "id": "dc726bc0",
   "metadata": {},
   "outputs": [
    {
     "name": "stdout",
     "output_type": "stream",
     "text": [
      "Hello world!\n"
     ]
    }
   ],
   "source": [
    "hello_str='Hello world!'\n",
    "print(hello_str)"
   ]
  },
  {
   "cell_type": "code",
   "execution_count": 33,
   "id": "fe7095c8",
   "metadata": {},
   "outputs": [
    {
     "data": {
      "text/plain": [
       "'H'"
      ]
     },
     "execution_count": 33,
     "metadata": {},
     "output_type": "execute_result"
    }
   ],
   "source": [
    "hello_str[0]"
   ]
  },
  {
   "cell_type": "code",
   "execution_count": 34,
   "id": "0258b769",
   "metadata": {},
   "outputs": [
    {
     "data": {
      "text/plain": [
       "'w'"
      ]
     },
     "execution_count": 34,
     "metadata": {},
     "output_type": "execute_result"
    }
   ],
   "source": [
    "hello_str[6]"
   ]
  },
  {
   "cell_type": "code",
   "execution_count": 35,
   "id": "c678d094",
   "metadata": {},
   "outputs": [
    {
     "data": {
      "text/plain": [
       "'!'"
      ]
     },
     "execution_count": 35,
     "metadata": {},
     "output_type": "execute_result"
    }
   ],
   "source": [
    "hello_str[11]"
   ]
  },
  {
   "cell_type": "code",
   "execution_count": 36,
   "id": "1dc9bcb5",
   "metadata": {},
   "outputs": [
    {
     "data": {
      "text/plain": [
       "'!'"
      ]
     },
     "execution_count": 36,
     "metadata": {},
     "output_type": "execute_result"
    }
   ],
   "source": [
    "hello_str[-1]"
   ]
  },
  {
   "cell_type": "code",
   "execution_count": 37,
   "id": "edad1576",
   "metadata": {},
   "outputs": [
    {
     "data": {
      "text/plain": [
       "'Python'"
      ]
     },
     "execution_count": 37,
     "metadata": {},
     "output_type": "execute_result"
    }
   ],
   "source": [
    "my_string"
   ]
  },
  {
   "cell_type": "code",
   "execution_count": 38,
   "id": "f1f7ed3b",
   "metadata": {},
   "outputs": [],
   "source": [
    "# \"pyt\""
   ]
  },
  {
   "cell_type": "code",
   "execution_count": 39,
   "id": "6b69c383",
   "metadata": {},
   "outputs": [
    {
     "data": {
      "text/plain": [
       "'Pyt'"
      ]
     },
     "execution_count": 39,
     "metadata": {},
     "output_type": "execute_result"
    }
   ],
   "source": [
    "# Syntax: my_string[start_index:end_index+1]\n",
    "my_string[0:3]"
   ]
  },
  {
   "cell_type": "code",
   "execution_count": 40,
   "id": "aca16099",
   "metadata": {},
   "outputs": [
    {
     "data": {
      "text/plain": [
       "'tho'"
      ]
     },
     "execution_count": 40,
     "metadata": {},
     "output_type": "execute_result"
    }
   ],
   "source": [
    "# 'tho'\n",
    "my_string[2:5]"
   ]
  },
  {
   "cell_type": "code",
   "execution_count": 41,
   "id": "6efda0ce",
   "metadata": {},
   "outputs": [
    {
     "data": {
      "text/plain": [
       "'tho'"
      ]
     },
     "execution_count": 41,
     "metadata": {},
     "output_type": "execute_result"
    }
   ],
   "source": [
    "# 'tho'\n",
    "my_string[2:-1]"
   ]
  },
  {
   "cell_type": "code",
   "execution_count": 43,
   "id": "22b607b6",
   "metadata": {},
   "outputs": [
    {
     "data": {
      "text/plain": [
       "'yhn'"
      ]
     },
     "execution_count": 43,
     "metadata": {},
     "output_type": "execute_result"
    }
   ],
   "source": [
    "# 'yhn'\n",
    "my_string[1:6:2]"
   ]
  },
  {
   "cell_type": "code",
   "execution_count": 44,
   "id": "59218ab9",
   "metadata": {},
   "outputs": [],
   "source": [
    "string=\"Upgrad\"\n",
    "# slicing for \"gra\"\n",
    "# slicing for \"Uga\""
   ]
  },
  {
   "cell_type": "code",
   "execution_count": 45,
   "id": "baff8560",
   "metadata": {},
   "outputs": [
    {
     "data": {
      "text/plain": [
       "'gra'"
      ]
     },
     "execution_count": 45,
     "metadata": {},
     "output_type": "execute_result"
    }
   ],
   "source": [
    "string[2:5]"
   ]
  },
  {
   "cell_type": "code",
   "execution_count": 46,
   "id": "a720b6e8",
   "metadata": {},
   "outputs": [
    {
     "data": {
      "text/plain": [
       "'Uga'"
      ]
     },
     "execution_count": 46,
     "metadata": {},
     "output_type": "execute_result"
    }
   ],
   "source": [
    "string[0:5:2]"
   ]
  },
  {
   "cell_type": "code",
   "execution_count": 42,
   "id": "e719ebe7",
   "metadata": {},
   "outputs": [],
   "source": [
    "# String Functions"
   ]
  },
  {
   "cell_type": "code",
   "execution_count": 47,
   "id": "8ba6ef16",
   "metadata": {},
   "outputs": [
    {
     "data": {
      "text/plain": [
       "'Python'"
      ]
     },
     "execution_count": 47,
     "metadata": {},
     "output_type": "execute_result"
    }
   ],
   "source": [
    "my_string"
   ]
  },
  {
   "cell_type": "code",
   "execution_count": 48,
   "id": "a83eb655",
   "metadata": {},
   "outputs": [
    {
     "data": {
      "text/plain": [
       "6"
      ]
     },
     "execution_count": 48,
     "metadata": {},
     "output_type": "execute_result"
    }
   ],
   "source": [
    "len(my_string)"
   ]
  },
  {
   "cell_type": "code",
   "execution_count": 49,
   "id": "5ee6d05d",
   "metadata": {},
   "outputs": [],
   "source": [
    "my_string = 'This string is 33 characters long'"
   ]
  },
  {
   "cell_type": "code",
   "execution_count": 50,
   "id": "8983f28c",
   "metadata": {},
   "outputs": [
    {
     "data": {
      "text/plain": [
       "33"
      ]
     },
     "execution_count": 50,
     "metadata": {},
     "output_type": "execute_result"
    }
   ],
   "source": [
    "len(my_string)\n",
    "# Space is also have length 1"
   ]
  },
  {
   "cell_type": "code",
   "execution_count": 55,
   "id": "dcf2cfad",
   "metadata": {},
   "outputs": [
    {
     "data": {
      "text/plain": [
       "1"
      ]
     },
     "execution_count": 55,
     "metadata": {},
     "output_type": "execute_result"
    }
   ],
   "source": [
    "len(\" \")"
   ]
  },
  {
   "cell_type": "code",
   "execution_count": 52,
   "id": "e11cc039",
   "metadata": {},
   "outputs": [
    {
     "data": {
      "text/plain": [
       "0"
      ]
     },
     "execution_count": 52,
     "metadata": {},
     "output_type": "execute_result"
    }
   ],
   "source": [
    "len(\"\")"
   ]
  },
  {
   "cell_type": "code",
   "execution_count": 56,
   "id": "1c9c18a3",
   "metadata": {},
   "outputs": [],
   "source": [
    "my_string=\"ppppooooiiiiiiijjjjjjggg\""
   ]
  },
  {
   "cell_type": "code",
   "execution_count": 59,
   "id": "8c1c884e",
   "metadata": {},
   "outputs": [
    {
     "data": {
      "text/plain": [
       "7"
      ]
     },
     "execution_count": 59,
     "metadata": {},
     "output_type": "execute_result"
    }
   ],
   "source": [
    "my_string.count(\"i\")"
   ]
  },
  {
   "cell_type": "code",
   "execution_count": 60,
   "id": "c217e0bd",
   "metadata": {},
   "outputs": [],
   "source": [
    "my_string=\"upgrad\""
   ]
  },
  {
   "cell_type": "code",
   "execution_count": 61,
   "id": "5310928d",
   "metadata": {},
   "outputs": [
    {
     "data": {
      "text/plain": [
       "'UPGRAD'"
      ]
     },
     "execution_count": 61,
     "metadata": {},
     "output_type": "execute_result"
    }
   ],
   "source": [
    "my_string.upper()\n",
    "# all in capital case"
   ]
  },
  {
   "cell_type": "code",
   "execution_count": 62,
   "id": "0b7f2618",
   "metadata": {},
   "outputs": [],
   "source": [
    "my_string=\"UPGRAD\"\n",
    "# all in small case"
   ]
  },
  {
   "cell_type": "code",
   "execution_count": 63,
   "id": "c256d5ef",
   "metadata": {},
   "outputs": [
    {
     "data": {
      "text/plain": [
       "'upgrad'"
      ]
     },
     "execution_count": 63,
     "metadata": {},
     "output_type": "execute_result"
    }
   ],
   "source": [
    "my_string.lower()"
   ]
  },
  {
   "cell_type": "code",
   "execution_count": 64,
   "id": "298345d1",
   "metadata": {},
   "outputs": [
    {
     "data": {
      "text/plain": [
       "'Upgrad'"
      ]
     },
     "execution_count": 64,
     "metadata": {},
     "output_type": "execute_result"
    }
   ],
   "source": [
    "my_string.title()\n",
    "# first letter capital remaining small"
   ]
  },
  {
   "cell_type": "code",
   "execution_count": null,
   "id": "5d94ee90",
   "metadata": {},
   "outputs": [],
   "source": [
    "# Capitalize() --> Homework"
   ]
  },
  {
   "cell_type": "code",
   "execution_count": 65,
   "id": "9bfb7fbd",
   "metadata": {},
   "outputs": [],
   "source": [
    "inp=\"upgrad\"\n",
    "#out=\"upGrad\"\n",
    "# slicing + title + concatenation"
   ]
  },
  {
   "cell_type": "code",
   "execution_count": 68,
   "id": "c2d9f271",
   "metadata": {},
   "outputs": [
    {
     "data": {
      "text/plain": [
       "'upGrad'"
      ]
     },
     "execution_count": 68,
     "metadata": {},
     "output_type": "execute_result"
    }
   ],
   "source": [
    "inp[0:2]+inp[2:6].title()"
   ]
  },
  {
   "cell_type": "code",
   "execution_count": 69,
   "id": "ce3b90ca",
   "metadata": {},
   "outputs": [
    {
     "data": {
      "text/plain": [
       "'upGrad'"
      ]
     },
     "execution_count": 69,
     "metadata": {},
     "output_type": "execute_result"
    }
   ],
   "source": [
    "inp=\"upgrad\"\n",
    "inp.replace(\"g\",\"G\")"
   ]
  },
  {
   "cell_type": "code",
   "execution_count": 72,
   "id": "0c2e1a7e",
   "metadata": {},
   "outputs": [],
   "source": [
    "my_string=\"     python      \""
   ]
  },
  {
   "cell_type": "code",
   "execution_count": 73,
   "id": "91c4c528",
   "metadata": {},
   "outputs": [
    {
     "data": {
      "text/plain": [
       "'python'"
      ]
     },
     "execution_count": 73,
     "metadata": {},
     "output_type": "execute_result"
    }
   ],
   "source": [
    "my_string.strip()# by default it will remove space"
   ]
  },
  {
   "cell_type": "code",
   "execution_count": 75,
   "id": "70c6cbb6",
   "metadata": {},
   "outputs": [
    {
     "data": {
      "text/plain": [
       "'python      '"
      ]
     },
     "execution_count": 75,
     "metadata": {},
     "output_type": "execute_result"
    }
   ],
   "source": [
    "my_string.lstrip()"
   ]
  },
  {
   "cell_type": "code",
   "execution_count": 76,
   "id": "661ddd75",
   "metadata": {},
   "outputs": [
    {
     "data": {
      "text/plain": [
       "'     python'"
      ]
     },
     "execution_count": 76,
     "metadata": {},
     "output_type": "execute_result"
    }
   ],
   "source": [
    "my_string.rstrip()"
   ]
  },
  {
   "cell_type": "code",
   "execution_count": 78,
   "id": "632b827f",
   "metadata": {},
   "outputs": [],
   "source": [
    "my_string=\"#####python######\""
   ]
  },
  {
   "cell_type": "code",
   "execution_count": 79,
   "id": "fb25a8c7",
   "metadata": {},
   "outputs": [
    {
     "data": {
      "text/plain": [
       "'python'"
      ]
     },
     "execution_count": 79,
     "metadata": {},
     "output_type": "execute_result"
    }
   ],
   "source": [
    "my_string.strip(\"#\")"
   ]
  },
  {
   "cell_type": "code",
   "execution_count": 80,
   "id": "3a632579",
   "metadata": {},
   "outputs": [
    {
     "data": {
      "text/plain": [
       "'python######'"
      ]
     },
     "execution_count": 80,
     "metadata": {},
     "output_type": "execute_result"
    }
   ],
   "source": [
    "my_string.lstrip(\"#\")"
   ]
  },
  {
   "cell_type": "code",
   "execution_count": 81,
   "id": "1798d043",
   "metadata": {},
   "outputs": [
    {
     "data": {
      "text/plain": [
       "'#####python'"
      ]
     },
     "execution_count": 81,
     "metadata": {},
     "output_type": "execute_result"
    }
   ],
   "source": [
    "my_string.rstrip(\"#\")"
   ]
  },
  {
   "cell_type": "code",
   "execution_count": 82,
   "id": "ca2c1084",
   "metadata": {},
   "outputs": [
    {
     "data": {
      "text/plain": [
       "'mynameispriyanka'"
      ]
     },
     "execution_count": 82,
     "metadata": {},
     "output_type": "execute_result"
    }
   ],
   "source": [
    "info=\"my name is priyanka\" \n",
    "info.replace(\" \",\"\")"
   ]
  },
  {
   "cell_type": "code",
   "execution_count": 98,
   "id": "d10c8bdf",
   "metadata": {},
   "outputs": [],
   "source": [
    "# ord --> get the ASCII value of any character\n",
    "# ASCII ->American Standard Code for Information Interchange"
   ]
  },
  {
   "cell_type": "code",
   "execution_count": 83,
   "id": "bb91d316",
   "metadata": {
    "scrolled": true
   },
   "outputs": [
    {
     "data": {
      "text/plain": [
       "97"
      ]
     },
     "execution_count": 83,
     "metadata": {},
     "output_type": "execute_result"
    }
   ],
   "source": [
    "ord(\"a\")"
   ]
  },
  {
   "cell_type": "code",
   "execution_count": 97,
   "id": "fbaa2e7c",
   "metadata": {},
   "outputs": [
    {
     "data": {
      "text/plain": [
       "'a'"
      ]
     },
     "execution_count": 97,
     "metadata": {},
     "output_type": "execute_result"
    }
   ],
   "source": [
    "chr(97)"
   ]
  },
  {
   "cell_type": "code",
   "execution_count": 84,
   "id": "ae604b5f",
   "metadata": {},
   "outputs": [
    {
     "data": {
      "text/plain": [
       "65"
      ]
     },
     "execution_count": 84,
     "metadata": {},
     "output_type": "execute_result"
    }
   ],
   "source": [
    "ord(\"A\")"
   ]
  },
  {
   "cell_type": "code",
   "execution_count": 95,
   "id": "4a9f5b46",
   "metadata": {},
   "outputs": [
    {
     "data": {
      "text/plain": [
       "'A'"
      ]
     },
     "execution_count": 95,
     "metadata": {},
     "output_type": "execute_result"
    }
   ],
   "source": [
    "chr(65)"
   ]
  },
  {
   "cell_type": "code",
   "execution_count": 85,
   "id": "a207bfb5",
   "metadata": {},
   "outputs": [
    {
     "data": {
      "text/plain": [
       "64"
      ]
     },
     "execution_count": 85,
     "metadata": {},
     "output_type": "execute_result"
    }
   ],
   "source": [
    "ord(\"@\")"
   ]
  },
  {
   "cell_type": "code",
   "execution_count": 94,
   "id": "fe4e6d5f",
   "metadata": {},
   "outputs": [
    {
     "data": {
      "text/plain": [
       "'@'"
      ]
     },
     "execution_count": 94,
     "metadata": {},
     "output_type": "execute_result"
    }
   ],
   "source": [
    "chr(64)\n",
    "# Python function to convert ascii values to charater"
   ]
  },
  {
   "cell_type": "code",
   "execution_count": 86,
   "id": "475db8e6",
   "metadata": {},
   "outputs": [
    {
     "data": {
      "text/plain": [
       "63"
      ]
     },
     "execution_count": 86,
     "metadata": {},
     "output_type": "execute_result"
    }
   ],
   "source": [
    "ord(\"?\")"
   ]
  },
  {
   "cell_type": "code",
   "execution_count": 93,
   "id": "28771c86",
   "metadata": {},
   "outputs": [
    {
     "data": {
      "text/plain": [
       "'?'"
      ]
     },
     "execution_count": 93,
     "metadata": {},
     "output_type": "execute_result"
    }
   ],
   "source": [
    "chr(63)\n",
    "# Python function to convert ascii values to charater"
   ]
  },
  {
   "cell_type": "code",
   "execution_count": 87,
   "id": "7c04d939",
   "metadata": {},
   "outputs": [
    {
     "data": {
      "text/plain": [
       "46"
      ]
     },
     "execution_count": 87,
     "metadata": {},
     "output_type": "execute_result"
    }
   ],
   "source": [
    "ord(\".\")"
   ]
  },
  {
   "cell_type": "code",
   "execution_count": 92,
   "id": "c5976a9e",
   "metadata": {},
   "outputs": [
    {
     "data": {
      "text/plain": [
       "'.'"
      ]
     },
     "execution_count": 92,
     "metadata": {},
     "output_type": "execute_result"
    }
   ],
   "source": [
    "chr(46)\n",
    "# Python function to convert ascii values to charater"
   ]
  },
  {
   "cell_type": "code",
   "execution_count": 88,
   "id": "9a37388a",
   "metadata": {},
   "outputs": [
    {
     "data": {
      "text/plain": [
       "124"
      ]
     },
     "execution_count": 88,
     "metadata": {},
     "output_type": "execute_result"
    }
   ],
   "source": [
    "ord(\"|\")"
   ]
  },
  {
   "cell_type": "code",
   "execution_count": 91,
   "id": "1a02656c",
   "metadata": {},
   "outputs": [
    {
     "data": {
      "text/plain": [
       "'|'"
      ]
     },
     "execution_count": 91,
     "metadata": {},
     "output_type": "execute_result"
    }
   ],
   "source": [
    "chr(124)\n",
    "# Python function to convert ascii values to charater"
   ]
  },
  {
   "cell_type": "code",
   "execution_count": 81,
   "id": "50853764",
   "metadata": {},
   "outputs": [],
   "source": [
    "# String Concatenation -- adding two or more strings"
   ]
  },
  {
   "cell_type": "code",
   "execution_count": 100,
   "id": "c36343bb",
   "metadata": {},
   "outputs": [],
   "source": [
    "first_name=\"Shivam\"\n",
    "last_name=\"Garg\""
   ]
  },
  {
   "cell_type": "code",
   "execution_count": 101,
   "id": "05298ea8",
   "metadata": {},
   "outputs": [
    {
     "name": "stdout",
     "output_type": "stream",
     "text": [
      "Shivam Garg\n"
     ]
    }
   ],
   "source": [
    "full_name=first_name+\" \"+last_name\n",
    "print(full_name)"
   ]
  },
  {
   "cell_type": "code",
   "execution_count": 102,
   "id": "af0782a1",
   "metadata": {},
   "outputs": [],
   "source": [
    "house_no=\"32\"\n",
    "street=\"Main Road\"\n",
    "city=\"Moradabad\"\n",
    "state=\"Uttar Pradesh\"\n",
    "pincode=\"251321\""
   ]
  },
  {
   "cell_type": "code",
   "execution_count": 103,
   "id": "dccd53b1",
   "metadata": {},
   "outputs": [
    {
     "name": "stdout",
     "output_type": "stream",
     "text": [
      "32,Main Road,Moradabad,Uttar Pradesh,251321\n"
     ]
    }
   ],
   "source": [
    "full_address=house_no+\",\"+street+\",\"+city+\",\"+state+\",\"+pincode\n",
    "print(full_address)"
   ]
  },
  {
   "cell_type": "code",
   "execution_count": 104,
   "id": "88bca27b",
   "metadata": {},
   "outputs": [
    {
     "name": "stdout",
     "output_type": "stream",
     "text": [
      "32\n",
      "Main Road\n",
      "Moradabad\n",
      "Uttar Pradesh\n",
      "251321\n"
     ]
    }
   ],
   "source": [
    "full_address=house_no+\"\\n\"+street+\"\\n\"+city+\"\\n\"+state+\"\\n\"+pincode\n",
    "print(full_address)\n",
    "# \"\\n\" --> New Line"
   ]
  },
  {
   "cell_type": "code",
   "execution_count": null,
   "id": "55fcd2cf",
   "metadata": {},
   "outputs": [],
   "source": [
    "\"python\"-\"on\" --> \"pyth\" (No)"
   ]
  },
  {
   "cell_type": "code",
   "execution_count": 105,
   "id": "d09945a1",
   "metadata": {},
   "outputs": [],
   "source": [
    "## Write a Python program that takes a predefined sentence as a string and returns the count of \"o\" characters\n",
    "## in that senetence --> \"Hello world, how are you?\"\n"
   ]
  },
  {
   "cell_type": "code",
   "execution_count": 106,
   "id": "777529ef",
   "metadata": {},
   "outputs": [
    {
     "data": {
      "text/plain": [
       "4"
      ]
     },
     "execution_count": 106,
     "metadata": {},
     "output_type": "execute_result"
    }
   ],
   "source": [
    "string=\"Hello world, how are you?\"\n",
    "string.count(\"o\")"
   ]
  },
  {
   "cell_type": "markdown",
   "id": "95fe57d5",
   "metadata": {
    "id": "7bTmovmW7Y6b"
   },
   "source": [
    "### Quiz\n",
    "Extract the string `'program'` from the sentence `'I find Python programming very interesting!'`"
   ]
  },
  {
   "cell_type": "code",
   "execution_count": 107,
   "id": "14e32fc3",
   "metadata": {},
   "outputs": [
    {
     "data": {
      "text/plain": [
       "'program'"
      ]
     },
     "execution_count": 107,
     "metadata": {},
     "output_type": "execute_result"
    }
   ],
   "source": [
    "string='I find Python programming very interesting!'\n",
    "string[14:21]"
   ]
  },
  {
   "cell_type": "markdown",
   "id": "2f47effc",
   "metadata": {
    "id": "VdkRzFJMIH-I"
   },
   "source": [
    "### Quiz\n",
    "Find the length of the string `'I am a Python programmer.'`"
   ]
  },
  {
   "cell_type": "code",
   "execution_count": 108,
   "id": "458bd407",
   "metadata": {},
   "outputs": [
    {
     "data": {
      "text/plain": [
       "25"
      ]
     },
     "execution_count": 108,
     "metadata": {},
     "output_type": "execute_result"
    }
   ],
   "source": [
    "string=\"I am a Python programmer.\"\n",
    "len(string)"
   ]
  },
  {
   "cell_type": "markdown",
   "id": "a42edad8",
   "metadata": {
    "id": "zCUW9JiAKGx4"
   },
   "source": [
    "### Quiz\n",
    "Study the following string variables:\n",
    "```\n",
    "str_name = 'Mehmood'\n",
    "str_age = 45\n",
    "str_domain = 'IT'\n",
    "str_role = 'software developer'\n",
    "```\n",
    "Concatenate these strings to produce the string `'Mehmood is a 45 year old software developer working in the IT team.'`"
   ]
  },
  {
   "cell_type": "code",
   "execution_count": 109,
   "id": "e89e31df",
   "metadata": {},
   "outputs": [
    {
     "name": "stdout",
     "output_type": "stream",
     "text": [
      "Mehmood is a 45 year old software developer working in the IT team.\n"
     ]
    }
   ],
   "source": [
    "str_name = 'Mehmood'\n",
    "str_age = 45\n",
    "str_age = str(str_age)\n",
    "str_domain = 'IT'\n",
    "str_role = 'software developer'\n",
    "print(str_name + ' is a ' + str_age + ' year old ' + str_role + ' working in the ' + str_domain + ' team.')"
   ]
  },
  {
   "cell_type": "code",
   "execution_count": null,
   "id": "56bce2fc",
   "metadata": {},
   "outputs": [],
   "source": []
  }
 ],
 "metadata": {
  "kernelspec": {
   "display_name": "Python 3",
   "language": "python",
   "name": "python3"
  },
  "language_info": {
   "codemirror_mode": {
    "name": "ipython",
    "version": 3
   },
   "file_extension": ".py",
   "mimetype": "text/x-python",
   "name": "python",
   "nbconvert_exporter": "python",
   "pygments_lexer": "ipython3",
   "version": "3.8.8"
  }
 },
 "nbformat": 4,
 "nbformat_minor": 5
}
