{
 "cells": [
  {
   "cell_type": "markdown",
   "id": "3d0069d9",
   "metadata": {
    "id": "IyZ2-mrkhwxK"
   },
   "source": [
    "# Dictionaries\n",
    "A dictionary is a data type in Python that stores data in key-value pairs. It has a structure like a a traditional dictionary where words correspond to their definitions. They are indexed by keys, unordered, mutable, and does not allow duplicates.\n",
    "\n",
    "Each element in a dictionary consists of a key and its corresponding value:\n",
    "- **Keys** are unique, immutable, and are used for indexing\n",
    "- **Values** can be of any data type, including other dictionaries"
   ]
  },
  {
   "cell_type": "markdown",
   "id": "2871c391",
   "metadata": {
    "id": "199SO_EBDetV"
   },
   "source": [
    "# Creating Dictionaries\n",
    "Dictionaries can be created using curly braces `{}` or the `dict` constructor"
   ]
  },
  {
   "cell_type": "markdown",
   "id": "de2b34a3",
   "metadata": {
    "id": "EWnb1c4XF55B"
   },
   "source": [
    "### Example\n",
    "Creating empty dictionaries"
   ]
  },
  {
   "cell_type": "code",
   "execution_count": 1,
   "id": "298e4f53",
   "metadata": {
    "executionInfo": {
     "elapsed": 3310,
     "status": "ok",
     "timestamp": 1702651619187,
     "user": {
      "displayName": "Dawit Hadush",
      "userId": "03293108265000512791"
     },
     "user_tz": -330
    },
    "id": "iNMghAb4MraV"
   },
   "outputs": [],
   "source": [
    "numbers = {}"
   ]
  },
  {
   "cell_type": "code",
   "execution_count": 2,
   "id": "629626de",
   "metadata": {
    "colab": {
     "base_uri": "https://localhost:8080/"
    },
    "executionInfo": {
     "elapsed": 22,
     "status": "ok",
     "timestamp": 1702651620779,
     "user": {
      "displayName": "Dawit Hadush",
      "userId": "03293108265000512791"
     },
     "user_tz": -330
    },
    "id": "KnvelpWXM3et",
    "outputId": "aefaede8-f33c-46d0-8de5-9fa794e650ed"
   },
   "outputs": [
    {
     "data": {
      "text/plain": [
       "{}"
      ]
     },
     "execution_count": 2,
     "metadata": {},
     "output_type": "execute_result"
    }
   ],
   "source": [
    "numbers"
   ]
  },
  {
   "cell_type": "code",
   "execution_count": 3,
   "id": "47006df9",
   "metadata": {
    "colab": {
     "base_uri": "https://localhost:8080/"
    },
    "executionInfo": {
     "elapsed": 21,
     "status": "ok",
     "timestamp": 1702651620779,
     "user": {
      "displayName": "Dawit Hadush",
      "userId": "03293108265000512791"
     },
     "user_tz": -330
    },
    "id": "-Ez2smClM_vF",
    "outputId": "accd21e6-f7ba-44b7-94bf-024034843180"
   },
   "outputs": [
    {
     "name": "stdout",
     "output_type": "stream",
     "text": [
      "{}\n"
     ]
    }
   ],
   "source": [
    "print(numbers)"
   ]
  },
  {
   "cell_type": "code",
   "execution_count": 4,
   "id": "ee4efc25",
   "metadata": {
    "colab": {
     "base_uri": "https://localhost:8080/"
    },
    "executionInfo": {
     "elapsed": 20,
     "status": "ok",
     "timestamp": 1702651620779,
     "user": {
      "displayName": "Dawit Hadush",
      "userId": "03293108265000512791"
     },
     "user_tz": -330
    },
    "id": "u-E7GfM0RTzQ",
    "outputId": "3535eb76-d1de-405a-9c80-feeb941c7caf"
   },
   "outputs": [
    {
     "data": {
      "text/plain": [
       "dict"
      ]
     },
     "execution_count": 4,
     "metadata": {},
     "output_type": "execute_result"
    }
   ],
   "source": [
    "type(numbers)"
   ]
  },
  {
   "cell_type": "markdown",
   "id": "c701ae40",
   "metadata": {
    "id": "_eBicohsi18C"
   },
   "source": [
    "### Example\n",
    "Creating non-empty dictionaries"
   ]
  },
  {
   "cell_type": "code",
   "execution_count": 6,
   "id": "492ce663",
   "metadata": {
    "executionInfo": {
     "elapsed": 18,
     "status": "ok",
     "timestamp": 1702651620779,
     "user": {
      "displayName": "Dawit Hadush",
      "userId": "03293108265000512791"
     },
     "user_tz": -330
    },
    "id": "s1p1a2dpKtvV"
   },
   "outputs": [],
   "source": [
    "number = {'x': 0}"
   ]
  },
  {
   "cell_type": "code",
   "execution_count": 7,
   "id": "1bf02f37",
   "metadata": {
    "colab": {
     "base_uri": "https://localhost:8080/"
    },
    "executionInfo": {
     "elapsed": 17,
     "status": "ok",
     "timestamp": 1702651620779,
     "user": {
      "displayName": "Dawit Hadush",
      "userId": "03293108265000512791"
     },
     "user_tz": -330
    },
    "id": "xUjAsiMrKxN5",
    "outputId": "6ecc38e1-1231-45ca-d24f-34632c6c9394"
   },
   "outputs": [
    {
     "data": {
      "text/plain": [
       "{'x': 0}"
      ]
     },
     "execution_count": 7,
     "metadata": {},
     "output_type": "execute_result"
    }
   ],
   "source": [
    "number"
   ]
  },
  {
   "cell_type": "code",
   "execution_count": 8,
   "id": "502c49ae",
   "metadata": {
    "colab": {
     "base_uri": "https://localhost:8080/"
    },
    "executionInfo": {
     "elapsed": 17,
     "status": "ok",
     "timestamp": 1702651620779,
     "user": {
      "displayName": "Dawit Hadush",
      "userId": "03293108265000512791"
     },
     "user_tz": -330
    },
    "id": "Gh9Eef6tTJHc",
    "outputId": "50d1a2cb-9095-46c3-fc86-de761583e060"
   },
   "outputs": [
    {
     "name": "stdout",
     "output_type": "stream",
     "text": [
      "{'x': 0}\n"
     ]
    }
   ],
   "source": [
    "print(number)"
   ]
  },
  {
   "cell_type": "code",
   "execution_count": 9,
   "id": "9d6d40f9",
   "metadata": {},
   "outputs": [
    {
     "data": {
      "text/plain": [
       "dict"
      ]
     },
     "execution_count": 9,
     "metadata": {},
     "output_type": "execute_result"
    }
   ],
   "source": [
    "type(number)"
   ]
  },
  {
   "cell_type": "markdown",
   "id": "34173062",
   "metadata": {
    "id": "RTTaM1r2IyMh"
   },
   "source": [
    "### Example\n",
    "Creating dictionaries with different data types as values"
   ]
  },
  {
   "cell_type": "code",
   "execution_count": 10,
   "id": "de9bdecd",
   "metadata": {
    "executionInfo": {
     "elapsed": 14,
     "status": "ok",
     "timestamp": 1702651620780,
     "user": {
      "displayName": "Dawit Hadush",
      "userId": "03293108265000512791"
     },
     "user_tz": -330
    },
    "id": "xaNfK9CxQbkE"
   },
   "outputs": [],
   "source": [
    "person = {'name': 'Dinesh', 'age': 45, 'salary': 45800.67, 'married': True}"
   ]
  },
  {
   "cell_type": "code",
   "execution_count": 11,
   "id": "a563b95a",
   "metadata": {},
   "outputs": [],
   "source": [
    "person = {'name': 'Dinesh',\n",
    "          'age': 45,\n",
    "          'salary': 45800.67,\n",
    "          'married': True}"
   ]
  },
  {
   "cell_type": "code",
   "execution_count": 12,
   "id": "ee665243",
   "metadata": {
    "colab": {
     "base_uri": "https://localhost:8080/"
    },
    "executionInfo": {
     "elapsed": 14,
     "status": "ok",
     "timestamp": 1702651620780,
     "user": {
      "displayName": "Dawit Hadush",
      "userId": "03293108265000512791"
     },
     "user_tz": -330
    },
    "id": "VaYiqcngRxEK",
    "outputId": "f90b0f03-22f1-441a-b9e0-7bd454d3529c"
   },
   "outputs": [
    {
     "data": {
      "text/plain": [
       "{'name': 'Dinesh', 'age': 45, 'salary': 45800.67, 'married': True}"
      ]
     },
     "execution_count": 12,
     "metadata": {},
     "output_type": "execute_result"
    }
   ],
   "source": [
    "person"
   ]
  },
  {
   "cell_type": "code",
   "execution_count": 13,
   "id": "8615b245",
   "metadata": {},
   "outputs": [
    {
     "data": {
      "text/plain": [
       "dict"
      ]
     },
     "execution_count": 13,
     "metadata": {},
     "output_type": "execute_result"
    }
   ],
   "source": [
    "type(person)"
   ]
  },
  {
   "cell_type": "code",
   "execution_count": null,
   "id": "02133ecd",
   "metadata": {},
   "outputs": [],
   "source": [
    "# keys can be string, integers, floats, tuple\n",
    "# values can be anything like string, integers, floats, list, set, tuple, dict etc etc"
   ]
  },
  {
   "cell_type": "code",
   "execution_count": 14,
   "id": "650d7424",
   "metadata": {
    "executionInfo": {
     "elapsed": 12,
     "status": "ok",
     "timestamp": 1702651620780,
     "user": {
      "displayName": "Dawit Hadush",
      "userId": "03293108265000512791"
     },
     "user_tz": -330
    },
    "id": "uxl0tjp2NRWy"
   },
   "outputs": [],
   "source": [
    "person = {'name': 'Dinesh', 'age': 45, 'salary': 45800.67, 'married': True, 'qualification': ['BE', 'MSc']}"
   ]
  },
  {
   "cell_type": "code",
   "execution_count": 15,
   "id": "7bfe8d8b",
   "metadata": {
    "colab": {
     "base_uri": "https://localhost:8080/"
    },
    "executionInfo": {
     "elapsed": 11,
     "status": "ok",
     "timestamp": 1702651620780,
     "user": {
      "displayName": "Dawit Hadush",
      "userId": "03293108265000512791"
     },
     "user_tz": -330
    },
    "id": "oWwriYFbOIHc",
    "outputId": "42c80f9b-e9a1-483e-eed7-6fbcf73e51ce"
   },
   "outputs": [
    {
     "data": {
      "text/plain": [
       "{'name': 'Dinesh',\n",
       " 'age': 45,\n",
       " 'salary': 45800.67,\n",
       " 'married': True,\n",
       " 'qualification': ['BE', 'MSc']}"
      ]
     },
     "execution_count": 15,
     "metadata": {},
     "output_type": "execute_result"
    }
   ],
   "source": [
    "person"
   ]
  },
  {
   "cell_type": "code",
   "execution_count": 16,
   "id": "e8f9a534",
   "metadata": {
    "executionInfo": {
     "elapsed": 10,
     "status": "ok",
     "timestamp": 1702651620780,
     "user": {
      "displayName": "Dawit Hadush",
      "userId": "03293108265000512791"
     },
     "user_tz": -330
    },
    "id": "A20HZBMtPf_i"
   },
   "outputs": [],
   "source": [
    "person = {'name': 'Dinesh', 'age': 45, 'salary': 45800.67, 'married': True, 'qualification': ('BE', 'MSc')}"
   ]
  },
  {
   "cell_type": "code",
   "execution_count": 17,
   "id": "6c281c3c",
   "metadata": {
    "colab": {
     "base_uri": "https://localhost:8080/"
    },
    "collapsed": true,
    "executionInfo": {
     "elapsed": 10,
     "status": "ok",
     "timestamp": 1702651620780,
     "user": {
      "displayName": "Dawit Hadush",
      "userId": "03293108265000512791"
     },
     "user_tz": -330
    },
    "id": "eXopabFaQGtU",
    "outputId": "6a00b2e2-2d1f-4d14-d335-390b269afeea"
   },
   "outputs": [
    {
     "data": {
      "text/plain": [
       "{'name': 'Dinesh',\n",
       " 'age': 45,\n",
       " 'salary': 45800.67,\n",
       " 'married': True,\n",
       " 'qualification': ('BE', 'MSc')}"
      ]
     },
     "execution_count": 17,
     "metadata": {},
     "output_type": "execute_result"
    }
   ],
   "source": [
    "person"
   ]
  },
  {
   "cell_type": "code",
   "execution_count": 18,
   "id": "ebf350bb",
   "metadata": {
    "executionInfo": {
     "elapsed": 9,
     "status": "ok",
     "timestamp": 1702651620780,
     "user": {
      "displayName": "Dawit Hadush",
      "userId": "03293108265000512791"
     },
     "user_tz": -330
    },
    "id": "b3-oQbYOA1Tj"
   },
   "outputs": [],
   "source": [
    "person = {'name': 'Dinesh', 'age': 45, 'salary': 45800.67, 'married': True, 'qualification': {'BE', 'MSc'}}"
   ]
  },
  {
   "cell_type": "code",
   "execution_count": 19,
   "id": "c83f4ffc",
   "metadata": {
    "colab": {
     "base_uri": "https://localhost:8080/"
    },
    "collapsed": true,
    "executionInfo": {
     "elapsed": 9,
     "status": "ok",
     "timestamp": 1702651620780,
     "user": {
      "displayName": "Dawit Hadush",
      "userId": "03293108265000512791"
     },
     "user_tz": -330
    },
    "id": "Z5reFDdRA_rC",
    "outputId": "1be39540-d69b-44f8-a558-100145fc4500"
   },
   "outputs": [
    {
     "data": {
      "text/plain": [
       "{'name': 'Dinesh',\n",
       " 'age': 45,\n",
       " 'salary': 45800.67,\n",
       " 'married': True,\n",
       " 'qualification': {'BE', 'MSc'}}"
      ]
     },
     "execution_count": 19,
     "metadata": {},
     "output_type": "execute_result"
    }
   ],
   "source": [
    "person"
   ]
  },
  {
   "cell_type": "markdown",
   "id": "bc2bf346",
   "metadata": {
    "id": "LRRrO-rd9Bx5"
   },
   "source": [
    "### Example\n",
    "Creating dictionaries with different data types as keys"
   ]
  },
  {
   "cell_type": "code",
   "execution_count": 18,
   "id": "ea031d4c",
   "metadata": {
    "executionInfo": {
     "elapsed": 9,
     "status": "ok",
     "timestamp": 1702651620781,
     "user": {
      "displayName": "Dawit Hadush",
      "userId": "03293108265000512791"
     },
     "user_tz": -330
    },
    "id": "AmpKCcfrDh1L"
   },
   "outputs": [],
   "source": [
    "person = {'name': 'Dinesh', 45: 'age', 45800.67: 'salary', True: 'married', ('BE', 'MSc') : 'qualification'}"
   ]
  },
  {
   "cell_type": "code",
   "execution_count": 19,
   "id": "37aad427",
   "metadata": {
    "colab": {
     "base_uri": "https://localhost:8080/"
    },
    "collapsed": true,
    "executionInfo": {
     "elapsed": 8,
     "status": "ok",
     "timestamp": 1702651620781,
     "user": {
      "displayName": "Dawit Hadush",
      "userId": "03293108265000512791"
     },
     "user_tz": -330
    },
    "id": "0rSxseDrCn7j",
    "outputId": "99adcb36-cfd1-499d-c16e-0312e62fa823"
   },
   "outputs": [
    {
     "data": {
      "text/plain": [
       "{'name': 'Dinesh',\n",
       " 45: 'age',\n",
       " 45800.67: 'salary',\n",
       " True: 'married',\n",
       " ('BE', 'MSc'): 'qualification'}"
      ]
     },
     "execution_count": 19,
     "metadata": {},
     "output_type": "execute_result"
    }
   ],
   "source": [
    "person"
   ]
  },
  {
   "cell_type": "code",
   "execution_count": 21,
   "id": "a48d3cfa",
   "metadata": {},
   "outputs": [
    {
     "ename": "TypeError",
     "evalue": "unhashable type: 'list'",
     "output_type": "error",
     "traceback": [
      "\u001b[0;31m---------------------------------------------------------------------------\u001b[0m",
      "\u001b[0;31mTypeError\u001b[0m                                 Traceback (most recent call last)",
      "\u001b[0;32m<ipython-input-21-6f09a0fbeff5>\u001b[0m in \u001b[0;36m<module>\u001b[0;34m\u001b[0m\n\u001b[0;32m----> 1\u001b[0;31m \u001b[0mperson\u001b[0m \u001b[0;34m=\u001b[0m \u001b[0;34m{\u001b[0m\u001b[0;34m'name'\u001b[0m\u001b[0;34m:\u001b[0m \u001b[0;34m'Dinesh'\u001b[0m\u001b[0;34m,\u001b[0m \u001b[0;34m'age'\u001b[0m\u001b[0;34m:\u001b[0m \u001b[0;36m45\u001b[0m\u001b[0;34m,\u001b[0m \u001b[0;34m'married'\u001b[0m\u001b[0;34m:\u001b[0m \u001b[0;32mTrue\u001b[0m\u001b[0;34m,\u001b[0m \u001b[0;34m[\u001b[0m\u001b[0;34m'BE'\u001b[0m\u001b[0;34m,\u001b[0m \u001b[0;34m'MSc'\u001b[0m\u001b[0;34m]\u001b[0m \u001b[0;34m:\u001b[0m \u001b[0;34m'qualification'\u001b[0m\u001b[0;34m}\u001b[0m\u001b[0;34m\u001b[0m\u001b[0;34m\u001b[0m\u001b[0m\n\u001b[0m",
      "\u001b[0;31mTypeError\u001b[0m: unhashable type: 'list'"
     ]
    }
   ],
   "source": [
    "person = {'name': 'Dinesh', 'age': 45, 'married': True, ['BE', 'MSc'] : 'qualification'}"
   ]
  },
  {
   "cell_type": "code",
   "execution_count": 22,
   "id": "5a5d5e39",
   "metadata": {
    "collapsed": true
   },
   "outputs": [
    {
     "ename": "TypeError",
     "evalue": "unhashable type: 'set'",
     "output_type": "error",
     "traceback": [
      "\u001b[0;31m---------------------------------------------------------------------------\u001b[0m",
      "\u001b[0;31mTypeError\u001b[0m                                 Traceback (most recent call last)",
      "\u001b[0;32m<ipython-input-22-c78dadc8a1a0>\u001b[0m in \u001b[0;36m<module>\u001b[0;34m\u001b[0m\n\u001b[0;32m----> 1\u001b[0;31m \u001b[0mperson\u001b[0m \u001b[0;34m=\u001b[0m \u001b[0;34m{\u001b[0m\u001b[0;34m'name'\u001b[0m\u001b[0;34m:\u001b[0m \u001b[0;34m'Dinesh'\u001b[0m\u001b[0;34m,\u001b[0m \u001b[0;34m'age'\u001b[0m\u001b[0;34m:\u001b[0m \u001b[0;36m45\u001b[0m\u001b[0;34m,\u001b[0m \u001b[0;34m'married'\u001b[0m\u001b[0;34m:\u001b[0m \u001b[0;32mTrue\u001b[0m\u001b[0;34m,\u001b[0m \u001b[0;34m{\u001b[0m\u001b[0;34m'BE'\u001b[0m\u001b[0;34m,\u001b[0m \u001b[0;34m'MSc'\u001b[0m\u001b[0;34m}\u001b[0m \u001b[0;34m:\u001b[0m \u001b[0;34m'qualification'\u001b[0m\u001b[0;34m}\u001b[0m\u001b[0;34m\u001b[0m\u001b[0;34m\u001b[0m\u001b[0m\n\u001b[0m",
      "\u001b[0;31mTypeError\u001b[0m: unhashable type: 'set'"
     ]
    }
   ],
   "source": [
    "person = {'name': 'Dinesh', 'age': 45, 'married': True, {'BE', 'MSc'} : 'qualification'}"
   ]
  },
  {
   "cell_type": "markdown",
   "id": "a6881c8c",
   "metadata": {
    "id": "QjKpDvD360Ra"
   },
   "source": [
    "### Example\n",
    "Duplicates in dictionaries"
   ]
  },
  {
   "cell_type": "code",
   "execution_count": 23,
   "id": "d79b3d99",
   "metadata": {
    "executionInfo": {
     "elapsed": 103,
     "status": "ok",
     "timestamp": 1702651622699,
     "user": {
      "displayName": "Dawit Hadush",
      "userId": "03293108265000512791"
     },
     "user_tz": -330
    },
    "id": "QMZ5QHbqL-6q"
   },
   "outputs": [],
   "source": [
    "person = {'name': 'Dinesh', 'age': 30, 'married': True, 'age': 35,\"age\":45}"
   ]
  },
  {
   "cell_type": "code",
   "execution_count": 24,
   "id": "f0e6c6bb",
   "metadata": {},
   "outputs": [
    {
     "data": {
      "text/plain": [
       "{'name': 'Dinesh', 'age': 45, 'married': True}"
      ]
     },
     "execution_count": 24,
     "metadata": {},
     "output_type": "execute_result"
    }
   ],
   "source": [
    "person"
   ]
  },
  {
   "cell_type": "markdown",
   "id": "22396ed8",
   "metadata": {
    "id": "rsqwqAfdV0kd"
   },
   "source": [
    "### Example\n",
    "Creating nested dictionaries"
   ]
  },
  {
   "cell_type": "code",
   "execution_count": 25,
   "id": "5f61f05a",
   "metadata": {
    "executionInfo": {
     "elapsed": 87,
     "status": "ok",
     "timestamp": 1702651622704,
     "user": {
      "displayName": "Dawit Hadush",
      "userId": "03293108265000512791"
     },
     "user_tz": -330
    },
    "id": "gNGdBWlZGrjC"
   },
   "outputs": [],
   "source": [
    "nested_dict = {'dict_1': {'a': 5}, 'dict_2': {'b': 10}}"
   ]
  },
  {
   "cell_type": "code",
   "execution_count": 26,
   "id": "7b1095ee",
   "metadata": {
    "colab": {
     "base_uri": "https://localhost:8080/"
    },
    "executionInfo": {
     "elapsed": 87,
     "status": "ok",
     "timestamp": 1702651622704,
     "user": {
      "displayName": "Dawit Hadush",
      "userId": "03293108265000512791"
     },
     "user_tz": -330
    },
    "id": "bN3KhQJFHD0Z",
    "outputId": "a4ed22d6-361f-4c72-b2bb-92e6d21e67ea"
   },
   "outputs": [
    {
     "data": {
      "text/plain": [
       "{'dict_1': {'a': 5}, 'dict_2': {'b': 10}}"
      ]
     },
     "execution_count": 26,
     "metadata": {},
     "output_type": "execute_result"
    }
   ],
   "source": [
    "nested_dict"
   ]
  },
  {
   "cell_type": "code",
   "execution_count": 27,
   "id": "21a86738",
   "metadata": {
    "colab": {
     "base_uri": "https://localhost:8080/"
    },
    "executionInfo": {
     "elapsed": 87,
     "status": "ok",
     "timestamp": 1702651622705,
     "user": {
      "displayName": "Dawit Hadush",
      "userId": "03293108265000512791"
     },
     "user_tz": -330
    },
    "id": "gYe4iXqZHFC8",
    "outputId": "30e8d1c0-6ee5-4a7b-a1a1-b9ec0a2bae56"
   },
   "outputs": [
    {
     "data": {
      "text/plain": [
       "dict"
      ]
     },
     "execution_count": 27,
     "metadata": {},
     "output_type": "execute_result"
    }
   ],
   "source": [
    "type(nested_dict)"
   ]
  },
  {
   "cell_type": "markdown",
   "id": "b7b90971",
   "metadata": {
    "id": "u5BwPXGU-sBb"
   },
   "source": [
    "# Accessing dictionary elements"
   ]
  },
  {
   "cell_type": "markdown",
   "id": "fe0c420a",
   "metadata": {
    "id": "ajIuiy9g-utT"
   },
   "source": [
    "### Example\n",
    "Accessing specific values from dictionaries"
   ]
  },
  {
   "cell_type": "code",
   "execution_count": 28,
   "id": "4a2f2fcb",
   "metadata": {
    "executionInfo": {
     "elapsed": 85,
     "status": "ok",
     "timestamp": 1702651622706,
     "user": {
      "displayName": "Dawit Hadush",
      "userId": "03293108265000512791"
     },
     "user_tz": -330
    },
    "id": "ih9VawEzSqMq"
   },
   "outputs": [],
   "source": [
    "person = {'first_name': 'Diya', 'last_name': 'Kumar', 'age': 30, 'gender': 'F', 'phone': 87387190, \n",
    "          'is_employed': True}"
   ]
  },
  {
   "cell_type": "code",
   "execution_count": 29,
   "id": "76d6adc1",
   "metadata": {
    "colab": {
     "base_uri": "https://localhost:8080/",
     "height": 0
    },
    "executionInfo": {
     "elapsed": 84,
     "status": "ok",
     "timestamp": 1702651622706,
     "user": {
      "displayName": "Dawit Hadush",
      "userId": "03293108265000512791"
     },
     "user_tz": -330
    },
    "id": "3Pgvn6aYLODP",
    "outputId": "b9e58306-0ffc-4544-e9c0-09abbc051f92"
   },
   "outputs": [
    {
     "data": {
      "text/plain": [
       "'Diya'"
      ]
     },
     "execution_count": 29,
     "metadata": {},
     "output_type": "execute_result"
    }
   ],
   "source": [
    "person['first_name']"
   ]
  },
  {
   "cell_type": "code",
   "execution_count": 30,
   "id": "819b6bec",
   "metadata": {},
   "outputs": [
    {
     "data": {
      "text/plain": [
       "True"
      ]
     },
     "execution_count": 30,
     "metadata": {},
     "output_type": "execute_result"
    }
   ],
   "source": [
    "person['is_employed']"
   ]
  },
  {
   "cell_type": "code",
   "execution_count": 31,
   "id": "876ef06e",
   "metadata": {},
   "outputs": [
    {
     "data": {
      "text/plain": [
       "'Kumar'"
      ]
     },
     "execution_count": 31,
     "metadata": {},
     "output_type": "execute_result"
    }
   ],
   "source": [
    "person['last_name']"
   ]
  },
  {
   "cell_type": "code",
   "execution_count": 32,
   "id": "6291508f",
   "metadata": {},
   "outputs": [
    {
     "data": {
      "text/plain": [
       "'F'"
      ]
     },
     "execution_count": 32,
     "metadata": {},
     "output_type": "execute_result"
    }
   ],
   "source": [
    "person['gender']"
   ]
  },
  {
   "cell_type": "code",
   "execution_count": 33,
   "id": "9291c18e",
   "metadata": {},
   "outputs": [
    {
     "ename": "KeyError",
     "evalue": "'address'",
     "output_type": "error",
     "traceback": [
      "\u001b[0;31m---------------------------------------------------------------------------\u001b[0m",
      "\u001b[0;31mKeyError\u001b[0m                                  Traceback (most recent call last)",
      "\u001b[0;32m<ipython-input-33-ce912b0ff0d6>\u001b[0m in \u001b[0;36m<module>\u001b[0;34m\u001b[0m\n\u001b[0;32m----> 1\u001b[0;31m \u001b[0mperson\u001b[0m\u001b[0;34m[\u001b[0m\u001b[0;34m'address'\u001b[0m\u001b[0;34m]\u001b[0m\u001b[0;34m\u001b[0m\u001b[0;34m\u001b[0m\u001b[0m\n\u001b[0m",
      "\u001b[0;31mKeyError\u001b[0m: 'address'"
     ]
    }
   ],
   "source": [
    "person['address']"
   ]
  },
  {
   "cell_type": "code",
   "execution_count": 34,
   "id": "50df6a35",
   "metadata": {},
   "outputs": [
    {
     "data": {
      "text/plain": [
       "'Diya'"
      ]
     },
     "execution_count": 34,
     "metadata": {},
     "output_type": "execute_result"
    }
   ],
   "source": [
    "person = {'first_name': 'Diya', 'last_name': 'Kumar', 'age': 30, 'gender': 'F', 'phone': 87387190, 'is_employed': True}\n",
    "person['first_name']"
   ]
  },
  {
   "cell_type": "code",
   "execution_count": 35,
   "id": "6d4deeb6",
   "metadata": {},
   "outputs": [
    {
     "data": {
      "text/plain": [
       "dict_keys(['first_name', 'last_name', 'age', 'gender', 'phone', 'is_employed'])"
      ]
     },
     "execution_count": 35,
     "metadata": {},
     "output_type": "execute_result"
    }
   ],
   "source": [
    "person.keys()"
   ]
  },
  {
   "cell_type": "code",
   "execution_count": 36,
   "id": "ac82c002",
   "metadata": {},
   "outputs": [
    {
     "data": {
      "text/plain": [
       "dict_values(['Diya', 'Kumar', 30, 'F', 87387190, True])"
      ]
     },
     "execution_count": 36,
     "metadata": {},
     "output_type": "execute_result"
    }
   ],
   "source": [
    "person.values()"
   ]
  },
  {
   "cell_type": "markdown",
   "id": "c4aafe5e",
   "metadata": {
    "id": "ffPKjWcK-ztF"
   },
   "source": [
    "### Example\n",
    "Accessing a value safely using the `get` method"
   ]
  },
  {
   "cell_type": "code",
   "execution_count": 37,
   "id": "1b9fe00a",
   "metadata": {
    "colab": {
     "base_uri": "https://localhost:8080/",
     "height": 0
    },
    "executionInfo": {
     "elapsed": 83,
     "status": "ok",
     "timestamp": 1702651622706,
     "user": {
      "displayName": "Dawit Hadush",
      "userId": "03293108265000512791"
     },
     "user_tz": -330
    },
    "id": "TTMIJB2Qcrku",
    "outputId": "b71bc1a3-9ec0-4955-db17-9d5256adfcf2"
   },
   "outputs": [
    {
     "data": {
      "text/plain": [
       "'Diya'"
      ]
     },
     "execution_count": 37,
     "metadata": {},
     "output_type": "execute_result"
    }
   ],
   "source": [
    "person.get('first_name')"
   ]
  },
  {
   "cell_type": "code",
   "execution_count": 38,
   "id": "c758fa01",
   "metadata": {},
   "outputs": [],
   "source": [
    "person.get('address')"
   ]
  },
  {
   "cell_type": "code",
   "execution_count": 41,
   "id": "d54bdb03",
   "metadata": {
    "colab": {
     "base_uri": "https://localhost:8080/",
     "height": 0
    },
    "executionInfo": {
     "elapsed": 83,
     "status": "ok",
     "timestamp": 1702651622706,
     "user": {
      "displayName": "Dawit Hadush",
      "userId": "03293108265000512791"
     },
     "user_tz": -330
    },
    "id": "kwdJqVLnsV5b",
    "outputId": "9d9b8354-e6dd-49c6-98c3-eb2efe32f658"
   },
   "outputs": [
    {
     "data": {
      "text/plain": [
       "'this key does not exist'"
      ]
     },
     "execution_count": 41,
     "metadata": {},
     "output_type": "execute_result"
    }
   ],
   "source": [
    "person.get('address', 'this key does not exist')"
   ]
  },
  {
   "cell_type": "code",
   "execution_count": 42,
   "id": "67db49d2",
   "metadata": {
    "executionInfo": {
     "elapsed": 83,
     "status": "ok",
     "timestamp": 1702651622707,
     "user": {
      "displayName": "Dawit Hadush",
      "userId": "03293108265000512791"
     },
     "user_tz": -330
    },
    "id": "1DGdlUxEcpo_"
   },
   "outputs": [],
   "source": [
    "person.get('is_married')"
   ]
  },
  {
   "cell_type": "code",
   "execution_count": 43,
   "id": "c6fa81c5",
   "metadata": {
    "colab": {
     "base_uri": "https://localhost:8080/",
     "height": 0
    },
    "executionInfo": {
     "elapsed": 83,
     "status": "ok",
     "timestamp": 1702651622707,
     "user": {
      "displayName": "Dawit Hadush",
      "userId": "03293108265000512791"
     },
     "user_tz": -330
    },
    "id": "Ks2_dr8FcFjW",
    "outputId": "e2ef2497-2558-429e-e97e-dac1696437e1"
   },
   "outputs": [
    {
     "data": {
      "text/plain": [
       "'No marriage inforamtion available'"
      ]
     },
     "execution_count": 43,
     "metadata": {},
     "output_type": "execute_result"
    }
   ],
   "source": [
    "person.get('is_married', 'No marriage inforamtion available')"
   ]
  },
  {
   "cell_type": "markdown",
   "id": "80359217",
   "metadata": {
    "id": "RHyjOP_j-zlA"
   },
   "source": [
    "### Example\n",
    "Accessing values in nested dictionaries"
   ]
  },
  {
   "cell_type": "code",
   "execution_count": 44,
   "id": "e0329f73",
   "metadata": {
    "executionInfo": {
     "elapsed": 82,
     "status": "ok",
     "timestamp": 1702651622707,
     "user": {
      "displayName": "Dawit Hadush",
      "userId": "03293108265000512791"
     },
     "user_tz": -330
    },
    "id": "Jh6L8MqqQrx6"
   },
   "outputs": [],
   "source": [
    "nested_person = {'first_name': 'Gopal',\n",
    "                 'last_name': 'Verma',\n",
    "                 'age': 30,\n",
    "                 'gender': 'Male',\n",
    "                 'address': {'street': '2nd Main Road',\n",
    "                             'city': 'Bengaluru',\n",
    "                             'state': 'Karnataka',\n",
    "                             'zip_code': 56873},\n",
    "                 'email': 'gopalverma@upgradlearn.com',\n",
    "                 'phone': 21218765,\n",
    "                 'is_employed': True}"
   ]
  },
  {
   "cell_type": "code",
   "execution_count": 48,
   "id": "7e6c45b6",
   "metadata": {
    "colab": {
     "base_uri": "https://localhost:8080/"
    },
    "executionInfo": {
     "elapsed": 82,
     "status": "ok",
     "timestamp": 1702651622707,
     "user": {
      "displayName": "Dawit Hadush",
      "userId": "03293108265000512791"
     },
     "user_tz": -330
    },
    "id": "Z5E0b2qkU3D3",
    "outputId": "0764b00e-6e04-48b4-85a5-e764ea8dfa93"
   },
   "outputs": [
    {
     "data": {
      "text/plain": [
       "'Karnataka'"
      ]
     },
     "execution_count": 48,
     "metadata": {},
     "output_type": "execute_result"
    }
   ],
   "source": [
    "nested_person[\"address\"][\"state\"]"
   ]
  },
  {
   "cell_type": "code",
   "execution_count": 49,
   "id": "870501a4",
   "metadata": {
    "colab": {
     "base_uri": "https://localhost:8080/",
     "height": 0
    },
    "executionInfo": {
     "elapsed": 81,
     "status": "ok",
     "timestamp": 1702651622707,
     "user": {
      "displayName": "Dawit Hadush",
      "userId": "03293108265000512791"
     },
     "user_tz": -330
    },
    "id": "jajINQP_ha_I",
    "outputId": "a5c4f575-c178-4ae9-aa5a-15918d077054"
   },
   "outputs": [
    {
     "data": {
      "text/plain": [
       "'2nd Main Road'"
      ]
     },
     "execution_count": 49,
     "metadata": {},
     "output_type": "execute_result"
    }
   ],
   "source": [
    "nested_person['address']['street']"
   ]
  },
  {
   "cell_type": "code",
   "execution_count": 50,
   "id": "7f89b031",
   "metadata": {
    "colab": {
     "base_uri": "https://localhost:8080/",
     "height": 0
    },
    "executionInfo": {
     "elapsed": 80,
     "status": "ok",
     "timestamp": 1702651622707,
     "user": {
      "displayName": "Dawit Hadush",
      "userId": "03293108265000512791"
     },
     "user_tz": -330
    },
    "id": "0nmIjbtFT0OY",
    "outputId": "3deb163f-dc8d-4691-ebec-bd4a21b797ea"
   },
   "outputs": [
    {
     "data": {
      "text/plain": [
       "'Bengaluru'"
      ]
     },
     "execution_count": 50,
     "metadata": {},
     "output_type": "execute_result"
    }
   ],
   "source": [
    "nested_person['address']['city']"
   ]
  },
  {
   "cell_type": "code",
   "execution_count": 51,
   "id": "7c619168",
   "metadata": {},
   "outputs": [
    {
     "data": {
      "text/plain": [
       "{'street': '2nd Main Road',\n",
       " 'city': 'Bengaluru',\n",
       " 'state': 'Karnataka',\n",
       " 'zip_code': 56873}"
      ]
     },
     "execution_count": 51,
     "metadata": {},
     "output_type": "execute_result"
    }
   ],
   "source": [
    "nested_person.get('address', 'Address is not available')"
   ]
  },
  {
   "cell_type": "code",
   "execution_count": 52,
   "id": "51f20aae",
   "metadata": {},
   "outputs": [
    {
     "data": {
      "text/plain": [
       "'Karnataka'"
      ]
     },
     "execution_count": 52,
     "metadata": {},
     "output_type": "execute_result"
    }
   ],
   "source": [
    "nested_person['address'].get('state')"
   ]
  },
  {
   "cell_type": "markdown",
   "id": "640228c0",
   "metadata": {
    "id": "w6tLleXMXkuz"
   },
   "source": [
    "# Operations on dictionaries - getting information about dictionaries"
   ]
  },
  {
   "cell_type": "markdown",
   "id": "585d24b8",
   "metadata": {
    "id": "od3Gfq5B-9HO"
   },
   "source": [
    "### Example\n",
    "Finding the length of a dictionary"
   ]
  },
  {
   "cell_type": "code",
   "execution_count": 55,
   "id": "0e53511d",
   "metadata": {
    "executionInfo": {
     "elapsed": 70,
     "status": "ok",
     "timestamp": 1702651622709,
     "user": {
      "displayName": "Dawit Hadush",
      "userId": "03293108265000512791"
     },
     "user_tz": -330
    },
    "id": "46Qh6_DlNrqG"
   },
   "outputs": [],
   "source": [
    "person = {'name': 'Dinesh', 'age': 45, 'salary': 45800.67, 'married': True, 'qualification': ('BE', 'MSc')}"
   ]
  },
  {
   "cell_type": "code",
   "execution_count": 56,
   "id": "0f58f288",
   "metadata": {
    "colab": {
     "base_uri": "https://localhost:8080/"
    },
    "executionInfo": {
     "elapsed": 70,
     "status": "ok",
     "timestamp": 1702651622709,
     "user": {
      "displayName": "Dawit Hadush",
      "userId": "03293108265000512791"
     },
     "user_tz": -330
    },
    "id": "2rIydOc1QHBc",
    "outputId": "4747b7e3-fd8f-4cdb-95f5-5c0785b5d248"
   },
   "outputs": [
    {
     "data": {
      "text/plain": [
       "5"
      ]
     },
     "execution_count": 56,
     "metadata": {},
     "output_type": "execute_result"
    }
   ],
   "source": [
    "len(person)"
   ]
  },
  {
   "cell_type": "code",
   "execution_count": 57,
   "id": "2dbd60ba",
   "metadata": {
    "executionInfo": {
     "elapsed": 70,
     "status": "ok",
     "timestamp": 1702651622709,
     "user": {
      "displayName": "Dawit Hadush",
      "userId": "03293108265000512791"
     },
     "user_tz": -330
    },
    "id": "yi8SxNZoeupP"
   },
   "outputs": [],
   "source": [
    "nested_person = {'first_name': 'Gopal',\n",
    "                 'last_name': 'Verma',\n",
    "                 'age': 30,\n",
    "                 'gender': 'Male',\n",
    "                 'address': {'street': '2nd Main Road',\n",
    "                             'city': 'Bengaluru',\n",
    "                             'state': 'Karnataka',\n",
    "                             'zip_code': 56873},\n",
    "                 'email': 'gopalverma@upgradlearn.com',\n",
    "                 'phone': 21218765,\n",
    "                 'is_employed': True}"
   ]
  },
  {
   "cell_type": "code",
   "execution_count": 58,
   "id": "28f13c06",
   "metadata": {
    "colab": {
     "base_uri": "https://localhost:8080/"
    },
    "executionInfo": {
     "elapsed": 70,
     "status": "ok",
     "timestamp": 1702651622709,
     "user": {
      "displayName": "Dawit Hadush",
      "userId": "03293108265000512791"
     },
     "user_tz": -330
    },
    "id": "obYCAXtZe-q2",
    "outputId": "57468b2d-3a51-44f0-e50f-3e7d7ae93654"
   },
   "outputs": [
    {
     "data": {
      "text/plain": [
       "8"
      ]
     },
     "execution_count": 58,
     "metadata": {},
     "output_type": "execute_result"
    }
   ],
   "source": [
    "len(nested_person)"
   ]
  },
  {
   "cell_type": "code",
   "execution_count": 59,
   "id": "3ff10dc7",
   "metadata": {
    "colab": {
     "base_uri": "https://localhost:8080/"
    },
    "executionInfo": {
     "elapsed": 69,
     "status": "ok",
     "timestamp": 1702651622709,
     "user": {
      "displayName": "Dawit Hadush",
      "userId": "03293108265000512791"
     },
     "user_tz": -330
    },
    "id": "0LoDhTbpfIOZ",
    "outputId": "5f903fcf-bfa3-4874-ba18-6a1f3f5fbb76"
   },
   "outputs": [
    {
     "data": {
      "text/plain": [
       "4"
      ]
     },
     "execution_count": 59,
     "metadata": {},
     "output_type": "execute_result"
    }
   ],
   "source": [
    "len(nested_person['address'])"
   ]
  },
  {
   "cell_type": "code",
   "execution_count": 60,
   "id": "a73f5a18",
   "metadata": {},
   "outputs": [
    {
     "data": {
      "text/plain": [
       "9"
      ]
     },
     "execution_count": 60,
     "metadata": {},
     "output_type": "execute_result"
    }
   ],
   "source": [
    "len(nested_person['address'][\"city\"])"
   ]
  },
  {
   "cell_type": "markdown",
   "id": "fe5abc61",
   "metadata": {
    "id": "EacZlcI-QNNx"
   },
   "source": [
    "### Example\n",
    "Retrieving keys"
   ]
  },
  {
   "cell_type": "code",
   "execution_count": 61,
   "id": "1d21a120",
   "metadata": {},
   "outputs": [],
   "source": [
    "person = {'name': 'Dinesh', 'age': 45, 'salary': 45800.67, 'married': True, 'qualification': ('BE', 'MSc')}"
   ]
  },
  {
   "cell_type": "code",
   "execution_count": 62,
   "id": "3f19de54",
   "metadata": {
    "colab": {
     "base_uri": "https://localhost:8080/"
    },
    "collapsed": true,
    "executionInfo": {
     "elapsed": 70,
     "status": "ok",
     "timestamp": 1702651622710,
     "user": {
      "displayName": "Dawit Hadush",
      "userId": "03293108265000512791"
     },
     "user_tz": -330
    },
    "id": "IMtM1ToWQa6b",
    "outputId": "a81caf67-dbd6-4634-d2d9-e307315571d7"
   },
   "outputs": [
    {
     "data": {
      "text/plain": [
       "{'name': 'Dinesh',\n",
       " 'age': 45,\n",
       " 'salary': 45800.67,\n",
       " 'married': True,\n",
       " 'qualification': ('BE', 'MSc')}"
      ]
     },
     "execution_count": 62,
     "metadata": {},
     "output_type": "execute_result"
    }
   ],
   "source": [
    "person"
   ]
  },
  {
   "cell_type": "code",
   "execution_count": 63,
   "id": "8e002610",
   "metadata": {
    "colab": {
     "base_uri": "https://localhost:8080/"
    },
    "executionInfo": {
     "elapsed": 69,
     "status": "ok",
     "timestamp": 1702651622710,
     "user": {
      "displayName": "Dawit Hadush",
      "userId": "03293108265000512791"
     },
     "user_tz": -330
    },
    "id": "dclBUHUQQKSO",
    "outputId": "46a2d0a3-1285-4418-bacb-2d29d0161cc9"
   },
   "outputs": [
    {
     "data": {
      "text/plain": [
       "dict_keys(['name', 'age', 'salary', 'married', 'qualification'])"
      ]
     },
     "execution_count": 63,
     "metadata": {},
     "output_type": "execute_result"
    }
   ],
   "source": [
    "person.keys()"
   ]
  },
  {
   "cell_type": "markdown",
   "id": "dde72486",
   "metadata": {
    "id": "xUixc2UQQeiq"
   },
   "source": [
    "### Example\n",
    "Retrieving values"
   ]
  },
  {
   "cell_type": "code",
   "execution_count": 64,
   "id": "8f812c36",
   "metadata": {
    "colab": {
     "base_uri": "https://localhost:8080/"
    },
    "executionInfo": {
     "elapsed": 69,
     "status": "ok",
     "timestamp": 1702651622710,
     "user": {
      "displayName": "Dawit Hadush",
      "userId": "03293108265000512791"
     },
     "user_tz": -330
    },
    "id": "sgYlvgKDQaXr",
    "outputId": "f06cbd4b-7df9-4145-d151-d62228bae382"
   },
   "outputs": [
    {
     "data": {
      "text/plain": [
       "dict_values(['Dinesh', 45, 45800.67, True, ('BE', 'MSc')])"
      ]
     },
     "execution_count": 64,
     "metadata": {},
     "output_type": "execute_result"
    }
   ],
   "source": [
    "person.values()"
   ]
  },
  {
   "cell_type": "markdown",
   "id": "37cf6d21",
   "metadata": {
    "id": "Ux5MRmsAQrSn"
   },
   "source": [
    "### Example\n",
    "Retrieving key-value pairs"
   ]
  },
  {
   "cell_type": "code",
   "execution_count": 65,
   "id": "f54cf388",
   "metadata": {},
   "outputs": [
    {
     "data": {
      "text/plain": [
       "dict_items([('name', 'Dinesh'), ('age', 45), ('salary', 45800.67), ('married', True), ('qualification', ('BE', 'MSc'))])"
      ]
     },
     "execution_count": 65,
     "metadata": {},
     "output_type": "execute_result"
    }
   ],
   "source": [
    "person.items()"
   ]
  },
  {
   "cell_type": "markdown",
   "id": "10082dd3",
   "metadata": {
    "id": "jkTLPb0ekGwI"
   },
   "source": [
    "# Operations on dictionaries - manipulating dictionaries"
   ]
  },
  {
   "cell_type": "markdown",
   "id": "7b5c4fef",
   "metadata": {
    "id": "hO44lxNaMes4"
   },
   "source": [
    "### Example\n",
    "Adding new key-value pairs to a dictionaries"
   ]
  },
  {
   "cell_type": "code",
   "execution_count": 66,
   "id": "d85e6a15",
   "metadata": {},
   "outputs": [],
   "source": [
    "person = {'name': 'Dinesh', 'age': 45, 'salary': 45800.67, 'married': True, 'qualification': ('BE', 'MSc')}"
   ]
  },
  {
   "cell_type": "code",
   "execution_count": 67,
   "id": "6275914d",
   "metadata": {
    "colab": {
     "base_uri": "https://localhost:8080/"
    },
    "collapsed": true,
    "executionInfo": {
     "elapsed": 56,
     "status": "ok",
     "timestamp": 1702651622715,
     "user": {
      "displayName": "Dawit Hadush",
      "userId": "03293108265000512791"
     },
     "user_tz": -330
    },
    "id": "iilBCaurvk-s",
    "outputId": "158c0303-e93e-4bec-ac57-b0721c2f2b10"
   },
   "outputs": [
    {
     "data": {
      "text/plain": [
       "{'name': 'Dinesh',\n",
       " 'age': 45,\n",
       " 'salary': 45800.67,\n",
       " 'married': True,\n",
       " 'qualification': ('BE', 'MSc')}"
      ]
     },
     "execution_count": 67,
     "metadata": {},
     "output_type": "execute_result"
    }
   ],
   "source": [
    "person"
   ]
  },
  {
   "cell_type": "code",
   "execution_count": 68,
   "id": "fde0fc95",
   "metadata": {
    "executionInfo": {
     "elapsed": 1755,
     "status": "ok",
     "timestamp": 1702651624414,
     "user": {
      "displayName": "Dawit Hadush",
      "userId": "03293108265000512791"
     },
     "user_tz": -330
    },
    "id": "OADFzZ0Tl4uz"
   },
   "outputs": [],
   "source": [
    "person['gender'] = 'M'"
   ]
  },
  {
   "cell_type": "code",
   "execution_count": 69,
   "id": "1ba1e9a7",
   "metadata": {},
   "outputs": [
    {
     "data": {
      "text/plain": [
       "{'name': 'Dinesh',\n",
       " 'age': 45,\n",
       " 'salary': 45800.67,\n",
       " 'married': True,\n",
       " 'qualification': ('BE', 'MSc'),\n",
       " 'gender': 'M'}"
      ]
     },
     "execution_count": 69,
     "metadata": {},
     "output_type": "execute_result"
    }
   ],
   "source": [
    "person"
   ]
  },
  {
   "cell_type": "code",
   "execution_count": 70,
   "id": "4e87c167",
   "metadata": {
    "executionInfo": {
     "elapsed": 66,
     "status": "ok",
     "timestamp": 1702651624416,
     "user": {
      "displayName": "Dawit Hadush",
      "userId": "03293108265000512791"
     },
     "user_tz": -330
    },
    "id": "b0bK4Q9OBj9k"
   },
   "outputs": [],
   "source": [
    "person['city'] = 'Pune'"
   ]
  },
  {
   "cell_type": "code",
   "execution_count": 71,
   "id": "ecbc2782",
   "metadata": {
    "colab": {
     "base_uri": "https://localhost:8080/"
    },
    "collapsed": true,
    "executionInfo": {
     "elapsed": 66,
     "status": "ok",
     "timestamp": 1702651624417,
     "user": {
      "displayName": "Dawit Hadush",
      "userId": "03293108265000512791"
     },
     "user_tz": -330
    },
    "id": "AuPjAxl3BqjK",
    "outputId": "e07cc9fd-368c-4b26-976c-297959179d61"
   },
   "outputs": [
    {
     "data": {
      "text/plain": [
       "{'name': 'Dinesh',\n",
       " 'age': 45,\n",
       " 'salary': 45800.67,\n",
       " 'married': True,\n",
       " 'qualification': ('BE', 'MSc'),\n",
       " 'gender': 'M',\n",
       " 'city': 'Pune'}"
      ]
     },
     "execution_count": 71,
     "metadata": {},
     "output_type": "execute_result"
    }
   ],
   "source": [
    "person"
   ]
  },
  {
   "cell_type": "code",
   "execution_count": 72,
   "id": "a7c205f1",
   "metadata": {},
   "outputs": [],
   "source": [
    "person[\"nested_example\"]={\"a\":1,\"b\":2}"
   ]
  },
  {
   "cell_type": "code",
   "execution_count": 73,
   "id": "2956e1bc",
   "metadata": {
    "collapsed": true
   },
   "outputs": [
    {
     "data": {
      "text/plain": [
       "{'name': 'Dinesh',\n",
       " 'age': 45,\n",
       " 'salary': 45800.67,\n",
       " 'married': True,\n",
       " 'qualification': ('BE', 'MSc'),\n",
       " 'gender': 'M',\n",
       " 'city': 'Pune',\n",
       " 'nested_example': {'a': 1, 'b': 2}}"
      ]
     },
     "execution_count": 73,
     "metadata": {},
     "output_type": "execute_result"
    }
   ],
   "source": [
    "person"
   ]
  },
  {
   "cell_type": "code",
   "execution_count": 74,
   "id": "854fc338",
   "metadata": {},
   "outputs": [],
   "source": [
    "person.update({'state':'Maharastra'})"
   ]
  },
  {
   "cell_type": "code",
   "execution_count": 75,
   "id": "c5e715af",
   "metadata": {
    "collapsed": true
   },
   "outputs": [
    {
     "data": {
      "text/plain": [
       "{'name': 'Dinesh',\n",
       " 'age': 45,\n",
       " 'salary': 45800.67,\n",
       " 'married': True,\n",
       " 'qualification': ('BE', 'MSc'),\n",
       " 'gender': 'M',\n",
       " 'city': 'Pune',\n",
       " 'nested_example': {'a': 1, 'b': 2},\n",
       " 'state': 'Maharastra'}"
      ]
     },
     "execution_count": 75,
     "metadata": {},
     "output_type": "execute_result"
    }
   ],
   "source": [
    "person"
   ]
  },
  {
   "cell_type": "markdown",
   "id": "8274ff50",
   "metadata": {
    "id": "W4ScoZndXXhn"
   },
   "source": [
    "### Example\n",
    "Deleting an element at a specific position"
   ]
  },
  {
   "cell_type": "code",
   "execution_count": 76,
   "id": "2e812d53",
   "metadata": {},
   "outputs": [],
   "source": [
    "temp_person = {'name': 'Dinesh', 'age': 45, 'salary': 45800.67, 'married': True, 'qualification': ('BE', 'MSc')}"
   ]
  },
  {
   "cell_type": "code",
   "execution_count": 84,
   "id": "83ebcc23",
   "metadata": {
    "colab": {
     "base_uri": "https://localhost:8080/"
    },
    "collapsed": true,
    "executionInfo": {
     "elapsed": 61,
     "status": "ok",
     "timestamp": 1702651624420,
     "user": {
      "displayName": "Dawit Hadush",
      "userId": "03293108265000512791"
     },
     "user_tz": -330
    },
    "id": "3hSeQ_W6S5Rc",
    "outputId": "46cc1b9a-42a4-4450-f716-a2a3d947fa68"
   },
   "outputs": [
    {
     "data": {
      "text/plain": [
       "{'name': 'Dinesh',\n",
       " 'age': 45,\n",
       " 'salary': 45800.67,\n",
       " 'married': True,\n",
       " 'qualification': ('BE', 'MSc')}"
      ]
     },
     "execution_count": 84,
     "metadata": {},
     "output_type": "execute_result"
    }
   ],
   "source": [
    "temp_person"
   ]
  },
  {
   "cell_type": "code",
   "execution_count": 77,
   "id": "99d380f1",
   "metadata": {
    "executionInfo": {
     "elapsed": 60,
     "status": "ok",
     "timestamp": 1702651624420,
     "user": {
      "displayName": "Dawit Hadush",
      "userId": "03293108265000512791"
     },
     "user_tz": -330
    },
    "id": "qhTAWBD3Xfcp"
   },
   "outputs": [],
   "source": [
    "del temp_person['age']"
   ]
  },
  {
   "cell_type": "code",
   "execution_count": 78,
   "id": "e2f5b5ab",
   "metadata": {
    "colab": {
     "base_uri": "https://localhost:8080/"
    },
    "executionInfo": {
     "elapsed": 60,
     "status": "ok",
     "timestamp": 1702651624420,
     "user": {
      "displayName": "Dawit Hadush",
      "userId": "03293108265000512791"
     },
     "user_tz": -330
    },
    "id": "S7-KGGFyXnt4",
    "outputId": "855d1861-cf83-43f8-c8ce-f869f1f92384"
   },
   "outputs": [
    {
     "data": {
      "text/plain": [
       "{'name': 'Dinesh',\n",
       " 'salary': 45800.67,\n",
       " 'married': True,\n",
       " 'qualification': ('BE', 'MSc')}"
      ]
     },
     "execution_count": 78,
     "metadata": {},
     "output_type": "execute_result"
    }
   ],
   "source": [
    "temp_person"
   ]
  },
  {
   "cell_type": "markdown",
   "id": "32ba6a2e",
   "metadata": {
    "id": "1bepuT0wwD_M"
   },
   "source": [
    "### Example\n",
    "Removing all items from a dictionary"
   ]
  },
  {
   "cell_type": "code",
   "execution_count": 80,
   "id": "c06ff83f",
   "metadata": {},
   "outputs": [],
   "source": [
    "employee_professional = {'name': 'David', 'salary': 87645.48, 'exp': 19}"
   ]
  },
  {
   "cell_type": "code",
   "execution_count": 81,
   "id": "b65729a5",
   "metadata": {
    "colab": {
     "base_uri": "https://localhost:8080/"
    },
    "executionInfo": {
     "elapsed": 43,
     "status": "ok",
     "timestamp": 1702651624428,
     "user": {
      "displayName": "Dawit Hadush",
      "userId": "03293108265000512791"
     },
     "user_tz": -330
    },
    "id": "ciLo7N0awETb",
    "outputId": "f19e3452-0002-44de-f95c-3da6a7a5e2d7"
   },
   "outputs": [
    {
     "data": {
      "text/plain": [
       "{'name': 'David', 'salary': 87645.48, 'exp': 19}"
      ]
     },
     "execution_count": 81,
     "metadata": {},
     "output_type": "execute_result"
    }
   ],
   "source": [
    "employee_professional"
   ]
  },
  {
   "cell_type": "code",
   "execution_count": 82,
   "id": "aeb4c3d3",
   "metadata": {
    "executionInfo": {
     "elapsed": 43,
     "status": "ok",
     "timestamp": 1702651624428,
     "user": {
      "displayName": "Dawit Hadush",
      "userId": "03293108265000512791"
     },
     "user_tz": -330
    },
    "id": "m3BRfZ59ya_G"
   },
   "outputs": [],
   "source": [
    "employee_professional.clear()"
   ]
  },
  {
   "cell_type": "code",
   "execution_count": 83,
   "id": "faa0e4b5",
   "metadata": {
    "colab": {
     "base_uri": "https://localhost:8080/"
    },
    "executionInfo": {
     "elapsed": 42,
     "status": "ok",
     "timestamp": 1702651624428,
     "user": {
      "displayName": "Dawit Hadush",
      "userId": "03293108265000512791"
     },
     "user_tz": -330
    },
    "id": "sX72cB_iXVXu",
    "outputId": "891f00a3-dc9c-4b6c-f4fb-1c8e12c45855"
   },
   "outputs": [
    {
     "data": {
      "text/plain": [
       "{}"
      ]
     },
     "execution_count": 83,
     "metadata": {},
     "output_type": "execute_result"
    }
   ],
   "source": [
    "employee_professional"
   ]
  },
  {
   "cell_type": "markdown",
   "id": "b6985326",
   "metadata": {
    "id": "X0ImBhQjqEEO"
   },
   "source": [
    "### Example\n",
    "Manipulating nested dictionaries"
   ]
  },
  {
   "cell_type": "code",
   "execution_count": 86,
   "id": "9a1fa7c1",
   "metadata": {
    "executionInfo": {
     "elapsed": 56,
     "status": "ok",
     "timestamp": 1702651624422,
     "user": {
      "displayName": "Dawit Hadush",
      "userId": "03293108265000512791"
     },
     "user_tz": -330
    },
    "id": "oQzMrxYznwrW"
   },
   "outputs": [],
   "source": [
    "nested_person = {'first_name': 'Robin',\n",
    "                 'last_name': 'Singh',\n",
    "                 'age': 30,\n",
    "                 'gender': 'Male',\n",
    "                 'address': {'street': 'One South Hall Road Berkely',\n",
    "                             'city': 'Los Angeles',\n",
    "                             'state': 'CA',\n",
    "                             'zip_code': 94720},\n",
    "                 'email': 'robinsingh@example.com'}"
   ]
  },
  {
   "cell_type": "code",
   "execution_count": 87,
   "id": "3312feec",
   "metadata": {
    "colab": {
     "base_uri": "https://localhost:8080/"
    },
    "collapsed": true,
    "executionInfo": {
     "elapsed": 57,
     "status": "ok",
     "timestamp": 1702651624423,
     "user": {
      "displayName": "Dawit Hadush",
      "userId": "03293108265000512791"
     },
     "user_tz": -330
    },
    "id": "yhsVWWXIC18-",
    "outputId": "e9a05472-3f26-4ff1-cd7e-893f14d956e9"
   },
   "outputs": [
    {
     "data": {
      "text/plain": [
       "{'first_name': 'Robin',\n",
       " 'last_name': 'Singh',\n",
       " 'age': 30,\n",
       " 'gender': 'Male',\n",
       " 'address': {'street': 'One South Hall Road Berkely',\n",
       "  'city': 'Los Angeles',\n",
       "  'state': 'CA',\n",
       "  'zip_code': 94720},\n",
       " 'email': 'robinsingh@example.com'}"
      ]
     },
     "execution_count": 87,
     "metadata": {},
     "output_type": "execute_result"
    }
   ],
   "source": [
    "nested_person\n",
    "# update the value of state key from address key to USA from CA"
   ]
  },
  {
   "cell_type": "code",
   "execution_count": 89,
   "id": "d714992f",
   "metadata": {},
   "outputs": [],
   "source": [
    "nested_person[\"address\"][\"state\"]='USA'"
   ]
  },
  {
   "cell_type": "code",
   "execution_count": 90,
   "id": "de1bd1b7",
   "metadata": {
    "collapsed": true
   },
   "outputs": [
    {
     "data": {
      "text/plain": [
       "{'first_name': 'Robin',\n",
       " 'last_name': 'Singh',\n",
       " 'age': 30,\n",
       " 'gender': 'Male',\n",
       " 'address': {'street': 'One South Hall Road Berkely',\n",
       "  'city': 'Los Angeles',\n",
       "  'state': 'USA',\n",
       "  'zip_code': 94720},\n",
       " 'email': 'robinsingh@example.com'}"
      ]
     },
     "execution_count": 90,
     "metadata": {},
     "output_type": "execute_result"
    }
   ],
   "source": [
    "nested_person"
   ]
  },
  {
   "cell_type": "code",
   "execution_count": 91,
   "id": "dafaf7b0",
   "metadata": {},
   "outputs": [],
   "source": [
    "# Find the length the value of street key from address key"
   ]
  },
  {
   "cell_type": "code",
   "execution_count": 93,
   "id": "eed42fe4",
   "metadata": {},
   "outputs": [
    {
     "data": {
      "text/plain": [
       "27"
      ]
     },
     "execution_count": 93,
     "metadata": {},
     "output_type": "execute_result"
    }
   ],
   "source": [
    "len(nested_person[\"address\"][\"street\"])"
   ]
  },
  {
   "cell_type": "code",
   "execution_count": 94,
   "id": "93e5912c",
   "metadata": {},
   "outputs": [],
   "source": [
    "# delete the email key from this dictionary\n",
    "del nested_person[\"email\"]"
   ]
  },
  {
   "cell_type": "code",
   "execution_count": 95,
   "id": "891c90ea",
   "metadata": {
    "collapsed": true
   },
   "outputs": [
    {
     "data": {
      "text/plain": [
       "{'first_name': 'Robin',\n",
       " 'last_name': 'Singh',\n",
       " 'age': 30,\n",
       " 'gender': 'Male',\n",
       " 'address': {'street': 'One South Hall Road Berkely',\n",
       "  'city': 'Los Angeles',\n",
       "  'state': 'USA',\n",
       "  'zip_code': 94720}}"
      ]
     },
     "execution_count": 95,
     "metadata": {},
     "output_type": "execute_result"
    }
   ],
   "source": [
    "nested_person"
   ]
  },
  {
   "cell_type": "code",
   "execution_count": 96,
   "id": "b570c051",
   "metadata": {},
   "outputs": [],
   "source": [
    "# add the email key and corresponding value back to this dictionary"
   ]
  },
  {
   "cell_type": "code",
   "execution_count": 97,
   "id": "ba0edfe2",
   "metadata": {},
   "outputs": [],
   "source": [
    "nested_person.update({\"email\":'robinsingh@example.com'})"
   ]
  },
  {
   "cell_type": "code",
   "execution_count": 98,
   "id": "a174e74f",
   "metadata": {},
   "outputs": [
    {
     "data": {
      "text/plain": [
       "{'first_name': 'Robin',\n",
       " 'last_name': 'Singh',\n",
       " 'age': 30,\n",
       " 'gender': 'Male',\n",
       " 'address': {'street': 'One South Hall Road Berkely',\n",
       "  'city': 'Los Angeles',\n",
       "  'state': 'USA',\n",
       "  'zip_code': 94720},\n",
       " 'email': 'robinsingh@example.com'}"
      ]
     },
     "execution_count": 98,
     "metadata": {},
     "output_type": "execute_result"
    }
   ],
   "source": [
    "nested_person"
   ]
  },
  {
   "cell_type": "code",
   "execution_count": 99,
   "id": "6ae14825",
   "metadata": {},
   "outputs": [],
   "source": [
    "nested_person[\"email\"]='robinsingh@example.com'"
   ]
  },
  {
   "cell_type": "code",
   "execution_count": null,
   "id": "3b056925",
   "metadata": {},
   "outputs": [],
   "source": []
  }
 ],
 "metadata": {
  "kernelspec": {
   "display_name": "Python 3",
   "language": "python",
   "name": "python3"
  },
  "language_info": {
   "codemirror_mode": {
    "name": "ipython",
    "version": 3
   },
   "file_extension": ".py",
   "mimetype": "text/x-python",
   "name": "python",
   "nbconvert_exporter": "python",
   "pygments_lexer": "ipython3",
   "version": "3.8.8"
  }
 },
 "nbformat": 4,
 "nbformat_minor": 5
}
