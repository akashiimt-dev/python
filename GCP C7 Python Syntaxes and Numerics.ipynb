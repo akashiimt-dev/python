{
 "cells": [
  {
   "cell_type": "markdown",
   "id": "9367f775",
   "metadata": {
    "id": "w8_oixjyXVnc"
   },
   "source": [
    "# Variables\n",
    "In Python, a variable is a reserved memory location to store values. You can think of it as a container that holds data. Variables are created when you assign a value to them."
   ]
  },
  {
   "cell_type": "code",
   "execution_count": 1,
   "id": "dd6ba2a9",
   "metadata": {},
   "outputs": [],
   "source": [
    "a=1\n",
    "# a is a variable\n",
    "# 1 is the value assigned to a\n",
    "# whatever line starts with # those are considered as comments means python will ignore those lines\n",
    "# to run the code you can click run button above or you can use shift+enter (shortcut)"
   ]
  },
  {
   "cell_type": "code",
   "execution_count": 2,
   "id": "8f2f11bb",
   "metadata": {},
   "outputs": [
    {
     "name": "stdout",
     "output_type": "stream",
     "text": [
      "1\n"
     ]
    }
   ],
   "source": [
    "print(a)\n",
    "# print is the python function to display any results"
   ]
  },
  {
   "cell_type": "code",
   "execution_count": 3,
   "id": "4876a492",
   "metadata": {},
   "outputs": [
    {
     "data": {
      "text/plain": [
       "1"
      ]
     },
     "execution_count": 3,
     "metadata": {},
     "output_type": "execute_result"
    }
   ],
   "source": [
    "a"
   ]
  },
  {
   "cell_type": "code",
   "execution_count": 4,
   "id": "9215da1e",
   "metadata": {},
   "outputs": [],
   "source": [
    "a=10\n",
    "b=20"
   ]
  },
  {
   "cell_type": "code",
   "execution_count": 5,
   "id": "714fa48c",
   "metadata": {},
   "outputs": [
    {
     "name": "stdout",
     "output_type": "stream",
     "text": [
      "10 20\n"
     ]
    }
   ],
   "source": [
    "print(a,b)"
   ]
  },
  {
   "cell_type": "markdown",
   "id": "4c8cf5e6",
   "metadata": {
    "id": "2NyY8QQ9c0TO"
   },
   "source": [
    "### Example\n",
    "Rules to follow for naming variables\n",
    "\n",
    "*   A variable name cannot contain spaces\n",
    "*   A variable name cannot start with a digit\n",
    "* A variable name can only contain alpha-numeric characters and underscores (`a-z, A-Z, 0-9, and _ `)\n",
    "* The variable name cannot be any keywords\n",
    "* Variable names are case-sensitive\n",
    "\n",
    "\n"
   ]
  },
  {
   "cell_type": "code",
   "execution_count": null,
   "id": "9d1ff43e",
   "metadata": {},
   "outputs": [],
   "source": [
    "a b=4 --> not correct\n",
    "1as=5 --> not correct\n",
    "a1=6  --> correct\n",
    "a1s=7 --> correct\n",
    "a_s=7 --> correct\n",
    "a@f=7 --> not correct"
   ]
  },
  {
   "cell_type": "code",
   "execution_count": 6,
   "id": "8887c806",
   "metadata": {},
   "outputs": [],
   "source": [
    "my_age=25"
   ]
  },
  {
   "cell_type": "code",
   "execution_count": 7,
   "id": "d62cfbad",
   "metadata": {},
   "outputs": [
    {
     "ename": "SyntaxError",
     "evalue": "cannot assign to operator (<ipython-input-7-cc9fb34837f0>, line 1)",
     "output_type": "error",
     "traceback": [
      "\u001b[0;36m  File \u001b[0;32m\"<ipython-input-7-cc9fb34837f0>\"\u001b[0;36m, line \u001b[0;32m1\u001b[0m\n\u001b[0;31m    my&age=25\u001b[0m\n\u001b[0m    ^\u001b[0m\n\u001b[0;31mSyntaxError\u001b[0m\u001b[0;31m:\u001b[0m cannot assign to operator\n"
     ]
    }
   ],
   "source": [
    "my&age=25"
   ]
  },
  {
   "cell_type": "code",
   "execution_count": 8,
   "id": "ebe97409",
   "metadata": {},
   "outputs": [],
   "source": [
    "_var_=5"
   ]
  },
  {
   "cell_type": "code",
   "execution_count": 9,
   "id": "1700555d",
   "metadata": {},
   "outputs": [],
   "source": [
    "_=6"
   ]
  },
  {
   "cell_type": "markdown",
   "id": "aba2036a",
   "metadata": {
    "id": "_tLUQXleiw5I"
   },
   "source": [
    "# Basic Python commands"
   ]
  },
  {
   "cell_type": "markdown",
   "id": "076f010b",
   "metadata": {
    "id": "oNkk7X-Vi5R6"
   },
   "source": [
    "### Example\n",
    "Getting user inputs using the `input()` function"
   ]
  },
  {
   "cell_type": "code",
   "execution_count": 17,
   "id": "56c45d86",
   "metadata": {},
   "outputs": [
    {
     "name": "stdout",
     "output_type": "stream",
     "text": [
      "Enter the name:vijay\n"
     ]
    }
   ],
   "source": [
    "name=input(\"Enter the name:\")"
   ]
  },
  {
   "cell_type": "code",
   "execution_count": 18,
   "id": "f0423ae0",
   "metadata": {},
   "outputs": [
    {
     "name": "stdout",
     "output_type": "stream",
     "text": [
      "vijay\n"
     ]
    }
   ],
   "source": [
    "print(name)"
   ]
  },
  {
   "cell_type": "markdown",
   "id": "153ec7ee",
   "metadata": {
    "id": "oz7UR1Fsy0Ep"
   },
   "source": [
    "# Basic data types"
   ]
  },
  {
   "cell_type": "markdown",
   "id": "85c75c14",
   "metadata": {
    "id": "wBDPTMKIy6El"
   },
   "source": [
    "### Example\n",
    "Integers"
   ]
  },
  {
   "cell_type": "code",
   "execution_count": 19,
   "id": "a142721b",
   "metadata": {},
   "outputs": [],
   "source": [
    "age=28"
   ]
  },
  {
   "cell_type": "code",
   "execution_count": 20,
   "id": "a539070f",
   "metadata": {},
   "outputs": [
    {
     "data": {
      "text/plain": [
       "int"
      ]
     },
     "execution_count": 20,
     "metadata": {},
     "output_type": "execute_result"
    }
   ],
   "source": [
    "type(age)"
   ]
  },
  {
   "cell_type": "code",
   "execution_count": 21,
   "id": "bc57e179",
   "metadata": {},
   "outputs": [],
   "source": [
    "y=-20"
   ]
  },
  {
   "cell_type": "code",
   "execution_count": 22,
   "id": "97f17105",
   "metadata": {},
   "outputs": [
    {
     "data": {
      "text/plain": [
       "int"
      ]
     },
     "execution_count": 22,
     "metadata": {},
     "output_type": "execute_result"
    }
   ],
   "source": [
    "type(y)"
   ]
  },
  {
   "cell_type": "markdown",
   "id": "96e54a49",
   "metadata": {
    "id": "Z5UK64aw4Miw"
   },
   "source": [
    "### Example\n",
    "Creating float variables (decimal)"
   ]
  },
  {
   "cell_type": "code",
   "execution_count": 23,
   "id": "6c183e87",
   "metadata": {},
   "outputs": [],
   "source": [
    "dollar_to_inr= 82.3"
   ]
  },
  {
   "cell_type": "code",
   "execution_count": 24,
   "id": "acac67e6",
   "metadata": {},
   "outputs": [
    {
     "data": {
      "text/plain": [
       "float"
      ]
     },
     "execution_count": 24,
     "metadata": {},
     "output_type": "execute_result"
    }
   ],
   "source": [
    "type(dollar_to_inr)"
   ]
  },
  {
   "cell_type": "code",
   "execution_count": 25,
   "id": "d701b7cb",
   "metadata": {},
   "outputs": [],
   "source": [
    "age=28.0"
   ]
  },
  {
   "cell_type": "code",
   "execution_count": 26,
   "id": "b9a439cc",
   "metadata": {},
   "outputs": [
    {
     "data": {
      "text/plain": [
       "float"
      ]
     },
     "execution_count": 26,
     "metadata": {},
     "output_type": "execute_result"
    }
   ],
   "source": [
    "type(age)"
   ]
  },
  {
   "cell_type": "markdown",
   "id": "171664a5",
   "metadata": {
    "id": "vJBSCIAuVc7n"
   },
   "source": [
    "### Example\n",
    "Strings"
   ]
  },
  {
   "cell_type": "code",
   "execution_count": 27,
   "id": "d7aecd16",
   "metadata": {},
   "outputs": [],
   "source": [
    "my_string=\"Upgrad\""
   ]
  },
  {
   "cell_type": "code",
   "execution_count": 28,
   "id": "d0e18dcc",
   "metadata": {},
   "outputs": [
    {
     "data": {
      "text/plain": [
       "str"
      ]
     },
     "execution_count": 28,
     "metadata": {},
     "output_type": "execute_result"
    }
   ],
   "source": [
    "type(my_string)"
   ]
  },
  {
   "cell_type": "code",
   "execution_count": 29,
   "id": "aa4fba02",
   "metadata": {},
   "outputs": [],
   "source": [
    "my_string='Upgrad'"
   ]
  },
  {
   "cell_type": "code",
   "execution_count": 30,
   "id": "97b057b8",
   "metadata": {},
   "outputs": [
    {
     "data": {
      "text/plain": [
       "str"
      ]
     },
     "execution_count": 30,
     "metadata": {},
     "output_type": "execute_result"
    }
   ],
   "source": [
    "type(my_string)"
   ]
  },
  {
   "cell_type": "code",
   "execution_count": 31,
   "id": "ea1546de",
   "metadata": {},
   "outputs": [],
   "source": [
    "num_string=\"28\""
   ]
  },
  {
   "cell_type": "code",
   "execution_count": 32,
   "id": "03cf7dc0",
   "metadata": {},
   "outputs": [
    {
     "data": {
      "text/plain": [
       "str"
      ]
     },
     "execution_count": 32,
     "metadata": {},
     "output_type": "execute_result"
    }
   ],
   "source": [
    "type(num_string)"
   ]
  },
  {
   "cell_type": "code",
   "execution_count": 33,
   "id": "8979a24f",
   "metadata": {},
   "outputs": [],
   "source": [
    "float_str=\"23.0\""
   ]
  },
  {
   "cell_type": "code",
   "execution_count": 34,
   "id": "9517137a",
   "metadata": {},
   "outputs": [
    {
     "data": {
      "text/plain": [
       "str"
      ]
     },
     "execution_count": 34,
     "metadata": {},
     "output_type": "execute_result"
    }
   ],
   "source": [
    "type(float_str)"
   ]
  },
  {
   "cell_type": "code",
   "execution_count": 35,
   "id": "75a09599",
   "metadata": {},
   "outputs": [],
   "source": [
    "string=\"10000\""
   ]
  },
  {
   "cell_type": "code",
   "execution_count": 36,
   "id": "b3d295a9",
   "metadata": {},
   "outputs": [
    {
     "data": {
      "text/plain": [
       "str"
      ]
     },
     "execution_count": 36,
     "metadata": {},
     "output_type": "execute_result"
    }
   ],
   "source": [
    "type(string)"
   ]
  },
  {
   "cell_type": "markdown",
   "id": "737fee05",
   "metadata": {
    "id": "6qnf5pR0LIh1"
   },
   "source": [
    "# Typecasting\n",
    "The process of converting one data type into another one is referred to as **typecasting**"
   ]
  },
  {
   "cell_type": "code",
   "execution_count": 37,
   "id": "d4fe63ae",
   "metadata": {},
   "outputs": [],
   "source": [
    "num=28"
   ]
  },
  {
   "cell_type": "code",
   "execution_count": 38,
   "id": "6080ef97",
   "metadata": {},
   "outputs": [
    {
     "data": {
      "text/plain": [
       "int"
      ]
     },
     "execution_count": 38,
     "metadata": {},
     "output_type": "execute_result"
    }
   ],
   "source": [
    "type(num)"
   ]
  },
  {
   "cell_type": "code",
   "execution_count": 39,
   "id": "6ac45027",
   "metadata": {},
   "outputs": [
    {
     "data": {
      "text/plain": [
       "28.0"
      ]
     },
     "execution_count": 39,
     "metadata": {},
     "output_type": "execute_result"
    }
   ],
   "source": [
    "float(num)"
   ]
  },
  {
   "cell_type": "code",
   "execution_count": 40,
   "id": "036c4e20",
   "metadata": {},
   "outputs": [],
   "source": [
    "# Interger can be typecasted to Floats without an issue"
   ]
  },
  {
   "cell_type": "code",
   "execution_count": 41,
   "id": "94bae857",
   "metadata": {},
   "outputs": [],
   "source": [
    "num=28.999999"
   ]
  },
  {
   "cell_type": "code",
   "execution_count": 43,
   "id": "6d4bc1a5",
   "metadata": {},
   "outputs": [
    {
     "data": {
      "text/plain": [
       "float"
      ]
     },
     "execution_count": 43,
     "metadata": {},
     "output_type": "execute_result"
    }
   ],
   "source": [
    "type(num)"
   ]
  },
  {
   "cell_type": "code",
   "execution_count": 44,
   "id": "0076b314",
   "metadata": {},
   "outputs": [
    {
     "data": {
      "text/plain": [
       "28"
      ]
     },
     "execution_count": 44,
     "metadata": {},
     "output_type": "execute_result"
    }
   ],
   "source": [
    "int(num)"
   ]
  },
  {
   "cell_type": "code",
   "execution_count": 63,
   "id": "6bd125f0",
   "metadata": {},
   "outputs": [],
   "source": [
    "# Floats can be typecasted to integers by loosing information post decimal"
   ]
  },
  {
   "cell_type": "code",
   "execution_count": 46,
   "id": "316f111e",
   "metadata": {},
   "outputs": [],
   "source": [
    "string=\"Upgrad\""
   ]
  },
  {
   "cell_type": "code",
   "execution_count": 47,
   "id": "7e251623",
   "metadata": {},
   "outputs": [
    {
     "data": {
      "text/plain": [
       "str"
      ]
     },
     "execution_count": 47,
     "metadata": {},
     "output_type": "execute_result"
    }
   ],
   "source": [
    "type(string)"
   ]
  },
  {
   "cell_type": "code",
   "execution_count": 48,
   "id": "d929d8d0",
   "metadata": {
    "collapsed": true
   },
   "outputs": [
    {
     "ename": "ValueError",
     "evalue": "invalid literal for int() with base 10: 'Upgrad'",
     "output_type": "error",
     "traceback": [
      "\u001b[0;31m---------------------------------------------------------------------------\u001b[0m",
      "\u001b[0;31mValueError\u001b[0m                                Traceback (most recent call last)",
      "\u001b[0;32m<ipython-input-48-def7badcd441>\u001b[0m in \u001b[0;36m<module>\u001b[0;34m\u001b[0m\n\u001b[0;32m----> 1\u001b[0;31m \u001b[0mint\u001b[0m\u001b[0;34m(\u001b[0m\u001b[0mstring\u001b[0m\u001b[0;34m)\u001b[0m\u001b[0;34m\u001b[0m\u001b[0;34m\u001b[0m\u001b[0m\n\u001b[0m",
      "\u001b[0;31mValueError\u001b[0m: invalid literal for int() with base 10: 'Upgrad'"
     ]
    }
   ],
   "source": [
    "int(string)"
   ]
  },
  {
   "cell_type": "code",
   "execution_count": 49,
   "id": "efd30e17",
   "metadata": {
    "collapsed": true
   },
   "outputs": [
    {
     "ename": "ValueError",
     "evalue": "could not convert string to float: 'Upgrad'",
     "output_type": "error",
     "traceback": [
      "\u001b[0;31m---------------------------------------------------------------------------\u001b[0m",
      "\u001b[0;31mValueError\u001b[0m                                Traceback (most recent call last)",
      "\u001b[0;32m<ipython-input-49-34d55f1c01a5>\u001b[0m in \u001b[0;36m<module>\u001b[0;34m\u001b[0m\n\u001b[0;32m----> 1\u001b[0;31m \u001b[0mfloat\u001b[0m\u001b[0;34m(\u001b[0m\u001b[0mstring\u001b[0m\u001b[0;34m)\u001b[0m\u001b[0;34m\u001b[0m\u001b[0;34m\u001b[0m\u001b[0m\n\u001b[0m",
      "\u001b[0;31mValueError\u001b[0m: could not convert string to float: 'Upgrad'"
     ]
    }
   ],
   "source": [
    "float(string)"
   ]
  },
  {
   "cell_type": "code",
   "execution_count": 50,
   "id": "d3fac9b9",
   "metadata": {},
   "outputs": [],
   "source": [
    "string=\"28\""
   ]
  },
  {
   "cell_type": "code",
   "execution_count": 51,
   "id": "2e13aca4",
   "metadata": {},
   "outputs": [
    {
     "data": {
      "text/plain": [
       "str"
      ]
     },
     "execution_count": 51,
     "metadata": {},
     "output_type": "execute_result"
    }
   ],
   "source": [
    "type(string)"
   ]
  },
  {
   "cell_type": "code",
   "execution_count": 52,
   "id": "586ecea4",
   "metadata": {},
   "outputs": [
    {
     "data": {
      "text/plain": [
       "28"
      ]
     },
     "execution_count": 52,
     "metadata": {},
     "output_type": "execute_result"
    }
   ],
   "source": [
    "int(string)"
   ]
  },
  {
   "cell_type": "code",
   "execution_count": 53,
   "id": "8dd8e710",
   "metadata": {},
   "outputs": [
    {
     "data": {
      "text/plain": [
       "28.0"
      ]
     },
     "execution_count": 53,
     "metadata": {},
     "output_type": "execute_result"
    }
   ],
   "source": [
    "float(string)"
   ]
  },
  {
   "cell_type": "markdown",
   "id": "a89e4b82",
   "metadata": {
    "id": "yg3qR3DK6n54"
   },
   "source": [
    "# Arithmetic operators"
   ]
  },
  {
   "cell_type": "markdown",
   "id": "1d326c21",
   "metadata": {
    "id": "eOR5DMVK6beM"
   },
   "source": [
    "### Example\n",
    "The `+` operator"
   ]
  },
  {
   "cell_type": "code",
   "execution_count": 54,
   "id": "029230da",
   "metadata": {},
   "outputs": [
    {
     "name": "stdout",
     "output_type": "stream",
     "text": [
      "30\n",
      "30\n"
     ]
    }
   ],
   "source": [
    "a=10\n",
    "b=20\n",
    "c=a+b\n",
    "print(c)\n",
    "print(a+b)"
   ]
  },
  {
   "cell_type": "code",
   "execution_count": 55,
   "id": "c582915d",
   "metadata": {},
   "outputs": [
    {
     "name": "stdout",
     "output_type": "stream",
     "text": [
      "Upgrad Edtech Company\n"
     ]
    }
   ],
   "source": [
    "# String Concatenation\n",
    "a=\"Upgrad\"\n",
    "b=\"Edtech Company\"\n",
    "c=a+\" \"+b\n",
    "print(c)"
   ]
  },
  {
   "cell_type": "markdown",
   "id": "36f79369",
   "metadata": {
    "id": "MNP9GsNFHteC"
   },
   "source": [
    "### Example\n",
    "The `-` operator"
   ]
  },
  {
   "cell_type": "code",
   "execution_count": 56,
   "id": "5077d191",
   "metadata": {},
   "outputs": [
    {
     "name": "stdout",
     "output_type": "stream",
     "text": [
      "-10\n",
      "-10\n"
     ]
    }
   ],
   "source": [
    "a=10\n",
    "b=20\n",
    "c=a-b\n",
    "print(c)\n",
    "print(a-b)"
   ]
  },
  {
   "cell_type": "markdown",
   "id": "4739fbe4",
   "metadata": {
    "id": "tmefvDXdSb4j"
   },
   "source": [
    "### Example\n",
    "The `*` operator"
   ]
  },
  {
   "cell_type": "code",
   "execution_count": 57,
   "id": "56ce4a65",
   "metadata": {},
   "outputs": [
    {
     "name": "stdout",
     "output_type": "stream",
     "text": [
      "200\n",
      "200\n"
     ]
    }
   ],
   "source": [
    "a=10\n",
    "b=20\n",
    "c=a*b\n",
    "print(c)\n",
    "print(a*b)"
   ]
  },
  {
   "cell_type": "code",
   "execution_count": 60,
   "id": "345d6b29",
   "metadata": {},
   "outputs": [
    {
     "name": "stdout",
     "output_type": "stream",
     "text": [
      "Upgrad Upgrad Upgrad Upgrad \n"
     ]
    }
   ],
   "source": [
    "a=\"Upgrad \"\n",
    "c=a*4\n",
    "print(c)"
   ]
  },
  {
   "cell_type": "code",
   "execution_count": 61,
   "id": "6f33f76f",
   "metadata": {},
   "outputs": [
    {
     "name": "stdout",
     "output_type": "stream",
     "text": [
      "200\n",
      "200\n",
      "Upgrad Upgrad Upgrad Upgrad \n"
     ]
    }
   ],
   "source": [
    "a=10\n",
    "b=20\n",
    "c=a*b\n",
    "print(c)\n",
    "print(a*b)\n",
    "a=\"Upgrad \"\n",
    "c=a*4\n",
    "print(c)"
   ]
  },
  {
   "cell_type": "markdown",
   "id": "d0ad4484",
   "metadata": {
    "id": "wUdNRK1pa_u7"
   },
   "source": [
    "### Example\n",
    "The `/` operator (float type division)"
   ]
  },
  {
   "cell_type": "code",
   "execution_count": 81,
   "id": "920a93b1",
   "metadata": {},
   "outputs": [
    {
     "name": "stdout",
     "output_type": "stream",
     "text": [
      "0.5\n",
      "0.5\n"
     ]
    }
   ],
   "source": [
    "a=10\n",
    "b=20\n",
    "c=a/b\n",
    "print(c)\n",
    "print(a/b)"
   ]
  },
  {
   "cell_type": "markdown",
   "id": "1a4c8140",
   "metadata": {
    "id": "wUdNRK1pa_u7"
   },
   "source": [
    "### Example\n",
    "The `//` operator (Integer Type Division)"
   ]
  },
  {
   "cell_type": "code",
   "execution_count": 83,
   "id": "23fabdd3",
   "metadata": {},
   "outputs": [
    {
     "name": "stdout",
     "output_type": "stream",
     "text": [
      "4\n",
      "4\n"
     ]
    }
   ],
   "source": [
    "a=100\n",
    "b=21\n",
    "c=a//b\n",
    "print(c)\n",
    "print(a//b)"
   ]
  },
  {
   "cell_type": "code",
   "execution_count": 86,
   "id": "89f4e70e",
   "metadata": {},
   "outputs": [
    {
     "name": "stdout",
     "output_type": "stream",
     "text": [
      "4.761904761904762\n"
     ]
    }
   ],
   "source": [
    "a=100\n",
    "b=21\n",
    "c=a/b\n",
    "print(c)"
   ]
  },
  {
   "cell_type": "markdown",
   "id": "eaa5ef25",
   "metadata": {
    "id": "goIwqaRwY625"
   },
   "source": [
    "### Example\n",
    "The `**` operator"
   ]
  },
  {
   "cell_type": "code",
   "execution_count": 65,
   "id": "400560f2",
   "metadata": {},
   "outputs": [
    {
     "name": "stdout",
     "output_type": "stream",
     "text": [
      "5776\n"
     ]
    }
   ],
   "source": [
    "a=76\n",
    "b=2\n",
    "c=a**b\n",
    "print(c)"
   ]
  },
  {
   "cell_type": "markdown",
   "id": "11e461cf",
   "metadata": {
    "id": "5A6hr4RTfXai"
   },
   "source": [
    "### Example\n",
    "The `%` operator"
   ]
  },
  {
   "cell_type": "code",
   "execution_count": 90,
   "id": "5eb681be",
   "metadata": {},
   "outputs": [],
   "source": [
    "# Modulus Operator or Remainder operator"
   ]
  },
  {
   "cell_type": "code",
   "execution_count": 66,
   "id": "75e568f0",
   "metadata": {},
   "outputs": [
    {
     "name": "stdout",
     "output_type": "stream",
     "text": [
      "3\n"
     ]
    }
   ],
   "source": [
    "a=13\n",
    "b=10\n",
    "rem=a%b\n",
    "print(rem)"
   ]
  },
  {
   "cell_type": "code",
   "execution_count": 67,
   "id": "0f1e5ba1",
   "metadata": {},
   "outputs": [
    {
     "name": "stdout",
     "output_type": "stream",
     "text": [
      "39\n"
     ]
    }
   ],
   "source": [
    "a=189\n",
    "b=50\n",
    "rem=a%b\n",
    "print(rem)"
   ]
  },
  {
   "cell_type": "markdown",
   "id": "84f2f83f",
   "metadata": {
    "id": "Jiupdb7ysHtY"
   },
   "source": [
    "### Quiz\n",
    "Create a simple app that takes input of users' details and prints them"
   ]
  },
  {
   "cell_type": "code",
   "execution_count": 68,
   "id": "19648432",
   "metadata": {},
   "outputs": [
    {
     "name": "stdout",
     "output_type": "stream",
     "text": [
      "Enter the name: Shweta\n",
      "Shweta\n"
     ]
    }
   ],
   "source": [
    "username=input(\"Enter the name: \")\n",
    "print(username)"
   ]
  },
  {
   "cell_type": "code",
   "execution_count": null,
   "id": "142ceda4",
   "metadata": {},
   "outputs": [],
   "source": [
    "# age =\n",
    "# profession =\n",
    "# nationality =\n",
    "# Print all of them one by one"
   ]
  },
  {
   "cell_type": "code",
   "execution_count": 69,
   "id": "7306c51b",
   "metadata": {
    "scrolled": true
   },
   "outputs": [
    {
     "name": "stdout",
     "output_type": "stream",
     "text": [
      "Enter the age: 29\n",
      "Enter the professionLead Data Scientist\n",
      "Enter the nationalityIndian\n",
      "Entered Age is  29\n",
      "Lead Data Scientist\n",
      "Indian\n"
     ]
    }
   ],
   "source": [
    "age=input(\"Enter the age: \")\n",
    "profession=input(\"Enter the profession\")\n",
    "nationality=input(\"Enter the nationality\")\n",
    "print(\"Entered Age is \",age)\n",
    "print(profession)\n",
    "print(nationality)"
   ]
  },
  {
   "cell_type": "markdown",
   "id": "89e4316e",
   "metadata": {
    "id": "XwOXW_0EGq4z"
   },
   "source": [
    "### Quiz\n",
    "Create a simple app that takes uses' first and last names and prints the users' full name"
   ]
  },
  {
   "cell_type": "code",
   "execution_count": 70,
   "id": "c08ad374",
   "metadata": {},
   "outputs": [
    {
     "name": "stdout",
     "output_type": "stream",
     "text": [
      "Enter the first name:Shivam\n",
      "Enter the last name:Garg\n",
      "Shivam Garg\n"
     ]
    }
   ],
   "source": [
    "first_name=input(\"Enter the first name:\")\n",
    "last_name=input(\"Enter the last name:\")\n",
    "full_name=first_name + \" \" + last_name\n",
    "print(full_name)"
   ]
  },
  {
   "cell_type": "markdown",
   "id": "ddb84f53",
   "metadata": {
    "id": "Aq1i8GT8FLFb"
   },
   "source": [
    "### Quiz\n",
    "Find the sum of $245.46$, $122.7$, and $109.45$"
   ]
  },
  {
   "cell_type": "code",
   "execution_count": 71,
   "id": "5580317c",
   "metadata": {},
   "outputs": [
    {
     "name": "stdout",
     "output_type": "stream",
     "text": [
      "477.61\n"
     ]
    }
   ],
   "source": [
    "num1=245.46\n",
    "num2=122.7\n",
    "num3=109.45\n",
    "summation=num1+num2+num3\n",
    "print(summation)"
   ]
  },
  {
   "cell_type": "markdown",
   "id": "fc3b9b55",
   "metadata": {
    "id": "AmnXcgrszB8o"
   },
   "source": [
    "### Quiz\n",
    "Store your name in a string. Output the value of the variable. Print it. Verify its type. Find its length."
   ]
  },
  {
   "cell_type": "code",
   "execution_count": 72,
   "id": "d3c2f084",
   "metadata": {},
   "outputs": [
    {
     "name": "stdout",
     "output_type": "stream",
     "text": [
      "Shivam Garg\n"
     ]
    }
   ],
   "source": [
    "name='Shivam Garg'\n",
    "print(name)"
   ]
  },
  {
   "cell_type": "code",
   "execution_count": 73,
   "id": "afd69e07",
   "metadata": {},
   "outputs": [
    {
     "data": {
      "text/plain": [
       "str"
      ]
     },
     "execution_count": 73,
     "metadata": {},
     "output_type": "execute_result"
    }
   ],
   "source": [
    "type(name)"
   ]
  },
  {
   "cell_type": "code",
   "execution_count": 74,
   "id": "85fcff88",
   "metadata": {},
   "outputs": [
    {
     "data": {
      "text/plain": [
       "11"
      ]
     },
     "execution_count": 74,
     "metadata": {},
     "output_type": "execute_result"
    }
   ],
   "source": [
    "len(name)"
   ]
  },
  {
   "cell_type": "code",
   "execution_count": null,
   "id": "5a8f9a6a",
   "metadata": {},
   "outputs": [],
   "source": []
  }
 ],
 "metadata": {
  "kernelspec": {
   "display_name": "Python 3",
   "language": "python",
   "name": "python3"
  },
  "language_info": {
   "codemirror_mode": {
    "name": "ipython",
    "version": 3
   },
   "file_extension": ".py",
   "mimetype": "text/x-python",
   "name": "python",
   "nbconvert_exporter": "python",
   "pygments_lexer": "ipython3",
   "version": "3.8.8"
  }
 },
 "nbformat": 4,
 "nbformat_minor": 5
}
