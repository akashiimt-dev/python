{
 "cells": [
  {
   "cell_type": "markdown",
   "id": "4fa9c610",
   "metadata": {
    "id": "Jltmg6ldLGYG"
   },
   "source": [
    "# Tuples\n",
    "Tuples are a type of fundamental Python data structure that are widely used in the DS/ML/AI industry. Similar to lists, tuples are ordered and indexed collections of objects. Created using parentheses `()`, tuples are immutable, ensuring data integrity."
   ]
  },
  {
   "cell_type": "markdown",
   "id": "718f8c4c",
   "metadata": {
    "id": "BCAQZ_INWzSB"
   },
   "source": [
    "## Creating tuples"
   ]
  },
  {
   "cell_type": "markdown",
   "id": "27d94136",
   "metadata": {
    "id": "ryM_L5DwPP4-"
   },
   "source": [
    "### Example\n",
    "Creating empty tuples"
   ]
  },
  {
   "cell_type": "code",
   "execution_count": 1,
   "id": "c47ad998",
   "metadata": {
    "id": "GZY9AbN_WvXl"
   },
   "outputs": [],
   "source": [
    "my_tuple = ()"
   ]
  },
  {
   "cell_type": "code",
   "execution_count": 2,
   "id": "de2a951c",
   "metadata": {
    "colab": {
     "base_uri": "https://localhost:8080/"
    },
    "executionInfo": {
     "elapsed": 124,
     "status": "ok",
     "timestamp": 1702982250603,
     "user": {
      "displayName": "Zerubabel Yonas",
      "userId": "09459892767313995163"
     },
     "user_tz": -330
    },
    "id": "V_FSZ_F_PJ6W",
    "outputId": "8e507366-6e78-47d8-b74d-51787e6955ef"
   },
   "outputs": [
    {
     "data": {
      "text/plain": [
       "tuple"
      ]
     },
     "execution_count": 2,
     "metadata": {},
     "output_type": "execute_result"
    }
   ],
   "source": [
    "type(my_tuple)"
   ]
  },
  {
   "cell_type": "code",
   "execution_count": 3,
   "id": "9479ec5d",
   "metadata": {
    "colab": {
     "base_uri": "https://localhost:8080/"
    },
    "executionInfo": {
     "elapsed": 107,
     "status": "ok",
     "timestamp": 1702982250603,
     "user": {
      "displayName": "Zerubabel Yonas",
      "userId": "09459892767313995163"
     },
     "user_tz": -330
    },
    "id": "0GVpG8bwPd8y",
    "outputId": "69f26f61-a02f-437d-81a0-4c92af38ddaf"
   },
   "outputs": [
    {
     "data": {
      "text/plain": [
       "()"
      ]
     },
     "execution_count": 3,
     "metadata": {},
     "output_type": "execute_result"
    }
   ],
   "source": [
    "my_tuple"
   ]
  },
  {
   "cell_type": "markdown",
   "id": "4e0f3c28",
   "metadata": {
    "id": "5rU9Yy0kbgL-"
   },
   "source": [
    "### Example\n",
    "Creating tuples with elements"
   ]
  },
  {
   "cell_type": "code",
   "execution_count": 4,
   "id": "77c53707",
   "metadata": {
    "id": "HBvlmbhLQG-y"
   },
   "outputs": [],
   "source": [
    "my_tuple = (1, 2, 3, 4)"
   ]
  },
  {
   "cell_type": "code",
   "execution_count": 5,
   "id": "f6b8e617",
   "metadata": {
    "colab": {
     "base_uri": "https://localhost:8080/"
    },
    "executionInfo": {
     "elapsed": 72,
     "status": "ok",
     "timestamp": 1702982250603,
     "user": {
      "displayName": "Zerubabel Yonas",
      "userId": "09459892767313995163"
     },
     "user_tz": -330
    },
    "id": "c8uyoB5OQNoJ",
    "outputId": "b392f1ea-f32a-40ca-8110-a98f515bcaab"
   },
   "outputs": [
    {
     "data": {
      "text/plain": [
       "tuple"
      ]
     },
     "execution_count": 5,
     "metadata": {},
     "output_type": "execute_result"
    }
   ],
   "source": [
    "type(my_tuple)"
   ]
  },
  {
   "cell_type": "code",
   "execution_count": 6,
   "id": "5c5a65f9",
   "metadata": {
    "colab": {
     "base_uri": "https://localhost:8080/"
    },
    "executionInfo": {
     "elapsed": 55,
     "status": "ok",
     "timestamp": 1702982250603,
     "user": {
      "displayName": "Zerubabel Yonas",
      "userId": "09459892767313995163"
     },
     "user_tz": -330
    },
    "id": "iHYZ7Hj5Qn_2",
    "outputId": "8d6d7b35-47cb-4675-b4af-de8d84da3b99"
   },
   "outputs": [
    {
     "data": {
      "text/plain": [
       "(1, 2, 3, 4)"
      ]
     },
     "execution_count": 6,
     "metadata": {},
     "output_type": "execute_result"
    }
   ],
   "source": [
    "my_tuple"
   ]
  },
  {
   "cell_type": "code",
   "execution_count": 7,
   "id": "1cee5204",
   "metadata": {},
   "outputs": [],
   "source": [
    "my_list=list(my_tuple)"
   ]
  },
  {
   "cell_type": "code",
   "execution_count": 8,
   "id": "654504fd",
   "metadata": {},
   "outputs": [
    {
     "data": {
      "text/plain": [
       "list"
      ]
     },
     "execution_count": 8,
     "metadata": {},
     "output_type": "execute_result"
    }
   ],
   "source": [
    "type(my_list)"
   ]
  },
  {
   "cell_type": "code",
   "execution_count": 11,
   "id": "7d5f8cb0",
   "metadata": {},
   "outputs": [
    {
     "data": {
      "text/plain": [
       "[1, 2, 3, 4]"
      ]
     },
     "execution_count": 11,
     "metadata": {},
     "output_type": "execute_result"
    }
   ],
   "source": [
    "my_list"
   ]
  },
  {
   "cell_type": "code",
   "execution_count": 9,
   "id": "0cce4778",
   "metadata": {},
   "outputs": [],
   "source": [
    "ls=[1,2,3,4,5,6,7]"
   ]
  },
  {
   "cell_type": "code",
   "execution_count": 10,
   "id": "71c7e753",
   "metadata": {},
   "outputs": [],
   "source": [
    "tup=tuple(ls)"
   ]
  },
  {
   "cell_type": "code",
   "execution_count": 11,
   "id": "de3347a6",
   "metadata": {},
   "outputs": [
    {
     "data": {
      "text/plain": [
       "tuple"
      ]
     },
     "execution_count": 11,
     "metadata": {},
     "output_type": "execute_result"
    }
   ],
   "source": [
    "type(tup)"
   ]
  },
  {
   "cell_type": "code",
   "execution_count": 12,
   "id": "e806446b",
   "metadata": {},
   "outputs": [
    {
     "data": {
      "text/plain": [
       "(1, 2, 3, 4, 5, 6, 7)"
      ]
     },
     "execution_count": 12,
     "metadata": {},
     "output_type": "execute_result"
    }
   ],
   "source": [
    "tup"
   ]
  },
  {
   "cell_type": "markdown",
   "id": "c868cf1d",
   "metadata": {
    "id": "ZNv_pD27Ceqk"
   },
   "source": [
    "### Example\n",
    "Creating tuples with different data types"
   ]
  },
  {
   "cell_type": "code",
   "execution_count": 13,
   "id": "3a066062",
   "metadata": {
    "id": "Ya4YE2PnCnT9"
   },
   "outputs": [],
   "source": [
    "mixed_tuple = (4, 3.14, 't', 'text', [5, 3], (0, 0, 0))"
   ]
  },
  {
   "cell_type": "code",
   "execution_count": 14,
   "id": "7881dc4d",
   "metadata": {
    "colab": {
     "base_uri": "https://localhost:8080/"
    },
    "executionInfo": {
     "elapsed": 307,
     "status": "ok",
     "timestamp": 1702982252522,
     "user": {
      "displayName": "Zerubabel Yonas",
      "userId": "09459892767313995163"
     },
     "user_tz": -330
    },
    "id": "vK4zmjqqDAXo",
    "outputId": "4509200c-c939-4237-e7d5-dde381de769a"
   },
   "outputs": [
    {
     "data": {
      "text/plain": [
       "(4, 3.14, 't', 'text', [5, 3], (0, 0, 0))"
      ]
     },
     "execution_count": 14,
     "metadata": {},
     "output_type": "execute_result"
    }
   ],
   "source": [
    "mixed_tuple"
   ]
  },
  {
   "cell_type": "code",
   "execution_count": 15,
   "id": "403a2bbe",
   "metadata": {
    "colab": {
     "base_uri": "https://localhost:8080/"
    },
    "executionInfo": {
     "elapsed": 289,
     "status": "ok",
     "timestamp": 1702982252522,
     "user": {
      "displayName": "Zerubabel Yonas",
      "userId": "09459892767313995163"
     },
     "user_tz": -330
    },
    "id": "W-mBpviiDDAE",
    "outputId": "0500bbf1-01ba-489e-d551-d454b9b3aa58"
   },
   "outputs": [
    {
     "data": {
      "text/plain": [
       "tuple"
      ]
     },
     "execution_count": 15,
     "metadata": {},
     "output_type": "execute_result"
    }
   ],
   "source": [
    "type(mixed_tuple)"
   ]
  },
  {
   "cell_type": "markdown",
   "id": "09a0e979",
   "metadata": {
    "id": "zrLdFuCVs6g1"
   },
   "source": [
    "### Example\n",
    "Creating nested tuples"
   ]
  },
  {
   "cell_type": "code",
   "execution_count": 16,
   "id": "a3a7f891",
   "metadata": {
    "id": "zDdzp-pitCt_"
   },
   "outputs": [],
   "source": [
    "nested_tuple = ((1, 2), (3, 4))"
   ]
  },
  {
   "cell_type": "code",
   "execution_count": 17,
   "id": "dadef911",
   "metadata": {
    "colab": {
     "base_uri": "https://localhost:8080/"
    },
    "executionInfo": {
     "elapsed": 342,
     "status": "ok",
     "timestamp": 1702982252522,
     "user": {
      "displayName": "Zerubabel Yonas",
      "userId": "09459892767313995163"
     },
     "user_tz": -330
    },
    "id": "A-0TjQMftPCf",
    "outputId": "459e7a9c-d414-4df0-f55c-b3f98be0a643"
   },
   "outputs": [
    {
     "data": {
      "text/plain": [
       "((1, 2), (3, 4))"
      ]
     },
     "execution_count": 17,
     "metadata": {},
     "output_type": "execute_result"
    }
   ],
   "source": [
    "nested_tuple"
   ]
  },
  {
   "cell_type": "code",
   "execution_count": 18,
   "id": "41361555",
   "metadata": {
    "colab": {
     "base_uri": "https://localhost:8080/"
    },
    "executionInfo": {
     "elapsed": 324,
     "status": "ok",
     "timestamp": 1702982252522,
     "user": {
      "displayName": "Zerubabel Yonas",
      "userId": "09459892767313995163"
     },
     "user_tz": -330
    },
    "id": "DnqeeGvENzK4",
    "outputId": "df42be35-2d4d-4600-f5ad-08b85e7d7ded"
   },
   "outputs": [
    {
     "data": {
      "text/plain": [
       "tuple"
      ]
     },
     "execution_count": 18,
     "metadata": {},
     "output_type": "execute_result"
    }
   ],
   "source": [
    "type(nested_tuple)"
   ]
  },
  {
   "cell_type": "code",
   "execution_count": 20,
   "id": "b8fdd099",
   "metadata": {},
   "outputs": [],
   "source": [
    "nested_list=list(nested_tuple)"
   ]
  },
  {
   "cell_type": "code",
   "execution_count": 23,
   "id": "d1252b87",
   "metadata": {},
   "outputs": [
    {
     "data": {
      "text/plain": [
       "[[1, 2], (3, 4)]"
      ]
     },
     "execution_count": 23,
     "metadata": {},
     "output_type": "execute_result"
    }
   ],
   "source": [
    "nested_list[0]=list(nested_list[0])\n",
    "nested_list"
   ]
  },
  {
   "cell_type": "code",
   "execution_count": 24,
   "id": "d9462f10",
   "metadata": {},
   "outputs": [
    {
     "data": {
      "text/plain": [
       "[[1, 2], [3, 4]]"
      ]
     },
     "execution_count": 24,
     "metadata": {},
     "output_type": "execute_result"
    }
   ],
   "source": [
    "nested_list[1]=list(nested_list[1])\n",
    "nested_list"
   ]
  },
  {
   "cell_type": "markdown",
   "id": "8d07596f",
   "metadata": {
    "id": "A8-PR4DrKD-k"
   },
   "source": [
    "## Indexing and slicing tuples"
   ]
  },
  {
   "cell_type": "markdown",
   "id": "bc63d17c",
   "metadata": {
    "id": "pHTJAARAD5bU"
   },
   "source": [
    "### Example\n",
    "Indexing specific elements from a tuple"
   ]
  },
  {
   "cell_type": "code",
   "execution_count": 25,
   "id": "e833885c",
   "metadata": {
    "colab": {
     "base_uri": "https://localhost:8080/"
    },
    "executionInfo": {
     "elapsed": 155,
     "status": "ok",
     "timestamp": 1702982252524,
     "user": {
      "displayName": "Zerubabel Yonas",
      "userId": "09459892767313995163"
     },
     "user_tz": -330
    },
    "id": "KcIXe4bPKLwd",
    "outputId": "d0cf7fea-f0b9-46f3-aec0-e466a6981e30"
   },
   "outputs": [
    {
     "data": {
      "text/plain": [
       "(10, 3, 5, 6, 2.5, 12)"
      ]
     },
     "execution_count": 25,
     "metadata": {},
     "output_type": "execute_result"
    }
   ],
   "source": [
    "my_tuple = (10, 3, 5, 6, 2.5, 12)\n",
    "my_tuple"
   ]
  },
  {
   "cell_type": "code",
   "execution_count": 26,
   "id": "058f261e",
   "metadata": {
    "colab": {
     "base_uri": "https://localhost:8080/"
    },
    "executionInfo": {
     "elapsed": 139,
     "status": "ok",
     "timestamp": 1702982252524,
     "user": {
      "displayName": "Zerubabel Yonas",
      "userId": "09459892767313995163"
     },
     "user_tz": -330
    },
    "id": "BG8QRMYsK7Mx",
    "outputId": "4786d84b-4335-4604-b445-eaae2190367b"
   },
   "outputs": [
    {
     "data": {
      "text/plain": [
       "10"
      ]
     },
     "execution_count": 26,
     "metadata": {},
     "output_type": "execute_result"
    }
   ],
   "source": [
    "my_tuple[0]"
   ]
  },
  {
   "cell_type": "code",
   "execution_count": 27,
   "id": "163b6560",
   "metadata": {
    "id": "NZN5DillK-nl"
   },
   "outputs": [],
   "source": [
    "first_ele = my_tuple[0]"
   ]
  },
  {
   "cell_type": "code",
   "execution_count": 28,
   "id": "f18a3116",
   "metadata": {
    "colab": {
     "base_uri": "https://localhost:8080/"
    },
    "executionInfo": {
     "elapsed": 123,
     "status": "ok",
     "timestamp": 1702982252524,
     "user": {
      "displayName": "Zerubabel Yonas",
      "userId": "09459892767313995163"
     },
     "user_tz": -330
    },
    "id": "fzLxMnjWLBva",
    "outputId": "dc611fff-0ae6-4c05-8735-1b63ea22be28"
   },
   "outputs": [
    {
     "data": {
      "text/plain": [
       "10"
      ]
     },
     "execution_count": 28,
     "metadata": {},
     "output_type": "execute_result"
    }
   ],
   "source": [
    "first_ele"
   ]
  },
  {
   "cell_type": "code",
   "execution_count": 29,
   "id": "11cfe9dd",
   "metadata": {},
   "outputs": [
    {
     "data": {
      "text/plain": [
       "12"
      ]
     },
     "execution_count": 29,
     "metadata": {},
     "output_type": "execute_result"
    }
   ],
   "source": [
    "my_tuple[-1]"
   ]
  },
  {
   "cell_type": "code",
   "execution_count": 30,
   "id": "9513af73",
   "metadata": {},
   "outputs": [
    {
     "data": {
      "text/plain": [
       "6"
      ]
     },
     "execution_count": 30,
     "metadata": {},
     "output_type": "execute_result"
    }
   ],
   "source": [
    "my_tuple[-3]"
   ]
  },
  {
   "cell_type": "code",
   "execution_count": 31,
   "id": "6fdba8a4",
   "metadata": {
    "colab": {
     "base_uri": "https://localhost:8080/"
    },
    "executionInfo": {
     "elapsed": 107,
     "status": "ok",
     "timestamp": 1702982252524,
     "user": {
      "displayName": "Zerubabel Yonas",
      "userId": "09459892767313995163"
     },
     "user_tz": -330
    },
    "id": "_yp9n7zELDl7",
    "outputId": "72a159bb-ca44-4b88-8031-37c45e36acb5"
   },
   "outputs": [
    {
     "data": {
      "text/plain": [
       "3"
      ]
     },
     "execution_count": 31,
     "metadata": {},
     "output_type": "execute_result"
    }
   ],
   "source": [
    "my_tuple[1]"
   ]
  },
  {
   "cell_type": "code",
   "execution_count": 32,
   "id": "86733ac4",
   "metadata": {
    "id": "iuBNqtWBLHyL"
   },
   "outputs": [],
   "source": [
    "second_ele = my_tuple[1]"
   ]
  },
  {
   "cell_type": "code",
   "execution_count": 33,
   "id": "1695f6f8",
   "metadata": {
    "colab": {
     "base_uri": "https://localhost:8080/"
    },
    "executionInfo": {
     "elapsed": 91,
     "status": "ok",
     "timestamp": 1702982252524,
     "user": {
      "displayName": "Zerubabel Yonas",
      "userId": "09459892767313995163"
     },
     "user_tz": -330
    },
    "id": "wzDcXgRvLK_s",
    "outputId": "ad36ed40-e280-42fc-c68b-0881d8109716"
   },
   "outputs": [
    {
     "data": {
      "text/plain": [
       "3"
      ]
     },
     "execution_count": 33,
     "metadata": {},
     "output_type": "execute_result"
    }
   ],
   "source": [
    "second_ele"
   ]
  },
  {
   "cell_type": "code",
   "execution_count": 34,
   "id": "9db305dc",
   "metadata": {
    "colab": {
     "base_uri": "https://localhost:8080/"
    },
    "executionInfo": {
     "elapsed": 75,
     "status": "ok",
     "timestamp": 1702982252524,
     "user": {
      "displayName": "Zerubabel Yonas",
      "userId": "09459892767313995163"
     },
     "user_tz": -330
    },
    "id": "8R8Z9beCLOzp",
    "outputId": "8c6cd1f0-bffc-4d59-a62d-ccf3469c0704"
   },
   "outputs": [
    {
     "data": {
      "text/plain": [
       "5"
      ]
     },
     "execution_count": 34,
     "metadata": {},
     "output_type": "execute_result"
    }
   ],
   "source": [
    "my_tuple[2]"
   ]
  },
  {
   "cell_type": "code",
   "execution_count": 35,
   "id": "5b0ad597",
   "metadata": {
    "id": "0m6DulHhLRw4"
   },
   "outputs": [],
   "source": [
    "third_ele = my_tuple[2]"
   ]
  },
  {
   "cell_type": "code",
   "execution_count": 36,
   "id": "989f0353",
   "metadata": {
    "colab": {
     "base_uri": "https://localhost:8080/"
    },
    "executionInfo": {
     "elapsed": 60,
     "status": "ok",
     "timestamp": 1702982252525,
     "user": {
      "displayName": "Zerubabel Yonas",
      "userId": "09459892767313995163"
     },
     "user_tz": -330
    },
    "id": "G8giXx4RLVof",
    "outputId": "f9b2d1e3-5ca2-41ed-f19e-b7c6c9b0a102"
   },
   "outputs": [
    {
     "data": {
      "text/plain": [
       "5"
      ]
     },
     "execution_count": 36,
     "metadata": {},
     "output_type": "execute_result"
    }
   ],
   "source": [
    "third_ele"
   ]
  },
  {
   "cell_type": "code",
   "execution_count": 37,
   "id": "29bf1966",
   "metadata": {
    "id": "H7IBXOy7LeX8"
   },
   "outputs": [],
   "source": [
    "last_ele = my_tuple[5]"
   ]
  },
  {
   "cell_type": "code",
   "execution_count": 38,
   "id": "8a60246a",
   "metadata": {
    "colab": {
     "base_uri": "https://localhost:8080/"
    },
    "executionInfo": {
     "elapsed": 43,
     "status": "ok",
     "timestamp": 1702982252525,
     "user": {
      "displayName": "Zerubabel Yonas",
      "userId": "09459892767313995163"
     },
     "user_tz": -330
    },
    "id": "EuKW9GFoLh3M",
    "outputId": "50c1095b-f3b5-4362-bd0b-498af81a3ed6"
   },
   "outputs": [
    {
     "data": {
      "text/plain": [
       "12"
      ]
     },
     "execution_count": 38,
     "metadata": {},
     "output_type": "execute_result"
    }
   ],
   "source": [
    "last_ele"
   ]
  },
  {
   "cell_type": "code",
   "execution_count": 39,
   "id": "539c1298",
   "metadata": {
    "id": "dywSS66VLz7u"
   },
   "outputs": [],
   "source": [
    "last_ele = my_tuple[-1]"
   ]
  },
  {
   "cell_type": "code",
   "execution_count": 40,
   "id": "d12628c1",
   "metadata": {
    "colab": {
     "base_uri": "https://localhost:8080/"
    },
    "executionInfo": {
     "elapsed": 27,
     "status": "ok",
     "timestamp": 1702982252525,
     "user": {
      "displayName": "Zerubabel Yonas",
      "userId": "09459892767313995163"
     },
     "user_tz": -330
    },
    "id": "hW9DQJt1L7xI",
    "outputId": "feb6d570-b488-4e96-8b2c-84cfc540bfe1"
   },
   "outputs": [
    {
     "data": {
      "text/plain": [
       "12"
      ]
     },
     "execution_count": 40,
     "metadata": {},
     "output_type": "execute_result"
    }
   ],
   "source": [
    "last_ele"
   ]
  },
  {
   "cell_type": "code",
   "execution_count": 41,
   "id": "5526bea4",
   "metadata": {
    "id": "2LPL8o1oMAQj"
   },
   "outputs": [],
   "source": [
    "second_last_ele = my_tuple[-2]"
   ]
  },
  {
   "cell_type": "code",
   "execution_count": 42,
   "id": "339f9851",
   "metadata": {
    "colab": {
     "base_uri": "https://localhost:8080/"
    },
    "executionInfo": {
     "elapsed": 3103,
     "status": "ok",
     "timestamp": 1702982255619,
     "user": {
      "displayName": "Zerubabel Yonas",
      "userId": "09459892767313995163"
     },
     "user_tz": -330
    },
    "id": "8Ph5RVRjMDJT",
    "outputId": "5ae6b4dd-e5e1-4b19-9ba6-5b79ff2857b5"
   },
   "outputs": [
    {
     "data": {
      "text/plain": [
       "2.5"
      ]
     },
     "execution_count": 42,
     "metadata": {},
     "output_type": "execute_result"
    }
   ],
   "source": [
    "second_last_ele"
   ]
  },
  {
   "cell_type": "code",
   "execution_count": 43,
   "id": "cf366ecc",
   "metadata": {
    "id": "KMgLFYnjMPuO"
   },
   "outputs": [],
   "source": [
    "thrid_last_ele = my_tuple[-3]"
   ]
  },
  {
   "cell_type": "code",
   "execution_count": 44,
   "id": "20d053b7",
   "metadata": {
    "colab": {
     "base_uri": "https://localhost:8080/"
    },
    "executionInfo": {
     "elapsed": 1604,
     "status": "ok",
     "timestamp": 1702982255619,
     "user": {
      "displayName": "Zerubabel Yonas",
      "userId": "09459892767313995163"
     },
     "user_tz": -330
    },
    "id": "yf_w3WhNMThT",
    "outputId": "d56ce12c-4659-42b9-f49f-6dc0c617f599"
   },
   "outputs": [
    {
     "data": {
      "text/plain": [
       "6"
      ]
     },
     "execution_count": 44,
     "metadata": {},
     "output_type": "execute_result"
    }
   ],
   "source": [
    "thrid_last_ele"
   ]
  },
  {
   "cell_type": "markdown",
   "id": "efa29ac8",
   "metadata": {
    "id": "hu2hDr45Mxur"
   },
   "source": [
    "### Example\n",
    "Indexing elements inside a nested tuple"
   ]
  },
  {
   "cell_type": "code",
   "execution_count": 45,
   "id": "e74c457f",
   "metadata": {
    "id": "8VbZ5OVbMY4H"
   },
   "outputs": [],
   "source": [
    "nested_tuple =  (1, 2, 30, (2013, 2014, 2015), 3.14, ('basketball', 'cricket', 'football'))"
   ]
  },
  {
   "cell_type": "code",
   "execution_count": 46,
   "id": "1c427d6f",
   "metadata": {
    "colab": {
     "base_uri": "https://localhost:8080/"
    },
    "executionInfo": {
     "elapsed": 1587,
     "status": "ok",
     "timestamp": 1702982255620,
     "user": {
      "displayName": "Zerubabel Yonas",
      "userId": "09459892767313995163"
     },
     "user_tz": -330
    },
    "id": "mv6Ia1XmNHTE",
    "outputId": "1b78773c-6d9c-44cf-e02e-4c671ef7a4ef"
   },
   "outputs": [
    {
     "data": {
      "text/plain": [
       "(1, 2, 30, (2013, 2014, 2015), 3.14, ('basketball', 'cricket', 'football'))"
      ]
     },
     "execution_count": 46,
     "metadata": {},
     "output_type": "execute_result"
    }
   ],
   "source": [
    "nested_tuple"
   ]
  },
  {
   "cell_type": "code",
   "execution_count": 47,
   "id": "4b5e65f0",
   "metadata": {
    "id": "9X1O5S0aNxCt"
   },
   "outputs": [],
   "source": [
    "years_tuple = nested_tuple[3]"
   ]
  },
  {
   "cell_type": "code",
   "execution_count": 48,
   "id": "87144783",
   "metadata": {
    "colab": {
     "base_uri": "https://localhost:8080/"
    },
    "executionInfo": {
     "elapsed": 1569,
     "status": "ok",
     "timestamp": 1702982255620,
     "user": {
      "displayName": "Zerubabel Yonas",
      "userId": "09459892767313995163"
     },
     "user_tz": -330
    },
    "id": "1ti0-PSNN5Z6",
    "outputId": "de85e89e-87b9-43f4-a601-5f24049612e0"
   },
   "outputs": [
    {
     "data": {
      "text/plain": [
       "(2013, 2014, 2015)"
      ]
     },
     "execution_count": 48,
     "metadata": {},
     "output_type": "execute_result"
    }
   ],
   "source": [
    "years_tuple"
   ]
  },
  {
   "cell_type": "code",
   "execution_count": 49,
   "id": "8229ab78",
   "metadata": {
    "id": "JqYd3GXVN9yp"
   },
   "outputs": [],
   "source": [
    "years_ele = years_tuple[0]"
   ]
  },
  {
   "cell_type": "code",
   "execution_count": 50,
   "id": "5bf156c6",
   "metadata": {
    "colab": {
     "base_uri": "https://localhost:8080/"
    },
    "executionInfo": {
     "elapsed": 1552,
     "status": "ok",
     "timestamp": 1702982255620,
     "user": {
      "displayName": "Zerubabel Yonas",
      "userId": "09459892767313995163"
     },
     "user_tz": -330
    },
    "id": "11-2CS3kODCO",
    "outputId": "acc2e88f-1337-40d5-f0c0-fc41a2775963"
   },
   "outputs": [
    {
     "data": {
      "text/plain": [
       "2013"
      ]
     },
     "execution_count": 50,
     "metadata": {},
     "output_type": "execute_result"
    }
   ],
   "source": [
    "years_ele"
   ]
  },
  {
   "cell_type": "code",
   "execution_count": 51,
   "id": "e862ef77",
   "metadata": {
    "id": "XbPIJH49OEgo"
   },
   "outputs": [],
   "source": [
    "years_ele = nested_tuple[3][0]"
   ]
  },
  {
   "cell_type": "code",
   "execution_count": 52,
   "id": "eaed6eb8",
   "metadata": {
    "colab": {
     "base_uri": "https://localhost:8080/"
    },
    "executionInfo": {
     "elapsed": 1540,
     "status": "ok",
     "timestamp": 1702982255626,
     "user": {
      "displayName": "Zerubabel Yonas",
      "userId": "09459892767313995163"
     },
     "user_tz": -330
    },
    "id": "GouSWWYkOPQr",
    "outputId": "8d24885b-dd6d-4438-d9c6-070f4cb64a3f"
   },
   "outputs": [
    {
     "data": {
      "text/plain": [
       "2013"
      ]
     },
     "execution_count": 52,
     "metadata": {},
     "output_type": "execute_result"
    }
   ],
   "source": [
    "years_ele"
   ]
  },
  {
   "cell_type": "markdown",
   "id": "d6a70e50",
   "metadata": {
    "id": "H2RWPUNfP__3"
   },
   "source": [
    "### Example\n",
    "Slicing elements from a tuple"
   ]
  },
  {
   "cell_type": "code",
   "execution_count": 53,
   "id": "5013356d",
   "metadata": {
    "colab": {
     "base_uri": "https://localhost:8080/"
    },
    "executionInfo": {
     "elapsed": 1471,
     "status": "ok",
     "timestamp": 1702982255627,
     "user": {
      "displayName": "Zerubabel Yonas",
      "userId": "09459892767313995163"
     },
     "user_tz": -330
    },
    "id": "QpYnjCAQQGOX",
    "outputId": "d67a6e7b-6ee8-4896-cb15-d6b31ef4783a"
   },
   "outputs": [
    {
     "data": {
      "text/plain": [
       "(10, 3, 5, 6, 2.5, 12)"
      ]
     },
     "execution_count": 53,
     "metadata": {},
     "output_type": "execute_result"
    }
   ],
   "source": [
    "my_tuple"
   ]
  },
  {
   "cell_type": "code",
   "execution_count": 54,
   "id": "b7f1299d",
   "metadata": {
    "colab": {
     "base_uri": "https://localhost:8080/"
    },
    "executionInfo": {
     "elapsed": 1455,
     "status": "ok",
     "timestamp": 1702982255627,
     "user": {
      "displayName": "Zerubabel Yonas",
      "userId": "09459892767313995163"
     },
     "user_tz": -330
    },
    "id": "uJa1rH2lQJYj",
    "outputId": "77c1e451-16bf-401b-cd47-8060aaf21924"
   },
   "outputs": [
    {
     "data": {
      "text/plain": [
       "(10,)"
      ]
     },
     "execution_count": 54,
     "metadata": {},
     "output_type": "execute_result"
    }
   ],
   "source": [
    "my_tuple[0:1]"
   ]
  },
  {
   "cell_type": "code",
   "execution_count": 55,
   "id": "6614d820",
   "metadata": {
    "colab": {
     "base_uri": "https://localhost:8080/"
    },
    "executionInfo": {
     "elapsed": 1439,
     "status": "ok",
     "timestamp": 1702982255627,
     "user": {
      "displayName": "Zerubabel Yonas",
      "userId": "09459892767313995163"
     },
     "user_tz": -330
    },
    "id": "bK-YxSqjQP0-",
    "outputId": "84c95fff-df61-4068-a887-9bba5b38227e"
   },
   "outputs": [
    {
     "data": {
      "text/plain": [
       "(10,)"
      ]
     },
     "execution_count": 55,
     "metadata": {},
     "output_type": "execute_result"
    }
   ],
   "source": [
    "my_tuple[:1]"
   ]
  },
  {
   "cell_type": "code",
   "execution_count": 56,
   "id": "b3cfc3d9",
   "metadata": {
    "colab": {
     "base_uri": "https://localhost:8080/"
    },
    "executionInfo": {
     "elapsed": 1423,
     "status": "ok",
     "timestamp": 1702982255627,
     "user": {
      "displayName": "Zerubabel Yonas",
      "userId": "09459892767313995163"
     },
     "user_tz": -330
    },
    "id": "NoIuwES1QZ7s",
    "outputId": "266dec86-dbf9-4573-f940-f70f399ccdf5"
   },
   "outputs": [
    {
     "data": {
      "text/plain": [
       "(10, 3)"
      ]
     },
     "execution_count": 56,
     "metadata": {},
     "output_type": "execute_result"
    }
   ],
   "source": [
    "my_tuple[0:2]"
   ]
  },
  {
   "cell_type": "code",
   "execution_count": 57,
   "id": "d19599cc",
   "metadata": {
    "colab": {
     "base_uri": "https://localhost:8080/"
    },
    "executionInfo": {
     "elapsed": 1408,
     "status": "ok",
     "timestamp": 1702982255627,
     "user": {
      "displayName": "Zerubabel Yonas",
      "userId": "09459892767313995163"
     },
     "user_tz": -330
    },
    "id": "llwOsI6EQjZ6",
    "outputId": "1e92e9ae-9600-45dd-9b40-8a55031bef60"
   },
   "outputs": [
    {
     "data": {
      "text/plain": [
       "(10, 3)"
      ]
     },
     "execution_count": 57,
     "metadata": {},
     "output_type": "execute_result"
    }
   ],
   "source": [
    "my_tuple[:2]"
   ]
  },
  {
   "cell_type": "code",
   "execution_count": 58,
   "id": "2f0d73a1",
   "metadata": {
    "colab": {
     "base_uri": "https://localhost:8080/"
    },
    "executionInfo": {
     "elapsed": 1393,
     "status": "ok",
     "timestamp": 1702982255628,
     "user": {
      "displayName": "Zerubabel Yonas",
      "userId": "09459892767313995163"
     },
     "user_tz": -330
    },
    "id": "3DlmkoLnQqwy",
    "outputId": "c7e06b8d-5769-4527-aa79-fa50c293b985"
   },
   "outputs": [
    {
     "data": {
      "text/plain": [
       "(3, 5, 6, 2.5, 12)"
      ]
     },
     "execution_count": 58,
     "metadata": {},
     "output_type": "execute_result"
    }
   ],
   "source": [
    "my_tuple[1:6]"
   ]
  },
  {
   "cell_type": "code",
   "execution_count": 59,
   "id": "33c83c7b",
   "metadata": {
    "colab": {
     "base_uri": "https://localhost:8080/"
    },
    "executionInfo": {
     "elapsed": 1376,
     "status": "ok",
     "timestamp": 1702982255628,
     "user": {
      "displayName": "Zerubabel Yonas",
      "userId": "09459892767313995163"
     },
     "user_tz": -330
    },
    "id": "Ec2qu9qwQ1TG",
    "outputId": "2419f7f1-3472-4cdf-bb7a-e0237cbe7723"
   },
   "outputs": [
    {
     "data": {
      "text/plain": [
       "(3, 5, 6, 2.5, 12)"
      ]
     },
     "execution_count": 59,
     "metadata": {},
     "output_type": "execute_result"
    }
   ],
   "source": [
    "my_tuple[1:]"
   ]
  },
  {
   "cell_type": "code",
   "execution_count": 60,
   "id": "6b83ec3d",
   "metadata": {
    "colab": {
     "base_uri": "https://localhost:8080/"
    },
    "executionInfo": {
     "elapsed": 1360,
     "status": "ok",
     "timestamp": 1702982255628,
     "user": {
      "displayName": "Zerubabel Yonas",
      "userId": "09459892767313995163"
     },
     "user_tz": -330
    },
    "id": "3C1nvuQ4REb8",
    "outputId": "290fbbd2-1ce6-4b85-e4b3-9afb1bba2a5f"
   },
   "outputs": [
    {
     "data": {
      "text/plain": [
       "(5, 6, 2.5, 12)"
      ]
     },
     "execution_count": 60,
     "metadata": {},
     "output_type": "execute_result"
    }
   ],
   "source": [
    "my_tuple[2:6]"
   ]
  },
  {
   "cell_type": "code",
   "execution_count": 61,
   "id": "d41ce06e",
   "metadata": {
    "colab": {
     "base_uri": "https://localhost:8080/"
    },
    "executionInfo": {
     "elapsed": 1345,
     "status": "ok",
     "timestamp": 1702982255628,
     "user": {
      "displayName": "Zerubabel Yonas",
      "userId": "09459892767313995163"
     },
     "user_tz": -330
    },
    "id": "HHRxO7nsRYMT",
    "outputId": "74d899b4-4b2e-4715-c7e4-d6819888ae66"
   },
   "outputs": [
    {
     "data": {
      "text/plain": [
       "(5, 6, 2.5, 12)"
      ]
     },
     "execution_count": 61,
     "metadata": {},
     "output_type": "execute_result"
    }
   ],
   "source": [
    "my_tuple[2:]"
   ]
  },
  {
   "cell_type": "code",
   "execution_count": 62,
   "id": "7a7c0902",
   "metadata": {
    "colab": {
     "base_uri": "https://localhost:8080/"
    },
    "executionInfo": {
     "elapsed": 1329,
     "status": "ok",
     "timestamp": 1702982255628,
     "user": {
      "displayName": "Zerubabel Yonas",
      "userId": "09459892767313995163"
     },
     "user_tz": -330
    },
    "id": "84-c5cyeRatS",
    "outputId": "96c0c943-ab2c-48ad-986a-ee242f197e25"
   },
   "outputs": [
    {
     "data": {
      "text/plain": [
       "(10, 3, 5, 6, 2.5, 12)"
      ]
     },
     "execution_count": 62,
     "metadata": {},
     "output_type": "execute_result"
    }
   ],
   "source": [
    "my_tuple[0:6]"
   ]
  },
  {
   "cell_type": "code",
   "execution_count": 63,
   "id": "4ced16b8",
   "metadata": {
    "colab": {
     "base_uri": "https://localhost:8080/"
    },
    "executionInfo": {
     "elapsed": 1314,
     "status": "ok",
     "timestamp": 1702982255628,
     "user": {
      "displayName": "Zerubabel Yonas",
      "userId": "09459892767313995163"
     },
     "user_tz": -330
    },
    "id": "yn2PlIvqRoLk",
    "outputId": "403f7ec1-0e57-41f3-ebde-30f3b52b6804"
   },
   "outputs": [
    {
     "data": {
      "text/plain": [
       "(10, 3, 5, 6, 2.5, 12)"
      ]
     },
     "execution_count": 63,
     "metadata": {},
     "output_type": "execute_result"
    }
   ],
   "source": [
    "my_tuple[:6]"
   ]
  },
  {
   "cell_type": "markdown",
   "id": "82087e0c",
   "metadata": {
    "id": "QBGYDi3s5F30"
   },
   "source": [
    "## Operations on tuples - getting information about tuples"
   ]
  },
  {
   "cell_type": "markdown",
   "id": "f6e9409f",
   "metadata": {
    "id": "C7NWK5va5kwi"
   },
   "source": [
    "### Example\n",
    "Finding lengths of tuples"
   ]
  },
  {
   "cell_type": "code",
   "execution_count": 64,
   "id": "99ed1e8f",
   "metadata": {
    "id": "kwySVbd2U6ov"
   },
   "outputs": [],
   "source": [
    "my_tuple = (2, 3, 4)"
   ]
  },
  {
   "cell_type": "code",
   "execution_count": 65,
   "id": "e4996b44",
   "metadata": {
    "id": "XooA3QibU6ow",
    "outputId": "6ab06deb-04ed-434f-ed3e-c4899c402732"
   },
   "outputs": [
    {
     "data": {
      "text/plain": [
       "3"
      ]
     },
     "execution_count": 65,
     "metadata": {},
     "output_type": "execute_result"
    }
   ],
   "source": [
    "len(my_tuple)"
   ]
  },
  {
   "cell_type": "code",
   "execution_count": 66,
   "id": "5fed45fd",
   "metadata": {
    "id": "76KE4iSV5kAi"
   },
   "outputs": [],
   "source": [
    "my_tuple = (1.0, 4.0, 2.0, 3.0, 5.0, 6.0, 3.0, 4.0, 5.0, 7.0, 5.0, 6.0, 7.0, 3.0, 5.0, 6.0, 7.0)"
   ]
  },
  {
   "cell_type": "code",
   "execution_count": 67,
   "id": "b4b7b799",
   "metadata": {
    "colab": {
     "base_uri": "https://localhost:8080/"
    },
    "executionInfo": {
     "elapsed": 1130,
     "status": "ok",
     "timestamp": 1702982255631,
     "user": {
      "displayName": "Zerubabel Yonas",
      "userId": "09459892767313995163"
     },
     "user_tz": -330
    },
    "id": "T6yA2PJG7Qp9",
    "outputId": "7e847354-a0ba-4a1a-f52c-134770f3c42e"
   },
   "outputs": [
    {
     "data": {
      "text/plain": [
       "17"
      ]
     },
     "execution_count": 67,
     "metadata": {},
     "output_type": "execute_result"
    }
   ],
   "source": [
    "len(my_tuple)"
   ]
  },
  {
   "cell_type": "markdown",
   "id": "04ecd8e2",
   "metadata": {
    "id": "qr2Of4zhAcOM"
   },
   "source": [
    "### Example\n",
    "Checking the presence or absence of elements in tuples"
   ]
  },
  {
   "cell_type": "code",
   "execution_count": 68,
   "id": "0e526ac2",
   "metadata": {
    "id": "sDfytlRLATNG"
   },
   "outputs": [],
   "source": [
    "my_tuple = (1, 2, 3, 4, 5, 6)"
   ]
  },
  {
   "cell_type": "code",
   "execution_count": 80,
   "id": "5b4c6bc8",
   "metadata": {
    "colab": {
     "base_uri": "https://localhost:8080/"
    },
    "executionInfo": {
     "elapsed": 960,
     "status": "ok",
     "timestamp": 1702982255634,
     "user": {
      "displayName": "Zerubabel Yonas",
      "userId": "09459892767313995163"
     },
     "user_tz": -330
    },
    "id": "sKwHUnbfAonn",
    "outputId": "320fc392-d108-40e3-b6a2-f33b18101be3"
   },
   "outputs": [
    {
     "data": {
      "text/plain": [
       "True"
      ]
     },
     "execution_count": 80,
     "metadata": {},
     "output_type": "execute_result"
    }
   ],
   "source": [
    "1 in my_tuple"
   ]
  },
  {
   "cell_type": "code",
   "execution_count": 82,
   "id": "70ce5024",
   "metadata": {
    "colab": {
     "base_uri": "https://localhost:8080/"
    },
    "executionInfo": {
     "elapsed": 945,
     "status": "ok",
     "timestamp": 1702982255634,
     "user": {
      "displayName": "Zerubabel Yonas",
      "userId": "09459892767313995163"
     },
     "user_tz": -330
    },
    "id": "9EX7xkkhA0Dg",
    "outputId": "5fef17dc-f121-47d2-f55c-31a1994b48ea"
   },
   "outputs": [
    {
     "data": {
      "text/plain": [
       "True"
      ]
     },
     "execution_count": 82,
     "metadata": {},
     "output_type": "execute_result"
    }
   ],
   "source": [
    "3 in my_tuple"
   ]
  },
  {
   "cell_type": "code",
   "execution_count": 71,
   "id": "bb4caf90",
   "metadata": {
    "colab": {
     "base_uri": "https://localhost:8080/"
    },
    "executionInfo": {
     "elapsed": 929,
     "status": "ok",
     "timestamp": 1702982255634,
     "user": {
      "displayName": "Zerubabel Yonas",
      "userId": "09459892767313995163"
     },
     "user_tz": -330
    },
    "id": "ICCWGTqFA67i",
    "outputId": "597e91ec-b3cf-42ca-b3c0-6e69c07eb390"
   },
   "outputs": [
    {
     "data": {
      "text/plain": [
       "False"
      ]
     },
     "execution_count": 71,
     "metadata": {},
     "output_type": "execute_result"
    }
   ],
   "source": [
    "9 in my_tuple"
   ]
  },
  {
   "cell_type": "code",
   "execution_count": 72,
   "id": "0817e371",
   "metadata": {},
   "outputs": [
    {
     "data": {
      "text/plain": [
       "(4, 3.14, 't', 'text', [5, 3], (0, 0, 0))"
      ]
     },
     "execution_count": 72,
     "metadata": {},
     "output_type": "execute_result"
    }
   ],
   "source": [
    "mixed_tuple"
   ]
  },
  {
   "cell_type": "code",
   "execution_count": 73,
   "id": "cbdec63e",
   "metadata": {},
   "outputs": [
    {
     "data": {
      "text/plain": [
       "True"
      ]
     },
     "execution_count": 73,
     "metadata": {},
     "output_type": "execute_result"
    }
   ],
   "source": [
    "\"text\" in mixed_tuple"
   ]
  },
  {
   "cell_type": "code",
   "execution_count": 75,
   "id": "fab71a21",
   "metadata": {},
   "outputs": [
    {
     "data": {
      "text/plain": [
       "False"
      ]
     },
     "execution_count": 75,
     "metadata": {},
     "output_type": "execute_result"
    }
   ],
   "source": [
    "5 in mixed_tuple"
   ]
  },
  {
   "cell_type": "code",
   "execution_count": 76,
   "id": "57114357",
   "metadata": {},
   "outputs": [
    {
     "data": {
      "text/plain": [
       "True"
      ]
     },
     "execution_count": 76,
     "metadata": {},
     "output_type": "execute_result"
    }
   ],
   "source": [
    "[5,3] in mixed_tuple"
   ]
  },
  {
   "cell_type": "markdown",
   "id": "35475d74",
   "metadata": {
    "id": "TKha7quY8WFB"
   },
   "source": [
    "### Example\n",
    "Finding the index of tuple elements"
   ]
  },
  {
   "cell_type": "code",
   "execution_count": 83,
   "id": "ccaf5aca",
   "metadata": {
    "id": "EiElYE5B8VYr"
   },
   "outputs": [],
   "source": [
    "my_tuple = ('H', 1.6, (1, 3), 'P')"
   ]
  },
  {
   "cell_type": "code",
   "execution_count": 84,
   "id": "ed93d467",
   "metadata": {
    "id": "RQ_i_2IyU6o5",
    "outputId": "eb1126ac-1f24-4e05-8e49-942b0617436a"
   },
   "outputs": [
    {
     "data": {
      "text/plain": [
       "('H', 1.6, (1, 3), 'P')"
      ]
     },
     "execution_count": 84,
     "metadata": {},
     "output_type": "execute_result"
    }
   ],
   "source": [
    "my_tuple"
   ]
  },
  {
   "cell_type": "code",
   "execution_count": 85,
   "id": "f86ae304",
   "metadata": {
    "id": "kIRfeXNz8sEd"
   },
   "outputs": [],
   "source": [
    "index_of_H = my_tuple.index('H')"
   ]
  },
  {
   "cell_type": "code",
   "execution_count": 86,
   "id": "87ec5235",
   "metadata": {
    "colab": {
     "base_uri": "https://localhost:8080/"
    },
    "executionInfo": {
     "elapsed": 1084,
     "status": "ok",
     "timestamp": 1702982255632,
     "user": {
      "displayName": "Zerubabel Yonas",
      "userId": "09459892767313995163"
     },
     "user_tz": -330
    },
    "id": "xPGdfMVp8yoS",
    "outputId": "c6cbfa3f-ffee-43ba-d0dc-41e26d82842d"
   },
   "outputs": [
    {
     "data": {
      "text/plain": [
       "0"
      ]
     },
     "execution_count": 86,
     "metadata": {},
     "output_type": "execute_result"
    }
   ],
   "source": [
    "index_of_H"
   ]
  },
  {
   "cell_type": "code",
   "execution_count": 87,
   "id": "3bd99612",
   "metadata": {
    "id": "OF6_14wq86L4"
   },
   "outputs": [],
   "source": [
    "index_of_P =  my_tuple.index('P')"
   ]
  },
  {
   "cell_type": "code",
   "execution_count": 88,
   "id": "4a6ea386",
   "metadata": {
    "colab": {
     "base_uri": "https://localhost:8080/"
    },
    "executionInfo": {
     "elapsed": 1069,
     "status": "ok",
     "timestamp": 1702982255632,
     "user": {
      "displayName": "Zerubabel Yonas",
      "userId": "09459892767313995163"
     },
     "user_tz": -330
    },
    "id": "it9orGn59DBt",
    "outputId": "02ebecbd-ad14-429f-8f7e-e15cbfdf44ae"
   },
   "outputs": [
    {
     "data": {
      "text/plain": [
       "3"
      ]
     },
     "execution_count": 88,
     "metadata": {},
     "output_type": "execute_result"
    }
   ],
   "source": [
    "index_of_P"
   ]
  },
  {
   "cell_type": "code",
   "execution_count": 89,
   "id": "ae3f9dbe",
   "metadata": {
    "colab": {
     "base_uri": "https://localhost:8080/"
    },
    "executionInfo": {
     "elapsed": 1054,
     "status": "ok",
     "timestamp": 1702982255633,
     "user": {
      "displayName": "Zerubabel Yonas",
      "userId": "09459892767313995163"
     },
     "user_tz": -330
    },
    "id": "Um170zNr9FC2",
    "outputId": "2f837f1c-958e-48c6-ecd7-c844dccce39a"
   },
   "outputs": [],
   "source": [
    "index_of_1_6=my_tuple.index(1.6)"
   ]
  },
  {
   "cell_type": "code",
   "execution_count": 90,
   "id": "15f7ec93",
   "metadata": {},
   "outputs": [
    {
     "data": {
      "text/plain": [
       "1"
      ]
     },
     "execution_count": 90,
     "metadata": {},
     "output_type": "execute_result"
    }
   ],
   "source": [
    "index_of_1_6"
   ]
  },
  {
   "cell_type": "code",
   "execution_count": 91,
   "id": "2c8595b0",
   "metadata": {
    "id": "MRjiyk1_U6o8",
    "outputId": "5d9c3515-5188-4ec8-b683-abeae984a49d"
   },
   "outputs": [
    {
     "data": {
      "text/plain": [
       "2"
      ]
     },
     "execution_count": 91,
     "metadata": {},
     "output_type": "execute_result"
    }
   ],
   "source": [
    "my_tuple.index((1, 3))"
   ]
  },
  {
   "cell_type": "code",
   "execution_count": 92,
   "id": "b7fb3ed5",
   "metadata": {},
   "outputs": [
    {
     "data": {
      "text/plain": [
       "0"
      ]
     },
     "execution_count": 92,
     "metadata": {},
     "output_type": "execute_result"
    }
   ],
   "source": [
    "z = (1,2,3,(1,2),True)\n",
    "z.index(True)"
   ]
  },
  {
   "cell_type": "markdown",
   "id": "0e8491e8",
   "metadata": {
    "id": "ml-l1fOCFVUi"
   },
   "source": [
    "### Example\n",
    "Unpacking tuples"
   ]
  },
  {
   "cell_type": "code",
   "execution_count": 101,
   "id": "9da763bf",
   "metadata": {
    "id": "k061q45sFnEw"
   },
   "outputs": [],
   "source": [
    "my_tuple = (1, 2, 3, 4, 5)"
   ]
  },
  {
   "cell_type": "code",
   "execution_count": null,
   "id": "93cf914e",
   "metadata": {},
   "outputs": [],
   "source": [
    "# ele_1=my_tuple[0]\n",
    "# ele_2=my_tuple[1]\n",
    "# ele_3=my_tuple[2]\n",
    "# ele_4=my_tuple[3]\n",
    "# ele_5=my_tuple[4]"
   ]
  },
  {
   "cell_type": "code",
   "execution_count": 95,
   "id": "766e857e",
   "metadata": {
    "id": "3A6YtA7YFu-7"
   },
   "outputs": [],
   "source": [
    "ele_1, ele_2, ele_3, ele_4, ele_5 = my_tuple"
   ]
  },
  {
   "cell_type": "code",
   "execution_count": 96,
   "id": "8ecc5a0b",
   "metadata": {
    "colab": {
     "base_uri": "https://localhost:8080/"
    },
    "executionInfo": {
     "elapsed": 757,
     "status": "ok",
     "timestamp": 1702982255636,
     "user": {
      "displayName": "Zerubabel Yonas",
      "userId": "09459892767313995163"
     },
     "user_tz": -330
    },
    "id": "tiqsp48nF42k",
    "outputId": "9b8231c1-a544-4b23-9f59-3de20e987420"
   },
   "outputs": [
    {
     "data": {
      "text/plain": [
       "1"
      ]
     },
     "execution_count": 96,
     "metadata": {},
     "output_type": "execute_result"
    }
   ],
   "source": [
    "ele_1"
   ]
  },
  {
   "cell_type": "code",
   "execution_count": 97,
   "id": "bcd06bda",
   "metadata": {
    "colab": {
     "base_uri": "https://localhost:8080/"
    },
    "executionInfo": {
     "elapsed": 740,
     "status": "ok",
     "timestamp": 1702982255636,
     "user": {
      "displayName": "Zerubabel Yonas",
      "userId": "09459892767313995163"
     },
     "user_tz": -330
    },
    "id": "KzhHns7YF6VL",
    "outputId": "4e02d023-981f-4015-cd9e-ceec2215d347"
   },
   "outputs": [
    {
     "data": {
      "text/plain": [
       "2"
      ]
     },
     "execution_count": 97,
     "metadata": {},
     "output_type": "execute_result"
    }
   ],
   "source": [
    "ele_2"
   ]
  },
  {
   "cell_type": "code",
   "execution_count": 98,
   "id": "4d1a6385",
   "metadata": {
    "colab": {
     "base_uri": "https://localhost:8080/"
    },
    "executionInfo": {
     "elapsed": 725,
     "status": "ok",
     "timestamp": 1702982255636,
     "user": {
      "displayName": "Zerubabel Yonas",
      "userId": "09459892767313995163"
     },
     "user_tz": -330
    },
    "id": "fFwXxD9cF7kT",
    "outputId": "3b7997a7-f586-47f8-98a1-228d14132aaa"
   },
   "outputs": [
    {
     "data": {
      "text/plain": [
       "3"
      ]
     },
     "execution_count": 98,
     "metadata": {},
     "output_type": "execute_result"
    }
   ],
   "source": [
    "ele_3"
   ]
  },
  {
   "cell_type": "code",
   "execution_count": 99,
   "id": "8ba99854",
   "metadata": {
    "colab": {
     "base_uri": "https://localhost:8080/"
    },
    "executionInfo": {
     "elapsed": 709,
     "status": "ok",
     "timestamp": 1702982255636,
     "user": {
      "displayName": "Zerubabel Yonas",
      "userId": "09459892767313995163"
     },
     "user_tz": -330
    },
    "id": "LS8YtzkRGsKB",
    "outputId": "7bf46360-dddb-41d2-8e1d-7fc5546442e4"
   },
   "outputs": [
    {
     "data": {
      "text/plain": [
       "4"
      ]
     },
     "execution_count": 99,
     "metadata": {},
     "output_type": "execute_result"
    }
   ],
   "source": [
    "ele_4"
   ]
  },
  {
   "cell_type": "code",
   "execution_count": 100,
   "id": "2830226e",
   "metadata": {
    "colab": {
     "base_uri": "https://localhost:8080/"
    },
    "executionInfo": {
     "elapsed": 694,
     "status": "ok",
     "timestamp": 1702982255636,
     "user": {
      "displayName": "Zerubabel Yonas",
      "userId": "09459892767313995163"
     },
     "user_tz": -330
    },
    "id": "f2nvxA9nGttO",
    "outputId": "24938d35-eaca-4bb4-94ee-d1fc1abc8770"
   },
   "outputs": [
    {
     "data": {
      "text/plain": [
       "5"
      ]
     },
     "execution_count": 100,
     "metadata": {},
     "output_type": "execute_result"
    }
   ],
   "source": [
    "ele_5"
   ]
  },
  {
   "cell_type": "code",
   "execution_count": 102,
   "id": "b0e79a2f",
   "metadata": {
    "collapsed": true
   },
   "outputs": [
    {
     "ename": "AttributeError",
     "evalue": "'tuple' object has no attribute 'append'",
     "output_type": "error",
     "traceback": [
      "\u001b[0;31m---------------------------------------------------------------------------\u001b[0m",
      "\u001b[0;31mAttributeError\u001b[0m                            Traceback (most recent call last)",
      "\u001b[0;32m<ipython-input-102-bfae475f6e56>\u001b[0m in \u001b[0;36m<module>\u001b[0;34m\u001b[0m\n\u001b[0;32m----> 1\u001b[0;31m \u001b[0mmy_tuple\u001b[0m\u001b[0;34m.\u001b[0m\u001b[0mappend\u001b[0m\u001b[0;34m(\u001b[0m\u001b[0;36m7\u001b[0m\u001b[0;34m)\u001b[0m\u001b[0;34m\u001b[0m\u001b[0;34m\u001b[0m\u001b[0m\n\u001b[0m",
      "\u001b[0;31mAttributeError\u001b[0m: 'tuple' object has no attribute 'append'"
     ]
    }
   ],
   "source": [
    "my_tuple.append(7)"
   ]
  },
  {
   "cell_type": "code",
   "execution_count": 103,
   "id": "15cd1d5a",
   "metadata": {
    "collapsed": true
   },
   "outputs": [
    {
     "ename": "AttributeError",
     "evalue": "'tuple' object has no attribute 'extend'",
     "output_type": "error",
     "traceback": [
      "\u001b[0;31m---------------------------------------------------------------------------\u001b[0m",
      "\u001b[0;31mAttributeError\u001b[0m                            Traceback (most recent call last)",
      "\u001b[0;32m<ipython-input-103-f8cf4de9e20f>\u001b[0m in \u001b[0;36m<module>\u001b[0;34m\u001b[0m\n\u001b[0;32m----> 1\u001b[0;31m \u001b[0mmy_tuple\u001b[0m\u001b[0;34m.\u001b[0m\u001b[0mextend\u001b[0m\u001b[0;34m(\u001b[0m\u001b[0;34m[\u001b[0m\u001b[0;36m7\u001b[0m\u001b[0;34m]\u001b[0m\u001b[0;34m)\u001b[0m\u001b[0;34m\u001b[0m\u001b[0;34m\u001b[0m\u001b[0m\n\u001b[0m",
      "\u001b[0;31mAttributeError\u001b[0m: 'tuple' object has no attribute 'extend'"
     ]
    }
   ],
   "source": [
    "my_tuple.extend([7])"
   ]
  },
  {
   "cell_type": "code",
   "execution_count": 104,
   "id": "cffddb11",
   "metadata": {},
   "outputs": [
    {
     "data": {
      "text/plain": [
       "1"
      ]
     },
     "execution_count": 104,
     "metadata": {},
     "output_type": "execute_result"
    }
   ],
   "source": [
    "min(my_tuple)"
   ]
  },
  {
   "cell_type": "code",
   "execution_count": 105,
   "id": "25707dde",
   "metadata": {},
   "outputs": [
    {
     "data": {
      "text/plain": [
       "5"
      ]
     },
     "execution_count": 105,
     "metadata": {},
     "output_type": "execute_result"
    }
   ],
   "source": [
    "max(my_tuple)"
   ]
  },
  {
   "cell_type": "code",
   "execution_count": 106,
   "id": "f09bdecb",
   "metadata": {},
   "outputs": [
    {
     "data": {
      "text/plain": [
       "15"
      ]
     },
     "execution_count": 106,
     "metadata": {},
     "output_type": "execute_result"
    }
   ],
   "source": [
    "sum(my_tuple)"
   ]
  },
  {
   "cell_type": "markdown",
   "id": "ed88089b",
   "metadata": {
    "id": "b4SHnGXJEp6g"
   },
   "source": [
    "# Sets\n",
    "Similar to lists and tuples, sets are collections of objects, but they are distinct in that they are unordered and do not support indexing. Created using curly braces `{}`, sets offer unique elements, eliminating duplicates and providing a mechanism for efficient membership testing."
   ]
  },
  {
   "cell_type": "markdown",
   "id": "9c66dbf0",
   "metadata": {
    "id": "VRYz5JUCGHcO"
   },
   "source": [
    "## Creating sets"
   ]
  },
  {
   "cell_type": "markdown",
   "id": "6b0c8e05",
   "metadata": {
    "id": "uV60OucOGRh2"
   },
   "source": [
    "### Example\n",
    "Creating an empty set"
   ]
  },
  {
   "cell_type": "code",
   "execution_count": 122,
   "id": "b9d29545",
   "metadata": {
    "id": "GVrCEfUhGYTw"
   },
   "outputs": [],
   "source": [
    "my_set = set()"
   ]
  },
  {
   "cell_type": "code",
   "execution_count": 123,
   "id": "6b696061",
   "metadata": {
    "colab": {
     "base_uri": "https://localhost:8080/"
    },
    "executionInfo": {
     "elapsed": 885,
     "status": "ok",
     "timestamp": 1702982257256,
     "user": {
      "displayName": "Zerubabel Yonas",
      "userId": "09459892767313995163"
     },
     "user_tz": -330
    },
    "id": "XQlbNtBkGZ50",
    "outputId": "c7fe673e-24d6-45d6-c893-343d099f4452"
   },
   "outputs": [
    {
     "data": {
      "text/plain": [
       "set"
      ]
     },
     "execution_count": 123,
     "metadata": {},
     "output_type": "execute_result"
    }
   ],
   "source": [
    "type(my_set)"
   ]
  },
  {
   "cell_type": "markdown",
   "id": "7a67a18c",
   "metadata": {
    "id": "zrBvy3XQGrv1"
   },
   "source": [
    "Note that the syntax to create empty sets and dictionaries is identical. You will learn about dictionaries in detail later."
   ]
  },
  {
   "cell_type": "code",
   "execution_count": 124,
   "id": "1af4a34d",
   "metadata": {
    "id": "_0oRCotJU6pg"
   },
   "outputs": [],
   "source": [
    "my_list = []"
   ]
  },
  {
   "cell_type": "code",
   "execution_count": 125,
   "id": "a3c708c0",
   "metadata": {
    "id": "DDOT5jqcU6pg"
   },
   "outputs": [],
   "source": [
    "my_set = set(my_list)"
   ]
  },
  {
   "cell_type": "code",
   "execution_count": 126,
   "id": "6b032ca9",
   "metadata": {
    "id": "IYYproWBU6pg",
    "outputId": "a903fc48-ba99-4a31-eec5-66eb03b0d254"
   },
   "outputs": [
    {
     "data": {
      "text/plain": [
       "set"
      ]
     },
     "execution_count": 126,
     "metadata": {},
     "output_type": "execute_result"
    }
   ],
   "source": [
    "type(my_set)"
   ]
  },
  {
   "cell_type": "code",
   "execution_count": 127,
   "id": "e65b2b19",
   "metadata": {
    "id": "IlhTDO27U6pg",
    "outputId": "fa84ce52-0750-4a75-fbee-b155bb3b165e"
   },
   "outputs": [
    {
     "data": {
      "text/plain": [
       "set()"
      ]
     },
     "execution_count": 127,
     "metadata": {},
     "output_type": "execute_result"
    }
   ],
   "source": [
    "my_set"
   ]
  },
  {
   "cell_type": "markdown",
   "id": "1a0ea3e9",
   "metadata": {
    "id": "s5mdEfdzHDjx"
   },
   "source": [
    "### Example\n",
    "Creating sets with elements"
   ]
  },
  {
   "cell_type": "code",
   "execution_count": 128,
   "id": "47c839e9",
   "metadata": {
    "id": "uK6qKwQ1G_1Q"
   },
   "outputs": [],
   "source": [
    "my_set = {3, 2, 4, 1, 0}"
   ]
  },
  {
   "cell_type": "code",
   "execution_count": 129,
   "id": "6de4cabc",
   "metadata": {
    "colab": {
     "base_uri": "https://localhost:8080/"
    },
    "executionInfo": {
     "elapsed": 870,
     "status": "ok",
     "timestamp": 1702982257257,
     "user": {
      "displayName": "Zerubabel Yonas",
      "userId": "09459892767313995163"
     },
     "user_tz": -330
    },
    "id": "jEfdDE9fHJCG",
    "outputId": "57990feb-4552-49d1-9e69-4b0c2435fd18"
   },
   "outputs": [
    {
     "data": {
      "text/plain": [
       "set"
      ]
     },
     "execution_count": 129,
     "metadata": {},
     "output_type": "execute_result"
    }
   ],
   "source": [
    "type(my_set)"
   ]
  },
  {
   "cell_type": "code",
   "execution_count": 130,
   "id": "99989dad",
   "metadata": {
    "colab": {
     "base_uri": "https://localhost:8080/"
    },
    "executionInfo": {
     "elapsed": 853,
     "status": "ok",
     "timestamp": 1702982257257,
     "user": {
      "displayName": "Zerubabel Yonas",
      "userId": "09459892767313995163"
     },
     "user_tz": -330
    },
    "id": "v4-v2dLjHMLK",
    "outputId": "3b218fca-563f-4b5c-984b-29adbb769706"
   },
   "outputs": [
    {
     "data": {
      "text/plain": [
       "{0, 1, 2, 3, 4}"
      ]
     },
     "execution_count": 130,
     "metadata": {},
     "output_type": "execute_result"
    }
   ],
   "source": [
    "my_set"
   ]
  },
  {
   "cell_type": "code",
   "execution_count": 131,
   "id": "8af0f389",
   "metadata": {
    "colab": {
     "base_uri": "https://localhost:8080/"
    },
    "executionInfo": {
     "elapsed": 837,
     "status": "ok",
     "timestamp": 1702982257257,
     "user": {
      "displayName": "Zerubabel Yonas",
      "userId": "09459892767313995163"
     },
     "user_tz": -330
    },
    "id": "NfT-vGyyHUOi",
    "outputId": "fccd7e14-be59-477b-c36b-4abdf83c0fbd"
   },
   "outputs": [
    {
     "name": "stdout",
     "output_type": "stream",
     "text": [
      "{0, 1, 2, 3, 4}\n"
     ]
    }
   ],
   "source": [
    "print(my_set)"
   ]
  },
  {
   "cell_type": "code",
   "execution_count": 132,
   "id": "4a1a9727",
   "metadata": {
    "id": "jkRFTbf3MM0o"
   },
   "outputs": [],
   "source": [
    "mixed_set = {1, 'a word', 7.23, False, (1, 5)}"
   ]
  },
  {
   "cell_type": "code",
   "execution_count": 133,
   "id": "0a7a7fbc",
   "metadata": {
    "colab": {
     "base_uri": "https://localhost:8080/"
    },
    "executionInfo": {
     "elapsed": 787,
     "status": "ok",
     "timestamp": 1702982257257,
     "user": {
      "displayName": "Zerubabel Yonas",
      "userId": "09459892767313995163"
     },
     "user_tz": -330
    },
    "id": "gU0rh6SyMmJW",
    "outputId": "d67aee3b-4019-4475-cba0-210f4158c65f"
   },
   "outputs": [
    {
     "data": {
      "text/plain": [
       "{(1, 5), 1, 7.23, False, 'a word'}"
      ]
     },
     "execution_count": 133,
     "metadata": {},
     "output_type": "execute_result"
    }
   ],
   "source": [
    "mixed_set"
   ]
  },
  {
   "cell_type": "code",
   "execution_count": 134,
   "id": "33354b92",
   "metadata": {
    "colab": {
     "base_uri": "https://localhost:8080/"
    },
    "executionInfo": {
     "elapsed": 771,
     "status": "ok",
     "timestamp": 1702982257258,
     "user": {
      "displayName": "Zerubabel Yonas",
      "userId": "09459892767313995163"
     },
     "user_tz": -330
    },
    "id": "hCXo63MoMxUD",
    "outputId": "e0872829-df28-4128-9225-8bcd0bce9286"
   },
   "outputs": [
    {
     "data": {
      "text/plain": [
       "set"
      ]
     },
     "execution_count": 134,
     "metadata": {},
     "output_type": "execute_result"
    }
   ],
   "source": [
    "type(mixed_set)"
   ]
  },
  {
   "cell_type": "markdown",
   "id": "ea1457e1",
   "metadata": {
    "id": "Rko6AjhmcN89"
   },
   "source": [
    "## Operations on sets - getting information about sets"
   ]
  },
  {
   "cell_type": "markdown",
   "id": "65f5f762",
   "metadata": {
    "id": "BxPaQWvYcTq7"
   },
   "source": [
    "### Example\n",
    "Finding the length of a set"
   ]
  },
  {
   "cell_type": "code",
   "execution_count": 135,
   "id": "80d028e9",
   "metadata": {
    "id": "AxWmnG1ecyUd"
   },
   "outputs": [],
   "source": [
    "my_set = {1.2, 3.5, 2.8, 4.1, 6.0, 7.3, 5.5, 8.9}"
   ]
  },
  {
   "cell_type": "code",
   "execution_count": 136,
   "id": "18aad25a",
   "metadata": {
    "colab": {
     "base_uri": "https://localhost:8080/"
    },
    "executionInfo": {
     "elapsed": 595,
     "status": "ok",
     "timestamp": 1702982257265,
     "user": {
      "displayName": "Zerubabel Yonas",
      "userId": "09459892767313995163"
     },
     "user_tz": -330
    },
    "id": "KQIBHcPrc-AZ",
    "outputId": "d1937bbf-d7f5-436d-ce07-9a635f7e8e6d"
   },
   "outputs": [
    {
     "data": {
      "text/plain": [
       "8"
      ]
     },
     "execution_count": 136,
     "metadata": {},
     "output_type": "execute_result"
    }
   ],
   "source": [
    "len(my_set)"
   ]
  },
  {
   "cell_type": "markdown",
   "id": "0cb58425",
   "metadata": {
    "id": "-S7p_8cGeT0Y"
   },
   "source": [
    "### Example\n",
    "Check the membership of an element in a set"
   ]
  },
  {
   "cell_type": "code",
   "execution_count": 137,
   "id": "55a612d7",
   "metadata": {
    "id": "-rTgLdPKel_s"
   },
   "outputs": [],
   "source": [
    "my_set = {1, 2, 3, 4, 5, 6, 8, 9, 10}"
   ]
  },
  {
   "cell_type": "code",
   "execution_count": 138,
   "id": "325bcfc9",
   "metadata": {
    "colab": {
     "base_uri": "https://localhost:8080/"
    },
    "executionInfo": {
     "elapsed": 565,
     "status": "ok",
     "timestamp": 1702982257265,
     "user": {
      "displayName": "Zerubabel Yonas",
      "userId": "09459892767313995163"
     },
     "user_tz": -330
    },
    "id": "Fj41nmX2fR3z",
    "outputId": "2a011710-e994-4c21-e07f-1d6a31a80491"
   },
   "outputs": [
    {
     "data": {
      "text/plain": [
       "{1, 2, 3, 4, 5, 6, 8, 9, 10}"
      ]
     },
     "execution_count": 138,
     "metadata": {},
     "output_type": "execute_result"
    }
   ],
   "source": [
    "my_set"
   ]
  },
  {
   "cell_type": "code",
   "execution_count": 139,
   "id": "b01581ea",
   "metadata": {
    "colab": {
     "base_uri": "https://localhost:8080/"
    },
    "executionInfo": {
     "elapsed": 550,
     "status": "ok",
     "timestamp": 1702982257265,
     "user": {
      "displayName": "Zerubabel Yonas",
      "userId": "09459892767313995163"
     },
     "user_tz": -330
    },
    "id": "sG5_ddszfaqT",
    "outputId": "15dd712a-752b-4947-df80-ce02ab44b8f6"
   },
   "outputs": [
    {
     "data": {
      "text/plain": [
       "True"
      ]
     },
     "execution_count": 139,
     "metadata": {},
     "output_type": "execute_result"
    }
   ],
   "source": [
    "3 in my_set"
   ]
  },
  {
   "cell_type": "code",
   "execution_count": 140,
   "id": "2208e876",
   "metadata": {
    "colab": {
     "base_uri": "https://localhost:8080/"
    },
    "executionInfo": {
     "elapsed": 537,
     "status": "ok",
     "timestamp": 1702982257266,
     "user": {
      "displayName": "Zerubabel Yonas",
      "userId": "09459892767313995163"
     },
     "user_tz": -330
    },
    "id": "hz4v2Do-fd4I",
    "outputId": "e81f00af-dda6-49ce-e7f8-b878c2d38bae"
   },
   "outputs": [
    {
     "data": {
      "text/plain": [
       "False"
      ]
     },
     "execution_count": 140,
     "metadata": {},
     "output_type": "execute_result"
    }
   ],
   "source": [
    "7 in my_set"
   ]
  },
  {
   "cell_type": "markdown",
   "id": "382bb235",
   "metadata": {
    "id": "uoWIIgTZpevY"
   },
   "source": [
    "### Example\n",
    "Adding elements to sets"
   ]
  },
  {
   "cell_type": "code",
   "execution_count": 141,
   "id": "ffd71b6a",
   "metadata": {
    "colab": {
     "base_uri": "https://localhost:8080/"
    },
    "executionInfo": {
     "elapsed": 17,
     "status": "ok",
     "timestamp": 1702982312664,
     "user": {
      "displayName": "Zerubabel Yonas",
      "userId": "09459892767313995163"
     },
     "user_tz": -330
    },
    "id": "TCp5RBMwpidv",
    "outputId": "7732b25b-d0ef-4b12-ef3f-549b7eea0c41"
   },
   "outputs": [
    {
     "data": {
      "text/plain": [
       "{1, 2, 3, 4, 5}"
      ]
     },
     "execution_count": 141,
     "metadata": {},
     "output_type": "execute_result"
    }
   ],
   "source": [
    "my_set = {1, 2, 3, 4, 5}\n",
    "my_set"
   ]
  },
  {
   "cell_type": "code",
   "execution_count": 142,
   "id": "51906eba",
   "metadata": {
    "id": "xrezhNJyp6JW"
   },
   "outputs": [],
   "source": [
    "my_set.add(6)"
   ]
  },
  {
   "cell_type": "code",
   "execution_count": 144,
   "id": "86b84cc2",
   "metadata": {
    "colab": {
     "base_uri": "https://localhost:8080/"
    },
    "executionInfo": {
     "elapsed": 22,
     "status": "ok",
     "timestamp": 1702982324102,
     "user": {
      "displayName": "Zerubabel Yonas",
      "userId": "09459892767313995163"
     },
     "user_tz": -330
    },
    "id": "T7fSr-iCp_6Z",
    "outputId": "3a145084-df33-4b5c-fcc9-1d3ae82a6fb4"
   },
   "outputs": [
    {
     "data": {
      "text/plain": [
       "{1, 2, 3, 4, 5, 6}"
      ]
     },
     "execution_count": 144,
     "metadata": {},
     "output_type": "execute_result"
    }
   ],
   "source": [
    "my_set"
   ]
  },
  {
   "cell_type": "markdown",
   "id": "52bfb375",
   "metadata": {
    "id": "gJLDDxWRqMj6"
   },
   "source": [
    "### Example\n",
    "Removing elements from sets"
   ]
  },
  {
   "cell_type": "code",
   "execution_count": 145,
   "id": "6947636d",
   "metadata": {
    "colab": {
     "base_uri": "https://localhost:8080/"
    },
    "executionInfo": {
     "elapsed": 17,
     "status": "ok",
     "timestamp": 1702982400199,
     "user": {
      "displayName": "Zerubabel Yonas",
      "userId": "09459892767313995163"
     },
     "user_tz": -330
    },
    "id": "gGYqecB6qQ5U",
    "outputId": "cb682f77-0236-4dec-f536-adea660b3205"
   },
   "outputs": [
    {
     "data": {
      "text/plain": [
       "{1, 2, 3, 4, 5, 6}"
      ]
     },
     "execution_count": 145,
     "metadata": {},
     "output_type": "execute_result"
    }
   ],
   "source": [
    "my_set"
   ]
  },
  {
   "cell_type": "code",
   "execution_count": 146,
   "id": "23aca0cc",
   "metadata": {
    "id": "UGouWJzeqT91"
   },
   "outputs": [],
   "source": [
    "my_set.remove(4)"
   ]
  },
  {
   "cell_type": "code",
   "execution_count": 147,
   "id": "ae36a10d",
   "metadata": {
    "colab": {
     "base_uri": "https://localhost:8080/"
    },
    "executionInfo": {
     "elapsed": 17,
     "status": "ok",
     "timestamp": 1702982424675,
     "user": {
      "displayName": "Zerubabel Yonas",
      "userId": "09459892767313995163"
     },
     "user_tz": -330
    },
    "id": "YGp9SkyIqYR9",
    "outputId": "56fb954c-9a61-41e1-cca1-e2df127d87f9"
   },
   "outputs": [
    {
     "data": {
      "text/plain": [
       "{1, 2, 3, 5, 6}"
      ]
     },
     "execution_count": 147,
     "metadata": {},
     "output_type": "execute_result"
    }
   ],
   "source": [
    "my_set"
   ]
  },
  {
   "cell_type": "markdown",
   "id": "0e44b20d",
   "metadata": {
    "id": "rO_vP-4Ehxad"
   },
   "source": [
    "## Operations on sets - mathematical operations"
   ]
  },
  {
   "cell_type": "markdown",
   "id": "e8f05565",
   "metadata": {
    "id": "xGasd0KrmIA9"
   },
   "source": [
    "### Example\n",
    "Finding the union of sets"
   ]
  },
  {
   "cell_type": "code",
   "execution_count": 148,
   "id": "89d63b94",
   "metadata": {
    "colab": {
     "base_uri": "https://localhost:8080/"
    },
    "executionInfo": {
     "elapsed": 294,
     "status": "ok",
     "timestamp": 1702982257267,
     "user": {
      "displayName": "Zerubabel Yonas",
      "userId": "09459892767313995163"
     },
     "user_tz": -330
    },
    "id": "MoKv-UB0mNgk",
    "outputId": "99d616b8-f1ab-416b-d16b-b47191b2a1dd"
   },
   "outputs": [
    {
     "data": {
      "text/plain": [
       "{'A', 'B', 'C', 'D', 'E'}"
      ]
     },
     "execution_count": 148,
     "metadata": {},
     "output_type": "execute_result"
    }
   ],
   "source": [
    "A = {'A', 'B', 'C', 'D', 'E'}\n",
    "A"
   ]
  },
  {
   "cell_type": "code",
   "execution_count": 149,
   "id": "5f80efb9",
   "metadata": {
    "colab": {
     "base_uri": "https://localhost:8080/"
    },
    "executionInfo": {
     "elapsed": 280,
     "status": "ok",
     "timestamp": 1702982257267,
     "user": {
      "displayName": "Zerubabel Yonas",
      "userId": "09459892767313995163"
     },
     "user_tz": -330
    },
    "id": "8HZqTA9-mlY3",
    "outputId": "d59f6ef4-1b1b-4b0b-c479-d01d7a27e9b6"
   },
   "outputs": [
    {
     "data": {
      "text/plain": [
       "{6, 7, 8, 9}"
      ]
     },
     "execution_count": 149,
     "metadata": {},
     "output_type": "execute_result"
    }
   ],
   "source": [
    "B = {6, 7, 8, 9}\n",
    "B"
   ]
  },
  {
   "cell_type": "code",
   "execution_count": 150,
   "id": "f82fdeee",
   "metadata": {
    "id": "HDk5nyd4mzVO"
   },
   "outputs": [
    {
     "name": "stdout",
     "output_type": "stream",
     "text": [
      "{'A', 'B', 6, 8, 9, 7, 'D', 'E', 'C'}\n"
     ]
    }
   ],
   "source": [
    "union_AB = A | B\n",
    "print(union_AB)\n",
    "#all elements"
   ]
  },
  {
   "cell_type": "code",
   "execution_count": 151,
   "id": "88cbe9d2",
   "metadata": {},
   "outputs": [
    {
     "data": {
      "text/plain": [
       "{6, 7, 8, 9, 'A', 'B', 'C', 'D', 'E'}"
      ]
     },
     "execution_count": 151,
     "metadata": {},
     "output_type": "execute_result"
    }
   ],
   "source": [
    "A.union(B)"
   ]
  },
  {
   "cell_type": "markdown",
   "id": "c4bd3cba",
   "metadata": {
    "id": "aVfMzmeGnbyH"
   },
   "source": [
    "### Example\n",
    "Finding the intersection of two sets"
   ]
  },
  {
   "cell_type": "code",
   "execution_count": 152,
   "id": "5620482f",
   "metadata": {
    "colab": {
     "base_uri": "https://localhost:8080/"
    },
    "executionInfo": {
     "elapsed": 252,
     "status": "ok",
     "timestamp": 1702982257267,
     "user": {
      "displayName": "Zerubabel Yonas",
      "userId": "09459892767313995163"
     },
     "user_tz": -330
    },
    "id": "GDUrIMGenW_g",
    "outputId": "b885a580-e5ec-4ca5-a3f9-9af179dd8645"
   },
   "outputs": [
    {
     "data": {
      "text/plain": [
       "{'A', 'B', 'C', 'D', 'E'}"
      ]
     },
     "execution_count": 152,
     "metadata": {},
     "output_type": "execute_result"
    }
   ],
   "source": [
    "A"
   ]
  },
  {
   "cell_type": "code",
   "execution_count": 153,
   "id": "29ac7293",
   "metadata": {
    "colab": {
     "base_uri": "https://localhost:8080/"
    },
    "executionInfo": {
     "elapsed": 239,
     "status": "ok",
     "timestamp": 1702982257268,
     "user": {
      "displayName": "Zerubabel Yonas",
      "userId": "09459892767313995163"
     },
     "user_tz": -330
    },
    "id": "7uyr20NLnk1P",
    "outputId": "78711452-9861-40f2-e16a-af6a900d216c"
   },
   "outputs": [
    {
     "data": {
      "text/plain": [
       "{10, 11, 12, 13, 'A', 'D'}"
      ]
     },
     "execution_count": 153,
     "metadata": {},
     "output_type": "execute_result"
    }
   ],
   "source": [
    "C = {10, 'A', 11, 'D', 12, 13}\n",
    "C"
   ]
  },
  {
   "cell_type": "code",
   "execution_count": 154,
   "id": "55b0eda8",
   "metadata": {
    "id": "S-BDep8dn7RM",
    "scrolled": true
   },
   "outputs": [
    {
     "name": "stdout",
     "output_type": "stream",
     "text": [
      "{'A', 'D'}\n"
     ]
    }
   ],
   "source": [
    "intersection_AC = A & C\n",
    "print(intersection_AC)\n",
    "#common elements"
   ]
  },
  {
   "cell_type": "code",
   "execution_count": 155,
   "id": "093d5ac4",
   "metadata": {},
   "outputs": [
    {
     "data": {
      "text/plain": [
       "{'A', 'D'}"
      ]
     },
     "execution_count": 155,
     "metadata": {},
     "output_type": "execute_result"
    }
   ],
   "source": [
    "A.intersection(C)"
   ]
  },
  {
   "cell_type": "markdown",
   "id": "8de85142",
   "metadata": {
    "id": "ukMsE4P2qwkx"
   },
   "source": [
    "### Example\n",
    "Finding the difference between two sets"
   ]
  },
  {
   "cell_type": "code",
   "execution_count": 156,
   "id": "63fcfa65",
   "metadata": {
    "colab": {
     "base_uri": "https://localhost:8080/"
    },
    "executionInfo": {
     "elapsed": 178,
     "status": "ok",
     "timestamp": 1702982257268,
     "user": {
      "displayName": "Zerubabel Yonas",
      "userId": "09459892767313995163"
     },
     "user_tz": -330
    },
    "id": "UDrNfOd-q1Xr",
    "outputId": "9a5f2994-6cbd-4dfc-f0fb-08dd9a920c7b"
   },
   "outputs": [
    {
     "data": {
      "text/plain": [
       "{'A', 'B', 'C', 'D', 'E'}"
      ]
     },
     "execution_count": 156,
     "metadata": {},
     "output_type": "execute_result"
    }
   ],
   "source": [
    "A"
   ]
  },
  {
   "cell_type": "code",
   "execution_count": 157,
   "id": "e252ba44",
   "metadata": {
    "colab": {
     "base_uri": "https://localhost:8080/"
    },
    "executionInfo": {
     "elapsed": 163,
     "status": "ok",
     "timestamp": 1702982257268,
     "user": {
      "displayName": "Zerubabel Yonas",
      "userId": "09459892767313995163"
     },
     "user_tz": -330
    },
    "id": "0Anp_KCwq3S-",
    "outputId": "43de775f-6df4-448b-ceec-222cf02dda24"
   },
   "outputs": [
    {
     "data": {
      "text/plain": [
       "{10, 11, 12, 13, 'A', 'D'}"
      ]
     },
     "execution_count": 157,
     "metadata": {},
     "output_type": "execute_result"
    }
   ],
   "source": [
    "C"
   ]
  },
  {
   "cell_type": "code",
   "execution_count": 158,
   "id": "f9e463fc",
   "metadata": {
    "colab": {
     "base_uri": "https://localhost:8080/"
    },
    "executionInfo": {
     "elapsed": 148,
     "status": "ok",
     "timestamp": 1702982257268,
     "user": {
      "displayName": "Zerubabel Yonas",
      "userId": "09459892767313995163"
     },
     "user_tz": -330
    },
    "id": "Oevx0Sugq52A",
    "outputId": "22f40b7e-e698-4881-e678-8008bc20e7c6"
   },
   "outputs": [
    {
     "data": {
      "text/plain": [
       "{'B', 'C', 'E'}"
      ]
     },
     "execution_count": 158,
     "metadata": {},
     "output_type": "execute_result"
    }
   ],
   "source": [
    "A - C\n",
    "# Remove all elements of C from A"
   ]
  },
  {
   "cell_type": "code",
   "execution_count": 159,
   "id": "c71bedd9",
   "metadata": {},
   "outputs": [
    {
     "data": {
      "text/plain": [
       "{'B', 'C', 'E'}"
      ]
     },
     "execution_count": 159,
     "metadata": {},
     "output_type": "execute_result"
    }
   ],
   "source": [
    "A.difference(C)"
   ]
  },
  {
   "cell_type": "code",
   "execution_count": null,
   "id": "85b00704",
   "metadata": {},
   "outputs": [],
   "source": []
  }
 ],
 "metadata": {
  "kernelspec": {
   "display_name": "Python 3",
   "language": "python",
   "name": "python3"
  },
  "language_info": {
   "codemirror_mode": {
    "name": "ipython",
    "version": 3
   },
   "file_extension": ".py",
   "mimetype": "text/x-python",
   "name": "python",
   "nbconvert_exporter": "python",
   "pygments_lexer": "ipython3",
   "version": "3.8.8"
  }
 },
 "nbformat": 4,
 "nbformat_minor": 5
}
