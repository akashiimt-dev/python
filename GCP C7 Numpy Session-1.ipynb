{
 "cells": [
  {
   "cell_type": "markdown",
   "id": "a390aa38",
   "metadata": {
    "id": "RQiU9w7CHB7k"
   },
   "source": [
    "# NumPy - I\n",
    "In this session, we will learn about the basics of NumPy, which is the fundamental package for mathematical computing in Python. **NumPy** stands for **Numerical Python**. The primary use of NumPy is efficient data handling and manipulation.\n",
    "\n",
    "To access `numpy` and its functions import it in your Python code like this: `import numpy as np`"
   ]
  },
  {
   "cell_type": "code",
   "execution_count": 1,
   "id": "d2ea63a3",
   "metadata": {},
   "outputs": [],
   "source": [
    "import numpy as np"
   ]
  },
  {
   "cell_type": "markdown",
   "id": "20ee3d05",
   "metadata": {
    "id": "nvxmgaDCNLg_"
   },
   "source": [
    "# NumPy arrays\n",
    "Arrays are the main ways of storing data when using the `numpy` library. We create these arrays using the `array` method that instantiates an object of the `ndarray` class."
   ]
  },
  {
   "cell_type": "markdown",
   "id": "71604e51",
   "metadata": {
    "id": "3GjNTaOwPSLK"
   },
   "source": [
    "### Example\n",
    "Creating empty arrays"
   ]
  },
  {
   "cell_type": "code",
   "execution_count": 2,
   "id": "92683a6c",
   "metadata": {},
   "outputs": [
    {
     "data": {
      "text/plain": [
       "array([], dtype=float64)"
      ]
     },
     "execution_count": 2,
     "metadata": {},
     "output_type": "execute_result"
    }
   ],
   "source": [
    "np_arr = np.array([])\n",
    "np_arr"
   ]
  },
  {
   "cell_type": "code",
   "execution_count": 3,
   "id": "6119cd8f",
   "metadata": {},
   "outputs": [
    {
     "data": {
      "text/plain": [
       "numpy.ndarray"
      ]
     },
     "execution_count": 3,
     "metadata": {},
     "output_type": "execute_result"
    }
   ],
   "source": [
    "type(np_arr)"
   ]
  },
  {
   "cell_type": "code",
   "execution_count": 4,
   "id": "c59736ca",
   "metadata": {
    "colab": {
     "base_uri": "https://localhost:8080/"
    },
    "executionInfo": {
     "elapsed": 142,
     "status": "ok",
     "timestamp": 1703821476483,
     "user": {
      "displayName": "Dawit Hadush",
      "userId": "03293108265000512791"
     },
     "user_tz": -330
    },
    "id": "bT6nET7lQqOE",
    "outputId": "08acd5ae-a59e-422f-f37a-07a3d388c564"
   },
   "outputs": [
    {
     "name": "stdout",
     "output_type": "stream",
     "text": [
      "[]\n"
     ]
    }
   ],
   "source": [
    "print(np_arr)"
   ]
  },
  {
   "cell_type": "code",
   "execution_count": 5,
   "id": "aa2a343c",
   "metadata": {
    "colab": {
     "base_uri": "https://localhost:8080/"
    },
    "executionInfo": {
     "elapsed": 140,
     "status": "ok",
     "timestamp": 1703821476484,
     "user": {
      "displayName": "Dawit Hadush",
      "userId": "03293108265000512791"
     },
     "user_tz": -330
    },
    "id": "75lKpeeDAd3h",
    "outputId": "2df215e1-257f-4eea-9dc6-1c47f2d6c7f1"
   },
   "outputs": [
    {
     "data": {
      "text/plain": [
       "0"
      ]
     },
     "execution_count": 5,
     "metadata": {},
     "output_type": "execute_result"
    }
   ],
   "source": [
    "len(np_arr)"
   ]
  },
  {
   "cell_type": "markdown",
   "id": "65044dc9",
   "metadata": {
    "id": "_DVKAQHuRg4y"
   },
   "source": [
    "### Example\n",
    "Creating arrays from lists"
   ]
  },
  {
   "cell_type": "code",
   "execution_count": 6,
   "id": "39fec7d7",
   "metadata": {
    "colab": {
     "base_uri": "https://localhost:8080/"
    },
    "executionInfo": {
     "elapsed": 137,
     "status": "ok",
     "timestamp": 1703821476484,
     "user": {
      "displayName": "Dawit Hadush",
      "userId": "03293108265000512791"
     },
     "user_tz": -330
    },
    "id": "cpwkYSONHMCG",
    "outputId": "1175e363-6325-4617-cfe0-f106cedab2be"
   },
   "outputs": [
    {
     "data": {
      "text/plain": [
       "[1, 4, 5, 6]"
      ]
     },
     "execution_count": 6,
     "metadata": {},
     "output_type": "execute_result"
    }
   ],
   "source": [
    "some_list = [1, 4, 5, 6]\n",
    "some_list"
   ]
  },
  {
   "cell_type": "code",
   "execution_count": 7,
   "id": "c1db9369",
   "metadata": {
    "colab": {
     "base_uri": "https://localhost:8080/"
    },
    "executionInfo": {
     "elapsed": 133,
     "status": "ok",
     "timestamp": 1703821476484,
     "user": {
      "displayName": "Dawit Hadush",
      "userId": "03293108265000512791"
     },
     "user_tz": -330
    },
    "id": "l7u90sBlRvlb",
    "outputId": "41bcad5e-fbdc-47ad-bb56-2e409f85fcfa"
   },
   "outputs": [
    {
     "data": {
      "text/plain": [
       "list"
      ]
     },
     "execution_count": 7,
     "metadata": {},
     "output_type": "execute_result"
    }
   ],
   "source": [
    "type(some_list)"
   ]
  },
  {
   "cell_type": "code",
   "execution_count": 8,
   "id": "ca868814",
   "metadata": {},
   "outputs": [
    {
     "data": {
      "text/plain": [
       "array([1, 4, 5, 6])"
      ]
     },
     "execution_count": 8,
     "metadata": {},
     "output_type": "execute_result"
    }
   ],
   "source": [
    "np_arr = np.array(some_list)\n",
    "np_arr"
   ]
  },
  {
   "cell_type": "code",
   "execution_count": 9,
   "id": "cbb3f7ff",
   "metadata": {},
   "outputs": [
    {
     "data": {
      "text/plain": [
       "numpy.ndarray"
      ]
     },
     "execution_count": 9,
     "metadata": {},
     "output_type": "execute_result"
    }
   ],
   "source": [
    "type(np_arr)"
   ]
  },
  {
   "cell_type": "code",
   "execution_count": 10,
   "id": "6f68ba9e",
   "metadata": {
    "colab": {
     "base_uri": "https://localhost:8080/"
    },
    "executionInfo": {
     "elapsed": 142,
     "status": "ok",
     "timestamp": 1703821476483,
     "user": {
      "displayName": "Dawit Hadush",
      "userId": "03293108265000512791"
     },
     "user_tz": -330
    },
    "id": "bT6nET7lQqOE",
    "outputId": "08acd5ae-a59e-422f-f37a-07a3d388c564"
   },
   "outputs": [
    {
     "name": "stdout",
     "output_type": "stream",
     "text": [
      "[1 4 5 6]\n"
     ]
    }
   ],
   "source": [
    "print(np_arr)"
   ]
  },
  {
   "cell_type": "code",
   "execution_count": 11,
   "id": "b1f351c9",
   "metadata": {
    "colab": {
     "base_uri": "https://localhost:8080/"
    },
    "executionInfo": {
     "elapsed": 140,
     "status": "ok",
     "timestamp": 1703821476484,
     "user": {
      "displayName": "Dawit Hadush",
      "userId": "03293108265000512791"
     },
     "user_tz": -330
    },
    "id": "75lKpeeDAd3h",
    "outputId": "2df215e1-257f-4eea-9dc6-1c47f2d6c7f1"
   },
   "outputs": [
    {
     "data": {
      "text/plain": [
       "4"
      ]
     },
     "execution_count": 11,
     "metadata": {},
     "output_type": "execute_result"
    }
   ],
   "source": [
    "len(np_arr)"
   ]
  },
  {
   "cell_type": "markdown",
   "id": "b6fae5c7",
   "metadata": {
    "id": "NGrRnPS7SGcE"
   },
   "source": [
    "### Example\n",
    "Creating arrays from tuples"
   ]
  },
  {
   "cell_type": "code",
   "execution_count": 12,
   "id": "526047d5",
   "metadata": {
    "colab": {
     "base_uri": "https://localhost:8080/"
    },
    "executionInfo": {
     "elapsed": 94,
     "status": "ok",
     "timestamp": 1703821476487,
     "user": {
      "displayName": "Dawit Hadush",
      "userId": "03293108265000512791"
     },
     "user_tz": -330
    },
    "id": "jDk5UY7YSMVy",
    "outputId": "250e3c36-fe41-4f1b-8a82-3766bf39df02"
   },
   "outputs": [
    {
     "name": "stdout",
     "output_type": "stream",
     "text": [
      "(-5, 1, -4, 7, 2) <class 'tuple'>\n"
     ]
    }
   ],
   "source": [
    "some_tuple = (-5, 1, -4, 7, 2)\n",
    "print(some_tuple, type(some_tuple))"
   ]
  },
  {
   "cell_type": "code",
   "execution_count": 14,
   "id": "17c2d461",
   "metadata": {
    "colab": {
     "base_uri": "https://localhost:8080/"
    },
    "executionInfo": {
     "elapsed": 89,
     "status": "ok",
     "timestamp": 1703821476488,
     "user": {
      "displayName": "Dawit Hadush",
      "userId": "03293108265000512791"
     },
     "user_tz": -330
    },
    "id": "AolGgDUaSMSh",
    "outputId": "1e80965a-79ca-44ac-9878-0cf6ce2ecd91"
   },
   "outputs": [
    {
     "name": "stdout",
     "output_type": "stream",
     "text": [
      "[-5  1 -4  7  2]\n"
     ]
    }
   ],
   "source": [
    "np_arr = np.array(some_tuple)\n",
    "print(np_arr)"
   ]
  },
  {
   "cell_type": "code",
   "execution_count": 15,
   "id": "00c29dcf",
   "metadata": {},
   "outputs": [
    {
     "data": {
      "text/plain": [
       "numpy.ndarray"
      ]
     },
     "execution_count": 15,
     "metadata": {},
     "output_type": "execute_result"
    }
   ],
   "source": [
    "type(np_arr)"
   ]
  },
  {
   "cell_type": "markdown",
   "id": "87882b85",
   "metadata": {
    "id": "gJ6R4ojDSzAI"
   },
   "source": [
    "### Example\n",
    "Creating arrays from sets"
   ]
  },
  {
   "cell_type": "code",
   "execution_count": 16,
   "id": "de219f64",
   "metadata": {
    "colab": {
     "base_uri": "https://localhost:8080/"
    },
    "executionInfo": {
     "elapsed": 86,
     "status": "ok",
     "timestamp": 1703821476489,
     "user": {
      "displayName": "Dawit Hadush",
      "userId": "03293108265000512791"
     },
     "user_tz": -330
    },
    "id": "8Jy1MKUqS45W",
    "outputId": "f276c14d-c33a-4c52-848a-dc923f810c35"
   },
   "outputs": [
    {
     "name": "stdout",
     "output_type": "stream",
     "text": [
      "{1.3, 2.8, 8.4, -6.2, -5.6} <class 'set'>\n"
     ]
    }
   ],
   "source": [
    "some_set = {1.3, -5.6, 2.8, -6.2, 8.4}\n",
    "print(some_set, type(some_set))"
   ]
  },
  {
   "cell_type": "code",
   "execution_count": 17,
   "id": "31281337",
   "metadata": {
    "colab": {
     "base_uri": "https://localhost:8080/"
    },
    "executionInfo": {
     "elapsed": 80,
     "status": "ok",
     "timestamp": 1703821476489,
     "user": {
      "displayName": "Dawit Hadush",
      "userId": "03293108265000512791"
     },
     "user_tz": -330
    },
    "id": "XXcYeaAES4qg",
    "outputId": "8988a28f-8a0f-429e-89ce-8884bdd5a324"
   },
   "outputs": [
    {
     "data": {
      "text/plain": [
       "array({1.3, 2.8, 8.4, -6.2, -5.6}, dtype=object)"
      ]
     },
     "execution_count": 17,
     "metadata": {},
     "output_type": "execute_result"
    }
   ],
   "source": [
    "np_arr = np.array(some_set)\n",
    "np_arr"
   ]
  },
  {
   "cell_type": "markdown",
   "id": "2052c319",
   "metadata": {
    "id": "uismT6plRYTY"
   },
   "source": [
    "Sets have no inherent ordering. So, it makes little sense to generate arrays from sets."
   ]
  },
  {
   "cell_type": "markdown",
   "id": "2d833de7",
   "metadata": {
    "id": "UYxldePKGo65"
   },
   "source": [
    "# Multidimensional arrays\n",
    "One of NumPy's fundamental features is its ability to handle multidimensional arrays efficiently. A multidimensional array is an array with more than one dimension or axis."
   ]
  },
  {
   "cell_type": "markdown",
   "id": "8d768653",
   "metadata": {
    "id": "6kK6mwiDufcy"
   },
   "source": [
    "### Example\n",
    "Creating 2D arrays"
   ]
  },
  {
   "cell_type": "code",
   "execution_count": 18,
   "id": "601e4fb3",
   "metadata": {
    "colab": {
     "base_uri": "https://localhost:8080/"
    },
    "executionInfo": {
     "elapsed": 29,
     "status": "ok",
     "timestamp": 1703821476491,
     "user": {
      "displayName": "Dawit Hadush",
      "userId": "03293108265000512791"
     },
     "user_tz": -330
    },
    "id": "U4honlBZHgcI",
    "outputId": "97a5587a-6650-4869-aabd-a2f675415d5e"
   },
   "outputs": [
    {
     "data": {
      "text/plain": [
       "array([[1, 2, 3],\n",
       "       [4, 5, 6]])"
      ]
     },
     "execution_count": 18,
     "metadata": {},
     "output_type": "execute_result"
    }
   ],
   "source": [
    "arr_2d = np.array([[1, 2, 3], [4, 5, 6]])\n",
    "arr_2d"
   ]
  },
  {
   "cell_type": "markdown",
   "id": "2d886575",
   "metadata": {
    "id": "onq-Q1C9thP3"
   },
   "source": [
    "### Example\n",
    "Looking at the number of dimensions or axes in arrays"
   ]
  },
  {
   "cell_type": "code",
   "execution_count": 19,
   "id": "69abad78",
   "metadata": {},
   "outputs": [
    {
     "data": {
      "text/plain": [
       "2"
      ]
     },
     "execution_count": 19,
     "metadata": {},
     "output_type": "execute_result"
    }
   ],
   "source": [
    "arr_2d.ndim"
   ]
  },
  {
   "cell_type": "code",
   "execution_count": 20,
   "id": "7ece7d2d",
   "metadata": {},
   "outputs": [
    {
     "data": {
      "text/plain": [
       "1"
      ]
     },
     "execution_count": 20,
     "metadata": {},
     "output_type": "execute_result"
    }
   ],
   "source": [
    "arr_1d = np.array([1, 2, 3, 4, 5, 6])\n",
    "arr_1d.ndim"
   ]
  },
  {
   "cell_type": "markdown",
   "id": "25777856",
   "metadata": {
    "id": "F5qIL7aHtKoP"
   },
   "source": [
    "### Example\n",
    "Looking at the shape of arrays"
   ]
  },
  {
   "cell_type": "code",
   "execution_count": 21,
   "id": "44edbf74",
   "metadata": {},
   "outputs": [
    {
     "data": {
      "text/plain": [
       "array([[1, 2, 3],\n",
       "       [4, 5, 6]])"
      ]
     },
     "execution_count": 21,
     "metadata": {},
     "output_type": "execute_result"
    }
   ],
   "source": [
    "arr_2d"
   ]
  },
  {
   "cell_type": "code",
   "execution_count": 20,
   "id": "cd4d7a5d",
   "metadata": {},
   "outputs": [
    {
     "data": {
      "text/plain": [
       "(2, 3)"
      ]
     },
     "execution_count": 20,
     "metadata": {},
     "output_type": "execute_result"
    }
   ],
   "source": [
    "arr_2d.shape # (no. of rows, no. of columns)"
   ]
  },
  {
   "cell_type": "code",
   "execution_count": 22,
   "id": "27089a90",
   "metadata": {},
   "outputs": [
    {
     "data": {
      "text/plain": [
       "(6,)"
      ]
     },
     "execution_count": 22,
     "metadata": {},
     "output_type": "execute_result"
    }
   ],
   "source": [
    "arr_1d.shape"
   ]
  },
  {
   "cell_type": "code",
   "execution_count": 23,
   "id": "012b228c",
   "metadata": {},
   "outputs": [
    {
     "data": {
      "text/plain": [
       "6"
      ]
     },
     "execution_count": 23,
     "metadata": {},
     "output_type": "execute_result"
    }
   ],
   "source": [
    "arr_2d.size\n",
    "# Number of elements"
   ]
  },
  {
   "cell_type": "markdown",
   "id": "2803dd1b",
   "metadata": {
    "id": "vp9wSd0Ody-9"
   },
   "source": [
    "### Quiz\n",
    "Extract the size of the array `quiz_arr = np.array([[2, 5, 3, 4], [1, 6, 4, 2], [7, 8, 4,1]])`"
   ]
  },
  {
   "cell_type": "code",
   "execution_count": 24,
   "id": "0624ca1e",
   "metadata": {},
   "outputs": [
    {
     "data": {
      "text/plain": [
       "12"
      ]
     },
     "execution_count": 24,
     "metadata": {},
     "output_type": "execute_result"
    }
   ],
   "source": [
    "quiz_arr = np.array([[2, 5, 3, 4], [1, 6, 4, 2], [7, 8, 4,1]])\n",
    "quiz_arr.size"
   ]
  },
  {
   "cell_type": "code",
   "execution_count": 25,
   "id": "6ef4bae6",
   "metadata": {},
   "outputs": [
    {
     "data": {
      "text/plain": [
       "(3, 4)"
      ]
     },
     "execution_count": 25,
     "metadata": {},
     "output_type": "execute_result"
    }
   ],
   "source": [
    "quiz_arr.shape"
   ]
  },
  {
   "cell_type": "code",
   "execution_count": 26,
   "id": "badece93",
   "metadata": {},
   "outputs": [
    {
     "data": {
      "text/plain": [
       "2"
      ]
     },
     "execution_count": 26,
     "metadata": {},
     "output_type": "execute_result"
    }
   ],
   "source": [
    "quiz_arr.ndim"
   ]
  },
  {
   "cell_type": "markdown",
   "id": "6ed78af0",
   "metadata": {
    "id": "1cS7ayhIIuGW"
   },
   "source": [
    "### Example\n",
    "Accessing elements from 1D arrays"
   ]
  },
  {
   "cell_type": "code",
   "execution_count": 24,
   "id": "ed960e5a",
   "metadata": {
    "colab": {
     "base_uri": "https://localhost:8080/"
    },
    "executionInfo": {
     "elapsed": 176,
     "status": "ok",
     "timestamp": 1703821478149,
     "user": {
      "displayName": "Dawit Hadush",
      "userId": "03293108265000512791"
     },
     "user_tz": -330
    },
    "id": "39dVDNFUe3fl",
    "outputId": "aa0862ca-6446-4258-c940-6d8be05a913e"
   },
   "outputs": [
    {
     "data": {
      "text/plain": [
       "array([ 22, -36,  32,  47,  71, -45])"
      ]
     },
     "execution_count": 24,
     "metadata": {},
     "output_type": "execute_result"
    }
   ],
   "source": [
    "np_arr = np.array([22, -36, 32, 47, 71, -45])\n",
    "np_arr"
   ]
  },
  {
   "cell_type": "code",
   "execution_count": 25,
   "id": "3789cdd0",
   "metadata": {
    "colab": {
     "base_uri": "https://localhost:8080/"
    },
    "executionInfo": {
     "elapsed": 172,
     "status": "ok",
     "timestamp": 1703821478149,
     "user": {
      "displayName": "Dawit Hadush",
      "userId": "03293108265000512791"
     },
     "user_tz": -330
    },
    "id": "ec2Q79yvI1B4",
    "outputId": "fa1006d6-f8ed-4bb3-9ee1-ba75571abaf3"
   },
   "outputs": [
    {
     "data": {
      "text/plain": [
       "22"
      ]
     },
     "execution_count": 25,
     "metadata": {},
     "output_type": "execute_result"
    }
   ],
   "source": [
    "np_arr[0]"
   ]
  },
  {
   "cell_type": "code",
   "execution_count": 26,
   "id": "9a93cf73",
   "metadata": {},
   "outputs": [
    {
     "data": {
      "text/plain": [
       "71"
      ]
     },
     "execution_count": 26,
     "metadata": {},
     "output_type": "execute_result"
    }
   ],
   "source": [
    "np_arr[4]"
   ]
  },
  {
   "cell_type": "code",
   "execution_count": 27,
   "id": "db2f2be8",
   "metadata": {},
   "outputs": [
    {
     "data": {
      "text/plain": [
       "71"
      ]
     },
     "execution_count": 27,
     "metadata": {},
     "output_type": "execute_result"
    }
   ],
   "source": [
    "np_arr[-2]"
   ]
  },
  {
   "cell_type": "markdown",
   "id": "52998b9c",
   "metadata": {
    "id": "kQSI8aNp8ZRJ"
   },
   "source": [
    "### Quiz\n",
    "Extract the element `'Bob'` from `quiz_arr = np.array(['Adil', 'Bob', 'Chandra', 'Dheeraj', 'Eashwar'])`"
   ]
  },
  {
   "cell_type": "code",
   "execution_count": 28,
   "id": "bb340053",
   "metadata": {},
   "outputs": [
    {
     "data": {
      "text/plain": [
       "'Bob'"
      ]
     },
     "execution_count": 28,
     "metadata": {},
     "output_type": "execute_result"
    }
   ],
   "source": [
    "quiz_arr = np.array(['Adil', 'Bob', 'Chandra', 'Dheeraj', 'Eashwar'])\n",
    "quiz_arr[1]"
   ]
  },
  {
   "cell_type": "markdown",
   "id": "3fb6ade0",
   "metadata": {
    "id": "2Y6cqRbvtbK6"
   },
   "source": [
    "### Example\n",
    "Accessing elements from 2D arrays"
   ]
  },
  {
   "cell_type": "code",
   "execution_count": 29,
   "id": "1eaed22b",
   "metadata": {},
   "outputs": [
    {
     "data": {
      "text/plain": [
       "4"
      ]
     },
     "execution_count": 29,
     "metadata": {},
     "output_type": "execute_result"
    }
   ],
   "source": [
    "ls=[[1,2,3],[4,5,6]]\n",
    "ls[1][0]"
   ]
  },
  {
   "cell_type": "code",
   "execution_count": 30,
   "id": "457f4a4f",
   "metadata": {},
   "outputs": [
    {
     "data": {
      "text/plain": [
       "array([['Python', 'R', 'C++'],\n",
       "       ['6', '1', '3']], dtype='<U21')"
      ]
     },
     "execution_count": 30,
     "metadata": {},
     "output_type": "execute_result"
    }
   ],
   "source": [
    "np_arr = np.array([['Python', 'R', 'C++'], [len('Python'), len('R'), len('C++')]])\n",
    "np_arr"
   ]
  },
  {
   "cell_type": "code",
   "execution_count": 31,
   "id": "e014b533",
   "metadata": {},
   "outputs": [
    {
     "data": {
      "text/plain": [
       "'Python'"
      ]
     },
     "execution_count": 31,
     "metadata": {},
     "output_type": "execute_result"
    }
   ],
   "source": [
    "np_arr[0][0]"
   ]
  },
  {
   "cell_type": "code",
   "execution_count": 32,
   "id": "77a79fed",
   "metadata": {},
   "outputs": [
    {
     "data": {
      "text/plain": [
       "'Python'"
      ]
     },
     "execution_count": 32,
     "metadata": {},
     "output_type": "execute_result"
    }
   ],
   "source": [
    "np_arr[0,0]"
   ]
  },
  {
   "cell_type": "code",
   "execution_count": 33,
   "id": "0645a18b",
   "metadata": {},
   "outputs": [
    {
     "data": {
      "text/plain": [
       "'3'"
      ]
     },
     "execution_count": 33,
     "metadata": {},
     "output_type": "execute_result"
    }
   ],
   "source": [
    "np_arr[1][-1]"
   ]
  },
  {
   "cell_type": "code",
   "execution_count": 34,
   "id": "a59bc9f8",
   "metadata": {},
   "outputs": [
    {
     "data": {
      "text/plain": [
       "'3'"
      ]
     },
     "execution_count": 34,
     "metadata": {},
     "output_type": "execute_result"
    }
   ],
   "source": [
    "np_arr[1,-1]"
   ]
  },
  {
   "cell_type": "markdown",
   "id": "27ce46b7",
   "metadata": {
    "id": "Qx16DdedAd4W"
   },
   "source": [
    "### Quiz\n",
    "Count the number of elements in the following array that are greater than 50:\n",
    "```\n",
    "num_arr = np.array([23, 56, 87, 25, 64, 82, 64, 36, 87, 56, 98, 15, 25, 35, 76, 36, 67, 89, 35, 67, 64, 45, 37, 78])\n",
    "```"
   ]
  },
  {
   "cell_type": "code",
   "execution_count": 35,
   "id": "54c0d499",
   "metadata": {},
   "outputs": [],
   "source": [
    "num_arr = np.array([23, 56, 87, 25, 64, 82, 64, 36, 87, 56, 98, 15, 25, 35, 76, 36, 67, 89, 35, 67, 64, 45, 37, 78])\n"
   ]
  },
  {
   "cell_type": "code",
   "execution_count": 37,
   "id": "60937f72",
   "metadata": {},
   "outputs": [
    {
     "data": {
      "text/plain": [
       "14"
      ]
     },
     "execution_count": 37,
     "metadata": {},
     "output_type": "execute_result"
    }
   ],
   "source": [
    "len(num_arr[num_arr>50])"
   ]
  },
  {
   "cell_type": "markdown",
   "id": "4f3880a9",
   "metadata": {
    "id": "ESjG9juOAd4W"
   },
   "source": [
    "### Quiz\n",
    "Count the number of elements in the following array that lie in the range $[50,70]$ (both inclusive):\n",
    "```\n",
    "num_arr = np.array([23, 56, 87, 25, 64, 82, 64, 36, 87, 56, 98, 15, 25, 35, 76, 36, 67, 89, 35, 67, 64, 45, 37, 78])\n",
    "```"
   ]
  },
  {
   "cell_type": "code",
   "execution_count": 38,
   "id": "b2327023",
   "metadata": {},
   "outputs": [],
   "source": [
    "num_arr = np.array([23, 56, 87, 25, 64, 82, 64, 36, 87, 56, 98, 15, 25, 35, 76, 36, 67, 89, 35, 67, 64, 45, 37, 78])\n"
   ]
  },
  {
   "cell_type": "code",
   "execution_count": 40,
   "id": "1ab79114",
   "metadata": {},
   "outputs": [
    {
     "data": {
      "text/plain": [
       "7"
      ]
     },
     "execution_count": 40,
     "metadata": {},
     "output_type": "execute_result"
    }
   ],
   "source": [
    "len(num_arr[(num_arr>=50) & (num_arr<=70)])\n",
    "# & --> and\n",
    "# | --> or"
   ]
  },
  {
   "cell_type": "code",
   "execution_count": 41,
   "id": "656ebbba",
   "metadata": {},
   "outputs": [
    {
     "data": {
      "text/plain": [
       "24"
      ]
     },
     "execution_count": 41,
     "metadata": {},
     "output_type": "execute_result"
    }
   ],
   "source": [
    "len(num_arr[(num_arr>=50) | (num_arr<=70)])"
   ]
  },
  {
   "cell_type": "code",
   "execution_count": 55,
   "id": "befaf327",
   "metadata": {},
   "outputs": [],
   "source": [
    "# Reshape"
   ]
  },
  {
   "cell_type": "code",
   "execution_count": 42,
   "id": "6633e867",
   "metadata": {},
   "outputs": [],
   "source": [
    "np_arr=np.array([[1,2,3,4],[5,6,7,8],[9,10,11,12]])"
   ]
  },
  {
   "cell_type": "code",
   "execution_count": 43,
   "id": "30765a2a",
   "metadata": {},
   "outputs": [
    {
     "data": {
      "text/plain": [
       "(3, 4)"
      ]
     },
     "execution_count": 43,
     "metadata": {},
     "output_type": "execute_result"
    }
   ],
   "source": [
    "np_arr.shape"
   ]
  },
  {
   "cell_type": "code",
   "execution_count": 45,
   "id": "53ece25b",
   "metadata": {
    "collapsed": true
   },
   "outputs": [
    {
     "data": {
      "text/plain": [
       "array([[ 1,  2,  3,  4],\n",
       "       [ 5,  6,  7,  8],\n",
       "       [ 9, 10, 11, 12]])"
      ]
     },
     "execution_count": 45,
     "metadata": {},
     "output_type": "execute_result"
    }
   ],
   "source": [
    "np_arr"
   ]
  },
  {
   "cell_type": "code",
   "execution_count": 44,
   "id": "f2b65fb4",
   "metadata": {
    "collapsed": true
   },
   "outputs": [
    {
     "data": {
      "text/plain": [
       "array([[ 1,  2],\n",
       "       [ 3,  4],\n",
       "       [ 5,  6],\n",
       "       [ 7,  8],\n",
       "       [ 9, 10],\n",
       "       [11, 12]])"
      ]
     },
     "execution_count": 44,
     "metadata": {},
     "output_type": "execute_result"
    }
   ],
   "source": [
    "reshaped_arr=np_arr.reshape(6,2)\n",
    "reshaped_arr"
   ]
  },
  {
   "cell_type": "code",
   "execution_count": 46,
   "id": "daff6ad7",
   "metadata": {
    "collapsed": true
   },
   "outputs": [
    {
     "ename": "ValueError",
     "evalue": "cannot reshape array of size 12 into shape (6,3)",
     "output_type": "error",
     "traceback": [
      "\u001b[0;31m---------------------------------------------------------------------------\u001b[0m",
      "\u001b[0;31mValueError\u001b[0m                                Traceback (most recent call last)",
      "\u001b[0;32m<ipython-input-46-b0edba243f21>\u001b[0m in \u001b[0;36m<module>\u001b[0;34m\u001b[0m\n\u001b[0;32m----> 1\u001b[0;31m \u001b[0mnp_arr\u001b[0m\u001b[0;34m.\u001b[0m\u001b[0mreshape\u001b[0m\u001b[0;34m(\u001b[0m\u001b[0;36m6\u001b[0m\u001b[0;34m,\u001b[0m\u001b[0;36m3\u001b[0m\u001b[0;34m)\u001b[0m\u001b[0;34m\u001b[0m\u001b[0;34m\u001b[0m\u001b[0m\n\u001b[0m",
      "\u001b[0;31mValueError\u001b[0m: cannot reshape array of size 12 into shape (6,3)"
     ]
    }
   ],
   "source": [
    "np_arr.reshape(6,3)"
   ]
  },
  {
   "cell_type": "markdown",
   "id": "cdf7d69f",
   "metadata": {
    "id": "9Uhxmq2HAd4e"
   },
   "source": [
    "### Quiz\n",
    "Consider the array shown below:\n",
    "```\n",
    "np_arr = np.array([5, 7, -2, 3])\n",
    "```\n",
    "Transform `np_arr` to the array shown below:\n",
    "```\n",
    "np.array([[5, -2], [7, 3]])\n",
    "```\n",
    "Try using the `transpose` method on the previous result"
   ]
  },
  {
   "cell_type": "code",
   "execution_count": 48,
   "id": "69bb6b68",
   "metadata": {},
   "outputs": [
    {
     "data": {
      "text/plain": [
       "array([[ 5,  7],\n",
       "       [-2,  3]])"
      ]
     },
     "execution_count": 48,
     "metadata": {},
     "output_type": "execute_result"
    }
   ],
   "source": [
    "np_arr = np.array([5, 7, -2, 3])\n",
    "reshaped_array=np_arr.reshape(2,2)\n",
    "reshaped_array"
   ]
  },
  {
   "cell_type": "code",
   "execution_count": 49,
   "id": "f329b110",
   "metadata": {},
   "outputs": [
    {
     "data": {
      "text/plain": [
       "array([ 5,  7, -2,  3])"
      ]
     },
     "execution_count": 49,
     "metadata": {},
     "output_type": "execute_result"
    }
   ],
   "source": [
    "# Transpose\n",
    "np_arr.T"
   ]
  },
  {
   "cell_type": "code",
   "execution_count": 50,
   "id": "8c0452a1",
   "metadata": {},
   "outputs": [
    {
     "data": {
      "text/plain": [
       "array([ 5,  7, -2,  3])"
      ]
     },
     "execution_count": 50,
     "metadata": {},
     "output_type": "execute_result"
    }
   ],
   "source": [
    "# Transpose\n",
    "np.transpose(np_arr)"
   ]
  },
  {
   "cell_type": "code",
   "execution_count": 51,
   "id": "52d3db45",
   "metadata": {},
   "outputs": [],
   "source": [
    "# Addition"
   ]
  },
  {
   "cell_type": "code",
   "execution_count": 59,
   "id": "20b5cb6b",
   "metadata": {},
   "outputs": [],
   "source": [
    "v1 = np.array([[5, -4], [-3, 2]]) \n",
    "v2 = np.array([[3, -8], [-6, 1]])"
   ]
  },
  {
   "cell_type": "code",
   "execution_count": 53,
   "id": "785914bc",
   "metadata": {},
   "outputs": [
    {
     "data": {
      "text/plain": [
       "array([[  8, -12],\n",
       "       [ -9,   2]])"
      ]
     },
     "execution_count": 53,
     "metadata": {},
     "output_type": "execute_result"
    }
   ],
   "source": [
    "np.add(v1,v2)"
   ]
  },
  {
   "cell_type": "code",
   "execution_count": 54,
   "id": "ac6bcb72",
   "metadata": {},
   "outputs": [
    {
     "data": {
      "text/plain": [
       "array([[  8, -12],\n",
       "       [ -9,   2]])"
      ]
     },
     "execution_count": 54,
     "metadata": {},
     "output_type": "execute_result"
    }
   ],
   "source": [
    "v1+v2"
   ]
  },
  {
   "cell_type": "code",
   "execution_count": 56,
   "id": "f1c1b0e9",
   "metadata": {},
   "outputs": [
    {
     "data": {
      "text/plain": [
       "array([[2, 4],\n",
       "       [3, 2]])"
      ]
     },
     "execution_count": 56,
     "metadata": {},
     "output_type": "execute_result"
    }
   ],
   "source": [
    "np.subtract(v1,v2)"
   ]
  },
  {
   "cell_type": "code",
   "execution_count": 57,
   "id": "9050e856",
   "metadata": {},
   "outputs": [
    {
     "data": {
      "text/plain": [
       "array([[2, 4],\n",
       "       [3, 2]])"
      ]
     },
     "execution_count": 57,
     "metadata": {},
     "output_type": "execute_result"
    }
   ],
   "source": [
    "v1-v2"
   ]
  },
  {
   "cell_type": "code",
   "execution_count": 60,
   "id": "1168ef93",
   "metadata": {},
   "outputs": [
    {
     "data": {
      "text/plain": [
       "array([[1.66666667, 0.5       ],\n",
       "       [0.5       , 2.        ]])"
      ]
     },
     "execution_count": 60,
     "metadata": {},
     "output_type": "execute_result"
    }
   ],
   "source": [
    "np.divide(v1,v2)"
   ]
  },
  {
   "cell_type": "code",
   "execution_count": 61,
   "id": "aec917e0",
   "metadata": {},
   "outputs": [
    {
     "data": {
      "text/plain": [
       "array([[15, 32],\n",
       "       [18,  2]])"
      ]
     },
     "execution_count": 61,
     "metadata": {},
     "output_type": "execute_result"
    }
   ],
   "source": [
    "np.multiply(v1,v2)"
   ]
  },
  {
   "cell_type": "code",
   "execution_count": 62,
   "id": "07663fee",
   "metadata": {},
   "outputs": [
    {
     "data": {
      "text/plain": [
       "array([[15, 32],\n",
       "       [18,  2]])"
      ]
     },
     "execution_count": 62,
     "metadata": {},
     "output_type": "execute_result"
    }
   ],
   "source": [
    "v1*v2"
   ]
  },
  {
   "cell_type": "markdown",
   "id": "a06eb6f4",
   "metadata": {
    "id": "lIqPh99WAd4k"
   },
   "source": [
    "### Quiz\n",
    "Consider the array shown below:\n",
    "```\n",
    "np_arr = np.array([[100, 200, 300], [400, 500, 600], [700, 800, 900]])\n",
    "```\n",
    "What does `np_arr.reshape(-1)` do?"
   ]
  },
  {
   "cell_type": "code",
   "execution_count": 63,
   "id": "587a1a25",
   "metadata": {},
   "outputs": [],
   "source": [
    "# Special Case of reshape"
   ]
  },
  {
   "cell_type": "code",
   "execution_count": 64,
   "id": "20577e1d",
   "metadata": {},
   "outputs": [
    {
     "data": {
      "text/plain": [
       "array([100, 200, 300, 400, 500, 600, 700, 800, 900])"
      ]
     },
     "execution_count": 64,
     "metadata": {},
     "output_type": "execute_result"
    }
   ],
   "source": [
    "np_arr = np.array([[100, 200, 300], [400, 500, 600], [700, 800, 900]])\n",
    "np_arr.reshape(-1) # n dimension to 1d array"
   ]
  },
  {
   "cell_type": "code",
   "execution_count": 66,
   "id": "8bcca01f",
   "metadata": {},
   "outputs": [],
   "source": [
    "## Flatten"
   ]
  },
  {
   "cell_type": "code",
   "execution_count": 65,
   "id": "c10261ed",
   "metadata": {},
   "outputs": [
    {
     "data": {
      "text/plain": [
       "array([100, 200, 300, 400, 500, 600, 700, 800, 900])"
      ]
     },
     "execution_count": 65,
     "metadata": {},
     "output_type": "execute_result"
    }
   ],
   "source": [
    "np_arr.flatten()"
   ]
  },
  {
   "cell_type": "code",
   "execution_count": 67,
   "id": "7cf19686",
   "metadata": {},
   "outputs": [],
   "source": [
    "#np_arr.reshape(-1) is same as np_arr.flatten()"
   ]
  },
  {
   "cell_type": "code",
   "execution_count": null,
   "id": "7a2c4f61",
   "metadata": {},
   "outputs": [],
   "source": []
  }
 ],
 "metadata": {
  "kernelspec": {
   "display_name": "Python 3",
   "language": "python",
   "name": "python3"
  },
  "language_info": {
   "codemirror_mode": {
    "name": "ipython",
    "version": 3
   },
   "file_extension": ".py",
   "mimetype": "text/x-python",
   "name": "python",
   "nbconvert_exporter": "python",
   "pygments_lexer": "ipython3",
   "version": "3.8.8"
  }
 },
 "nbformat": 4,
 "nbformat_minor": 5
}
