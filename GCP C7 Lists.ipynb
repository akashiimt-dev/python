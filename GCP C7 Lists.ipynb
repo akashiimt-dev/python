{
 "cells": [
  {
   "cell_type": "markdown",
   "id": "4160ce8a",
   "metadata": {
    "id": "WEwhRp3T-9rY"
   },
   "source": [
    "# Lists"
   ]
  },
  {
   "cell_type": "markdown",
   "id": "9046044e",
   "metadata": {
    "id": "ey6ycfpfAigb"
   },
   "source": [
    "## Creating lists"
   ]
  },
  {
   "cell_type": "markdown",
   "id": "6e6424b7",
   "metadata": {
    "id": "T1ldMtOfBKbH"
   },
   "source": [
    "### Example 1\n",
    "Creating an empty list"
   ]
  },
  {
   "cell_type": "code",
   "execution_count": 1,
   "id": "f26fd363",
   "metadata": {},
   "outputs": [],
   "source": [
    "my_list = []"
   ]
  },
  {
   "cell_type": "code",
   "execution_count": 2,
   "id": "dd93a896",
   "metadata": {},
   "outputs": [
    {
     "data": {
      "text/plain": [
       "list"
      ]
     },
     "execution_count": 2,
     "metadata": {},
     "output_type": "execute_result"
    }
   ],
   "source": [
    "type(my_list)"
   ]
  },
  {
   "cell_type": "markdown",
   "id": "8819411c",
   "metadata": {
    "id": "HhMKfP67Bdgv"
   },
   "source": [
    "### Example 2\n",
    "Creating lists with elements"
   ]
  },
  {
   "cell_type": "code",
   "execution_count": 5,
   "id": "e0cce743",
   "metadata": {
    "id": "EMm4LS3QBjpW"
   },
   "outputs": [],
   "source": [
    "my_list = [1, 2, 3, 4, 5]"
   ]
  },
  {
   "cell_type": "code",
   "execution_count": 6,
   "id": "a2d1cade",
   "metadata": {},
   "outputs": [
    {
     "data": {
      "text/plain": [
       "list"
      ]
     },
     "execution_count": 6,
     "metadata": {},
     "output_type": "execute_result"
    }
   ],
   "source": [
    "type(my_list)"
   ]
  },
  {
   "cell_type": "code",
   "execution_count": 7,
   "id": "78d3bbda",
   "metadata": {},
   "outputs": [],
   "source": [
    "mixed_list=[1, 'hello', 3.14, True,False]\n",
    "# multiple data types are allowed in list\n",
    "# False"
   ]
  },
  {
   "cell_type": "code",
   "execution_count": 8,
   "id": "8e5757a3",
   "metadata": {},
   "outputs": [
    {
     "data": {
      "text/plain": [
       "list"
      ]
     },
     "execution_count": 8,
     "metadata": {},
     "output_type": "execute_result"
    }
   ],
   "source": [
    "type(mixed_list)"
   ]
  },
  {
   "cell_type": "code",
   "execution_count": null,
   "id": "5130cc0b",
   "metadata": {},
   "outputs": [],
   "source": [
    "#Do not use \"list\"/\"type\"/\"print\"/\"int\"/\"float\"/\"str\" as a variable"
   ]
  },
  {
   "cell_type": "markdown",
   "id": "42ed24d0",
   "metadata": {
    "id": "vzUqSJ14JlCD"
   },
   "source": [
    "## Indexing and slicing lists"
   ]
  },
  {
   "cell_type": "markdown",
   "id": "5e091d90",
   "metadata": {
    "id": "pHTJAARAD5bU"
   },
   "source": [
    "### Example 1\n",
    "Indexing a specific element from a list"
   ]
  },
  {
   "cell_type": "code",
   "execution_count": 9,
   "id": "cdfa433a",
   "metadata": {},
   "outputs": [
    {
     "data": {
      "text/plain": [
       "[1, 'hello', 3.14, True, False]"
      ]
     },
     "execution_count": 9,
     "metadata": {},
     "output_type": "execute_result"
    }
   ],
   "source": [
    "mixed_list"
   ]
  },
  {
   "cell_type": "code",
   "execution_count": 10,
   "id": "d2694dc6",
   "metadata": {},
   "outputs": [
    {
     "data": {
      "text/plain": [
       "3.14"
      ]
     },
     "execution_count": 10,
     "metadata": {},
     "output_type": "execute_result"
    }
   ],
   "source": [
    "mixed_list[2]"
   ]
  },
  {
   "cell_type": "code",
   "execution_count": 11,
   "id": "d5feb728",
   "metadata": {},
   "outputs": [
    {
     "data": {
      "text/plain": [
       "3.14"
      ]
     },
     "execution_count": 11,
     "metadata": {},
     "output_type": "execute_result"
    }
   ],
   "source": [
    "mixed_list[-3]"
   ]
  },
  {
   "cell_type": "code",
   "execution_count": 12,
   "id": "272e109d",
   "metadata": {},
   "outputs": [
    {
     "data": {
      "text/plain": [
       "'hello'"
      ]
     },
     "execution_count": 12,
     "metadata": {},
     "output_type": "execute_result"
    }
   ],
   "source": [
    "mixed_list[1]"
   ]
  },
  {
   "cell_type": "code",
   "execution_count": 13,
   "id": "dbeb365b",
   "metadata": {},
   "outputs": [
    {
     "data": {
      "text/plain": [
       "'hello'"
      ]
     },
     "execution_count": 13,
     "metadata": {},
     "output_type": "execute_result"
    }
   ],
   "source": [
    "mixed_list[-4]"
   ]
  },
  {
   "cell_type": "code",
   "execution_count": 20,
   "id": "11cde878",
   "metadata": {},
   "outputs": [
    {
     "data": {
      "text/plain": [
       "'o'"
      ]
     },
     "execution_count": 20,
     "metadata": {},
     "output_type": "execute_result"
    }
   ],
   "source": [
    "mixed_list[1][-1]"
   ]
  },
  {
   "cell_type": "code",
   "execution_count": 17,
   "id": "d8bde896",
   "metadata": {},
   "outputs": [
    {
     "name": "stdout",
     "output_type": "stream",
     "text": [
      "e\n"
     ]
    }
   ],
   "source": [
    "print(mixed_list[1][1])"
   ]
  },
  {
   "cell_type": "code",
   "execution_count": 27,
   "id": "0e3a38fb",
   "metadata": {},
   "outputs": [
    {
     "data": {
      "text/plain": [
       "[1, 'hello', 3.14, True, False]"
      ]
     },
     "execution_count": 27,
     "metadata": {},
     "output_type": "execute_result"
    }
   ],
   "source": [
    "mixed_list"
   ]
  },
  {
   "cell_type": "code",
   "execution_count": 18,
   "id": "eb3e6697",
   "metadata": {},
   "outputs": [
    {
     "data": {
      "text/plain": [
       "['hello', 3.14]"
      ]
     },
     "execution_count": 18,
     "metadata": {},
     "output_type": "execute_result"
    }
   ],
   "source": [
    "#['hello', 3.14]\n",
    "# Syntax: mixed_list[start_index:end_index+1]\n",
    "mixed_list[1:3]"
   ]
  },
  {
   "cell_type": "code",
   "execution_count": 19,
   "id": "45d31b3f",
   "metadata": {},
   "outputs": [
    {
     "data": {
      "text/plain": [
       "[3.14, True, False]"
      ]
     },
     "execution_count": 19,
     "metadata": {},
     "output_type": "execute_result"
    }
   ],
   "source": [
    "mixed_list[2:5]# 2--->4"
   ]
  },
  {
   "cell_type": "markdown",
   "id": "81d6a772",
   "metadata": {
    "id": "_ocmSIzS89WO"
   },
   "source": [
    "### Example 3\n",
    "Accessing elements inside a nested list"
   ]
  },
  {
   "cell_type": "code",
   "execution_count": 21,
   "id": "9c720aec",
   "metadata": {
    "id": "DdA8IERL9DLa"
   },
   "outputs": [],
   "source": [
    "my_list = [[1, 2, 3], ['apple', 'banana', 'orange'], 3.14, ['dog', 'cat', 'bird']]"
   ]
  },
  {
   "cell_type": "code",
   "execution_count": 24,
   "id": "99381190",
   "metadata": {},
   "outputs": [
    {
     "data": {
      "text/plain": [
       "'a'"
      ]
     },
     "execution_count": 24,
     "metadata": {},
     "output_type": "execute_result"
    }
   ],
   "source": [
    "my_list[1][1][1]"
   ]
  },
  {
   "cell_type": "markdown",
   "id": "7da5dc6b",
   "metadata": {
    "id": "6CmZqjg4Mja7"
   },
   "source": [
    "## Operations on lists: Getting information about lists"
   ]
  },
  {
   "cell_type": "markdown",
   "id": "7e4d49cb",
   "metadata": {
    "id": "smDUDelBZ8cs"
   },
   "source": [
    "### Example 1\n",
    "Finding the length of a list"
   ]
  },
  {
   "cell_type": "code",
   "execution_count": 25,
   "id": "3b16fbe4",
   "metadata": {
    "id": "Krx1FqTfaAmL"
   },
   "outputs": [],
   "source": [
    "my_list = [1.0, 4.0, 2.0, 3.0, 5.0, 6.0, 3.0, 4.0, 5.0, 7.0, 5.0, 6.0, 7.0, 3.0, 5.0, 6.0, 7.0]"
   ]
  },
  {
   "cell_type": "code",
   "execution_count": 26,
   "id": "daba0374",
   "metadata": {},
   "outputs": [
    {
     "data": {
      "text/plain": [
       "17"
      ]
     },
     "execution_count": 26,
     "metadata": {},
     "output_type": "execute_result"
    }
   ],
   "source": [
    "len(my_list)"
   ]
  },
  {
   "cell_type": "markdown",
   "id": "6c72be2e",
   "metadata": {
    "id": "0xBJ7dlvJ9iF"
   },
   "source": [
    "### Example 2\n",
    "Finding the largest element in a list"
   ]
  },
  {
   "cell_type": "code",
   "execution_count": 27,
   "id": "c0c28471",
   "metadata": {
    "colab": {
     "base_uri": "https://localhost:8080/"
    },
    "executionInfo": {
     "elapsed": 115,
     "status": "ok",
     "timestamp": 1701845353267,
     "user": {
      "displayName": "Zerubabel Yonas",
      "userId": "09459892767313995163"
     },
     "user_tz": -330
    },
    "id": "5DdDLHjpJ5xr",
    "outputId": "3a4413fb-c09f-4f52-c4e4-d744809350b8"
   },
   "outputs": [
    {
     "data": {
      "text/plain": [
       "[17, 42, 9, 33, 8]"
      ]
     },
     "execution_count": 27,
     "metadata": {},
     "output_type": "execute_result"
    }
   ],
   "source": [
    "my_list = [17, 42, 9, 33, 8]\n",
    "my_list"
   ]
  },
  {
   "cell_type": "code",
   "execution_count": 32,
   "id": "f13b1202",
   "metadata": {},
   "outputs": [
    {
     "data": {
      "text/plain": [
       "5"
      ]
     },
     "execution_count": 32,
     "metadata": {},
     "output_type": "execute_result"
    }
   ],
   "source": [
    "len(my_list)"
   ]
  },
  {
   "cell_type": "code",
   "execution_count": 28,
   "id": "b6025211",
   "metadata": {},
   "outputs": [
    {
     "data": {
      "text/plain": [
       "42"
      ]
     },
     "execution_count": 28,
     "metadata": {},
     "output_type": "execute_result"
    }
   ],
   "source": [
    "max(my_list)"
   ]
  },
  {
   "cell_type": "code",
   "execution_count": 29,
   "id": "bbb7b1d9",
   "metadata": {},
   "outputs": [
    {
     "data": {
      "text/plain": [
       "8"
      ]
     },
     "execution_count": 29,
     "metadata": {},
     "output_type": "execute_result"
    }
   ],
   "source": [
    "min(my_list)"
   ]
  },
  {
   "cell_type": "code",
   "execution_count": 30,
   "id": "413bdb69",
   "metadata": {},
   "outputs": [
    {
     "data": {
      "text/plain": [
       "109"
      ]
     },
     "execution_count": 30,
     "metadata": {},
     "output_type": "execute_result"
    }
   ],
   "source": [
    "sum(my_list)"
   ]
  },
  {
   "cell_type": "code",
   "execution_count": 31,
   "id": "38c8014f",
   "metadata": {
    "scrolled": true
   },
   "outputs": [
    {
     "ename": "TypeError",
     "evalue": "'>' not supported between instances of 'int' and 'str'",
     "output_type": "error",
     "traceback": [
      "\u001b[0;31m---------------------------------------------------------------------------\u001b[0m",
      "\u001b[0;31mTypeError\u001b[0m                                 Traceback (most recent call last)",
      "\u001b[0;32m<ipython-input-31-c2ad157bd731>\u001b[0m in \u001b[0;36m<module>\u001b[0;34m\u001b[0m\n\u001b[1;32m      1\u001b[0m \u001b[0mmy_list\u001b[0m \u001b[0;34m=\u001b[0m \u001b[0;34m[\u001b[0m\u001b[0;34m\"Upgrad\"\u001b[0m\u001b[0;34m,\u001b[0m \u001b[0;36m42\u001b[0m\u001b[0;34m,\u001b[0m \u001b[0;36m9\u001b[0m\u001b[0;34m,\u001b[0m \u001b[0;36m33\u001b[0m\u001b[0;34m,\u001b[0m \u001b[0;36m8\u001b[0m\u001b[0;34m]\u001b[0m\u001b[0;34m\u001b[0m\u001b[0;34m\u001b[0m\u001b[0m\n\u001b[0;32m----> 2\u001b[0;31m \u001b[0mmax\u001b[0m\u001b[0;34m(\u001b[0m\u001b[0mmy_list\u001b[0m\u001b[0;34m)\u001b[0m\u001b[0;34m\u001b[0m\u001b[0;34m\u001b[0m\u001b[0m\n\u001b[0m",
      "\u001b[0;31mTypeError\u001b[0m: '>' not supported between instances of 'int' and 'str'"
     ]
    }
   ],
   "source": [
    "my_list = [\"Upgrad\", 42, 9, 33, 8]\n",
    "max(my_list)"
   ]
  },
  {
   "cell_type": "code",
   "execution_count": 33,
   "id": "659746f3",
   "metadata": {},
   "outputs": [],
   "source": [
    "my_list = [1.0, 4.0, 2.0, 3.0, 5.0, 6.0, 3.0, 4.0, 5.0, 7.0, 5.0, 6.0, 7.0, 3.0, 5.0, 6.0, 7.0]"
   ]
  },
  {
   "cell_type": "code",
   "execution_count": 34,
   "id": "d1b06ba6",
   "metadata": {},
   "outputs": [
    {
     "data": {
      "text/plain": [
       "5"
      ]
     },
     "execution_count": 34,
     "metadata": {},
     "output_type": "execute_result"
    }
   ],
   "source": [
    "my_list.index(6.0)\n",
    "# It gives only positive index\n",
    "# It will give index of first occurence of that element if it is repeating"
   ]
  },
  {
   "cell_type": "markdown",
   "id": "31a95843",
   "metadata": {
    "id": "HGp9XAJCS38s"
   },
   "source": [
    "### Example 7\n",
    "Finding the frequency of an element in a list"
   ]
  },
  {
   "cell_type": "code",
   "execution_count": 35,
   "id": "9d7ad396",
   "metadata": {},
   "outputs": [],
   "source": [
    "my_list = ['blend', 'swift', 'blend', 'charm', 'blend', 'fresh', 'proud', 'blend']\n"
   ]
  },
  {
   "cell_type": "code",
   "execution_count": 36,
   "id": "327c36c8",
   "metadata": {},
   "outputs": [
    {
     "data": {
      "text/plain": [
       "4"
      ]
     },
     "execution_count": 36,
     "metadata": {},
     "output_type": "execute_result"
    }
   ],
   "source": [
    "my_list.count(\"blend\")"
   ]
  },
  {
   "cell_type": "markdown",
   "id": "567be514",
   "metadata": {
    "id": "3zA_GPiO-il-"
   },
   "source": [
    "## Operations on lists: Manipulating Lists"
   ]
  },
  {
   "cell_type": "markdown",
   "id": "0bb725f5",
   "metadata": {
    "id": "soCIH2m8CD9k"
   },
   "source": [
    "### Example 1\n",
    "Adding elements to a list"
   ]
  },
  {
   "cell_type": "code",
   "execution_count": 37,
   "id": "65687a68",
   "metadata": {},
   "outputs": [
    {
     "data": {
      "text/plain": [
       "['apple', 'banana', 'orange', 'grape', 'kiwi']"
      ]
     },
     "execution_count": 37,
     "metadata": {},
     "output_type": "execute_result"
    }
   ],
   "source": [
    "my_list = [\"apple\", \"banana\", \"orange\", \"grape\", \"kiwi\"]\n",
    "my_list"
   ]
  },
  {
   "cell_type": "code",
   "execution_count": 38,
   "id": "7d888fd4",
   "metadata": {},
   "outputs": [],
   "source": [
    "my_list.append(\"avacodo\")\n",
    "# append function always add the only one element in the last"
   ]
  },
  {
   "cell_type": "code",
   "execution_count": 39,
   "id": "28bd0393",
   "metadata": {},
   "outputs": [
    {
     "data": {
      "text/plain": [
       "['apple', 'banana', 'orange', 'grape', 'kiwi', 'avacodo']"
      ]
     },
     "execution_count": 39,
     "metadata": {},
     "output_type": "execute_result"
    }
   ],
   "source": [
    "my_list"
   ]
  },
  {
   "cell_type": "code",
   "execution_count": 40,
   "id": "beec43b1",
   "metadata": {},
   "outputs": [],
   "source": [
    "nested_list=[[1,2],[4,4],[5,6]]"
   ]
  },
  {
   "cell_type": "code",
   "execution_count": 41,
   "id": "6cef725e",
   "metadata": {},
   "outputs": [],
   "source": [
    "nested_list.append(23)"
   ]
  },
  {
   "cell_type": "code",
   "execution_count": 42,
   "id": "85e2235b",
   "metadata": {},
   "outputs": [
    {
     "data": {
      "text/plain": [
       "[[1, 2], [4, 4], [5, 6], 23]"
      ]
     },
     "execution_count": 42,
     "metadata": {},
     "output_type": "execute_result"
    }
   ],
   "source": [
    "nested_list"
   ]
  },
  {
   "cell_type": "code",
   "execution_count": 43,
   "id": "2820a072",
   "metadata": {},
   "outputs": [
    {
     "data": {
      "text/plain": [
       "['apple', 'banana', 'orange', 'grape', 'kiwi', 'avacodo']"
      ]
     },
     "execution_count": 43,
     "metadata": {},
     "output_type": "execute_result"
    }
   ],
   "source": [
    "my_list"
   ]
  },
  {
   "cell_type": "code",
   "execution_count": 44,
   "id": "8156eabc",
   "metadata": {},
   "outputs": [],
   "source": [
    "my_list.insert(1,\"litchi\")\n",
    "#my_list.insert(index,element)"
   ]
  },
  {
   "cell_type": "code",
   "execution_count": 45,
   "id": "12bcea12",
   "metadata": {},
   "outputs": [
    {
     "data": {
      "text/plain": [
       "['apple', 'litchi', 'banana', 'orange', 'grape', 'kiwi', 'avacodo']"
      ]
     },
     "execution_count": 45,
     "metadata": {},
     "output_type": "execute_result"
    }
   ],
   "source": [
    "my_list"
   ]
  },
  {
   "cell_type": "code",
   "execution_count": 46,
   "id": "86ad7767",
   "metadata": {},
   "outputs": [],
   "source": [
    "my_list.insert(0,\"watermelon\")\n",
    "#my_list.insert(index,element)"
   ]
  },
  {
   "cell_type": "code",
   "execution_count": 47,
   "id": "243733f3",
   "metadata": {
    "collapsed": true
   },
   "outputs": [
    {
     "data": {
      "text/plain": [
       "['watermelon',\n",
       " 'apple',\n",
       " 'litchi',\n",
       " 'banana',\n",
       " 'orange',\n",
       " 'grape',\n",
       " 'kiwi',\n",
       " 'avacodo']"
      ]
     },
     "execution_count": 47,
     "metadata": {},
     "output_type": "execute_result"
    }
   ],
   "source": [
    "my_list"
   ]
  },
  {
   "cell_type": "code",
   "execution_count": 48,
   "id": "be3dedd1",
   "metadata": {},
   "outputs": [],
   "source": [
    "my_list.insert(1,\"orange\")"
   ]
  },
  {
   "cell_type": "code",
   "execution_count": 49,
   "id": "dd829a63",
   "metadata": {
    "collapsed": true
   },
   "outputs": [
    {
     "data": {
      "text/plain": [
       "['watermelon',\n",
       " 'orange',\n",
       " 'apple',\n",
       " 'litchi',\n",
       " 'banana',\n",
       " 'orange',\n",
       " 'grape',\n",
       " 'kiwi',\n",
       " 'avacodo']"
      ]
     },
     "execution_count": 49,
     "metadata": {},
     "output_type": "execute_result"
    }
   ],
   "source": [
    "my_list"
   ]
  },
  {
   "cell_type": "code",
   "execution_count": 50,
   "id": "728cc688",
   "metadata": {},
   "outputs": [],
   "source": [
    "my_list.extend([\"guava\",\"watermelon\",\"muskmelon\"])\n",
    "# multiple elements in the end"
   ]
  },
  {
   "cell_type": "code",
   "execution_count": 51,
   "id": "12a47de2",
   "metadata": {
    "collapsed": true
   },
   "outputs": [
    {
     "data": {
      "text/plain": [
       "['watermelon',\n",
       " 'orange',\n",
       " 'apple',\n",
       " 'litchi',\n",
       " 'banana',\n",
       " 'orange',\n",
       " 'grape',\n",
       " 'kiwi',\n",
       " 'avacodo',\n",
       " 'guava',\n",
       " 'watermelon',\n",
       " 'muskmelon']"
      ]
     },
     "execution_count": 51,
     "metadata": {},
     "output_type": "execute_result"
    }
   ],
   "source": [
    "my_list"
   ]
  },
  {
   "cell_type": "code",
   "execution_count": 52,
   "id": "1838af6e",
   "metadata": {},
   "outputs": [],
   "source": [
    "my_list.extend([\"fig\",\"cashew\"])\n",
    "# multiple elements in the end"
   ]
  },
  {
   "cell_type": "code",
   "execution_count": 53,
   "id": "5090c058",
   "metadata": {
    "collapsed": true
   },
   "outputs": [
    {
     "data": {
      "text/plain": [
       "['watermelon',\n",
       " 'orange',\n",
       " 'apple',\n",
       " 'litchi',\n",
       " 'banana',\n",
       " 'orange',\n",
       " 'grape',\n",
       " 'kiwi',\n",
       " 'avacodo',\n",
       " 'guava',\n",
       " 'watermelon',\n",
       " 'muskmelon',\n",
       " 'fig',\n",
       " 'cashew']"
      ]
     },
     "execution_count": 53,
     "metadata": {},
     "output_type": "execute_result"
    }
   ],
   "source": [
    "my_list"
   ]
  },
  {
   "cell_type": "code",
   "execution_count": 54,
   "id": "de46b6d8",
   "metadata": {},
   "outputs": [
    {
     "data": {
      "text/plain": [
       "'fig'"
      ]
     },
     "execution_count": 54,
     "metadata": {},
     "output_type": "execute_result"
    }
   ],
   "source": [
    "my_list.pop(-2)"
   ]
  },
  {
   "cell_type": "code",
   "execution_count": 55,
   "id": "a8250a09",
   "metadata": {
    "collapsed": true
   },
   "outputs": [
    {
     "data": {
      "text/plain": [
       "['watermelon',\n",
       " 'orange',\n",
       " 'apple',\n",
       " 'litchi',\n",
       " 'banana',\n",
       " 'orange',\n",
       " 'grape',\n",
       " 'kiwi',\n",
       " 'avacodo',\n",
       " 'guava',\n",
       " 'watermelon',\n",
       " 'muskmelon',\n",
       " 'cashew']"
      ]
     },
     "execution_count": 55,
     "metadata": {},
     "output_type": "execute_result"
    }
   ],
   "source": [
    "my_list"
   ]
  },
  {
   "cell_type": "code",
   "execution_count": 56,
   "id": "9e6a0293",
   "metadata": {},
   "outputs": [],
   "source": [
    "# pop function is used to remove any element with given index, and if index not given it will remove last element"
   ]
  },
  {
   "cell_type": "code",
   "execution_count": 57,
   "id": "47dab7ad",
   "metadata": {},
   "outputs": [
    {
     "data": {
      "text/plain": [
       "'cashew'"
      ]
     },
     "execution_count": 57,
     "metadata": {},
     "output_type": "execute_result"
    }
   ],
   "source": [
    "my_list.pop()"
   ]
  },
  {
   "cell_type": "code",
   "execution_count": 58,
   "id": "29974b22",
   "metadata": {
    "collapsed": true
   },
   "outputs": [
    {
     "data": {
      "text/plain": [
       "['watermelon',\n",
       " 'orange',\n",
       " 'apple',\n",
       " 'litchi',\n",
       " 'banana',\n",
       " 'orange',\n",
       " 'grape',\n",
       " 'kiwi',\n",
       " 'avacodo',\n",
       " 'guava',\n",
       " 'watermelon',\n",
       " 'muskmelon']"
      ]
     },
     "execution_count": 58,
     "metadata": {},
     "output_type": "execute_result"
    }
   ],
   "source": [
    "my_list"
   ]
  },
  {
   "cell_type": "markdown",
   "id": "b260f6c3",
   "metadata": {
    "id": "xadm8KYVOPN0"
   },
   "source": [
    "### Example 7\n",
    "Sorting a list"
   ]
  },
  {
   "cell_type": "code",
   "execution_count": 59,
   "id": "4f5b6fcc",
   "metadata": {},
   "outputs": [],
   "source": [
    "my_list=[23,78,98,54,21,9]"
   ]
  },
  {
   "cell_type": "code",
   "execution_count": 60,
   "id": "14d84b7f",
   "metadata": {},
   "outputs": [
    {
     "data": {
      "text/plain": [
       "[9, 21, 23, 54, 78, 98]"
      ]
     },
     "execution_count": 60,
     "metadata": {},
     "output_type": "execute_result"
    }
   ],
   "source": [
    "sorted(my_list)\n",
    "#by default ascending"
   ]
  },
  {
   "cell_type": "code",
   "execution_count": 61,
   "id": "1e829a7e",
   "metadata": {},
   "outputs": [
    {
     "data": {
      "text/plain": [
       "['Python', 'Shivam', 'Upgrad']"
      ]
     },
     "execution_count": 61,
     "metadata": {},
     "output_type": "execute_result"
    }
   ],
   "source": [
    "string_list=[\"Upgrad\",\"Shivam\",\"Python\"]\n",
    "sorted(string_list)"
   ]
  },
  {
   "cell_type": "code",
   "execution_count": 62,
   "id": "132f7d51",
   "metadata": {},
   "outputs": [
    {
     "data": {
      "text/plain": [
       "[98, 78, 54, 23, 21, 9]"
      ]
     },
     "execution_count": 62,
     "metadata": {},
     "output_type": "execute_result"
    }
   ],
   "source": [
    "sorted(my_list, reverse=True)#descending"
   ]
  },
  {
   "cell_type": "code",
   "execution_count": 63,
   "id": "e0f57745",
   "metadata": {},
   "outputs": [
    {
     "data": {
      "text/plain": [
       "['Upgrad', 'Shivam', 'Python']"
      ]
     },
     "execution_count": 63,
     "metadata": {},
     "output_type": "execute_result"
    }
   ],
   "source": [
    "string_list=[\"Upgrad\",\"Shivam\",\"Python\"]\n",
    "sorted(string_list,reverse=True)"
   ]
  },
  {
   "cell_type": "code",
   "execution_count": 65,
   "id": "e15cc403",
   "metadata": {},
   "outputs": [
    {
     "data": {
      "text/plain": [
       "78"
      ]
     },
     "execution_count": 65,
     "metadata": {},
     "output_type": "execute_result"
    }
   ],
   "source": [
    "sorted(my_list)[-2]"
   ]
  },
  {
   "cell_type": "markdown",
   "id": "13e58ef0",
   "metadata": {
    "id": "xaUPyZ3XNxPj"
   },
   "source": [
    "### Quiz 1\n",
    "Find the smallest element in the following list: `[15, 25, 10, 35, 20, -1, 0, -20]`."
   ]
  },
  {
   "cell_type": "code",
   "execution_count": 66,
   "id": "77c97525",
   "metadata": {},
   "outputs": [
    {
     "data": {
      "text/plain": [
       "-20"
      ]
     },
     "execution_count": 66,
     "metadata": {},
     "output_type": "execute_result"
    }
   ],
   "source": [
    "ls=[15, 25, 10, 35, 20, -1, 0, -20]\n",
    "min(ls)"
   ]
  },
  {
   "cell_type": "markdown",
   "id": "2784cee5",
   "metadata": {
    "id": "MdhlUqXrPFWN"
   },
   "source": [
    "### Quiz 2\n",
    "Find the mean/average of the numbers in the list `[3, 8.5, 2, 11, 6.7, 9, 4.2, 7, 10, 5.5]`."
   ]
  },
  {
   "cell_type": "code",
   "execution_count": 67,
   "id": "b8bb286d",
   "metadata": {},
   "outputs": [
    {
     "name": "stdout",
     "output_type": "stream",
     "text": [
      "6.69\n"
     ]
    }
   ],
   "source": [
    "ls=[3, 8.5, 2, 11, 6.7, 9, 4.2, 7, 10, 5.5]\n",
    "average=sum(ls)/len(ls)\n",
    "print(average)"
   ]
  },
  {
   "cell_type": "markdown",
   "id": "9717c870",
   "metadata": {
    "id": "xbXH6E03Mv10"
   },
   "source": [
    "### Quiz 3\n",
    "Print `45` from the following list: `[1, -1, 0, [[50, 34], [45]], 23]`."
   ]
  },
  {
   "cell_type": "code",
   "execution_count": 72,
   "id": "7b1055d4",
   "metadata": {},
   "outputs": [
    {
     "data": {
      "text/plain": [
       "45"
      ]
     },
     "execution_count": 72,
     "metadata": {},
     "output_type": "execute_result"
    }
   ],
   "source": [
    "ls=[1, -1, 0, [[50, 34], [45]], 23]\n",
    "ls[3][1][0]"
   ]
  },
  {
   "cell_type": "markdown",
   "id": "777376a0",
   "metadata": {
    "id": "XSPlsXLIRl6X"
   },
   "source": [
    "### Quiz 4\n",
    "Find the second smallest element in the list `[10, 20, 5, 30, 40, 15]`."
   ]
  },
  {
   "cell_type": "code",
   "execution_count": 74,
   "id": "38fcf191",
   "metadata": {},
   "outputs": [
    {
     "data": {
      "text/plain": [
       "10"
      ]
     },
     "execution_count": 74,
     "metadata": {},
     "output_type": "execute_result"
    }
   ],
   "source": [
    "ls=[10, 20, 5, 30, 40, 15]\n",
    "sorted(ls)[1]"
   ]
  },
  {
   "cell_type": "code",
   "execution_count": 76,
   "id": "0684a026",
   "metadata": {},
   "outputs": [
    {
     "data": {
      "text/plain": [
       "10"
      ]
     },
     "execution_count": 76,
     "metadata": {},
     "output_type": "execute_result"
    }
   ],
   "source": [
    "ls=[10, 20, 5, 30, 40, 15]\n",
    "sorted(ls,reverse=True)[-2]"
   ]
  },
  {
   "cell_type": "markdown",
   "id": "652f22cf",
   "metadata": {
    "id": "0T-qD3rsByxa"
   },
   "source": [
    "### Quiz 5\n",
    "Sort `[19, 2, 4, 23]` in descending order."
   ]
  },
  {
   "cell_type": "code",
   "execution_count": 77,
   "id": "d2414a20",
   "metadata": {},
   "outputs": [
    {
     "data": {
      "text/plain": [
       "[23, 19, 4, 2]"
      ]
     },
     "execution_count": 77,
     "metadata": {},
     "output_type": "execute_result"
    }
   ],
   "source": [
    "ls=[19, 2, 4, 23]\n",
    "sorted(ls,reverse=True)"
   ]
  },
  {
   "cell_type": "code",
   "execution_count": 78,
   "id": "866fedc3",
   "metadata": {},
   "outputs": [],
   "source": [
    "# Exlore what .clear() does?"
   ]
  },
  {
   "cell_type": "code",
   "execution_count": 79,
   "id": "ce6094a1",
   "metadata": {},
   "outputs": [
    {
     "data": {
      "text/plain": [
       "[19, 2, 4, 23]"
      ]
     },
     "execution_count": 79,
     "metadata": {},
     "output_type": "execute_result"
    }
   ],
   "source": [
    "ls"
   ]
  },
  {
   "cell_type": "code",
   "execution_count": 80,
   "id": "4df73152",
   "metadata": {},
   "outputs": [],
   "source": [
    "ls.clear()"
   ]
  },
  {
   "cell_type": "code",
   "execution_count": 81,
   "id": "30d7b93c",
   "metadata": {},
   "outputs": [
    {
     "data": {
      "text/plain": [
       "[]"
      ]
     },
     "execution_count": 81,
     "metadata": {},
     "output_type": "execute_result"
    }
   ],
   "source": [
    "ls"
   ]
  },
  {
   "cell_type": "code",
   "execution_count": null,
   "id": "f513bcda",
   "metadata": {},
   "outputs": [],
   "source": []
  }
 ],
 "metadata": {
  "kernelspec": {
   "display_name": "Python 3",
   "language": "python",
   "name": "python3"
  },
  "language_info": {
   "codemirror_mode": {
    "name": "ipython",
    "version": 3
   },
   "file_extension": ".py",
   "mimetype": "text/x-python",
   "name": "python",
   "nbconvert_exporter": "python",
   "pygments_lexer": "ipython3",
   "version": "3.8.8"
  }
 },
 "nbformat": 4,
 "nbformat_minor": 5
}
